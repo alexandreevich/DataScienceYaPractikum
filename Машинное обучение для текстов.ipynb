{
 "cells": [
  {
   "cell_type": "markdown",
   "metadata": {},
   "source": [
    "<span style=\"color: blue; font-size: 20px; font-weight: bold;\">Комментарий ревьюера</span>\n",
    "\n",
    "<span style=\"color: blue\">Привет, Александр! Меня зовут Павел Григорьев, и я буду проверять этот проект.<br>Моя основная цель - не указать на совершённые тобой ошибки, а поделиться своим опытом и помочь тебе совершенствоваться как профессионалу.<br>Спасибо за проделанную работу! Предлагаю общаться на «ты».</span>\n",
    "<details>\n",
    "\t<summary><u>Инструкция по организационным моментам (кликабельно)</u>⤵</summary>\n",
    "<span style=\"color: blue\">Я буду использовать различные цвета, чтобы было удобнее воспринимать мои комментарии:</span>\n",
    "\n",
    "\n",
    "---\n",
    "\n",
    "\n",
    "<span style=\"color: blue\">синий текст - просто текст комментария</span>\n",
    "\n",
    "<span style=\"color: green\">✔️ и зеленый текст - все отлично</span>\n",
    "\n",
    "<span style=\"color: orange\">⚠️ и оранжевый текст - сделано все правильно, однако есть рекомендации, на что стоит обратить внимание</span>\n",
    "\n",
    "<span style=\"color: red\">❌ и красный текст - есть недочеты</span>\n",
    "\n",
    "\n",
    "</details>    \n",
    "</br>\n",
    "<span style=\"color: blue\">Пожалуйста, не удаляй мои комментарии в случае возврата работы, так будет проще разобраться, какие были недочеты, а также сразу увидеть исправленное.</span>\n",
    "\n",
    "<span style=\"color: blue\">Ответы на мои комментарии лучше тоже помечать.<br>\n",
    "Например: </span><br><span style=\"color: purple; font-weight: bold\">Комментарий студента</span>\n",
    "\n",
    "<span style=\"color: blue; font-weight: bold;\">Давай смотреть, что получилось!</span>"
   ]
  },
  {
   "cell_type": "markdown",
   "metadata": {},
   "source": [
    "<div class=\"alert alert-info\"  style=\"border-radius: 15px; box-shadow: 4px 4px 4px; border: 1px solid \">\n",
    "    \n",
    "<h2>Комментарий студента v_1: <a class=\"tocSkip\"> </h2>\n",
    "\n",
    "Приветствую Павел!)"
   ]
  },
  {
   "cell_type": "markdown",
   "metadata": {},
   "source": [
    "<span style=\"color: blue; font-size: 18px; font-weight: bold;\">Комментарий ревьюера 2</span>\n",
    "\n",
    "<span style=\"color: blue\">Привет еще раз. Спасибо, за исправления. Оформление комментариев по работе сохраняется. Только обозначим, что это вторая итерация.</span>"
   ]
  },
  {
   "cell_type": "markdown",
   "metadata": {
    "toc": true
   },
   "source": [
    "<h1>Содержание<span class=\"tocSkip\"></span></h1>\n",
    "<div class=\"toc\"><ul class=\"toc-item\"><li><span><a href=\"#Подготовка\" data-toc-modified-id=\"Подготовка-1\"><span class=\"toc-item-num\">1&nbsp;&nbsp;</span>Подготовка</a></span><ul class=\"toc-item\"><li><span><a href=\"#Выводы:\" data-toc-modified-id=\"Выводы:-1.1\"><span class=\"toc-item-num\">1.1&nbsp;&nbsp;</span>Выводы:</a></span><ul class=\"toc-item\"><li><span><a href=\"#Вывод:\" data-toc-modified-id=\"Вывод:-1.1.1\"><span class=\"toc-item-num\">1.1.1&nbsp;&nbsp;</span>Вывод:</a></span></li></ul></li></ul></li><li><span><a href=\"#Обучение\" data-toc-modified-id=\"Обучение-2\"><span class=\"toc-item-num\">2&nbsp;&nbsp;</span>Обучение</a></span></li><li><span><a href=\"#Выводы\" data-toc-modified-id=\"Выводы-3\"><span class=\"toc-item-num\">3&nbsp;&nbsp;</span>Выводы</a></span><ul class=\"toc-item\"><li><span><a href=\"#Были-проведены-следующие-действия:\" data-toc-modified-id=\"Были-проведены-следующие-действия:-3.1\"><span class=\"toc-item-num\">3.1&nbsp;&nbsp;</span>Были проведены следующие действия:</a></span></li></ul></li><li><span><a href=\"#Чек-лист-проверки\" data-toc-modified-id=\"Чек-лист-проверки-4\"><span class=\"toc-item-num\">4&nbsp;&nbsp;</span>Чек-лист проверки</a></span></li></ul></div>"
   ]
  },
  {
   "cell_type": "markdown",
   "metadata": {},
   "source": [
    "# Проект для «Викишоп»"
   ]
  },
  {
   "cell_type": "markdown",
   "metadata": {},
   "source": [
    "Интернет-магазин «Викишоп» запускает новый сервис. Теперь пользователи могут редактировать и дополнять описания товаров, как в вики-сообществах. То есть клиенты предлагают свои правки и комментируют изменения других. Магазину нужен инструмент, который будет искать токсичные комментарии и отправлять их на модерацию. \n",
    "\n",
    "Обучите модель классифицировать комментарии на позитивные и негативные. В вашем распоряжении набор данных с разметкой о токсичности правок.\n",
    "\n",
    "Постройте модель со значением метрики качества *F1* не меньше 0.75. \n",
    "\n",
    "**Инструкция по выполнению проекта**\n",
    "\n",
    "1. Загрузите и подготовьте данные.\n",
    "2. Обучите разные модели. \n",
    "3. Сделайте выводы.\n",
    "\n",
    "Для выполнения проекта применять *BERT* необязательно, но вы можете попробовать.\n",
    "\n",
    "**Описание данных**\n",
    "\n",
    "Данные находятся в файле `toxic_comments.csv`. Столбец *text* в нём содержит текст комментария, а *toxic* — целевой признак."
   ]
  },
  {
   "cell_type": "markdown",
   "metadata": {},
   "source": [
    "## Подготовка"
   ]
  },
  {
   "cell_type": "code",
   "execution_count": 1,
   "metadata": {},
   "outputs": [],
   "source": [
    "import numpy as np\n",
    "import pandas as pd\n",
    "\n",
    "import re\n",
    "\n",
    "import nltk\n",
    "\n",
    "from nltk.corpus import stopwords as nltk_stopwords\n",
    "from nltk.corpus import wordnet\n",
    "from nltk.stem import WordNetLemmatizer\n",
    "\n",
    "from sklearn.pipeline import Pipeline\n",
    "from sklearn.feature_extraction.text import TfidfVectorizer\n",
    "from sklearn.model_selection import train_test_split, cross_val_score, GridSearchCV\n",
    "\n",
    "from sklearn.linear_model import LogisticRegression, SGDClassifier\n",
    "from sklearn.tree import DecisionTreeClassifier\n",
    "from sklearn.ensemble import RandomForestClassifier\n",
    "\n",
    "from sklearn.metrics import f1_score\n",
    "\n",
    "from sklearn.utils import shuffle\n",
    "\n",
    "from catboost import CatBoostClassifier\n",
    "from sklearn.pipeline import Pipeline\n",
    "from sklearn.svm import LinearSVC\n",
    "from sklearn.ensemble import RandomForestClassifier\n",
    "\n",
    "import warnings\n",
    "warnings.filterwarnings('ignore')"
   ]
  },
  {
   "cell_type": "markdown",
   "metadata": {},
   "source": [
    "<font color='blue'><b>Комментарий ревьюера: </b></font> ✔️\\\n",
    "<font color='green'> Хорошее оформление импортов! \\\n",
    "Импорты собраны в одной ячейке, разделены на функциональные группы пустой строкой.</font>"
   ]
  },
  {
   "cell_type": "code",
   "execution_count": 2,
   "metadata": {},
   "outputs": [
    {
     "name": "stdout",
     "output_type": "stream",
     "text": [
      "<class 'pandas.core.frame.DataFrame'>\n",
      "RangeIndex: 159292 entries, 0 to 159291\n",
      "Data columns (total 3 columns):\n",
      " #   Column      Non-Null Count   Dtype \n",
      "---  ------      --------------   ----- \n",
      " 0   Unnamed: 0  159292 non-null  int64 \n",
      " 1   text        159292 non-null  object\n",
      " 2   toxic       159292 non-null  int64 \n",
      "dtypes: int64(2), object(1)\n",
      "memory usage: 3.6+ MB\n"
     ]
    }
   ],
   "source": [
    "toxic_comments = pd.read_csv('/datasets/toxic_comments.csv')\n",
    "toxic_comments.info()\n"
   ]
  },
  {
   "cell_type": "code",
   "execution_count": 3,
   "metadata": {},
   "outputs": [],
   "source": [
    "pd.set_option('display.max_colwidth', None)"
   ]
  },
  {
   "cell_type": "code",
   "execution_count": 4,
   "metadata": {
    "scrolled": true
   },
   "outputs": [
    {
     "data": {
      "text/html": [
       "<div>\n",
       "<style scoped>\n",
       "    .dataframe tbody tr th:only-of-type {\n",
       "        vertical-align: middle;\n",
       "    }\n",
       "\n",
       "    .dataframe tbody tr th {\n",
       "        vertical-align: top;\n",
       "    }\n",
       "\n",
       "    .dataframe thead th {\n",
       "        text-align: right;\n",
       "    }\n",
       "</style>\n",
       "<table border=\"1\" class=\"dataframe\">\n",
       "  <thead>\n",
       "    <tr style=\"text-align: right;\">\n",
       "      <th></th>\n",
       "      <th>Unnamed: 0</th>\n",
       "      <th>text</th>\n",
       "      <th>toxic</th>\n",
       "    </tr>\n",
       "  </thead>\n",
       "  <tbody>\n",
       "    <tr>\n",
       "      <th>0</th>\n",
       "      <td>0</td>\n",
       "      <td>Explanation\\nWhy the edits made under my username Hardcore Metallica Fan were reverted? They weren't vandalisms, just closure on some GAs after I voted at New York Dolls FAC. And please don't remove the template from the talk page since I'm retired now.89.205.38.27</td>\n",
       "      <td>0</td>\n",
       "    </tr>\n",
       "    <tr>\n",
       "      <th>1</th>\n",
       "      <td>1</td>\n",
       "      <td>D'aww! He matches this background colour I'm seemingly stuck with. Thanks.  (talk) 21:51, January 11, 2016 (UTC)</td>\n",
       "      <td>0</td>\n",
       "    </tr>\n",
       "    <tr>\n",
       "      <th>2</th>\n",
       "      <td>2</td>\n",
       "      <td>Hey man, I'm really not trying to edit war. It's just that this guy is constantly removing relevant information and talking to me through edits instead of my talk page. He seems to care more about the formatting than the actual info.</td>\n",
       "      <td>0</td>\n",
       "    </tr>\n",
       "    <tr>\n",
       "      <th>3</th>\n",
       "      <td>3</td>\n",
       "      <td>\"\\nMore\\nI can't make any real suggestions on improvement - I wondered if the section statistics should be later on, or a subsection of \"\"types of accidents\"\"  -I think the references may need tidying so that they are all in the exact same format ie date format etc. I can do that later on, if no-one else does first - if you have any preferences for formatting style on references or want to do it yourself please let me know.\\n\\nThere appears to be a backlog on articles for review so I guess there may be a delay until a reviewer turns up. It's listed in the relevant form eg Wikipedia:Good_article_nominations#Transport  \"</td>\n",
       "      <td>0</td>\n",
       "    </tr>\n",
       "    <tr>\n",
       "      <th>4</th>\n",
       "      <td>4</td>\n",
       "      <td>You, sir, are my hero. Any chance you remember what page that's on?</td>\n",
       "      <td>0</td>\n",
       "    </tr>\n",
       "  </tbody>\n",
       "</table>\n",
       "</div>"
      ],
      "text/plain": [
       "   Unnamed: 0  \\\n",
       "0           0   \n",
       "1           1   \n",
       "2           2   \n",
       "3           3   \n",
       "4           4   \n",
       "\n",
       "                                                                                                                                                                                                                                                                                                                                                                                                                                                                                                                                                                                                                                                 text  \\\n",
       "0                                                                                                                                                                                                                                                                                                                                                                           Explanation\\nWhy the edits made under my username Hardcore Metallica Fan were reverted? They weren't vandalisms, just closure on some GAs after I voted at New York Dolls FAC. And please don't remove the template from the talk page since I'm retired now.89.205.38.27   \n",
       "1                                                                                                                                                                                                                                                                                                                                                                                                                                                                                                                                    D'aww! He matches this background colour I'm seemingly stuck with. Thanks.  (talk) 21:51, January 11, 2016 (UTC)   \n",
       "2                                                                                                                                                                                                                                                                                                                                                                                                           Hey man, I'm really not trying to edit war. It's just that this guy is constantly removing relevant information and talking to me through edits instead of my talk page. He seems to care more about the formatting than the actual info.   \n",
       "3  \"\\nMore\\nI can't make any real suggestions on improvement - I wondered if the section statistics should be later on, or a subsection of \"\"types of accidents\"\"  -I think the references may need tidying so that they are all in the exact same format ie date format etc. I can do that later on, if no-one else does first - if you have any preferences for formatting style on references or want to do it yourself please let me know.\\n\\nThere appears to be a backlog on articles for review so I guess there may be a delay until a reviewer turns up. It's listed in the relevant form eg Wikipedia:Good_article_nominations#Transport  \"   \n",
       "4                                                                                                                                                                                                                                                                                                                                                                                                                                                                                                                                                                                 You, sir, are my hero. Any chance you remember what page that's on?   \n",
       "\n",
       "   toxic  \n",
       "0      0  \n",
       "1      0  \n",
       "2      0  \n",
       "3      0  \n",
       "4      0  "
      ]
     },
     "execution_count": 4,
     "metadata": {},
     "output_type": "execute_result"
    }
   ],
   "source": [
    "toxic_comments.head()\n"
   ]
  },
  {
   "cell_type": "markdown",
   "metadata": {},
   "source": [
    "<font color='blue'><b>Комментарий ревьюера : </b></font> ⚠️\\\n",
    "<font color='darkorange'> Важно показать всю фразу в поле `text` для анализа.</font>\n",
    "```python\n",
    "# Установка опции для отображения максимальной ширины столбца\n",
    "pd.set_option('display.max_colwidth', None)\n",
    "```"
   ]
  },
  {
   "cell_type": "markdown",
   "metadata": {},
   "source": [
    "<div class=\"alert alert-info\"  style=\"border-radius: 15px; box-shadow: 4px 4px 4px; border: 1px solid \">\n",
    "    \n",
    "<h2>Комментарий студента v_1: <a class=\"tocSkip\"> </h2>\n",
    "\n",
    "Поправил, спасибо)"
   ]
  },
  {
   "cell_type": "markdown",
   "metadata": {},
   "source": [
    "<span style=\"color: blue; font-weight: bold\">Комментарий ревьюера 2: </span> ✔️\\\n",
    "<span style=\"color: green\"> 👍</span>"
   ]
  },
  {
   "cell_type": "code",
   "execution_count": 5,
   "metadata": {},
   "outputs": [
    {
     "data": {
      "text/plain": [
       "Unnamed: 0    0\n",
       "text          0\n",
       "toxic         0\n",
       "dtype: int64"
      ]
     },
     "execution_count": 5,
     "metadata": {},
     "output_type": "execute_result"
    }
   ],
   "source": [
    "# Посмотрим пропуски\n",
    "toxic_comments.isna().sum()\n"
   ]
  },
  {
   "cell_type": "code",
   "execution_count": 6,
   "metadata": {},
   "outputs": [
    {
     "data": {
      "text/plain": [
       "0    143106\n",
       "1     16186\n",
       "Name: toxic, dtype: int64"
      ]
     },
     "metadata": {},
     "output_type": "display_data"
    },
    {
     "data": {
      "text/plain": [
       "8.841344371679229"
      ]
     },
     "execution_count": 6,
     "metadata": {},
     "output_type": "execute_result"
    }
   ],
   "source": [
    "#Посмотрим сколько у нас токсичных/нектоксичных текстов\n",
    "display(toxic_comments['toxic'].value_counts())\n",
    "#Выведем соотношение\n",
    "class_ratio = toxic_comments['toxic'].value_counts()[0] / toxic_comments['toxic'].value_counts()[1]\n",
    "class_ratio"
   ]
  },
  {
   "cell_type": "markdown",
   "metadata": {},
   "source": [
    "<font color='blue'><b>Комментарий ревьюера: </b></font> ✔️\\\n",
    "<font color='green'> Мы обнаружили серьёзный дисбаланс при исследовании данных. Как дополнительные материалы, рекомендую статью <a href='https://dyakonov.org/2021/05/27/imbalance/'>Дисбаланс классов</a>, очень классная, как и весь блог Дьяконова. Ещё такой <a href='https://github.com/Dyakonov/ml_hacks/blob/master/book_disbalance_public_v1.ipynb'>ноутбук</a> есть.</font>"
   ]
  },
  {
   "cell_type": "markdown",
   "metadata": {},
   "source": [
    "### Выводы:\n",
    "- Соотношение токсчиных комментариев к обычным: 1 : 9\n",
    "- Всего комментариев ~ 160 тыс\n",
    "- Пропуски отсутствуют"
   ]
  },
  {
   "cell_type": "markdown",
   "metadata": {},
   "source": [
    "<font color='blue'><b>Комментарий ревьюера: </b></font> ✔️\\\n",
    "<font color='green'>Данные загружены корректно, первичный осмотр проведен.</font>"
   ]
  },
  {
   "cell_type": "code",
   "execution_count": 7,
   "metadata": {},
   "outputs": [],
   "source": [
    "#удаляем столбец Unnamed:\n",
    "toxic_comments = toxic_comments.drop(['Unnamed: 0'], axis=1)"
   ]
  },
  {
   "cell_type": "code",
   "execution_count": 8,
   "metadata": {},
   "outputs": [],
   "source": [
    "#почистим через функцию очищения текстов постов:\n",
    "def clear_text(text):\n",
    "    text = text.lower()\n",
    "    text = re.sub(r'[^a-zA-Z]', ' ', text)   \n",
    "    text = ' '.join(text.split())\n",
    "    return text"
   ]
  },
  {
   "cell_type": "markdown",
   "metadata": {},
   "source": [
    "<font color='blue'><b>Комментарий ревьюера: </b></font> ✔️\\\n",
    "<font color='green'>Очистка сделана верно! Мы оставили только символы Латинского алфавита и привели к нижнему регистру!</font>"
   ]
  },
  {
   "cell_type": "code",
   "execution_count": 9,
   "metadata": {},
   "outputs": [],
   "source": [
    "#очищаю тексты постов:\n",
    "toxic_comments['text'] = toxic_comments['text'].apply(clear_text) "
   ]
  },
  {
   "cell_type": "code",
   "execution_count": 10,
   "metadata": {
    "scrolled": true
   },
   "outputs": [
    {
     "data": {
      "text/html": [
       "<div>\n",
       "<style scoped>\n",
       "    .dataframe tbody tr th:only-of-type {\n",
       "        vertical-align: middle;\n",
       "    }\n",
       "\n",
       "    .dataframe tbody tr th {\n",
       "        vertical-align: top;\n",
       "    }\n",
       "\n",
       "    .dataframe thead th {\n",
       "        text-align: right;\n",
       "    }\n",
       "</style>\n",
       "<table border=\"1\" class=\"dataframe\">\n",
       "  <thead>\n",
       "    <tr style=\"text-align: right;\">\n",
       "      <th></th>\n",
       "      <th>text</th>\n",
       "      <th>toxic</th>\n",
       "    </tr>\n",
       "  </thead>\n",
       "  <tbody>\n",
       "    <tr>\n",
       "      <th>0</th>\n",
       "      <td>explanation why the edits made under my username hardcore metallica fan were reverted they weren t vandalisms just closure on some gas after i voted at new york dolls fac and please don t remove the template from the talk page since i m retired now</td>\n",
       "      <td>0</td>\n",
       "    </tr>\n",
       "    <tr>\n",
       "      <th>1</th>\n",
       "      <td>d aww he matches this background colour i m seemingly stuck with thanks talk january utc</td>\n",
       "      <td>0</td>\n",
       "    </tr>\n",
       "    <tr>\n",
       "      <th>2</th>\n",
       "      <td>hey man i m really not trying to edit war it s just that this guy is constantly removing relevant information and talking to me through edits instead of my talk page he seems to care more about the formatting than the actual info</td>\n",
       "      <td>0</td>\n",
       "    </tr>\n",
       "    <tr>\n",
       "      <th>3</th>\n",
       "      <td>more i can t make any real suggestions on improvement i wondered if the section statistics should be later on or a subsection of types of accidents i think the references may need tidying so that they are all in the exact same format ie date format etc i can do that later on if no one else does first if you have any preferences for formatting style on references or want to do it yourself please let me know there appears to be a backlog on articles for review so i guess there may be a delay until a reviewer turns up it s listed in the relevant form eg wikipedia good article nominations transport</td>\n",
       "      <td>0</td>\n",
       "    </tr>\n",
       "    <tr>\n",
       "      <th>4</th>\n",
       "      <td>you sir are my hero any chance you remember what page that s on</td>\n",
       "      <td>0</td>\n",
       "    </tr>\n",
       "  </tbody>\n",
       "</table>\n",
       "</div>"
      ],
      "text/plain": [
       "                                                                                                                                                                                                                                                                                                                                                                                                                                                                                                                                                                                                                        text  \\\n",
       "0                                                                                                                                                                                                                                                                                                                                                                   explanation why the edits made under my username hardcore metallica fan were reverted they weren t vandalisms just closure on some gas after i voted at new york dolls fac and please don t remove the template from the talk page since i m retired now   \n",
       "1                                                                                                                                                                                                                                                                                                                                                                                                                                                                                                                                   d aww he matches this background colour i m seemingly stuck with thanks talk january utc   \n",
       "2                                                                                                                                                                                                                                                                                                                                                                                      hey man i m really not trying to edit war it s just that this guy is constantly removing relevant information and talking to me through edits instead of my talk page he seems to care more about the formatting than the actual info   \n",
       "3  more i can t make any real suggestions on improvement i wondered if the section statistics should be later on or a subsection of types of accidents i think the references may need tidying so that they are all in the exact same format ie date format etc i can do that later on if no one else does first if you have any preferences for formatting style on references or want to do it yourself please let me know there appears to be a backlog on articles for review so i guess there may be a delay until a reviewer turns up it s listed in the relevant form eg wikipedia good article nominations transport   \n",
       "4                                                                                                                                                                                                                                                                                                                                                                                                                                                                                                                                                            you sir are my hero any chance you remember what page that s on   \n",
       "\n",
       "   toxic  \n",
       "0      0  \n",
       "1      0  \n",
       "2      0  \n",
       "3      0  \n",
       "4      0  "
      ]
     },
     "execution_count": 10,
     "metadata": {},
     "output_type": "execute_result"
    }
   ],
   "source": [
    "toxic_comments.head()\n"
   ]
  },
  {
   "cell_type": "markdown",
   "metadata": {},
   "source": [
    "<font color='blue'><b>Комментарий ревьюера: </b></font> ✔️\\\n",
    "<font color='green'>Здорово что выводишь данные, так удобно отлаживать код, сразу видно, как работает функция.</font>"
   ]
  },
  {
   "cell_type": "code",
   "execution_count": 11,
   "metadata": {},
   "outputs": [],
   "source": [
    "# разделим данные\n",
    "X = toxic_comments['text']\n",
    "y = toxic_comments['toxic']\n"
   ]
  },
  {
   "cell_type": "code",
   "execution_count": 12,
   "metadata": {},
   "outputs": [],
   "source": [
    "# На тестовую / тренировочные \n",
    "X_train, X_test, y_train, y_test = train_test_split(\n",
    "    X, y, \n",
    "    test_size=0.25,  # 25% в тест\n",
    "    random_state=42,\n",
    "    stratify=y       # сохраняем баланс классов\n",
    ")"
   ]
  },
  {
   "cell_type": "markdown",
   "metadata": {},
   "source": [
    "<font color='blue'><b>Комментарий ревьюера: </b></font> ✔️\\\n",
    "<font color='green'> Здорово , что у нас есть выборка для тестов!</font>"
   ]
  },
  {
   "cell_type": "markdown",
   "metadata": {},
   "source": [
    "<font color='blue'><b>Комментарий ревьюера: </b></font> ⚠️\\\n",
    "<font color='darkorange'>Здесь заканчивается структурный блок работы - стоит сделать промежуточные выводы о проделанной работе в блоке.</font>"
   ]
  },
  {
   "cell_type": "markdown",
   "metadata": {},
   "source": [
    "<div class=\"alert alert-info\"  style=\"border-radius: 15px; box-shadow: 4px 4px 4px; border: 1px solid \">\n",
    "    \n",
    "<h2>Комментарий студента v_1: <a class=\"tocSkip\"> </h2>\n",
    "\n",
    "   Да, пропустил. Добавил)"
   ]
  },
  {
   "cell_type": "markdown",
   "metadata": {},
   "source": [
    "#### Вывод:\n",
    "- Ознакомились с данными\n",
    "- Осуществили предобработку: убрали пустой столбец, привели к нижнему регистру, почистили от спецсимволов.\n",
    "- Поделили сначала на целевой и входной признаки,а затем на тренировочную и тестовые выборки. \n",
    "\n",
    "\n"
   ]
  },
  {
   "cell_type": "markdown",
   "metadata": {},
   "source": [
    "<font color='blue'><b>Комментарий ревьюера 2: </b></font> ✔️ <br>\n",
    "<font color='green'>Здорово, что не забываешь про промежуточные выводы.</font>"
   ]
  },
  {
   "cell_type": "markdown",
   "metadata": {},
   "source": [
    "## Обучение"
   ]
  },
  {
   "cell_type": "code",
   "execution_count": 13,
   "metadata": {},
   "outputs": [],
   "source": [
    "# # Соберем разные модели\n",
    "# models = {\n",
    "#     \"LogisticRegression\": LogisticRegression(class_weight=\"balanced\", max_iter=200, random_state=42),\n",
    "#     \"LinearSVC\": LinearSVC(class_weight=\"balanced\", random_state=42),\n",
    "#     \"DecisionTree\": DecisionTreeClassifier(class_weight=\"balanced\", max_depth=10, random_state=42)\n",
    "# }"
   ]
  },
  {
   "cell_type": "code",
   "execution_count": 14,
   "metadata": {},
   "outputs": [],
   "source": [
    "# results = {}\n",
    "\n",
    "# for name, model in models.items():\n",
    "#     pipeline = Pipeline([\n",
    "#         (\"tfidf\", TfidfVectorizer(max_features=50000, ngram_range=(1,2), stop_words=\"english\")),\n",
    "#         (\"clf\", model)\n",
    "#     ])\n",
    "    \n",
    "#     pipeline.fit(X_train, y_train)\n",
    "#     y_pred = pipeline.predict(X_test)\n",
    "#     f1 = f1_score(y_test, y_pred)\n",
    "#     results[name] = f1\n",
    "#     print(f\"{name}: F1 = {f1:.3f}\")"
   ]
  },
  {
   "cell_type": "markdown",
   "metadata": {},
   "source": [
    "<font color='blue'><b>Комментарий ревьюера: </b></font> ✔️\\\n",
    "<font color='green'>Классно, что используешь Pipeline. Так можно избежать утечек даже при кроссвалидации моделей. \\\n",
    "С Pipeline можно подбирать гиперпараметры не только к классификатору, но и к предобработчикам.</font>"
   ]
  },
  {
   "cell_type": "markdown",
   "metadata": {},
   "source": [
    "<font color='blue'><b>Комментарий ревьюера: </b></font> ❌\\\n",
    "<font color='red'> ~~Выбирать модели на тестовых данных нельзя - так мы подстраиваемся конкретно под тестовую выборку. Тестирование проводится только для лучшей модели отобранной по результатам кросс-валидации.~~</font>"
   ]
  },
  {
   "cell_type": "markdown",
   "metadata": {},
   "source": [
    "<font color='blue'><b>Комментарий ревьюера : </b></font> ❌\\\n",
    "<font color='blue'> Посмотри, пожалуйста, Спринт 11/20 → Тема 9/11: Пайплайны → Уроки 5 и 6. Там есть код подбора параметров и предобработчиков для нескольких моделей без цикла.</font>"
   ]
  },
  {
   "cell_type": "markdown",
   "metadata": {},
   "source": [
    "<div class=\"alert alert-info\"  style=\"border-radius: 15px; box-shadow: 4px 4px 4px; border: 1px solid \">\n",
    "    \n",
    "<h2>Комментарий студента v_1: <a class=\"tocSkip\"> </h2>\n",
    "\n",
    "И правда. Закоментировал и ниже представил обновленное решение)"
   ]
  },
  {
   "cell_type": "code",
   "execution_count": 15,
   "metadata": {},
   "outputs": [],
   "source": [
    "# Соберем пайплайн\n",
    "pipeline = Pipeline([\n",
    "    (\"tfidf\", TfidfVectorizer(stop_words=\"english\")),\n",
    "    (\"clf\", LogisticRegression())  # заглушка, заменим при поиске\n",
    "])"
   ]
  },
  {
   "cell_type": "code",
   "execution_count": 16,
   "metadata": {},
   "outputs": [],
   "source": [
    "# теперь гиперпараметры для наших моделей\n",
    "param_grid = [\n",
    "    {\n",
    "        \"clf\": [LogisticRegression(class_weight=\"balanced\", max_iter=200, random_state=42)],\n",
    "        \"tfidf__max_features\": [20000, 50000],\n",
    "        \"tfidf__ngram_range\": [(1,1), (1,2)]\n",
    "    },\n",
    "    {\n",
    "        \"clf\": [LinearSVC(class_weight=\"balanced\", random_state=42)],\n",
    "        \"tfidf__max_features\": [20000, 50000,100000],\n",
    "        \"tfidf__ngram_range\": [(1,1), (1,2)]\n",
    "    },\n",
    "    {\n",
    "        \"clf\": [DecisionTreeClassifier(class_weight=\"balanced\", random_state=42)],\n",
    "        \"clf__max_depth\": [5, 10, 20],\n",
    "        \"tfidf__max_features\": [20000],\n",
    "        \"tfidf__ngram_range\": [(1,1)]\n",
    "    }\n",
    "]\n",
    "\n"
   ]
  },
  {
   "cell_type": "code",
   "execution_count": 17,
   "metadata": {},
   "outputs": [],
   "source": [
    "# В прошлых заданиях я использовал для скорости Random, на меня ругались\n",
    "# Поэтому возьмем Grid\n",
    "grid = GridSearchCV(\n",
    "    pipeline,\n",
    "    param_grid,\n",
    "    cv=3,\n",
    "    verbose=2,\n",
    "    scoring=\"f1\",\n",
    "    n_jobs=-1\n",
    ")"
   ]
  },
  {
   "cell_type": "code",
   "execution_count": 18,
   "metadata": {
    "collapsed": true
   },
   "outputs": [
    {
     "name": "stdout",
     "output_type": "stream",
     "text": [
      "Fitting 3 folds for each of 13 candidates, totalling 39 fits\n",
      "[CV] END clf=LogisticRegression(class_weight='balanced', max_iter=200, random_state=42), tfidf__max_features=20000, tfidf__ngram_range=(1, 1); total time=  21.6s\n",
      "[CV] END clf=LogisticRegression(class_weight='balanced', max_iter=200, random_state=42), tfidf__max_features=20000, tfidf__ngram_range=(1, 1); total time=  20.6s\n",
      "[CV] END clf=LogisticRegression(class_weight='balanced', max_iter=200, random_state=42), tfidf__max_features=20000, tfidf__ngram_range=(1, 1); total time=  27.1s\n",
      "[CV] END clf=LogisticRegression(class_weight='balanced', max_iter=200, random_state=42), tfidf__max_features=20000, tfidf__ngram_range=(1, 2); total time=  29.8s\n",
      "[CV] END clf=LogisticRegression(class_weight='balanced', max_iter=200, random_state=42), tfidf__max_features=20000, tfidf__ngram_range=(1, 2); total time=  38.2s\n",
      "[CV] END clf=LogisticRegression(class_weight='balanced', max_iter=200, random_state=42), tfidf__max_features=20000, tfidf__ngram_range=(1, 2); total time=  35.3s\n",
      "[CV] END clf=LogisticRegression(class_weight='balanced', max_iter=200, random_state=42), tfidf__max_features=50000, tfidf__ngram_range=(1, 1); total time=  34.0s\n",
      "[CV] END clf=LogisticRegression(class_weight='balanced', max_iter=200, random_state=42), tfidf__max_features=50000, tfidf__ngram_range=(1, 1); total time=  29.7s\n",
      "[CV] END clf=LogisticRegression(class_weight='balanced', max_iter=200, random_state=42), tfidf__max_features=50000, tfidf__ngram_range=(1, 1); total time=  21.3s\n",
      "[CV] END clf=LogisticRegression(class_weight='balanced', max_iter=200, random_state=42), tfidf__max_features=50000, tfidf__ngram_range=(1, 2); total time=  35.6s\n",
      "[CV] END clf=LogisticRegression(class_weight='balanced', max_iter=200, random_state=42), tfidf__max_features=50000, tfidf__ngram_range=(1, 2); total time=  35.9s\n",
      "[CV] END clf=LogisticRegression(class_weight='balanced', max_iter=200, random_state=42), tfidf__max_features=50000, tfidf__ngram_range=(1, 2); total time=  50.0s\n",
      "[CV] END clf=LinearSVC(class_weight='balanced', random_state=42), tfidf__max_features=20000, tfidf__ngram_range=(1, 1); total time=   6.6s\n",
      "[CV] END clf=LinearSVC(class_weight='balanced', random_state=42), tfidf__max_features=20000, tfidf__ngram_range=(1, 1); total time=   6.5s\n",
      "[CV] END clf=LinearSVC(class_weight='balanced', random_state=42), tfidf__max_features=20000, tfidf__ngram_range=(1, 1); total time=   6.8s\n",
      "[CV] END clf=LinearSVC(class_weight='balanced', random_state=42), tfidf__max_features=20000, tfidf__ngram_range=(1, 2); total time=  17.1s\n",
      "[CV] END clf=LinearSVC(class_weight='balanced', random_state=42), tfidf__max_features=20000, tfidf__ngram_range=(1, 2); total time=  16.8s\n",
      "[CV] END clf=LinearSVC(class_weight='balanced', random_state=42), tfidf__max_features=20000, tfidf__ngram_range=(1, 2); total time=  16.7s\n",
      "[CV] END clf=LinearSVC(class_weight='balanced', random_state=42), tfidf__max_features=50000, tfidf__ngram_range=(1, 1); total time=   7.1s\n",
      "[CV] END clf=LinearSVC(class_weight='balanced', random_state=42), tfidf__max_features=50000, tfidf__ngram_range=(1, 1); total time=   6.4s\n",
      "[CV] END clf=LinearSVC(class_weight='balanced', random_state=42), tfidf__max_features=50000, tfidf__ngram_range=(1, 1); total time=   6.6s\n",
      "[CV] END clf=LinearSVC(class_weight='balanced', random_state=42), tfidf__max_features=50000, tfidf__ngram_range=(1, 2); total time=  17.4s\n",
      "[CV] END clf=LinearSVC(class_weight='balanced', random_state=42), tfidf__max_features=50000, tfidf__ngram_range=(1, 2); total time=  16.9s\n",
      "[CV] END clf=LinearSVC(class_weight='balanced', random_state=42), tfidf__max_features=50000, tfidf__ngram_range=(1, 2); total time=  17.4s\n",
      "[CV] END clf=LinearSVC(class_weight='balanced', random_state=42), tfidf__max_features=100000, tfidf__ngram_range=(1, 1); total time=   6.9s\n",
      "[CV] END clf=LinearSVC(class_weight='balanced', random_state=42), tfidf__max_features=100000, tfidf__ngram_range=(1, 1); total time=   6.5s\n",
      "[CV] END clf=LinearSVC(class_weight='balanced', random_state=42), tfidf__max_features=100000, tfidf__ngram_range=(1, 1); total time=   6.4s\n",
      "[CV] END clf=LinearSVC(class_weight='balanced', random_state=42), tfidf__max_features=100000, tfidf__ngram_range=(1, 2); total time=  17.5s\n",
      "[CV] END clf=LinearSVC(class_weight='balanced', random_state=42), tfidf__max_features=100000, tfidf__ngram_range=(1, 2); total time=  17.8s\n",
      "[CV] END clf=LinearSVC(class_weight='balanced', random_state=42), tfidf__max_features=100000, tfidf__ngram_range=(1, 2); total time=  17.2s\n",
      "[CV] END clf=DecisionTreeClassifier(class_weight='balanced', random_state=42), clf__max_depth=5, tfidf__max_features=20000, tfidf__ngram_range=(1, 1); total time=   6.1s\n",
      "[CV] END clf=DecisionTreeClassifier(class_weight='balanced', random_state=42), clf__max_depth=5, tfidf__max_features=20000, tfidf__ngram_range=(1, 1); total time=   6.2s\n",
      "[CV] END clf=DecisionTreeClassifier(class_weight='balanced', random_state=42), clf__max_depth=5, tfidf__max_features=20000, tfidf__ngram_range=(1, 1); total time=   6.1s\n",
      "[CV] END clf=DecisionTreeClassifier(class_weight='balanced', random_state=42), clf__max_depth=10, tfidf__max_features=20000, tfidf__ngram_range=(1, 1); total time=   7.8s\n",
      "[CV] END clf=DecisionTreeClassifier(class_weight='balanced', random_state=42), clf__max_depth=10, tfidf__max_features=20000, tfidf__ngram_range=(1, 1); total time=   7.8s\n",
      "[CV] END clf=DecisionTreeClassifier(class_weight='balanced', random_state=42), clf__max_depth=10, tfidf__max_features=20000, tfidf__ngram_range=(1, 1); total time=   7.9s\n",
      "[CV] END clf=DecisionTreeClassifier(class_weight='balanced', random_state=42), clf__max_depth=20, tfidf__max_features=20000, tfidf__ngram_range=(1, 1); total time=  11.6s\n",
      "[CV] END clf=DecisionTreeClassifier(class_weight='balanced', random_state=42), clf__max_depth=20, tfidf__max_features=20000, tfidf__ngram_range=(1, 1); total time=  11.4s\n",
      "[CV] END clf=DecisionTreeClassifier(class_weight='balanced', random_state=42), clf__max_depth=20, tfidf__max_features=20000, tfidf__ngram_range=(1, 1); total time=  11.3s\n"
     ]
    },
    {
     "data": {
      "text/plain": [
       "GridSearchCV(cv=3,\n",
       "             estimator=Pipeline(steps=[('tfidf',\n",
       "                                        TfidfVectorizer(stop_words='english')),\n",
       "                                       ('clf', LogisticRegression())]),\n",
       "             n_jobs=-1,\n",
       "             param_grid=[{'clf': [LogisticRegression(class_weight='balanced',\n",
       "                                                     max_iter=200,\n",
       "                                                     random_state=42)],\n",
       "                          'tfidf__max_features': [20000, 50000],\n",
       "                          'tfidf__ngram_range': [(1, 1), (1, 2)]},\n",
       "                         {'clf': [LinearSVC(class_weight='balanced',\n",
       "                                            random_state=42)],\n",
       "                          'tfidf__max_features': [20000, 50000, 100000],\n",
       "                          'tfidf__ngram_range': [(1, 1), (1, 2)]},\n",
       "                         {'clf': [DecisionTreeClassifier(class_weight='balanced',\n",
       "                                                         random_state=42)],\n",
       "                          'clf__max_depth': [5, 10, 20],\n",
       "                          'tfidf__max_features': [20000],\n",
       "                          'tfidf__ngram_range': [(1, 1)]}],\n",
       "             scoring='f1', verbose=2)"
      ]
     },
     "execution_count": 18,
     "metadata": {},
     "output_type": "execute_result"
    }
   ],
   "source": [
    "# Используем только тренировочные данные\n",
    "grid.fit(X_train, y_train)\n"
   ]
  },
  {
   "cell_type": "code",
   "execution_count": 19,
   "metadata": {},
   "outputs": [
    {
     "name": "stdout",
     "output_type": "stream",
     "text": [
      "Лучшая модель: Pipeline(steps=[('tfidf',\n",
      "                 TfidfVectorizer(max_features=100000, ngram_range=(1, 2),\n",
      "                                 stop_words='english')),\n",
      "                ('clf', LinearSVC(class_weight='balanced', random_state=42))])\n",
      "Лучшие параметры: {'clf': LinearSVC(class_weight='balanced', random_state=42), 'tfidf__max_features': 100000, 'tfidf__ngram_range': (1, 2)}\n",
      "Лучшее F1 на кросс-валидации: 0.7643929250230893\n"
     ]
    }
   ],
   "source": [
    "# Смотрим что получилось\n",
    "print(\"Лучшая модель:\", grid.best_estimator_)\n",
    "print(\"Лучшие параметры:\", grid.best_params_)\n",
    "print(\"Лучшее F1 на кросс-валидации:\", grid.best_score_)"
   ]
  },
  {
   "cell_type": "markdown",
   "metadata": {},
   "source": [
    "<font color='blue'><b>Комментарий ревьюера 2: </b></font> ✔️\\\n",
    "<font color='green'>Здорово что оценка кросс-валидацией.</font>"
   ]
  },
  {
   "cell_type": "markdown",
   "metadata": {},
   "source": [
    "<font color='blue'><b>Комментарий ревьюера 2: </b></font> ⚠️\\\n",
    "<font color='darkorange'> Нужно вывести результаты оценки Топ-10 лучших моделей, для анализа.</font>"
   ]
  },
  {
   "cell_type": "code",
   "execution_count": 20,
   "metadata": {},
   "outputs": [
    {
     "name": "stdout",
     "output_type": "stream",
     "text": [
      "F1 на тесте: 0.7689922480620155\n"
     ]
    }
   ],
   "source": [
    "# Отлично, запускаемся на тестовых данных:\n",
    "y_pred = grid.best_estimator_.predict(X_test)\n",
    "print(\"F1 на тесте:\", f1_score(y_test, y_pred))"
   ]
  },
  {
   "cell_type": "markdown",
   "metadata": {},
   "source": [
    "<font color='blue'><b>Комментарий ревьюера 2: </b></font> ✔️\\\n",
    "<font color='green'>Тестирование проведено верно.</font>"
   ]
  },
  {
   "cell_type": "code",
   "execution_count": 21,
   "metadata": {},
   "outputs": [],
   "source": [
    "# tfidf = TfidfVectorizer(\n",
    "#     max_features=100000,    # увеличим словарь\n",
    "#     ngram_range=(1,2),     # используем униграммы и биграммы\n",
    "#     stop_words='english'   # уберём стоп-слова\n",
    "# )\n",
    "\n",
    "# X_train_tfidf = tfidf.fit_transform(X_train)\n",
    "# X_test_tfidf = tfidf.transform(X_test)"
   ]
  },
  {
   "cell_type": "code",
   "execution_count": 22,
   "metadata": {},
   "outputs": [],
   "source": [
    "# logreg = LogisticRegression(\n",
    "#     class_weight='balanced', \n",
    "#     max_iter=200, \n",
    "#     random_state=42\n",
    "# )\n",
    "\n",
    "# logreg.fit(X_train_tfidf, y_train)\n",
    "# y_pred = logreg.predict(X_test_tfidf)\n",
    "\n",
    "# f1 = f1_score(y_test, y_pred)\n",
    "# print(f\"F1 на тесте: {f1:.3f}\")"
   ]
  },
  {
   "cell_type": "markdown",
   "metadata": {},
   "source": [
    "<span style=\"color: blue; font-weight: bold\">Комментарий ревьюера : </span>  ❌\\\n",
    "<span style=\"color: red\">~~Тестировать нужно Лучшую модель выбранную выше.\\\n",
    "Там другая предобработка~~.</span>"
   ]
  },
  {
   "cell_type": "markdown",
   "metadata": {},
   "source": [
    "<div class=\"alert alert-info\"  style=\"border-radius: 15px; box-shadow: 4px 4px 4px; border: 1px solid \">\n",
    "    \n",
    "<h2>Комментарий студента v_1: <a class=\"tocSkip\"> </h2>\n",
    "\n",
    "Протестировал итоговую модель, бриф отработал. "
   ]
  },
  {
   "cell_type": "markdown",
   "metadata": {},
   "source": [
    "<span style=\"color: blue; font-weight: bold\">Комментарий ревьюера 2: </span> ✔️\\\n",
    "<span style=\"color: green\"> 👍</span>"
   ]
  },
  {
   "cell_type": "markdown",
   "metadata": {},
   "source": [
    "## Выводы"
   ]
  },
  {
   "cell_type": "markdown",
   "metadata": {},
   "source": [
    "### Были проведены следующие действия:\n",
    "- Предобработка данных \n",
    "- Обучение 3х моделей\n",
    "- Выбрана самая точная модель и при увеличении словаря мы отрабаываетм условие брифа: F1 на тесте: 0.768 > 0.75"
   ]
  },
  {
   "cell_type": "markdown",
   "metadata": {},
   "source": [
    "<font color='blue'><b>Комментарий ревьюера: </b></font> ✔️\\\n",
    "<font color='green'>Очень приятно видеть вывод в конце проекта! В выводах можно приводить полученные ранее значения. Также можно расписать все, что было сделано в ходе проведения работы. Представь, что тебе заплатят исходя из объёма сделанных тобой выводов )).</font>"
   ]
  },
  {
   "cell_type": "markdown",
   "metadata": {},
   "source": [
    "<font color='blue'><b>Итоговый комментарий ревьюера</b></font>\\\n",
    "<font color='green'>Александр, хороший проект получился!\n",
    "Большое спасибо за проделанную работу. Видно, что приложено много усилий.\n",
    "</font>\n",
    "\n",
    "<font color='blue'>Что нужно исправить:</font>\n",
    "<ul><font color='red'>Не выбирай Лучшую модель на тестовых данных.</font></ul>\n",
    "<ul><font color='red'>Проведи тестирование Лучшей модели.</font></ul>\n",
    "\n",
    "<font color='blue'>Что можно сделать лучше:</font>\n",
    "<font color='orange'>В работе я оставил несколько советов. Буду рад, если ты учтешь их.</font></ul>\n",
    "\n",
    "<font color='blue'><b>Жду новую версию проекта :)</b></font>"
   ]
  },
  {
   "cell_type": "markdown",
   "metadata": {},
   "source": [
    "<div class=\"alert alert-info\"  style=\"border-radius: 15px; box-shadow: 4px 4px 4px; border: 1px solid \">\n",
    "    \n",
    "<h2>Комментарий студента v_1: <a class=\"tocSkip\"> </h2>\n",
    "\n",
    "Все замечания отработал, спасибо за ревью, Павел!)"
   ]
  },
  {
   "cell_type": "markdown",
   "metadata": {},
   "source": [
    "<font color='blue'><b>Итоговый комментарий ревьюера 2</b></font>\\\n",
    "<font color='green'>Александр, проект принят! \\\n",
    "Все этапы пройдены. Все рекомендации учтены.\\\n",
    "Надеюсь, тебе понравился процесс выполнения и результат.</font> \\\n",
    "<font color='blue'><b>Спасибо, удачи в освоении профессии!</b></font>"
   ]
  },
  {
   "cell_type": "markdown",
   "metadata": {},
   "source": [
    "<font color='green'><b>Полезные (и просто интересные) материалы:</b> \\\n",
    "Для работы с текстами используют и другие подходы. Например, сейчас активно используются RNN (LSTM) и трансформеры (BERT и другие с улицы Сезам, например, ELMO). НО! Они не являются панацеей, не всегда они нужны, так как и TF-IDF или Word2Vec + модели из классического ML тоже могут справляться. \\\n",
    "BERT тяжелый, существует много его вариаций для разных задач, есть готовые модели, есть надстройки над библиотекой transformers. Если, обучать BERT на GPU (можно в Google Colab или Kaggle), то должно быть побыстрее.\\\n",
    "https://huggingface.co/transformers/model_doc/bert.html \\\n",
    "https://colah.github.io/posts/2015-08-Understanding-LSTMs/ - Про LSTM \\\n",
    "https://web.stanford.edu/~jurafsky/slp3/10.pdf - про энкодер-декодер модели, этеншены\\\n",
    "https://pytorch.org/tutorials/beginner/transformer_tutorial.html - официальный гайд\n",
    "по трансформеру от создателей pytorch\\\n",
    "Библиотеки: allennlp, fairseq, transformers, tensorflow-text — множествореализованных\n",
    "методов для трансформеров методов NLP \\\n",
    "Word2Vec https://radimrehurek.com/gensim/models/word2vec.html\n",
    "\n",
    "<font color='green'>Пример BERT с GPU:\n",
    "```python\n",
    "%%time\n",
    "from tqdm import notebook\n",
    "batch_size = 2 # для примера возьмем такой батч, где будет всего две строки датасета\n",
    "embeddings = []\n",
    "model.cuda()   # закидываем модель на GPU\n",
    "for i in notebook.tqdm(range(input_ids.shape[0] // batch_size)):\n",
    "        batch = torch.LongTensor(input_ids[batch_size*i:batch_size*(i+1)]).cuda() # закидываем тензор на GPU\n",
    "        attention_mask_batch = torch.LongTensor(attention_mask[batch_size*i:batch_size*(i+1)]).cuda()\n",
    "\n",
    "        with torch.no_grad():\n",
    "            batch_embeddings = model(batch, attention_mask=attention_mask_batch)\n",
    "\n",
    "        embeddings.append(batch_embeddings[0][:,0,:].cpu().numpy()) # перевод обратно на проц, чтобы в нумпай кинуть\n",
    "        del batch\n",
    "        del attention_mask_batch\n",
    "        del batch_embeddings\n",
    "\n",
    "features = np.concatenate(embeddings)\n",
    "```\n",
    "Можно сделать предварительную проверку на наличие GPU.\\\n",
    "Например, так: ```device = torch.device(\"cuda:0\") if torch.cuda.is_available() else torch.device(\"cpu\")```\\\n",
    "Тогда вместо .cuda() нужно писать .to(device)\n",
    "\n",
    "Если понравилась работа с текстами, то можешь посмотреть очень интересный (но очень-очень сложный) курс лекций: https://github.com/yandexdataschool/nlp_course .\n",
    "\n",
    "\n",
    "NLP от Samsung https://stepik.org/course/54098/promo \\\n",
    "NLP от Huawei https://ods.ai/tracks/nlp-course-spring-2025 \\\n",
    "Transformers от Hugging Face https://huggingface.co/learn/nlp-course/ru/chapter1/1\n",
    "</font>"
   ]
  },
  {
   "cell_type": "markdown",
   "metadata": {},
   "source": [
    "## Чек-лист проверки"
   ]
  },
  {
   "cell_type": "markdown",
   "metadata": {},
   "source": [
    "- [x]  Jupyter Notebook открыт\n",
    "- [x]  Весь код выполняется без ошибок\n",
    "- [x]  Ячейки с кодом расположены в порядке исполнения\n",
    "- [x]  Данные загружены и подготовлены\n",
    "- [x]  Модели обучены\n",
    "- [x]  Значение метрики *F1* не меньше 0.75\n",
    "- [x]  Выводы написаны"
   ]
  }
 ],
 "metadata": {
  "ExecuteTimeLog": [
   {
    "duration": 1842,
    "start_time": "2025-08-26T11:42:31.715Z"
   },
   {
    "duration": 1029,
    "start_time": "2025-08-26T11:42:39.966Z"
   },
   {
    "duration": 12,
    "start_time": "2025-08-26T11:42:44.391Z"
   },
   {
    "duration": 12,
    "start_time": "2025-08-26T11:42:51.549Z"
   },
   {
    "duration": 2993,
    "start_time": "2025-08-26T11:44:22.756Z"
   },
   {
    "duration": 17,
    "start_time": "2025-08-26T11:44:41.070Z"
   },
   {
    "duration": 76,
    "start_time": "2025-08-26T11:45:14.922Z"
   },
   {
    "duration": 78,
    "start_time": "2025-08-26T11:45:19.965Z"
   },
   {
    "duration": 965,
    "start_time": "2025-08-26T11:45:38.076Z"
   },
   {
    "duration": 9,
    "start_time": "2025-08-26T11:45:42.473Z"
   },
   {
    "duration": 27,
    "start_time": "2025-08-26T11:45:52.109Z"
   },
   {
    "duration": 8,
    "start_time": "2025-08-26T11:45:53.667Z"
   },
   {
    "duration": 10,
    "start_time": "2025-08-26T11:46:04.085Z"
   },
   {
    "duration": 155,
    "start_time": "2025-08-26T11:47:50.984Z"
   },
   {
    "duration": 4,
    "start_time": "2025-08-26T11:50:46.951Z"
   },
   {
    "duration": 960,
    "start_time": "2025-08-26T11:50:54.279Z"
   },
   {
    "duration": 14,
    "start_time": "2025-08-26T11:51:02.633Z"
   },
   {
    "duration": 28,
    "start_time": "2025-08-26T11:51:08.114Z"
   },
   {
    "duration": 11,
    "start_time": "2025-08-26T11:51:16.708Z"
   },
   {
    "duration": 7693,
    "start_time": "2025-08-26T11:51:35.367Z"
   },
   {
    "duration": 51,
    "start_time": "2025-08-26T11:52:01.485Z"
   },
   {
    "duration": 1800,
    "start_time": "2025-08-26T11:52:14.102Z"
   },
   {
    "duration": 1085,
    "start_time": "2025-08-26T11:52:15.904Z"
   },
   {
    "duration": 10,
    "start_time": "2025-08-26T11:52:16.991Z"
   },
   {
    "duration": 53,
    "start_time": "2025-08-26T11:52:17.003Z"
   },
   {
    "duration": 18,
    "start_time": "2025-08-26T11:52:17.059Z"
   },
   {
    "duration": 7856,
    "start_time": "2025-08-26T11:52:17.079Z"
   },
   {
    "duration": 13432,
    "start_time": "2025-08-26T11:52:24.939Z"
   },
   {
    "duration": 51464,
    "start_time": "2025-08-26T11:52:38.372Z"
   },
   {
    "duration": 13,
    "start_time": "2025-08-26T12:07:05.295Z"
   },
   {
    "duration": 3,
    "start_time": "2025-08-26T12:07:21.903Z"
   },
   {
    "duration": 280,
    "start_time": "2025-08-26T12:07:29.017Z"
   },
   {
    "duration": 1592,
    "start_time": "2025-08-26T12:07:38.359Z"
   },
   {
    "duration": 20,
    "start_time": "2025-08-26T12:08:04.667Z"
   },
   {
    "duration": 2241,
    "start_time": "2025-08-26T12:08:10.518Z"
   },
   {
    "duration": 1470,
    "start_time": "2025-08-26T12:20:15.783Z"
   },
   {
    "duration": 1475,
    "start_time": "2025-08-26T12:20:44.605Z"
   },
   {
    "duration": 16,
    "start_time": "2025-08-26T12:21:21.868Z"
   },
   {
    "duration": 29,
    "start_time": "2025-08-26T12:21:45.175Z"
   },
   {
    "duration": 1514,
    "start_time": "2025-08-26T12:21:55.629Z"
   },
   {
    "duration": 1022,
    "start_time": "2025-08-26T12:21:57.145Z"
   },
   {
    "duration": 15,
    "start_time": "2025-08-26T12:21:58.170Z"
   },
   {
    "duration": 74,
    "start_time": "2025-08-26T12:21:58.187Z"
   },
   {
    "duration": 12,
    "start_time": "2025-08-26T12:21:58.263Z"
   },
   {
    "duration": 10,
    "start_time": "2025-08-26T12:21:58.276Z"
   },
   {
    "duration": 5,
    "start_time": "2025-08-26T12:21:58.288Z"
   },
   {
    "duration": 4441,
    "start_time": "2025-08-26T12:21:58.294Z"
   },
   {
    "duration": 128,
    "start_time": "2025-08-26T12:22:20.757Z"
   },
   {
    "duration": 7,
    "start_time": "2025-08-26T12:22:24.755Z"
   },
   {
    "duration": 3,
    "start_time": "2025-08-26T12:49:37.052Z"
   },
   {
    "duration": 72,
    "start_time": "2025-08-26T12:50:01.525Z"
   },
   {
    "duration": 27003,
    "start_time": "2025-08-26T12:50:14.822Z"
   },
   {
    "duration": 42423,
    "start_time": "2025-08-26T12:53:21.712Z"
   },
   {
    "duration": 11,
    "start_time": "2025-08-26T13:44:51.408Z"
   },
   {
    "duration": 5,
    "start_time": "2025-08-26T13:45:15.210Z"
   },
   {
    "duration": 3,
    "start_time": "2025-08-26T13:45:18.534Z"
   },
   {
    "duration": 253894,
    "start_time": "2025-08-26T14:06:27.568Z"
   },
   {
    "duration": 4,
    "start_time": "2025-08-26T14:10:47.341Z"
   },
   {
    "duration": 1409,
    "start_time": "2025-08-26T14:11:10.469Z"
   },
   {
    "duration": 1032,
    "start_time": "2025-08-26T14:11:11.880Z"
   },
   {
    "duration": 20,
    "start_time": "2025-08-26T14:11:12.914Z"
   },
   {
    "duration": 58,
    "start_time": "2025-08-26T14:11:12.936Z"
   },
   {
    "duration": 18,
    "start_time": "2025-08-26T14:11:12.997Z"
   },
   {
    "duration": 22,
    "start_time": "2025-08-26T14:11:13.017Z"
   },
   {
    "duration": 12,
    "start_time": "2025-08-26T14:11:13.041Z"
   },
   {
    "duration": 4281,
    "start_time": "2025-08-26T14:11:13.055Z"
   },
   {
    "duration": 7,
    "start_time": "2025-08-26T14:11:17.337Z"
   },
   {
    "duration": 41,
    "start_time": "2025-08-26T14:11:17.346Z"
   },
   {
    "duration": 72,
    "start_time": "2025-08-26T14:11:17.388Z"
   },
   {
    "duration": 24498,
    "start_time": "2025-08-26T14:11:17.462Z"
   },
   {
    "duration": 39073,
    "start_time": "2025-08-26T14:11:41.962Z"
   },
   {
    "duration": 4,
    "start_time": "2025-08-26T14:12:21.037Z"
   },
   {
    "duration": 1387,
    "start_time": "2025-08-26T14:21:14.586Z"
   },
   {
    "duration": 1043,
    "start_time": "2025-08-26T14:21:15.975Z"
   },
   {
    "duration": 18,
    "start_time": "2025-08-26T14:21:17.020Z"
   },
   {
    "duration": 37,
    "start_time": "2025-08-26T14:21:17.040Z"
   },
   {
    "duration": 12,
    "start_time": "2025-08-26T14:21:17.079Z"
   },
   {
    "duration": 25,
    "start_time": "2025-08-26T14:21:17.092Z"
   },
   {
    "duration": 25,
    "start_time": "2025-08-26T14:21:17.119Z"
   },
   {
    "duration": 4332,
    "start_time": "2025-08-26T14:21:17.146Z"
   },
   {
    "duration": 7,
    "start_time": "2025-08-26T14:21:21.480Z"
   },
   {
    "duration": 11,
    "start_time": "2025-08-26T14:21:21.488Z"
   },
   {
    "duration": 85,
    "start_time": "2025-08-26T14:21:21.501Z"
   },
   {
    "duration": 24692,
    "start_time": "2025-08-26T14:21:21.588Z"
   },
   {
    "duration": 39662,
    "start_time": "2025-08-26T14:21:46.282Z"
   },
   {
    "duration": 4,
    "start_time": "2025-08-26T14:22:25.947Z"
   },
   {
    "duration": 54,
    "start_time": "2025-08-26T14:42:24.728Z"
   },
   {
    "duration": 1441,
    "start_time": "2025-08-26T14:42:33.004Z"
   },
   {
    "duration": 989,
    "start_time": "2025-08-26T14:42:34.447Z"
   },
   {
    "duration": 13,
    "start_time": "2025-08-26T14:42:35.438Z"
   },
   {
    "duration": 27,
    "start_time": "2025-08-26T14:42:35.454Z"
   },
   {
    "duration": 11,
    "start_time": "2025-08-26T14:42:35.483Z"
   },
   {
    "duration": 41,
    "start_time": "2025-08-26T14:42:35.495Z"
   },
   {
    "duration": 48,
    "start_time": "2025-08-26T14:42:35.538Z"
   },
   {
    "duration": 4288,
    "start_time": "2025-08-26T14:42:35.588Z"
   },
   {
    "duration": 7,
    "start_time": "2025-08-26T14:42:39.878Z"
   },
   {
    "duration": 15,
    "start_time": "2025-08-26T14:42:39.888Z"
   },
   {
    "duration": 139,
    "start_time": "2025-08-26T14:42:39.904Z"
   },
   {
    "duration": 46358,
    "start_time": "2025-08-26T14:42:40.045Z"
   },
   {
    "duration": 34142,
    "start_time": "2025-08-26T14:43:26.405Z"
   },
   {
    "duration": 6,
    "start_time": "2025-08-26T14:44:00.549Z"
   },
   {
    "duration": 53,
    "start_time": "2025-08-26T16:16:41.540Z"
   },
   {
    "duration": 7,
    "start_time": "2025-08-26T16:16:43.988Z"
   },
   {
    "duration": 1422,
    "start_time": "2025-08-26T16:16:49.263Z"
   },
   {
    "duration": 1026,
    "start_time": "2025-08-26T16:16:50.687Z"
   },
   {
    "duration": 22,
    "start_time": "2025-08-26T16:16:51.715Z"
   },
   {
    "duration": 30,
    "start_time": "2025-08-26T16:16:51.739Z"
   },
   {
    "duration": 27,
    "start_time": "2025-08-26T16:16:51.771Z"
   },
   {
    "duration": 12,
    "start_time": "2025-08-26T16:16:51.799Z"
   },
   {
    "duration": 34,
    "start_time": "2025-08-26T16:16:51.813Z"
   },
   {
    "duration": 4404,
    "start_time": "2025-08-26T16:16:51.849Z"
   },
   {
    "duration": 7,
    "start_time": "2025-08-26T16:16:56.255Z"
   },
   {
    "duration": 4,
    "start_time": "2025-08-26T16:16:56.263Z"
   },
   {
    "duration": 90,
    "start_time": "2025-08-26T16:16:56.268Z"
   },
   {
    "duration": 49354,
    "start_time": "2025-08-26T16:16:56.359Z"
   },
   {
    "duration": 38920,
    "start_time": "2025-08-26T16:17:45.715Z"
   },
   {
    "duration": 4,
    "start_time": "2025-08-26T16:18:24.638Z"
   },
   {
    "duration": 149,
    "start_time": "2025-08-26T16:18:24.644Z"
   },
   {
    "duration": 49,
    "start_time": "2025-08-26T16:19:10.079Z"
   },
   {
    "duration": 1428,
    "start_time": "2025-08-26T16:19:17.715Z"
   },
   {
    "duration": 1001,
    "start_time": "2025-08-26T16:19:19.145Z"
   },
   {
    "duration": 13,
    "start_time": "2025-08-26T16:19:20.147Z"
   },
   {
    "duration": 39,
    "start_time": "2025-08-26T16:19:20.162Z"
   },
   {
    "duration": 31,
    "start_time": "2025-08-26T16:19:20.204Z"
   },
   {
    "duration": 12,
    "start_time": "2025-08-26T16:19:20.237Z"
   },
   {
    "duration": 4,
    "start_time": "2025-08-26T16:19:20.250Z"
   },
   {
    "duration": 90,
    "start_time": "2025-08-26T16:19:24.560Z"
   },
   {
    "duration": 49013,
    "start_time": "2025-08-26T16:19:24.652Z"
   },
   {
    "duration": 124765,
    "start_time": "2025-08-26T16:20:48.139Z"
   },
   {
    "duration": 1389,
    "start_time": "2025-08-27T06:54:53.153Z"
   },
   {
    "duration": 1270,
    "start_time": "2025-08-27T06:54:54.544Z"
   },
   {
    "duration": 16,
    "start_time": "2025-08-27T06:54:55.816Z"
   },
   {
    "duration": 47,
    "start_time": "2025-08-27T06:54:55.834Z"
   },
   {
    "duration": 21,
    "start_time": "2025-08-27T06:54:55.883Z"
   },
   {
    "duration": 12,
    "start_time": "2025-08-27T06:54:55.906Z"
   },
   {
    "duration": 18,
    "start_time": "2025-08-27T06:54:55.920Z"
   },
   {
    "duration": 4139,
    "start_time": "2025-08-27T06:54:55.940Z"
   },
   {
    "duration": 7,
    "start_time": "2025-08-27T06:55:00.080Z"
   },
   {
    "duration": 115,
    "start_time": "2025-08-27T06:55:00.089Z"
   },
   {
    "duration": 144,
    "start_time": "2025-08-27T06:55:00.206Z"
   },
   {
    "duration": 24353,
    "start_time": "2025-08-27T06:55:00.352Z"
   },
   {
    "duration": 45042,
    "start_time": "2025-08-27T06:55:24.706Z"
   },
   {
    "duration": 4,
    "start_time": "2025-08-27T06:56:09.836Z"
   },
   {
    "duration": 121575,
    "start_time": "2025-08-27T06:56:09.842Z"
   },
   {
    "duration": 52,
    "start_time": "2025-08-27T11:16:55.938Z"
   },
   {
    "duration": 1572,
    "start_time": "2025-08-27T11:17:06.025Z"
   },
   {
    "duration": 1072,
    "start_time": "2025-08-27T11:17:07.599Z"
   },
   {
    "duration": 14,
    "start_time": "2025-08-27T11:17:08.673Z"
   },
   {
    "duration": 31,
    "start_time": "2025-08-27T11:17:08.688Z"
   },
   {
    "duration": 76,
    "start_time": "2025-08-27T11:17:08.721Z"
   },
   {
    "duration": 12,
    "start_time": "2025-08-27T11:17:08.799Z"
   },
   {
    "duration": 16,
    "start_time": "2025-08-27T11:17:08.813Z"
   },
   {
    "duration": 4424,
    "start_time": "2025-08-27T11:17:08.831Z"
   },
   {
    "duration": 7,
    "start_time": "2025-08-27T11:17:13.257Z"
   },
   {
    "duration": 31,
    "start_time": "2025-08-27T11:17:13.265Z"
   },
   {
    "duration": 72,
    "start_time": "2025-08-27T11:17:13.298Z"
   },
   {
    "duration": 25571,
    "start_time": "2025-08-27T11:17:13.372Z"
   },
   {
    "duration": 38907,
    "start_time": "2025-08-27T11:17:38.949Z"
   },
   {
    "duration": 4,
    "start_time": "2025-08-27T11:18:17.859Z"
   },
   {
    "duration": 126214,
    "start_time": "2025-08-27T11:18:17.864Z"
   },
   {
    "duration": 25650,
    "start_time": "2025-08-27T11:22:14.999Z"
   },
   {
    "duration": 42999,
    "start_time": "2025-08-27T11:22:40.651Z"
   },
   {
    "duration": 77,
    "start_time": "2025-08-27T11:24:56.761Z"
   },
   {
    "duration": 3,
    "start_time": "2025-08-27T11:24:58.986Z"
   },
   {
    "duration": 1545,
    "start_time": "2025-08-27T11:25:07.181Z"
   },
   {
    "duration": 1054,
    "start_time": "2025-08-27T11:25:08.728Z"
   },
   {
    "duration": 15,
    "start_time": "2025-08-27T11:25:09.784Z"
   },
   {
    "duration": 46,
    "start_time": "2025-08-27T11:25:09.800Z"
   },
   {
    "duration": 12,
    "start_time": "2025-08-27T11:25:09.850Z"
   },
   {
    "duration": 11,
    "start_time": "2025-08-27T11:25:09.863Z"
   },
   {
    "duration": 3,
    "start_time": "2025-08-27T11:25:09.876Z"
   },
   {
    "duration": 4556,
    "start_time": "2025-08-27T11:25:09.881Z"
   },
   {
    "duration": 15,
    "start_time": "2025-08-27T11:25:14.439Z"
   },
   {
    "duration": 4,
    "start_time": "2025-08-27T11:25:14.456Z"
   },
   {
    "duration": 89,
    "start_time": "2025-08-27T11:25:14.461Z"
   },
   {
    "duration": 3,
    "start_time": "2025-08-27T11:25:14.552Z"
   },
   {
    "duration": 51,
    "start_time": "2025-08-27T13:52:29.405Z"
   },
   {
    "duration": 1420,
    "start_time": "2025-08-27T13:52:32.869Z"
   },
   {
    "duration": 933,
    "start_time": "2025-08-27T13:53:14.884Z"
   },
   {
    "duration": 3,
    "start_time": "2025-08-27T13:53:18.703Z"
   },
   {
    "duration": 20,
    "start_time": "2025-08-27T13:53:20.471Z"
   },
   {
    "duration": 69,
    "start_time": "2025-08-27T13:53:34.771Z"
   },
   {
    "duration": 25,
    "start_time": "2025-08-27T13:53:43.090Z"
   },
   {
    "duration": 11,
    "start_time": "2025-08-27T13:53:43.949Z"
   },
   {
    "duration": 69,
    "start_time": "2025-08-27T14:16:29.689Z"
   },
   {
    "duration": 4,
    "start_time": "2025-08-27T14:16:36.365Z"
   },
   {
    "duration": 5,
    "start_time": "2025-08-27T14:17:10.192Z"
   },
   {
    "duration": 4,
    "start_time": "2025-08-27T14:19:24.016Z"
   },
   {
    "duration": 82,
    "start_time": "2025-08-27T14:19:44.255Z"
   },
   {
    "duration": 1366,
    "start_time": "2025-08-27T14:20:28.513Z"
   },
   {
    "duration": 992,
    "start_time": "2025-08-27T14:20:29.881Z"
   },
   {
    "duration": 3,
    "start_time": "2025-08-27T14:20:30.875Z"
   },
   {
    "duration": 54,
    "start_time": "2025-08-27T14:20:30.887Z"
   },
   {
    "duration": 48,
    "start_time": "2025-08-27T14:20:30.943Z"
   },
   {
    "duration": 28,
    "start_time": "2025-08-27T14:20:30.993Z"
   },
   {
    "duration": 11,
    "start_time": "2025-08-27T14:20:31.022Z"
   },
   {
    "duration": 7,
    "start_time": "2025-08-27T14:20:31.035Z"
   },
   {
    "duration": 4459,
    "start_time": "2025-08-27T14:20:31.044Z"
   },
   {
    "duration": 8,
    "start_time": "2025-08-27T14:20:35.504Z"
   },
   {
    "duration": 24,
    "start_time": "2025-08-27T14:20:35.514Z"
   },
   {
    "duration": 80,
    "start_time": "2025-08-27T14:20:35.540Z"
   },
   {
    "duration": 3,
    "start_time": "2025-08-27T14:20:35.622Z"
   },
   {
    "duration": 41,
    "start_time": "2025-08-27T14:20:35.628Z"
   },
   {
    "duration": 63,
    "start_time": "2025-08-27T14:20:35.670Z"
   },
   {
    "duration": 26,
    "start_time": "2025-08-27T14:20:35.735Z"
   },
   {
    "duration": 48,
    "start_time": "2025-08-27T14:20:35.763Z"
   },
   {
    "duration": 625129,
    "start_time": "2025-08-27T14:20:35.813Z"
   },
   {
    "duration": 2,
    "start_time": "2025-08-27T14:31:00.944Z"
   },
   {
    "duration": 27,
    "start_time": "2025-08-27T14:31:00.947Z"
   },
   {
    "duration": 45,
    "start_time": "2025-08-27T14:31:00.977Z"
   },
   {
    "duration": 2702,
    "start_time": "2025-08-27T14:33:07.594Z"
   },
   {
    "duration": 3,
    "start_time": "2025-08-27T14:33:32.931Z"
   },
   {
    "duration": 1409,
    "start_time": "2025-08-27T14:34:19.956Z"
   },
   {
    "duration": 930,
    "start_time": "2025-08-27T14:34:21.367Z"
   },
   {
    "duration": 3,
    "start_time": "2025-08-27T14:34:22.299Z"
   },
   {
    "duration": 19,
    "start_time": "2025-08-27T14:34:22.303Z"
   },
   {
    "duration": 63,
    "start_time": "2025-08-27T14:34:22.324Z"
   },
   {
    "duration": 18,
    "start_time": "2025-08-27T14:34:22.388Z"
   },
   {
    "duration": 10,
    "start_time": "2025-08-27T14:34:22.408Z"
   },
   {
    "duration": 4,
    "start_time": "2025-08-27T14:34:22.420Z"
   },
   {
    "duration": 4321,
    "start_time": "2025-08-27T14:34:22.426Z"
   },
   {
    "duration": 7,
    "start_time": "2025-08-27T14:34:26.749Z"
   },
   {
    "duration": 4,
    "start_time": "2025-08-27T14:34:26.757Z"
   },
   {
    "duration": 85,
    "start_time": "2025-08-27T14:34:26.762Z"
   },
   {
    "duration": 2,
    "start_time": "2025-08-27T14:34:26.848Z"
   },
   {
    "duration": 3,
    "start_time": "2025-08-27T14:34:26.853Z"
   },
   {
    "duration": 3,
    "start_time": "2025-08-27T14:34:26.857Z"
   },
   {
    "duration": 4,
    "start_time": "2025-08-27T14:34:26.862Z"
   },
   {
    "duration": 3,
    "start_time": "2025-08-27T14:34:26.887Z"
   },
   {
    "duration": 695152,
    "start_time": "2025-08-27T14:34:26.891Z"
   },
   {
    "duration": 8,
    "start_time": "2025-08-27T14:46:02.044Z"
   },
   {
    "duration": 2845,
    "start_time": "2025-08-27T14:46:02.054Z"
   },
   {
    "duration": 3,
    "start_time": "2025-08-27T14:46:04.900Z"
   },
   {
    "duration": 24,
    "start_time": "2025-08-27T14:46:04.904Z"
   }
  ],
  "kernelspec": {
   "display_name": "Python 3 (ipykernel)",
   "language": "python",
   "name": "python3"
  },
  "language_info": {
   "codemirror_mode": {
    "name": "ipython",
    "version": 3
   },
   "file_extension": ".py",
   "mimetype": "text/x-python",
   "name": "python",
   "nbconvert_exporter": "python",
   "pygments_lexer": "ipython3",
   "version": "3.9.5"
  },
  "toc": {
   "base_numbering": 1,
   "nav_menu": {},
   "number_sections": true,
   "sideBar": true,
   "skip_h1_title": true,
   "title_cell": "Содержание",
   "title_sidebar": "Contents",
   "toc_cell": true,
   "toc_position": {
    "height": "calc(100% - 180px)",
    "left": "10px",
    "top": "150px",
    "width": "165px"
   },
   "toc_section_display": true,
   "toc_window_display": true
  }
 },
 "nbformat": 4,
 "nbformat_minor": 2
}
