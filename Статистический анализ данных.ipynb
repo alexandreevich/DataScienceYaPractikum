{
 "cells": [
  {
   "cell_type": "markdown",
   "id": "039b5a7e",
   "metadata": {},
   "source": [
    "# Анализ сервиса аренды самокатов GoFast\n",
    "Вы аналитик популярного сервиса аренды самокатов GoFast. Вам передали данные о некоторых пользователях из нескольких городов, а также об их поездках. Проанализируйте данные и проверьте некоторые гипотезы, которые могут помочь бизнесу вырасти.\n",
    "\n",
    "Чтобы совершать поездки по городу, пользователи сервиса GoFast пользуются мобильным приложением. Сервисом можно пользоваться:\n",
    "\n",
    "- без подписки\n",
    " - абонентская плата отсутствует;\n",
    " - стоимость одной минуты поездки — 8 рублей;\n",
    " - стоимость старта (начала поездки) — 50 рублей;\n",
    "- с подпиской Ultra\n",
    "  - абонентская плата — 199 рублей в месяц;\n",
    "  - стоимость одной минуты поездки — 6 рублей;\n",
    "  - стоимость старта — бесплатно.\n",
    "\n",
    "# Описание данных\n",
    "\n",
    "**Пользователи — users_go.csv**\n",
    "\n",
    "- user_id — уникальный идентификатор пользователя\n",
    "- name — имя пользователя\n",
    "- age — возраст\n",
    "- city — город\n",
    "- subscription_type — тип подписки (free, ultra)\n",
    "\n",
    "**Поeздки — rides_go.csv**\n",
    "\n",
    "- user_id — уникальный идентификатор пользователя\n",
    "- distance — расстояние, которое пользователь проехал в текущей сессии (в метрах)\n",
    "- duration — продолжительность сессии (в минутах) — время с того момента, как пользователь нажал кнопку «Начать поездку» до момента, как он нажал кнопку «Завершить поездку»\n",
    "- date — дата совершения поездки\n",
    "\n",
    "**Подписки — subscriptions_go.csv**\n",
    "\n",
    "- subscription_type — тип подписки\n",
    "- minute_price — стоимость одной минуты поездки по данной подписке\n",
    "- start_ride_price — стоимость начала поездки\n",
    "- subscription_fee — стоимость ежемесячного платежа\n",
    "\n",
    "# План работы\n",
    "- Выполнить предобработку данных: проверить отстутсвие пропусков / дубликатов. Привести к удобному для исследования формату. \n",
    "- Исследовать данные, визуализировать, ознакомиться.\n",
    "- Объеденить датафреймы. \n",
    "- Подсчитать выручку.\n",
    "- Обработать гипотезы от продакт-менеджеров.\n",
    "- Сделать вывод на основе данного исследования."
   ]
  },
  {
   "cell_type": "code",
   "execution_count": 1,
   "id": "72576667",
   "metadata": {},
   "outputs": [],
   "source": [
    "import pandas as pd\n",
    "import matplotlib.pyplot as plt\n",
    "import seaborn as sns\n",
    "import plotly.express as px\n",
    "import numpy as np\n",
    "from scipy import stats as st"
   ]
  },
  {
   "cell_type": "markdown",
   "id": "c42cbe00",
   "metadata": {},
   "source": [
    "#### Шаг 1. Загрузка данных"
   ]
  },
  {
   "cell_type": "code",
   "execution_count": 2,
   "id": "eff9f206",
   "metadata": {},
   "outputs": [],
   "source": [
    "data_users = pd.read_csv('/datasets/users_go.csv')"
   ]
  },
  {
   "cell_type": "code",
   "execution_count": 3,
   "id": "ff378428",
   "metadata": {},
   "outputs": [
    {
     "data": {
      "text/html": [
       "<div>\n",
       "<style scoped>\n",
       "    .dataframe tbody tr th:only-of-type {\n",
       "        vertical-align: middle;\n",
       "    }\n",
       "\n",
       "    .dataframe tbody tr th {\n",
       "        vertical-align: top;\n",
       "    }\n",
       "\n",
       "    .dataframe thead th {\n",
       "        text-align: right;\n",
       "    }\n",
       "</style>\n",
       "<table border=\"1\" class=\"dataframe\">\n",
       "  <thead>\n",
       "    <tr style=\"text-align: right;\">\n",
       "      <th></th>\n",
       "      <th>user_id</th>\n",
       "      <th>name</th>\n",
       "      <th>age</th>\n",
       "      <th>city</th>\n",
       "      <th>subscription_type</th>\n",
       "    </tr>\n",
       "  </thead>\n",
       "  <tbody>\n",
       "    <tr>\n",
       "      <th>0</th>\n",
       "      <td>1</td>\n",
       "      <td>Кира</td>\n",
       "      <td>22</td>\n",
       "      <td>Тюмень</td>\n",
       "      <td>ultra</td>\n",
       "    </tr>\n",
       "    <tr>\n",
       "      <th>1</th>\n",
       "      <td>2</td>\n",
       "      <td>Станислав</td>\n",
       "      <td>31</td>\n",
       "      <td>Омск</td>\n",
       "      <td>ultra</td>\n",
       "    </tr>\n",
       "    <tr>\n",
       "      <th>2</th>\n",
       "      <td>3</td>\n",
       "      <td>Алексей</td>\n",
       "      <td>20</td>\n",
       "      <td>Москва</td>\n",
       "      <td>ultra</td>\n",
       "    </tr>\n",
       "    <tr>\n",
       "      <th>3</th>\n",
       "      <td>4</td>\n",
       "      <td>Константин</td>\n",
       "      <td>26</td>\n",
       "      <td>Ростов-на-Дону</td>\n",
       "      <td>ultra</td>\n",
       "    </tr>\n",
       "    <tr>\n",
       "      <th>4</th>\n",
       "      <td>5</td>\n",
       "      <td>Адель</td>\n",
       "      <td>28</td>\n",
       "      <td>Омск</td>\n",
       "      <td>ultra</td>\n",
       "    </tr>\n",
       "    <tr>\n",
       "      <th>5</th>\n",
       "      <td>6</td>\n",
       "      <td>Регина</td>\n",
       "      <td>25</td>\n",
       "      <td>Краснодар</td>\n",
       "      <td>ultra</td>\n",
       "    </tr>\n",
       "    <tr>\n",
       "      <th>6</th>\n",
       "      <td>7</td>\n",
       "      <td>Игорь</td>\n",
       "      <td>23</td>\n",
       "      <td>Омск</td>\n",
       "      <td>ultra</td>\n",
       "    </tr>\n",
       "    <tr>\n",
       "      <th>7</th>\n",
       "      <td>8</td>\n",
       "      <td>Юрий</td>\n",
       "      <td>23</td>\n",
       "      <td>Краснодар</td>\n",
       "      <td>ultra</td>\n",
       "    </tr>\n",
       "    <tr>\n",
       "      <th>8</th>\n",
       "      <td>9</td>\n",
       "      <td>Ян</td>\n",
       "      <td>21</td>\n",
       "      <td>Пятигорск</td>\n",
       "      <td>ultra</td>\n",
       "    </tr>\n",
       "    <tr>\n",
       "      <th>9</th>\n",
       "      <td>10</td>\n",
       "      <td>Валерий</td>\n",
       "      <td>18</td>\n",
       "      <td>Екатеринбург</td>\n",
       "      <td>ultra</td>\n",
       "    </tr>\n",
       "  </tbody>\n",
       "</table>\n",
       "</div>"
      ],
      "text/plain": [
       "   user_id        name  age            city subscription_type\n",
       "0        1        Кира   22          Тюмень             ultra\n",
       "1        2   Станислав   31            Омск             ultra\n",
       "2        3     Алексей   20          Москва             ultra\n",
       "3        4  Константин   26  Ростов-на-Дону             ultra\n",
       "4        5       Адель   28            Омск             ultra\n",
       "5        6      Регина   25       Краснодар             ultra\n",
       "6        7       Игорь   23            Омск             ultra\n",
       "7        8        Юрий   23       Краснодар             ultra\n",
       "8        9          Ян   21       Пятигорск             ultra\n",
       "9       10     Валерий   18    Екатеринбург             ultra"
      ]
     },
     "execution_count": 3,
     "metadata": {},
     "output_type": "execute_result"
    }
   ],
   "source": [
    "data_users.head(10)"
   ]
  },
  {
   "cell_type": "code",
   "execution_count": 4,
   "id": "6a8f1feb",
   "metadata": {},
   "outputs": [
    {
     "name": "stdout",
     "output_type": "stream",
     "text": [
      "<class 'pandas.core.frame.DataFrame'>\n",
      "RangeIndex: 1565 entries, 0 to 1564\n",
      "Data columns (total 5 columns):\n",
      " #   Column             Non-Null Count  Dtype \n",
      "---  ------             --------------  ----- \n",
      " 0   user_id            1565 non-null   int64 \n",
      " 1   name               1565 non-null   object\n",
      " 2   age                1565 non-null   int64 \n",
      " 3   city               1565 non-null   object\n",
      " 4   subscription_type  1565 non-null   object\n",
      "dtypes: int64(2), object(3)\n",
      "memory usage: 61.3+ KB\n"
     ]
    }
   ],
   "source": [
    "data_users.info()"
   ]
  },
  {
   "cell_type": "code",
   "execution_count": 5,
   "id": "776363f8",
   "metadata": {},
   "outputs": [
    {
     "data": {
      "image/png": "[encoded data removed]",
      "text/plain": [
       "<Figure size 1080x1440 with 2 Axes>"
      ]
     },
     "metadata": {
      "needs_background": "light"
     },
     "output_type": "display_data"
    }
   ],
   "source": [
    "data_users.hist(\n",
    "    figsize=(15, 20),\n",
    "    color='skyblue',  \n",
    "    edgecolor='black'\n",
    ")\n",
    "plt.show()"
   ]
  },
  {
   "cell_type": "code",
   "execution_count": 6,
   "id": "38651592",
   "metadata": {},
   "outputs": [
    {
     "data": {
      "text/plain": [
       "user_id              0\n",
       "name                 0\n",
       "age                  0\n",
       "city                 0\n",
       "subscription_type    0\n",
       "dtype: int64"
      ]
     },
     "execution_count": 6,
     "metadata": {},
     "output_type": "execute_result"
    }
   ],
   "source": [
    "data_users.isna().sum()"
   ]
  },
  {
   "cell_type": "code",
   "execution_count": 7,
   "id": "2ad91247",
   "metadata": {},
   "outputs": [
    {
     "data": {
      "text/plain": [
       "31"
      ]
     },
     "execution_count": 7,
     "metadata": {},
     "output_type": "execute_result"
    }
   ],
   "source": [
    "data_users.duplicated().sum()"
   ]
  },
  {
   "cell_type": "code",
   "execution_count": 8,
   "id": "0c68f2af",
   "metadata": {},
   "outputs": [],
   "source": [
    "# удалим их сразу:\n",
    "data_users.drop_duplicates(inplace=True)\n"
   ]
  },
  {
   "cell_type": "markdown",
   "id": "772a113b",
   "metadata": {},
   "source": [
    "##### Вывод по первому датасету: \n",
    "Пять колонок(Series). Пропусков нет, явных дубликатов несколько, подозреваю что из-за имен. \n",
    "колонка с возрастом - так же видим нормальное распределение."
   ]
  },
  {
   "cell_type": "code",
   "execution_count": 9,
   "id": "20ca8887",
   "metadata": {},
   "outputs": [],
   "source": [
    "data_riders = pd.read_csv('/datasets/rides_go.csv')"
   ]
  },
  {
   "cell_type": "code",
   "execution_count": 10,
   "id": "71cb4c85",
   "metadata": {},
   "outputs": [
    {
     "data": {
      "text/html": [
       "<div>\n",
       "<style scoped>\n",
       "    .dataframe tbody tr th:only-of-type {\n",
       "        vertical-align: middle;\n",
       "    }\n",
       "\n",
       "    .dataframe tbody tr th {\n",
       "        vertical-align: top;\n",
       "    }\n",
       "\n",
       "    .dataframe thead th {\n",
       "        text-align: right;\n",
       "    }\n",
       "</style>\n",
       "<table border=\"1\" class=\"dataframe\">\n",
       "  <thead>\n",
       "    <tr style=\"text-align: right;\">\n",
       "      <th></th>\n",
       "      <th>user_id</th>\n",
       "      <th>distance</th>\n",
       "      <th>duration</th>\n",
       "      <th>date</th>\n",
       "    </tr>\n",
       "  </thead>\n",
       "  <tbody>\n",
       "    <tr>\n",
       "      <th>0</th>\n",
       "      <td>1</td>\n",
       "      <td>4409.919140</td>\n",
       "      <td>25.599769</td>\n",
       "      <td>2021-01-01</td>\n",
       "    </tr>\n",
       "    <tr>\n",
       "      <th>1</th>\n",
       "      <td>1</td>\n",
       "      <td>2617.592153</td>\n",
       "      <td>15.816871</td>\n",
       "      <td>2021-01-18</td>\n",
       "    </tr>\n",
       "    <tr>\n",
       "      <th>2</th>\n",
       "      <td>1</td>\n",
       "      <td>754.159807</td>\n",
       "      <td>6.232113</td>\n",
       "      <td>2021-04-20</td>\n",
       "    </tr>\n",
       "    <tr>\n",
       "      <th>3</th>\n",
       "      <td>1</td>\n",
       "      <td>2694.783254</td>\n",
       "      <td>18.511000</td>\n",
       "      <td>2021-08-11</td>\n",
       "    </tr>\n",
       "    <tr>\n",
       "      <th>4</th>\n",
       "      <td>1</td>\n",
       "      <td>4028.687306</td>\n",
       "      <td>26.265803</td>\n",
       "      <td>2021-08-28</td>\n",
       "    </tr>\n",
       "  </tbody>\n",
       "</table>\n",
       "</div>"
      ],
      "text/plain": [
       "   user_id     distance   duration        date\n",
       "0        1  4409.919140  25.599769  2021-01-01\n",
       "1        1  2617.592153  15.816871  2021-01-18\n",
       "2        1   754.159807   6.232113  2021-04-20\n",
       "3        1  2694.783254  18.511000  2021-08-11\n",
       "4        1  4028.687306  26.265803  2021-08-28"
      ]
     },
     "execution_count": 10,
     "metadata": {},
     "output_type": "execute_result"
    }
   ],
   "source": [
    "data_riders.head()"
   ]
  },
  {
   "cell_type": "code",
   "execution_count": 11,
   "id": "184523b4",
   "metadata": {},
   "outputs": [
    {
     "name": "stdout",
     "output_type": "stream",
     "text": [
      "<class 'pandas.core.frame.DataFrame'>\n",
      "RangeIndex: 18068 entries, 0 to 18067\n",
      "Data columns (total 4 columns):\n",
      " #   Column    Non-Null Count  Dtype  \n",
      "---  ------    --------------  -----  \n",
      " 0   user_id   18068 non-null  int64  \n",
      " 1   distance  18068 non-null  float64\n",
      " 2   duration  18068 non-null  float64\n",
      " 3   date      18068 non-null  object \n",
      "dtypes: float64(2), int64(1), object(1)\n",
      "memory usage: 564.8+ KB\n"
     ]
    }
   ],
   "source": [
    "data_riders.info()"
   ]
  },
  {
   "cell_type": "code",
   "execution_count": 12,
   "id": "f84756ee",
   "metadata": {},
   "outputs": [
    {
     "data": {
      "image/png": "[encoded data removed]",
      "text/plain": [
       "<Figure size 1080x1440 with 4 Axes>"
      ]
     },
     "metadata": {
      "needs_background": "light"
     },
     "output_type": "display_data"
    }
   ],
   "source": [
    "data_riders.hist(\n",
    "    figsize=(15, 20),\n",
    "    color='skyblue',  \n",
    "    edgecolor='black'\n",
    ")\n",
    "plt.show()"
   ]
  },
  {
   "cell_type": "code",
   "execution_count": 13,
   "id": "c8c52207",
   "metadata": {},
   "outputs": [
    {
     "data": {
      "text/plain": [
       "user_id     0\n",
       "distance    0\n",
       "duration    0\n",
       "date        0\n",
       "dtype: int64"
      ]
     },
     "execution_count": 13,
     "metadata": {},
     "output_type": "execute_result"
    }
   ],
   "source": [
    "data_riders.isna().sum()"
   ]
  },
  {
   "cell_type": "code",
   "execution_count": 14,
   "id": "2336b5f3",
   "metadata": {
    "scrolled": true
   },
   "outputs": [
    {
     "data": {
      "text/plain": [
       "0"
      ]
     },
     "execution_count": 14,
     "metadata": {},
     "output_type": "execute_result"
    }
   ],
   "source": [
    "data_riders.duplicated().sum()"
   ]
  },
  {
   "cell_type": "markdown",
   "id": "b7406149",
   "metadata": {},
   "source": [
    "##### Вывод по второму датасету: \n",
    "Три коллонки(Series). Пока не понял почему такое распределение на ID, но в продолжительности и в дистанции четко видно нормальное распределение. Пропусков нет, явных дубликатов тоже. "
   ]
  },
  {
   "cell_type": "code",
   "execution_count": 15,
   "id": "0889a17e",
   "metadata": {},
   "outputs": [],
   "source": [
    "data_sub = pd.read_csv('/datasets/subscriptions_go.csv')"
   ]
  },
  {
   "cell_type": "code",
   "execution_count": 16,
   "id": "59a972fa",
   "metadata": {},
   "outputs": [
    {
     "data": {
      "text/html": [
       "<div>\n",
       "<style scoped>\n",
       "    .dataframe tbody tr th:only-of-type {\n",
       "        vertical-align: middle;\n",
       "    }\n",
       "\n",
       "    .dataframe tbody tr th {\n",
       "        vertical-align: top;\n",
       "    }\n",
       "\n",
       "    .dataframe thead th {\n",
       "        text-align: right;\n",
       "    }\n",
       "</style>\n",
       "<table border=\"1\" class=\"dataframe\">\n",
       "  <thead>\n",
       "    <tr style=\"text-align: right;\">\n",
       "      <th></th>\n",
       "      <th>subscription_type</th>\n",
       "      <th>minute_price</th>\n",
       "      <th>start_ride_price</th>\n",
       "      <th>subscription_fee</th>\n",
       "    </tr>\n",
       "  </thead>\n",
       "  <tbody>\n",
       "    <tr>\n",
       "      <th>0</th>\n",
       "      <td>free</td>\n",
       "      <td>8</td>\n",
       "      <td>50</td>\n",
       "      <td>0</td>\n",
       "    </tr>\n",
       "    <tr>\n",
       "      <th>1</th>\n",
       "      <td>ultra</td>\n",
       "      <td>6</td>\n",
       "      <td>0</td>\n",
       "      <td>199</td>\n",
       "    </tr>\n",
       "  </tbody>\n",
       "</table>\n",
       "</div>"
      ],
      "text/plain": [
       "  subscription_type  minute_price  start_ride_price  subscription_fee\n",
       "0              free             8                50                 0\n",
       "1             ultra             6                 0               199"
      ]
     },
     "execution_count": 16,
     "metadata": {},
     "output_type": "execute_result"
    }
   ],
   "source": [
    "data_sub.head(10)"
   ]
  },
  {
   "cell_type": "code",
   "execution_count": 17,
   "id": "58359d7e",
   "metadata": {
    "scrolled": true
   },
   "outputs": [
    {
     "name": "stdout",
     "output_type": "stream",
     "text": [
      "<class 'pandas.core.frame.DataFrame'>\n",
      "RangeIndex: 2 entries, 0 to 1\n",
      "Data columns (total 4 columns):\n",
      " #   Column             Non-Null Count  Dtype \n",
      "---  ------             --------------  ----- \n",
      " 0   subscription_type  2 non-null      object\n",
      " 1   minute_price       2 non-null      int64 \n",
      " 2   start_ride_price   2 non-null      int64 \n",
      " 3   subscription_fee   2 non-null      int64 \n",
      "dtypes: int64(3), object(1)\n",
      "memory usage: 192.0+ bytes\n"
     ]
    }
   ],
   "source": [
    " data_sub.info()"
   ]
  },
  {
   "cell_type": "code",
   "execution_count": 18,
   "id": "cee06f2a",
   "metadata": {},
   "outputs": [
    {
     "data": {
      "image/png": "[encoded data removed]",
      "text/plain": [
       "<Figure size 1080x1440 with 4 Axes>"
      ]
     },
     "metadata": {
      "needs_background": "light"
     },
     "output_type": "display_data"
    }
   ],
   "source": [
    "data_sub.hist(\n",
    "    figsize=(15, 20),\n",
    "    color='skyblue',  \n",
    "    edgecolor='black'\n",
    "    \n",
    ")\n",
    "plt.show()"
   ]
  },
  {
   "cell_type": "code",
   "execution_count": 19,
   "id": "756b174b",
   "metadata": {},
   "outputs": [
    {
     "data": {
      "text/plain": [
       "subscription_type    0\n",
       "minute_price         0\n",
       "start_ride_price     0\n",
       "subscription_fee     0\n",
       "dtype: int64"
      ]
     },
     "execution_count": 19,
     "metadata": {},
     "output_type": "execute_result"
    }
   ],
   "source": [
    "data_sub.isna().sum()"
   ]
  },
  {
   "cell_type": "code",
   "execution_count": 20,
   "id": "814a8322",
   "metadata": {},
   "outputs": [
    {
     "data": {
      "text/plain": [
       "0"
      ]
     },
     "execution_count": 20,
     "metadata": {},
     "output_type": "execute_result"
    }
   ],
   "source": [
    "data_sub.duplicated().sum()"
   ]
  },
  {
   "cell_type": "markdown",
   "id": "1b6974d6",
   "metadata": {},
   "source": [
    "##### Вывод по последнему датасету: Пропусков нет, дубликтов явных тоже. На графиках видим, по сути, распределение Бернулли. Так как наличие подписки( По сути = True) или ее отсутствие ( =False)  задает два возможных исхода."
   ]
  },
  {
   "cell_type": "markdown",
   "id": "9b278140",
   "metadata": {},
   "source": [
    "##### Общий вывод: Ознакомились с данными, посмотрели что не требуется заполнять пропуски / искать дубликаты. Продолжим изучение. "
   ]
  },
  {
   "cell_type": "markdown",
   "id": "e95ebca7",
   "metadata": {},
   "source": [
    "#### Шаг 2. Предобработка данных"
   ]
  },
  {
   "cell_type": "code",
   "execution_count": 21,
   "id": "9f7c0749",
   "metadata": {},
   "outputs": [],
   "source": [
    "#Исходя из задания, приведем столбец data к корректному значению, а атк же добавим номер месяца. \n",
    "data_riders['date'] = pd.to_datetime(data_riders['date'], format = '%Y-%m-%d')\n"
   ]
  },
  {
   "cell_type": "code",
   "execution_count": 22,
   "id": "43f247d7",
   "metadata": {},
   "outputs": [
    {
     "data": {
      "text/plain": [
       "0   2021-01-01\n",
       "1   2021-01-18\n",
       "2   2021-04-20\n",
       "3   2021-08-11\n",
       "4   2021-08-28\n",
       "5   2021-10-09\n",
       "6   2021-10-19\n",
       "7   2021-11-06\n",
       "8   2021-11-14\n",
       "9   2021-11-22\n",
       "Name: date, dtype: datetime64[ns]"
      ]
     },
     "execution_count": 22,
     "metadata": {},
     "output_type": "execute_result"
    }
   ],
   "source": [
    "data_riders['date'].head(10)\n"
   ]
  },
  {
   "cell_type": "code",
   "execution_count": 23,
   "id": "951ac2be",
   "metadata": {},
   "outputs": [],
   "source": [
    "data_riders['month'] = data_riders['date'].dt.month"
   ]
  },
  {
   "cell_type": "code",
   "execution_count": 24,
   "id": "ddcc3390",
   "metadata": {},
   "outputs": [
    {
     "data": {
      "text/plain": [
       "array([2021])"
      ]
     },
     "execution_count": 24,
     "metadata": {},
     "output_type": "execute_result"
    }
   ],
   "source": [
    "year = data_riders['date'].dt.year.unique()\n",
    "year"
   ]
  },
  {
   "cell_type": "code",
   "execution_count": null,
   "id": "7ff5f2e9",
   "metadata": {},
   "outputs": [],
   "source": []
  },
  {
   "cell_type": "code",
   "execution_count": 25,
   "id": "f4cc1688",
   "metadata": {},
   "outputs": [
    {
     "data": {
      "text/plain": [
       "0     1\n",
       "1     1\n",
       "2     4\n",
       "3     8\n",
       "4     8\n",
       "5    10\n",
       "6    10\n",
       "7    11\n",
       "8    11\n",
       "9    11\n",
       "Name: month, dtype: int64"
      ]
     },
     "execution_count": 25,
     "metadata": {},
     "output_type": "execute_result"
    }
   ],
   "source": [
    "data_riders['month'].head(10)\n"
   ]
  },
  {
   "cell_type": "markdown",
   "id": "0e6554fa",
   "metadata": {},
   "source": [
    "##### Вывод: Дубликаты удалили ранее. Пропусков нет - убедились ранее, столбец добавили, столбец с датой привели к необходимому формату."
   ]
  },
  {
   "cell_type": "markdown",
   "id": "212593c7",
   "metadata": {},
   "source": [
    "#### Шаг 3. Исследовательский анализ данных"
   ]
  },
  {
   "cell_type": "markdown",
   "id": "662c3afc",
   "metadata": {},
   "source": [
    "##### Частота встречаемости городов\n"
   ]
  },
  {
   "cell_type": "code",
   "execution_count": 26,
   "id": "495c14a4",
   "metadata": {},
   "outputs": [
    {
     "data": {
      "text/plain": [
       "Пятигорск         219\n",
       "Екатеринбург      204\n",
       "Ростов-на-Дону    198\n",
       "Краснодар         193\n",
       "Сочи              189\n",
       "Омск              183\n",
       "Тюмень            180\n",
       "Москва            168\n",
       "Name: city, dtype: int64"
      ]
     },
     "execution_count": 26,
     "metadata": {},
     "output_type": "execute_result"
    }
   ],
   "source": [
    "count_users_by_city = data_users['city'].value_counts()\n",
    "count_users_by_city\n"
   ]
  },
  {
   "cell_type": "code",
   "execution_count": 27,
   "id": "9b5ef9de",
   "metadata": {},
   "outputs": [
    {
     "data": {
      "text/plain": [
       "Пятигорск         14.0\n",
       "Екатеринбург      13.0\n",
       "Ростов-на-Дону    13.0\n",
       "Краснодар         13.0\n",
       "Сочи              12.0\n",
       "Омск              12.0\n",
       "Тюмень            12.0\n",
       "Москва            11.0\n",
       "Name: city, dtype: float64"
      ]
     },
     "execution_count": 27,
     "metadata": {},
     "output_type": "execute_result"
    }
   ],
   "source": [
    "# Посчитаем процентное соотношение\n",
    "count_users_by_city['rate'] = round(data_users['city'].value_counts() / count_users_by_city.sum(), 2) * 100\n",
    "count_users_by_city['rate']"
   ]
  },
  {
   "cell_type": "code",
   "execution_count": 28,
   "id": "ac03e9ac",
   "metadata": {},
   "outputs": [
    {
     "data": {
      "image/png": "[encoded data removed]",
      "text/plain": [
       "<Figure size 864x576 with 1 Axes>"
      ]
     },
     "metadata": {
      "needs_background": "light"
     },
     "output_type": "display_data"
    }
   ],
   "source": [
    "data_users['city'].value_counts().plot(\n",
    "    kind='barh',  \n",
    "    figsize=(12, 8), \n",
    "    color='skyblue',  \n",
    "    edgecolor='black',\n",
    "    title='Распределение пользователей по городам'  \n",
    ")\n",
    "plt.xlabel('Количество пользователей')  \n",
    "plt.ylabel('Города')  \n",
    "plt.grid(axis='x', linestyle='--', alpha=0.7)  \n",
    "plt.show()"
   ]
  },
  {
   "cell_type": "markdown",
   "id": "b9e50bad",
   "metadata": {},
   "source": [
    "###### Вывод:  Больше всего пользователей в Пятигорске, меньше всего в Москве.\n",
    "\n"
   ]
  },
  {
   "cell_type": "markdown",
   "id": "ad9d7b95",
   "metadata": {},
   "source": [
    "##### Соотношение пользователей с подпиской и без подписки\n",
    "\n"
   ]
  },
  {
   "cell_type": "code",
   "execution_count": 29,
   "id": "63334bcf",
   "metadata": {},
   "outputs": [
    {
     "data": {
      "text/plain": [
       "free     835\n",
       "ultra    699\n",
       "Name: subscription_type, dtype: int64"
      ]
     },
     "execution_count": 29,
     "metadata": {},
     "output_type": "execute_result"
    }
   ],
   "source": [
    "data_users['subscription_type'].value_counts()\n"
   ]
  },
  {
   "cell_type": "code",
   "execution_count": 30,
   "id": "28bd6b0f",
   "metadata": {},
   "outputs": [],
   "source": [
    "count_sub_percent = data_users['subscription_type'].value_counts(normalize=True) * 100  \n"
   ]
  },
  {
   "cell_type": "code",
   "execution_count": 31,
   "id": "438a21c9",
   "metadata": {
    "scrolled": true
   },
   "outputs": [
    {
     "data": {
      "image/png": "[encoded data removed]",
      "text/plain": [
       "<Figure size 432x432 with 1 Axes>"
      ]
     },
     "metadata": {},
     "output_type": "display_data"
    }
   ],
   "source": [
    "ax = count_sub_percent.plot(\n",
    "    kind='pie',  \n",
    "    figsize=(6, 6),  \n",
    "    autopct='%1.0f%%', \n",
    "    colors=['skyblue', 'lightcoral'], \n",
    "    title='Процентное соотношение пользователей в зависимости от тарифа',\n",
    "    legend=False \n",
    ")\n",
    "plt.ylabel('')  \n",
    "plt.show()\n"
   ]
  },
  {
   "cell_type": "markdown",
   "id": "56a8a6ae",
   "metadata": {},
   "source": [
    "###### Вывод: пользователей с бесплатной подпиской чуть больше. Распределение, как я раньше отмечал, по сути является распределением Бернулли. \n"
   ]
  },
  {
   "cell_type": "markdown",
   "id": "8e7de0dc",
   "metadata": {},
   "source": [
    "##### Возраст пользователей\n"
   ]
  },
  {
   "cell_type": "code",
   "execution_count": 32,
   "id": "77cb29ae",
   "metadata": {},
   "outputs": [
    {
     "data": {
      "image/png": "[encoded data removed]",
      "text/plain": [
       "<Figure size 864x432 with 1 Axes>"
      ]
     },
     "metadata": {
      "needs_background": "light"
     },
     "output_type": "display_data"
    }
   ],
   "source": [
    "data_users['age'].plot(\n",
    "    kind = 'hist',\n",
    "    figsize=(12, 6),  \n",
    "    color='skyblue',  \n",
    "    edgecolor='black',  \n",
    "    grid=True,\n",
    "    bins = 30\n",
    ")\n",
    "plt.title('Возраст пользователей')\n",
    "plt.xlabel('Возраст')\n",
    "plt.ylabel('Количество пользователей')\n",
    "plt.show()\n",
    "\n"
   ]
  },
  {
   "cell_type": "code",
   "execution_count": 33,
   "id": "8d2d229f",
   "metadata": {},
   "outputs": [
    {
     "data": {
      "text/plain": [
       "count    1534.000000\n",
       "mean       24.903520\n",
       "std         4.572367\n",
       "min        12.000000\n",
       "25%        22.000000\n",
       "50%        25.000000\n",
       "75%        28.000000\n",
       "max        43.000000\n",
       "Name: age, dtype: float64"
      ]
     },
     "execution_count": 33,
     "metadata": {},
     "output_type": "execute_result"
    }
   ],
   "source": [
    "\n",
    "data_users['age'].describe() \n",
    "\n"
   ]
  },
  {
   "cell_type": "markdown",
   "id": "d1ccf9f9",
   "metadata": {},
   "source": [
    "###### Вывод: возраст пользователей имеет нормальное распределение. Самоому младшему пользователю 12 лет, старшему - 43. Больше всего пользователей в возрасте 25 лет. Межкварительный размах - от 22 лет до 28. "
   ]
  },
  {
   "cell_type": "markdown",
   "id": "352ae1c6",
   "metadata": {},
   "source": [
    "##### Расстояние, которое пользователь преодолел за одну поездку\n"
   ]
  },
  {
   "cell_type": "code",
   "execution_count": 34,
   "id": "37500cf1",
   "metadata": {},
   "outputs": [
    {
     "data": {
      "image/png": "[encoded data removed]",
      "text/plain": [
       "<Figure size 864x432 with 1 Axes>"
      ]
     },
     "metadata": {
      "needs_background": "light"
     },
     "output_type": "display_data"
    },
    {
     "data": {
      "text/plain": [
       "count    18068.000000\n",
       "mean      3070.659976\n",
       "std       1116.831209\n",
       "min          0.855683\n",
       "25%       2543.226360\n",
       "50%       3133.609994\n",
       "75%       3776.222735\n",
       "max       7211.007745\n",
       "Name: distance, dtype: float64"
      ]
     },
     "execution_count": 34,
     "metadata": {},
     "output_type": "execute_result"
    }
   ],
   "source": [
    "data_riders['distance'].plot(\n",
    "    kind = 'hist',\n",
    "    figsize=(12, 6),  \n",
    "    color='skyblue',  \n",
    "    edgecolor='black',  \n",
    "    grid=True,\n",
    "    bins = 30)\n",
    "plt.title('Расстояние одной поездки')\n",
    "plt.xlabel('Расстояние, м')\n",
    "plt.ylabel('Количество поездок')\n",
    "plt.show()\n",
    "\n",
    "data_riders['distance'].describe()"
   ]
  },
  {
   "cell_type": "markdown",
   "id": "f1a62863",
   "metadata": {},
   "source": [
    "#####  Вывод: Мы видим преимущественно нормальное распределение. Скорее даже два:\n",
    "- с пиком в районе 600м\n",
    "- с пиком в районе 3000м\n",
    "\n",
    "\n",
    "Как видим из описания данных,  межквартильный размах приходится на размах от 2543 до 3776. Возможно в дальнейшем придется отсчечь выбросы для более точного анализа. Так же допускаю, что до у нас есть несколько категорий пользователей: \n",
    "- Те кто используют самокат, для поездок более 2000м. \n",
    "- Те, кто используют самокат для коротких поездок до 1000м. "
   ]
  },
  {
   "cell_type": "markdown",
   "id": "6e470e47",
   "metadata": {},
   "source": [
    "##### Продолжительность поездок\n"
   ]
  },
  {
   "cell_type": "code",
   "execution_count": 35,
   "id": "a55e4325",
   "metadata": {},
   "outputs": [
    {
     "data": {
      "image/png": "[encoded data removed]",
      "text/plain": [
       "<Figure size 864x432 with 1 Axes>"
      ]
     },
     "metadata": {
      "needs_background": "light"
     },
     "output_type": "display_data"
    },
    {
     "data": {
      "text/plain": [
       "count    18068.000000\n",
       "mean        17.805011\n",
       "std          6.091051\n",
       "min          0.500000\n",
       "25%         13.597563\n",
       "50%         17.678395\n",
       "75%         21.724800\n",
       "max         40.823963\n",
       "Name: duration, dtype: float64"
      ]
     },
     "execution_count": 35,
     "metadata": {},
     "output_type": "execute_result"
    }
   ],
   "source": [
    " data_riders['duration'].plot(\n",
    "     kind = 'hist',\n",
    "    figsize=(12, 6),  \n",
    "    color='skyblue',  \n",
    "    edgecolor='black',  \n",
    "    grid=True,\n",
    "    bins = 30\n",
    " )\n",
    "plt.title('Продолжительность одной поездки')\n",
    "plt.xlabel('Время, мин')\n",
    "plt.ylabel('Количество пользователей')\n",
    "plt.show()\n",
    "\n",
    "data_riders['duration'].describe()"
   ]
  },
  {
   "cell_type": "markdown",
   "id": "d2ed4ae6",
   "metadata": {},
   "source": [
    "##### Аналогично, видим нормальное распределение. С небольшим выбросом в начале, предполагаю что это пользователи с неудачным опытом взаимодействия с приложением / самокатом.  Межквартильный размах от 13,6 минут до 21,7."
   ]
  },
  {
   "cell_type": "markdown",
   "id": "e3422faf",
   "metadata": {},
   "source": [
    "##### Общий вывод: с данными можно работать, кричиных выбросов не обнаружено. Далее объеденим их."
   ]
  },
  {
   "cell_type": "markdown",
   "id": "4ef51331",
   "metadata": {},
   "source": [
    "#### Шаг 4. Объединение данных"
   ]
  },
  {
   "cell_type": "code",
   "execution_count": 36,
   "id": "6bf288b5",
   "metadata": {
    "scrolled": true
   },
   "outputs": [
    {
     "data": {
      "text/html": [
       "<div>\n",
       "<style scoped>\n",
       "    .dataframe tbody tr th:only-of-type {\n",
       "        vertical-align: middle;\n",
       "    }\n",
       "\n",
       "    .dataframe tbody tr th {\n",
       "        vertical-align: top;\n",
       "    }\n",
       "\n",
       "    .dataframe thead th {\n",
       "        text-align: right;\n",
       "    }\n",
       "</style>\n",
       "<table border=\"1\" class=\"dataframe\">\n",
       "  <thead>\n",
       "    <tr style=\"text-align: right;\">\n",
       "      <th></th>\n",
       "      <th>user_id</th>\n",
       "      <th>distance</th>\n",
       "      <th>duration</th>\n",
       "      <th>date</th>\n",
       "      <th>month</th>\n",
       "      <th>name</th>\n",
       "      <th>age</th>\n",
       "      <th>city</th>\n",
       "      <th>subscription_type</th>\n",
       "      <th>minute_price</th>\n",
       "      <th>start_ride_price</th>\n",
       "      <th>subscription_fee</th>\n",
       "    </tr>\n",
       "  </thead>\n",
       "  <tbody>\n",
       "    <tr>\n",
       "      <th>0</th>\n",
       "      <td>1</td>\n",
       "      <td>4409.919140</td>\n",
       "      <td>25.599769</td>\n",
       "      <td>2021-01-01</td>\n",
       "      <td>1</td>\n",
       "      <td>Кира</td>\n",
       "      <td>22</td>\n",
       "      <td>Тюмень</td>\n",
       "      <td>ultra</td>\n",
       "      <td>6</td>\n",
       "      <td>0</td>\n",
       "      <td>199</td>\n",
       "    </tr>\n",
       "    <tr>\n",
       "      <th>1</th>\n",
       "      <td>1</td>\n",
       "      <td>2617.592153</td>\n",
       "      <td>15.816871</td>\n",
       "      <td>2021-01-18</td>\n",
       "      <td>1</td>\n",
       "      <td>Кира</td>\n",
       "      <td>22</td>\n",
       "      <td>Тюмень</td>\n",
       "      <td>ultra</td>\n",
       "      <td>6</td>\n",
       "      <td>0</td>\n",
       "      <td>199</td>\n",
       "    </tr>\n",
       "    <tr>\n",
       "      <th>2</th>\n",
       "      <td>1</td>\n",
       "      <td>754.159807</td>\n",
       "      <td>6.232113</td>\n",
       "      <td>2021-04-20</td>\n",
       "      <td>4</td>\n",
       "      <td>Кира</td>\n",
       "      <td>22</td>\n",
       "      <td>Тюмень</td>\n",
       "      <td>ultra</td>\n",
       "      <td>6</td>\n",
       "      <td>0</td>\n",
       "      <td>199</td>\n",
       "    </tr>\n",
       "    <tr>\n",
       "      <th>3</th>\n",
       "      <td>1</td>\n",
       "      <td>2694.783254</td>\n",
       "      <td>18.511000</td>\n",
       "      <td>2021-08-11</td>\n",
       "      <td>8</td>\n",
       "      <td>Кира</td>\n",
       "      <td>22</td>\n",
       "      <td>Тюмень</td>\n",
       "      <td>ultra</td>\n",
       "      <td>6</td>\n",
       "      <td>0</td>\n",
       "      <td>199</td>\n",
       "    </tr>\n",
       "    <tr>\n",
       "      <th>4</th>\n",
       "      <td>1</td>\n",
       "      <td>4028.687306</td>\n",
       "      <td>26.265803</td>\n",
       "      <td>2021-08-28</td>\n",
       "      <td>8</td>\n",
       "      <td>Кира</td>\n",
       "      <td>22</td>\n",
       "      <td>Тюмень</td>\n",
       "      <td>ultra</td>\n",
       "      <td>6</td>\n",
       "      <td>0</td>\n",
       "      <td>199</td>\n",
       "    </tr>\n",
       "    <tr>\n",
       "      <th>...</th>\n",
       "      <td>...</td>\n",
       "      <td>...</td>\n",
       "      <td>...</td>\n",
       "      <td>...</td>\n",
       "      <td>...</td>\n",
       "      <td>...</td>\n",
       "      <td>...</td>\n",
       "      <td>...</td>\n",
       "      <td>...</td>\n",
       "      <td>...</td>\n",
       "      <td>...</td>\n",
       "      <td>...</td>\n",
       "    </tr>\n",
       "    <tr>\n",
       "      <th>18063</th>\n",
       "      <td>1534</td>\n",
       "      <td>3781.098080</td>\n",
       "      <td>19.822962</td>\n",
       "      <td>2021-11-04</td>\n",
       "      <td>11</td>\n",
       "      <td>Альберт</td>\n",
       "      <td>25</td>\n",
       "      <td>Краснодар</td>\n",
       "      <td>free</td>\n",
       "      <td>8</td>\n",
       "      <td>50</td>\n",
       "      <td>0</td>\n",
       "    </tr>\n",
       "    <tr>\n",
       "      <th>18064</th>\n",
       "      <td>1534</td>\n",
       "      <td>2840.423057</td>\n",
       "      <td>21.409799</td>\n",
       "      <td>2021-11-16</td>\n",
       "      <td>11</td>\n",
       "      <td>Альберт</td>\n",
       "      <td>25</td>\n",
       "      <td>Краснодар</td>\n",
       "      <td>free</td>\n",
       "      <td>8</td>\n",
       "      <td>50</td>\n",
       "      <td>0</td>\n",
       "    </tr>\n",
       "    <tr>\n",
       "      <th>18065</th>\n",
       "      <td>1534</td>\n",
       "      <td>3826.185507</td>\n",
       "      <td>18.435051</td>\n",
       "      <td>2021-11-18</td>\n",
       "      <td>11</td>\n",
       "      <td>Альберт</td>\n",
       "      <td>25</td>\n",
       "      <td>Краснодар</td>\n",
       "      <td>free</td>\n",
       "      <td>8</td>\n",
       "      <td>50</td>\n",
       "      <td>0</td>\n",
       "    </tr>\n",
       "    <tr>\n",
       "      <th>18066</th>\n",
       "      <td>1534</td>\n",
       "      <td>2902.308661</td>\n",
       "      <td>16.674362</td>\n",
       "      <td>2021-11-27</td>\n",
       "      <td>11</td>\n",
       "      <td>Альберт</td>\n",
       "      <td>25</td>\n",
       "      <td>Краснодар</td>\n",
       "      <td>free</td>\n",
       "      <td>8</td>\n",
       "      <td>50</td>\n",
       "      <td>0</td>\n",
       "    </tr>\n",
       "    <tr>\n",
       "      <th>18067</th>\n",
       "      <td>1534</td>\n",
       "      <td>2371.711192</td>\n",
       "      <td>15.893917</td>\n",
       "      <td>2021-12-29</td>\n",
       "      <td>12</td>\n",
       "      <td>Альберт</td>\n",
       "      <td>25</td>\n",
       "      <td>Краснодар</td>\n",
       "      <td>free</td>\n",
       "      <td>8</td>\n",
       "      <td>50</td>\n",
       "      <td>0</td>\n",
       "    </tr>\n",
       "  </tbody>\n",
       "</table>\n",
       "<p>18068 rows × 12 columns</p>\n",
       "</div>"
      ],
      "text/plain": [
       "       user_id     distance   duration       date  month     name  age  \\\n",
       "0            1  4409.919140  25.599769 2021-01-01      1     Кира   22   \n",
       "1            1  2617.592153  15.816871 2021-01-18      1     Кира   22   \n",
       "2            1   754.159807   6.232113 2021-04-20      4     Кира   22   \n",
       "3            1  2694.783254  18.511000 2021-08-11      8     Кира   22   \n",
       "4            1  4028.687306  26.265803 2021-08-28      8     Кира   22   \n",
       "...        ...          ...        ...        ...    ...      ...  ...   \n",
       "18063     1534  3781.098080  19.822962 2021-11-04     11  Альберт   25   \n",
       "18064     1534  2840.423057  21.409799 2021-11-16     11  Альберт   25   \n",
       "18065     1534  3826.185507  18.435051 2021-11-18     11  Альберт   25   \n",
       "18066     1534  2902.308661  16.674362 2021-11-27     11  Альберт   25   \n",
       "18067     1534  2371.711192  15.893917 2021-12-29     12  Альберт   25   \n",
       "\n",
       "            city subscription_type  minute_price  start_ride_price  \\\n",
       "0         Тюмень             ultra             6                 0   \n",
       "1         Тюмень             ultra             6                 0   \n",
       "2         Тюмень             ultra             6                 0   \n",
       "3         Тюмень             ultra             6                 0   \n",
       "4         Тюмень             ultra             6                 0   \n",
       "...          ...               ...           ...               ...   \n",
       "18063  Краснодар              free             8                50   \n",
       "18064  Краснодар              free             8                50   \n",
       "18065  Краснодар              free             8                50   \n",
       "18066  Краснодар              free             8                50   \n",
       "18067  Краснодар              free             8                50   \n",
       "\n",
       "       subscription_fee  \n",
       "0                   199  \n",
       "1                   199  \n",
       "2                   199  \n",
       "3                   199  \n",
       "4                   199  \n",
       "...                 ...  \n",
       "18063                 0  \n",
       "18064                 0  \n",
       "18065                 0  \n",
       "18066                 0  \n",
       "18067                 0  \n",
       "\n",
       "[18068 rows x 12 columns]"
      ]
     },
     "execution_count": 36,
     "metadata": {},
     "output_type": "execute_result"
    }
   ],
   "source": [
    "# Объденим 3 датафрейма в один:\n",
    "data_mrg = data_riders.merge(data_users, how = 'left', on = 'user_id' )\n",
    "data_mrg = data_mrg.merge(data_sub, how = 'left', on='subscription_type')\n",
    "data_mrg"
   ]
  },
  {
   "cell_type": "code",
   "execution_count": 37,
   "id": "f1708e32",
   "metadata": {},
   "outputs": [
    {
     "data": {
      "text/plain": [
       "18068"
      ]
     },
     "execution_count": 37,
     "metadata": {},
     "output_type": "execute_result"
    }
   ],
   "source": [
    "#Строк в data_riders: \n",
    "data_riders.shape[0]"
   ]
  },
  {
   "cell_type": "code",
   "execution_count": 38,
   "id": "82d7dd8c",
   "metadata": {},
   "outputs": [
    {
     "data": {
      "text/plain": [
       "18068"
      ]
     },
     "execution_count": 38,
     "metadata": {},
     "output_type": "execute_result"
    }
   ],
   "source": [
    "#Строк в объединенном data_mrg: \n",
    "data_mrg.shape[0]"
   ]
  },
  {
   "cell_type": "code",
   "execution_count": 39,
   "id": "cafcc774",
   "metadata": {},
   "outputs": [
    {
     "data": {
      "text/plain": [
       "user_id              0\n",
       "distance             0\n",
       "duration             0\n",
       "date                 0\n",
       "month                0\n",
       "name                 0\n",
       "age                  0\n",
       "city                 0\n",
       "subscription_type    0\n",
       "minute_price         0\n",
       "start_ride_price     0\n",
       "subscription_fee     0\n",
       "dtype: int64"
      ]
     },
     "execution_count": 39,
     "metadata": {},
     "output_type": "execute_result"
    }
   ],
   "source": [
    "# Пропуски в объединенном датафрейме\n",
    "data_mrg.isna().sum()"
   ]
  },
  {
   "cell_type": "code",
   "execution_count": 40,
   "id": "b584b548",
   "metadata": {},
   "outputs": [
    {
     "data": {
      "text/plain": [
       "0"
      ]
     },
     "execution_count": 40,
     "metadata": {},
     "output_type": "execute_result"
    }
   ],
   "source": [
    "# И дубликаты\n",
    "data_mrg.duplicated().sum()"
   ]
  },
  {
   "cell_type": "markdown",
   "id": "948cc1ab",
   "metadata": {},
   "source": [
    "##### Все корректно объеденилось: количество строчек совпадает, пропусков нет, явных дубликатов тоже."
   ]
  },
  {
   "cell_type": "markdown",
   "id": "20fb9c45",
   "metadata": {},
   "source": [
    "##### Создадим ещё два датафрейма из датафрейма из большого общего:\n",
    "- c данными о пользователях без подписки;\n",
    "\n",
    "- с данными о пользователях с подпиской."
   ]
  },
  {
   "cell_type": "code",
   "execution_count": 41,
   "id": "cf3c39c5",
   "metadata": {
    "scrolled": true
   },
   "outputs": [
    {
     "data": {
      "text/html": [
       "<div>\n",
       "<style scoped>\n",
       "    .dataframe tbody tr th:only-of-type {\n",
       "        vertical-align: middle;\n",
       "    }\n",
       "\n",
       "    .dataframe tbody tr th {\n",
       "        vertical-align: top;\n",
       "    }\n",
       "\n",
       "    .dataframe thead th {\n",
       "        text-align: right;\n",
       "    }\n",
       "</style>\n",
       "<table border=\"1\" class=\"dataframe\">\n",
       "  <thead>\n",
       "    <tr style=\"text-align: right;\">\n",
       "      <th></th>\n",
       "      <th>user_id</th>\n",
       "      <th>distance</th>\n",
       "      <th>duration</th>\n",
       "      <th>date</th>\n",
       "      <th>month</th>\n",
       "      <th>name</th>\n",
       "      <th>age</th>\n",
       "      <th>city</th>\n",
       "      <th>subscription_type</th>\n",
       "      <th>minute_price</th>\n",
       "      <th>start_ride_price</th>\n",
       "      <th>subscription_fee</th>\n",
       "    </tr>\n",
       "  </thead>\n",
       "  <tbody>\n",
       "    <tr>\n",
       "      <th>6500</th>\n",
       "      <td>700</td>\n",
       "      <td>2515.690719</td>\n",
       "      <td>14.944286</td>\n",
       "      <td>2021-01-02</td>\n",
       "      <td>1</td>\n",
       "      <td>Айдар</td>\n",
       "      <td>22</td>\n",
       "      <td>Омск</td>\n",
       "      <td>free</td>\n",
       "      <td>8</td>\n",
       "      <td>50</td>\n",
       "      <td>0</td>\n",
       "    </tr>\n",
       "    <tr>\n",
       "      <th>6501</th>\n",
       "      <td>700</td>\n",
       "      <td>846.932642</td>\n",
       "      <td>16.234663</td>\n",
       "      <td>2021-02-01</td>\n",
       "      <td>2</td>\n",
       "      <td>Айдар</td>\n",
       "      <td>22</td>\n",
       "      <td>Омск</td>\n",
       "      <td>free</td>\n",
       "      <td>8</td>\n",
       "      <td>50</td>\n",
       "      <td>0</td>\n",
       "    </tr>\n",
       "    <tr>\n",
       "      <th>6502</th>\n",
       "      <td>700</td>\n",
       "      <td>4004.434142</td>\n",
       "      <td>20.016628</td>\n",
       "      <td>2021-02-04</td>\n",
       "      <td>2</td>\n",
       "      <td>Айдар</td>\n",
       "      <td>22</td>\n",
       "      <td>Омск</td>\n",
       "      <td>free</td>\n",
       "      <td>8</td>\n",
       "      <td>50</td>\n",
       "      <td>0</td>\n",
       "    </tr>\n",
       "    <tr>\n",
       "      <th>6503</th>\n",
       "      <td>700</td>\n",
       "      <td>1205.911290</td>\n",
       "      <td>9.782872</td>\n",
       "      <td>2021-02-10</td>\n",
       "      <td>2</td>\n",
       "      <td>Айдар</td>\n",
       "      <td>22</td>\n",
       "      <td>Омск</td>\n",
       "      <td>free</td>\n",
       "      <td>8</td>\n",
       "      <td>50</td>\n",
       "      <td>0</td>\n",
       "    </tr>\n",
       "    <tr>\n",
       "      <th>6504</th>\n",
       "      <td>700</td>\n",
       "      <td>3047.379435</td>\n",
       "      <td>17.427673</td>\n",
       "      <td>2021-02-14</td>\n",
       "      <td>2</td>\n",
       "      <td>Айдар</td>\n",
       "      <td>22</td>\n",
       "      <td>Омск</td>\n",
       "      <td>free</td>\n",
       "      <td>8</td>\n",
       "      <td>50</td>\n",
       "      <td>0</td>\n",
       "    </tr>\n",
       "    <tr>\n",
       "      <th>...</th>\n",
       "      <td>...</td>\n",
       "      <td>...</td>\n",
       "      <td>...</td>\n",
       "      <td>...</td>\n",
       "      <td>...</td>\n",
       "      <td>...</td>\n",
       "      <td>...</td>\n",
       "      <td>...</td>\n",
       "      <td>...</td>\n",
       "      <td>...</td>\n",
       "      <td>...</td>\n",
       "      <td>...</td>\n",
       "    </tr>\n",
       "    <tr>\n",
       "      <th>18063</th>\n",
       "      <td>1534</td>\n",
       "      <td>3781.098080</td>\n",
       "      <td>19.822962</td>\n",
       "      <td>2021-11-04</td>\n",
       "      <td>11</td>\n",
       "      <td>Альберт</td>\n",
       "      <td>25</td>\n",
       "      <td>Краснодар</td>\n",
       "      <td>free</td>\n",
       "      <td>8</td>\n",
       "      <td>50</td>\n",
       "      <td>0</td>\n",
       "    </tr>\n",
       "    <tr>\n",
       "      <th>18064</th>\n",
       "      <td>1534</td>\n",
       "      <td>2840.423057</td>\n",
       "      <td>21.409799</td>\n",
       "      <td>2021-11-16</td>\n",
       "      <td>11</td>\n",
       "      <td>Альберт</td>\n",
       "      <td>25</td>\n",
       "      <td>Краснодар</td>\n",
       "      <td>free</td>\n",
       "      <td>8</td>\n",
       "      <td>50</td>\n",
       "      <td>0</td>\n",
       "    </tr>\n",
       "    <tr>\n",
       "      <th>18065</th>\n",
       "      <td>1534</td>\n",
       "      <td>3826.185507</td>\n",
       "      <td>18.435051</td>\n",
       "      <td>2021-11-18</td>\n",
       "      <td>11</td>\n",
       "      <td>Альберт</td>\n",
       "      <td>25</td>\n",
       "      <td>Краснодар</td>\n",
       "      <td>free</td>\n",
       "      <td>8</td>\n",
       "      <td>50</td>\n",
       "      <td>0</td>\n",
       "    </tr>\n",
       "    <tr>\n",
       "      <th>18066</th>\n",
       "      <td>1534</td>\n",
       "      <td>2902.308661</td>\n",
       "      <td>16.674362</td>\n",
       "      <td>2021-11-27</td>\n",
       "      <td>11</td>\n",
       "      <td>Альберт</td>\n",
       "      <td>25</td>\n",
       "      <td>Краснодар</td>\n",
       "      <td>free</td>\n",
       "      <td>8</td>\n",
       "      <td>50</td>\n",
       "      <td>0</td>\n",
       "    </tr>\n",
       "    <tr>\n",
       "      <th>18067</th>\n",
       "      <td>1534</td>\n",
       "      <td>2371.711192</td>\n",
       "      <td>15.893917</td>\n",
       "      <td>2021-12-29</td>\n",
       "      <td>12</td>\n",
       "      <td>Альберт</td>\n",
       "      <td>25</td>\n",
       "      <td>Краснодар</td>\n",
       "      <td>free</td>\n",
       "      <td>8</td>\n",
       "      <td>50</td>\n",
       "      <td>0</td>\n",
       "    </tr>\n",
       "  </tbody>\n",
       "</table>\n",
       "<p>11568 rows × 12 columns</p>\n",
       "</div>"
      ],
      "text/plain": [
       "       user_id     distance   duration       date  month     name  age  \\\n",
       "6500       700  2515.690719  14.944286 2021-01-02      1    Айдар   22   \n",
       "6501       700   846.932642  16.234663 2021-02-01      2    Айдар   22   \n",
       "6502       700  4004.434142  20.016628 2021-02-04      2    Айдар   22   \n",
       "6503       700  1205.911290   9.782872 2021-02-10      2    Айдар   22   \n",
       "6504       700  3047.379435  17.427673 2021-02-14      2    Айдар   22   \n",
       "...        ...          ...        ...        ...    ...      ...  ...   \n",
       "18063     1534  3781.098080  19.822962 2021-11-04     11  Альберт   25   \n",
       "18064     1534  2840.423057  21.409799 2021-11-16     11  Альберт   25   \n",
       "18065     1534  3826.185507  18.435051 2021-11-18     11  Альберт   25   \n",
       "18066     1534  2902.308661  16.674362 2021-11-27     11  Альберт   25   \n",
       "18067     1534  2371.711192  15.893917 2021-12-29     12  Альберт   25   \n",
       "\n",
       "            city subscription_type  minute_price  start_ride_price  \\\n",
       "6500        Омск              free             8                50   \n",
       "6501        Омск              free             8                50   \n",
       "6502        Омск              free             8                50   \n",
       "6503        Омск              free             8                50   \n",
       "6504        Омск              free             8                50   \n",
       "...          ...               ...           ...               ...   \n",
       "18063  Краснодар              free             8                50   \n",
       "18064  Краснодар              free             8                50   \n",
       "18065  Краснодар              free             8                50   \n",
       "18066  Краснодар              free             8                50   \n",
       "18067  Краснодар              free             8                50   \n",
       "\n",
       "       subscription_fee  \n",
       "6500                  0  \n",
       "6501                  0  \n",
       "6502                  0  \n",
       "6503                  0  \n",
       "6504                  0  \n",
       "...                 ...  \n",
       "18063                 0  \n",
       "18064                 0  \n",
       "18065                 0  \n",
       "18066                 0  \n",
       "18067                 0  \n",
       "\n",
       "[11568 rows x 12 columns]"
      ]
     },
     "execution_count": 41,
     "metadata": {},
     "output_type": "execute_result"
    }
   ],
   "source": [
    "# С бесплатной подпиской\n",
    "data_mrg_free = data_mrg[data_mrg['subscription_type'] == 'free']\n",
    "data_mrg_free "
   ]
  },
  {
   "cell_type": "code",
   "execution_count": 42,
   "id": "5bf70730",
   "metadata": {
    "scrolled": true
   },
   "outputs": [
    {
     "data": {
      "text/html": [
       "<div>\n",
       "<style scoped>\n",
       "    .dataframe tbody tr th:only-of-type {\n",
       "        vertical-align: middle;\n",
       "    }\n",
       "\n",
       "    .dataframe tbody tr th {\n",
       "        vertical-align: top;\n",
       "    }\n",
       "\n",
       "    .dataframe thead th {\n",
       "        text-align: right;\n",
       "    }\n",
       "</style>\n",
       "<table border=\"1\" class=\"dataframe\">\n",
       "  <thead>\n",
       "    <tr style=\"text-align: right;\">\n",
       "      <th></th>\n",
       "      <th>user_id</th>\n",
       "      <th>distance</th>\n",
       "      <th>duration</th>\n",
       "      <th>date</th>\n",
       "      <th>month</th>\n",
       "      <th>name</th>\n",
       "      <th>age</th>\n",
       "      <th>city</th>\n",
       "      <th>subscription_type</th>\n",
       "      <th>minute_price</th>\n",
       "      <th>start_ride_price</th>\n",
       "      <th>subscription_fee</th>\n",
       "    </tr>\n",
       "  </thead>\n",
       "  <tbody>\n",
       "    <tr>\n",
       "      <th>0</th>\n",
       "      <td>1</td>\n",
       "      <td>4409.919140</td>\n",
       "      <td>25.599769</td>\n",
       "      <td>2021-01-01</td>\n",
       "      <td>1</td>\n",
       "      <td>Кира</td>\n",
       "      <td>22</td>\n",
       "      <td>Тюмень</td>\n",
       "      <td>ultra</td>\n",
       "      <td>6</td>\n",
       "      <td>0</td>\n",
       "      <td>199</td>\n",
       "    </tr>\n",
       "    <tr>\n",
       "      <th>1</th>\n",
       "      <td>1</td>\n",
       "      <td>2617.592153</td>\n",
       "      <td>15.816871</td>\n",
       "      <td>2021-01-18</td>\n",
       "      <td>1</td>\n",
       "      <td>Кира</td>\n",
       "      <td>22</td>\n",
       "      <td>Тюмень</td>\n",
       "      <td>ultra</td>\n",
       "      <td>6</td>\n",
       "      <td>0</td>\n",
       "      <td>199</td>\n",
       "    </tr>\n",
       "    <tr>\n",
       "      <th>2</th>\n",
       "      <td>1</td>\n",
       "      <td>754.159807</td>\n",
       "      <td>6.232113</td>\n",
       "      <td>2021-04-20</td>\n",
       "      <td>4</td>\n",
       "      <td>Кира</td>\n",
       "      <td>22</td>\n",
       "      <td>Тюмень</td>\n",
       "      <td>ultra</td>\n",
       "      <td>6</td>\n",
       "      <td>0</td>\n",
       "      <td>199</td>\n",
       "    </tr>\n",
       "    <tr>\n",
       "      <th>3</th>\n",
       "      <td>1</td>\n",
       "      <td>2694.783254</td>\n",
       "      <td>18.511000</td>\n",
       "      <td>2021-08-11</td>\n",
       "      <td>8</td>\n",
       "      <td>Кира</td>\n",
       "      <td>22</td>\n",
       "      <td>Тюмень</td>\n",
       "      <td>ultra</td>\n",
       "      <td>6</td>\n",
       "      <td>0</td>\n",
       "      <td>199</td>\n",
       "    </tr>\n",
       "    <tr>\n",
       "      <th>4</th>\n",
       "      <td>1</td>\n",
       "      <td>4028.687306</td>\n",
       "      <td>26.265803</td>\n",
       "      <td>2021-08-28</td>\n",
       "      <td>8</td>\n",
       "      <td>Кира</td>\n",
       "      <td>22</td>\n",
       "      <td>Тюмень</td>\n",
       "      <td>ultra</td>\n",
       "      <td>6</td>\n",
       "      <td>0</td>\n",
       "      <td>199</td>\n",
       "    </tr>\n",
       "  </tbody>\n",
       "</table>\n",
       "</div>"
      ],
      "text/plain": [
       "   user_id     distance   duration       date  month  name  age    city  \\\n",
       "0        1  4409.919140  25.599769 2021-01-01      1  Кира   22  Тюмень   \n",
       "1        1  2617.592153  15.816871 2021-01-18      1  Кира   22  Тюмень   \n",
       "2        1   754.159807   6.232113 2021-04-20      4  Кира   22  Тюмень   \n",
       "3        1  2694.783254  18.511000 2021-08-11      8  Кира   22  Тюмень   \n",
       "4        1  4028.687306  26.265803 2021-08-28      8  Кира   22  Тюмень   \n",
       "\n",
       "  subscription_type  minute_price  start_ride_price  subscription_fee  \n",
       "0             ultra             6                 0               199  \n",
       "1             ultra             6                 0               199  \n",
       "2             ultra             6                 0               199  \n",
       "3             ultra             6                 0               199  \n",
       "4             ultra             6                 0               199  "
      ]
     },
     "execution_count": 42,
     "metadata": {},
     "output_type": "execute_result"
    }
   ],
   "source": [
    "# С платной подпиской ultra\n",
    "data_mrg_ultra = data_mrg[data_mrg['subscription_type'] == 'ultra']\n",
    "\n",
    "data_mrg_ultra.head()"
   ]
  },
  {
   "cell_type": "code",
   "execution_count": 43,
   "id": "4c770cdd",
   "metadata": {
    "scrolled": true
   },
   "outputs": [
    {
     "data": {
      "image/png": "[encoded data removed]",
      "text/plain": [
       "<Figure size 864x432 with 1 Axes>"
      ]
     },
     "metadata": {
      "needs_background": "light"
     },
     "output_type": "display_data"
    }
   ],
   "source": [
    "# Построим два графика на одной плоскости но с разными цветами для наглядности, сначал а с данным расстоянии:\n",
    "plt.figure(figsize=(12, 6))\n",
    "\n",
    "plt.hist(\n",
    "    data_mrg_free['distance'], \n",
    "    bins=30, \n",
    "    color='skyblue', \n",
    "    edgecolor='black', \n",
    "    alpha=0.7,  \n",
    "    label='Без подписки'\n",
    ")\n",
    "plt.hist(\n",
    "    data_mrg_ultra['distance'], \n",
    "    bins=30, \n",
    "    color='orange',  \n",
    "    edgecolor='black', \n",
    "    alpha=0.7,  \n",
    "    label='С подпиской'\n",
    ")\n",
    "\n",
    "plt.title('Расстояние одной поездки для пользователей с подпиской и без')\n",
    "plt.xlabel('Расстояние, м')\n",
    "plt.ylabel('Количество пользователей')\n",
    "plt.legend(loc='upper right')  \n",
    "plt.grid(True)\n",
    "\n",
    "plt.show()"
   ]
  },
  {
   "cell_type": "code",
   "execution_count": 44,
   "id": "74158c57",
   "metadata": {},
   "outputs": [
    {
     "data": {
      "text/plain": [
       "count    11568.000000\n",
       "mean      3045.495282\n",
       "std       1246.173806\n",
       "min          0.855683\n",
       "25%       2366.562689\n",
       "50%       3114.648465\n",
       "75%       3905.697894\n",
       "max       7211.007745\n",
       "Name: distance, dtype: float64"
      ]
     },
     "execution_count": 44,
     "metadata": {},
     "output_type": "execute_result"
    }
   ],
   "source": [
    "data_mrg_free['distance'].describe()\n"
   ]
  },
  {
   "cell_type": "code",
   "execution_count": 45,
   "id": "4b650398",
   "metadata": {},
   "outputs": [
    {
     "data": {
      "text/plain": [
       "count    6500.000000\n",
       "mean     3115.445388\n",
       "std       836.895330\n",
       "min       244.210438\n",
       "25%      2785.444017\n",
       "50%      3148.637229\n",
       "75%      3560.574425\n",
       "max      5699.769662\n",
       "Name: distance, dtype: float64"
      ]
     },
     "execution_count": 45,
     "metadata": {},
     "output_type": "execute_result"
    }
   ],
   "source": [
    "data_mrg_ultra['distance'].describe() "
   ]
  },
  {
   "cell_type": "code",
   "execution_count": 46,
   "id": "1dd2bb68",
   "metadata": {},
   "outputs": [
    {
     "data": {
      "image/png": "[encoded data removed]",
      "text/plain": [
       "<Figure size 864x432 with 1 Axes>"
      ]
     },
     "metadata": {
      "needs_background": "light"
     },
     "output_type": "display_data"
    }
   ],
   "source": [
    "# И графики о времени поездки:\n",
    "plt.figure(figsize=(12, 6))\n",
    "\n",
    "\n",
    "plt.hist(\n",
    "    data_mrg_free['duration'], \n",
    "    bins=30, \n",
    "    color='skyblue', \n",
    "    edgecolor='black', \n",
    "    alpha=0.7,  \n",
    "    label='Без подписки'\n",
    ")\n",
    "\n",
    "\n",
    "plt.hist(\n",
    "    data_mrg_ultra['duration'], \n",
    "    bins=30, \n",
    "    color='orange',  \n",
    "    edgecolor='black', \n",
    "    alpha=0.7,  \n",
    "    label='С подпиской Ultra'\n",
    ")\n",
    "\n",
    "plt.title('Продолжительность одной поездки пользователей с подпиской и без')\n",
    "plt.xlabel('Время, мин')\n",
    "plt.ylabel('Количество поездок')\n",
    "plt.legend(loc='upper right')  \n",
    "plt.grid(True)\n",
    "plt.show()"
   ]
  },
  {
   "cell_type": "code",
   "execution_count": 47,
   "id": "012d2d6c",
   "metadata": {},
   "outputs": [
    {
     "data": {
      "text/plain": [
       "count    11568.000000\n",
       "mean        17.390909\n",
       "std          6.326803\n",
       "min          0.500000\n",
       "25%         12.958437\n",
       "50%         17.326890\n",
       "75%         21.594071\n",
       "max         34.948498\n",
       "Name: duration, dtype: float64"
      ]
     },
     "execution_count": 47,
     "metadata": {},
     "output_type": "execute_result"
    }
   ],
   "source": [
    "data_mrg_free['duration'].describe() \n"
   ]
  },
  {
   "cell_type": "code",
   "execution_count": 48,
   "id": "3ad7c4e8",
   "metadata": {},
   "outputs": [
    {
     "data": {
      "text/plain": [
       "count    6500.000000\n",
       "mean       18.541985\n",
       "std         5.572048\n",
       "min         3.760353\n",
       "25%        14.524654\n",
       "50%        18.178153\n",
       "75%        21.884129\n",
       "max        40.823963\n",
       "Name: duration, dtype: float64"
      ]
     },
     "execution_count": 48,
     "metadata": {},
     "output_type": "execute_result"
    }
   ],
   "source": [
    "data_mrg_ultra['duration'].describe()\n"
   ]
  },
  {
   "cell_type": "markdown",
   "id": "a4eb7786",
   "metadata": {},
   "source": [
    "##### Вывод:\n",
    "Визуально графики схожи, имеют нормальное распределение.   \n",
    "\n",
    "По расстоянию: \n",
    "- Межквартильный размах без подписки - с 2366 м до 3905 м \n",
    "- Межквартильный размах с подпиской - с 2785 м до 3560 м\n",
    "\n",
    "По продолжительности: \n",
    "- Межквартильный размах без подписки - с 12.9 мин до 21.5 мин\n",
    "- Межквартильный размах с подпиской - с 14.5 мин до 21.8 мин\n",
    "\n",
    "\n",
    "Как мы знаем из 3.2 что пользователей без подписки больше незначительно(835 против 699), количество поездок совершенных без подписки больше ощутимо: \n",
    "- 11568\n",
    "\n",
    "Против :\n",
    "- 6500 поездок с подпиской. \n",
    "\n",
    "\n",
    "\n"
   ]
  },
  {
   "cell_type": "markdown",
   "id": "402d620f",
   "metadata": {},
   "source": [
    "#### Шаг 5. Подсчёт выручки"
   ]
  },
  {
   "cell_type": "code",
   "execution_count": 49,
   "id": "7de8f924",
   "metadata": {},
   "outputs": [],
   "source": [
    "# Осуществим сначала округление. \n",
    "data_mrg['duration'] = np.ceil(data_mrg['duration'])"
   ]
  },
  {
   "cell_type": "code",
   "execution_count": 50,
   "id": "53049e0a",
   "metadata": {},
   "outputs": [
    {
     "data": {
      "text/html": [
       "<div>\n",
       "<style scoped>\n",
       "    .dataframe tbody tr th:only-of-type {\n",
       "        vertical-align: middle;\n",
       "    }\n",
       "\n",
       "    .dataframe tbody tr th {\n",
       "        vertical-align: top;\n",
       "    }\n",
       "\n",
       "    .dataframe thead th {\n",
       "        text-align: right;\n",
       "    }\n",
       "</style>\n",
       "<table border=\"1\" class=\"dataframe\">\n",
       "  <thead>\n",
       "    <tr style=\"text-align: right;\">\n",
       "      <th></th>\n",
       "      <th></th>\n",
       "      <th>distance</th>\n",
       "      <th>duration</th>\n",
       "      <th>name</th>\n",
       "      <th>subscription_type</th>\n",
       "    </tr>\n",
       "    <tr>\n",
       "      <th>month</th>\n",
       "      <th>user_id</th>\n",
       "      <th></th>\n",
       "      <th></th>\n",
       "      <th></th>\n",
       "      <th></th>\n",
       "    </tr>\n",
       "  </thead>\n",
       "  <tbody>\n",
       "    <tr>\n",
       "      <th rowspan=\"5\" valign=\"top\">1</th>\n",
       "      <th>1</th>\n",
       "      <td>7027.511294</td>\n",
       "      <td>42.0</td>\n",
       "      <td>2</td>\n",
       "      <td>ultra</td>\n",
       "    </tr>\n",
       "    <tr>\n",
       "      <th>3</th>\n",
       "      <td>3061.777147</td>\n",
       "      <td>13.0</td>\n",
       "      <td>1</td>\n",
       "      <td>ultra</td>\n",
       "    </tr>\n",
       "    <tr>\n",
       "      <th>5</th>\n",
       "      <td>3914.646990</td>\n",
       "      <td>13.0</td>\n",
       "      <td>1</td>\n",
       "      <td>ultra</td>\n",
       "    </tr>\n",
       "    <tr>\n",
       "      <th>7</th>\n",
       "      <td>6478.080979</td>\n",
       "      <td>28.0</td>\n",
       "      <td>2</td>\n",
       "      <td>ultra</td>\n",
       "    </tr>\n",
       "    <tr>\n",
       "      <th>12</th>\n",
       "      <td>3577.151148</td>\n",
       "      <td>33.0</td>\n",
       "      <td>1</td>\n",
       "      <td>ultra</td>\n",
       "    </tr>\n",
       "    <tr>\n",
       "      <th>...</th>\n",
       "      <th>...</th>\n",
       "      <td>...</td>\n",
       "      <td>...</td>\n",
       "      <td>...</td>\n",
       "      <td>...</td>\n",
       "    </tr>\n",
       "    <tr>\n",
       "      <th rowspan=\"5\" valign=\"top\">12</th>\n",
       "      <th>1525</th>\n",
       "      <td>4597.854350</td>\n",
       "      <td>34.0</td>\n",
       "      <td>1</td>\n",
       "      <td>free</td>\n",
       "    </tr>\n",
       "    <tr>\n",
       "      <th>1526</th>\n",
       "      <td>3644.121544</td>\n",
       "      <td>23.0</td>\n",
       "      <td>1</td>\n",
       "      <td>free</td>\n",
       "    </tr>\n",
       "    <tr>\n",
       "      <th>1528</th>\n",
       "      <td>3998.569324</td>\n",
       "      <td>11.0</td>\n",
       "      <td>1</td>\n",
       "      <td>free</td>\n",
       "    </tr>\n",
       "    <tr>\n",
       "      <th>1532</th>\n",
       "      <td>6111.889853</td>\n",
       "      <td>42.0</td>\n",
       "      <td>2</td>\n",
       "      <td>free</td>\n",
       "    </tr>\n",
       "    <tr>\n",
       "      <th>1534</th>\n",
       "      <td>2371.711192</td>\n",
       "      <td>16.0</td>\n",
       "      <td>1</td>\n",
       "      <td>free</td>\n",
       "    </tr>\n",
       "  </tbody>\n",
       "</table>\n",
       "<p>11331 rows × 4 columns</p>\n",
       "</div>"
      ],
      "text/plain": [
       "                  distance  duration  name subscription_type\n",
       "month user_id                                               \n",
       "1     1        7027.511294      42.0     2             ultra\n",
       "      3        3061.777147      13.0     1             ultra\n",
       "      5        3914.646990      13.0     1             ultra\n",
       "      7        6478.080979      28.0     2             ultra\n",
       "      12       3577.151148      33.0     1             ultra\n",
       "...                    ...       ...   ...               ...\n",
       "12    1525     4597.854350      34.0     1              free\n",
       "      1526     3644.121544      23.0     1              free\n",
       "      1528     3998.569324      11.0     1              free\n",
       "      1532     6111.889853      42.0     2              free\n",
       "      1534     2371.711192      16.0     1              free\n",
       "\n",
       "[11331 rows x 4 columns]"
      ]
     },
     "execution_count": 50,
     "metadata": {},
     "output_type": "execute_result"
    }
   ],
   "source": [
    "# Сведем в единую таблицу. Агреггируем по связке месяц + id пользователя. \n",
    "# Нас интересуеют значения : дистанция, продолжительность, имя и тип подписки\n",
    "# Дистанцию и продожительнось мы суммируем, имя - len - считаем количество поездок пользователем в месяц,\n",
    "# И опредеяем его тип подписки.\n",
    "final_data = pd.pivot_table(data_mrg,\n",
    "                           index=['month', 'user_id'],\n",
    "                           values = ['distance', 'duration', 'name', 'subscription_type'],\n",
    "                           aggfunc = {'distance': sum, \n",
    "                                      'duration' : sum, \n",
    "                                      'name' : len, \n",
    "                                      'subscription_type' : min})\n",
    "final_data"
   ]
  },
  {
   "cell_type": "code",
   "execution_count": 51,
   "id": "feb5e3c7",
   "metadata": {},
   "outputs": [
    {
     "data": {
      "text/html": [
       "<div>\n",
       "<style scoped>\n",
       "    .dataframe tbody tr th:only-of-type {\n",
       "        vertical-align: middle;\n",
       "    }\n",
       "\n",
       "    .dataframe tbody tr th {\n",
       "        vertical-align: top;\n",
       "    }\n",
       "\n",
       "    .dataframe thead th {\n",
       "        text-align: right;\n",
       "    }\n",
       "</style>\n",
       "<table border=\"1\" class=\"dataframe\">\n",
       "  <thead>\n",
       "    <tr style=\"text-align: right;\">\n",
       "      <th></th>\n",
       "      <th></th>\n",
       "      <th>distance</th>\n",
       "      <th>duration</th>\n",
       "      <th>count_tips</th>\n",
       "      <th>subscription_type</th>\n",
       "    </tr>\n",
       "    <tr>\n",
       "      <th>month</th>\n",
       "      <th>user_id</th>\n",
       "      <th></th>\n",
       "      <th></th>\n",
       "      <th></th>\n",
       "      <th></th>\n",
       "    </tr>\n",
       "  </thead>\n",
       "  <tbody>\n",
       "    <tr>\n",
       "      <th rowspan=\"5\" valign=\"top\">1</th>\n",
       "      <th>1</th>\n",
       "      <td>7027.511294</td>\n",
       "      <td>42.0</td>\n",
       "      <td>2</td>\n",
       "      <td>ultra</td>\n",
       "    </tr>\n",
       "    <tr>\n",
       "      <th>3</th>\n",
       "      <td>3061.777147</td>\n",
       "      <td>13.0</td>\n",
       "      <td>1</td>\n",
       "      <td>ultra</td>\n",
       "    </tr>\n",
       "    <tr>\n",
       "      <th>5</th>\n",
       "      <td>3914.646990</td>\n",
       "      <td>13.0</td>\n",
       "      <td>1</td>\n",
       "      <td>ultra</td>\n",
       "    </tr>\n",
       "    <tr>\n",
       "      <th>7</th>\n",
       "      <td>6478.080979</td>\n",
       "      <td>28.0</td>\n",
       "      <td>2</td>\n",
       "      <td>ultra</td>\n",
       "    </tr>\n",
       "    <tr>\n",
       "      <th>12</th>\n",
       "      <td>3577.151148</td>\n",
       "      <td>33.0</td>\n",
       "      <td>1</td>\n",
       "      <td>ultra</td>\n",
       "    </tr>\n",
       "    <tr>\n",
       "      <th>...</th>\n",
       "      <th>...</th>\n",
       "      <td>...</td>\n",
       "      <td>...</td>\n",
       "      <td>...</td>\n",
       "      <td>...</td>\n",
       "    </tr>\n",
       "    <tr>\n",
       "      <th rowspan=\"5\" valign=\"top\">12</th>\n",
       "      <th>1525</th>\n",
       "      <td>4597.854350</td>\n",
       "      <td>34.0</td>\n",
       "      <td>1</td>\n",
       "      <td>free</td>\n",
       "    </tr>\n",
       "    <tr>\n",
       "      <th>1526</th>\n",
       "      <td>3644.121544</td>\n",
       "      <td>23.0</td>\n",
       "      <td>1</td>\n",
       "      <td>free</td>\n",
       "    </tr>\n",
       "    <tr>\n",
       "      <th>1528</th>\n",
       "      <td>3998.569324</td>\n",
       "      <td>11.0</td>\n",
       "      <td>1</td>\n",
       "      <td>free</td>\n",
       "    </tr>\n",
       "    <tr>\n",
       "      <th>1532</th>\n",
       "      <td>6111.889853</td>\n",
       "      <td>42.0</td>\n",
       "      <td>2</td>\n",
       "      <td>free</td>\n",
       "    </tr>\n",
       "    <tr>\n",
       "      <th>1534</th>\n",
       "      <td>2371.711192</td>\n",
       "      <td>16.0</td>\n",
       "      <td>1</td>\n",
       "      <td>free</td>\n",
       "    </tr>\n",
       "  </tbody>\n",
       "</table>\n",
       "<p>11331 rows × 4 columns</p>\n",
       "</div>"
      ],
      "text/plain": [
       "                  distance  duration  count_tips subscription_type\n",
       "month user_id                                                     \n",
       "1     1        7027.511294      42.0           2             ultra\n",
       "      3        3061.777147      13.0           1             ultra\n",
       "      5        3914.646990      13.0           1             ultra\n",
       "      7        6478.080979      28.0           2             ultra\n",
       "      12       3577.151148      33.0           1             ultra\n",
       "...                    ...       ...         ...               ...\n",
       "12    1525     4597.854350      34.0           1              free\n",
       "      1526     3644.121544      23.0           1              free\n",
       "      1528     3998.569324      11.0           1              free\n",
       "      1532     6111.889853      42.0           2              free\n",
       "      1534     2371.711192      16.0           1              free\n",
       "\n",
       "[11331 rows x 4 columns]"
      ]
     },
     "execution_count": 51,
     "metadata": {},
     "output_type": "execute_result"
    }
   ],
   "source": [
    "# Таблица разбита на месяцы и пользователей, переименуем колонки. \n",
    "final_data.rename(columns = {'name' : 'count_tips'}, inplace = True)\n",
    "final_data"
   ]
  },
  {
   "cell_type": "code",
   "execution_count": 52,
   "id": "1ae4b50b",
   "metadata": {},
   "outputs": [
    {
     "data": {
      "text/html": [
       "<div>\n",
       "<style scoped>\n",
       "    .dataframe tbody tr th:only-of-type {\n",
       "        vertical-align: middle;\n",
       "    }\n",
       "\n",
       "    .dataframe tbody tr th {\n",
       "        vertical-align: top;\n",
       "    }\n",
       "\n",
       "    .dataframe thead th {\n",
       "        text-align: right;\n",
       "    }\n",
       "</style>\n",
       "<table border=\"1\" class=\"dataframe\">\n",
       "  <thead>\n",
       "    <tr style=\"text-align: right;\">\n",
       "      <th></th>\n",
       "      <th></th>\n",
       "      <th>distance</th>\n",
       "      <th>duration</th>\n",
       "      <th>count_tips</th>\n",
       "      <th>subscription_type</th>\n",
       "    </tr>\n",
       "    <tr>\n",
       "      <th>month</th>\n",
       "      <th>user_id</th>\n",
       "      <th></th>\n",
       "      <th></th>\n",
       "      <th></th>\n",
       "      <th></th>\n",
       "    </tr>\n",
       "  </thead>\n",
       "  <tbody>\n",
       "    <tr>\n",
       "      <th rowspan=\"10\" valign=\"top\">1</th>\n",
       "      <th>1</th>\n",
       "      <td>7027.511294</td>\n",
       "      <td>42.0</td>\n",
       "      <td>2</td>\n",
       "      <td>ultra</td>\n",
       "    </tr>\n",
       "    <tr>\n",
       "      <th>1061</th>\n",
       "      <td>12637.249630</td>\n",
       "      <td>43.0</td>\n",
       "      <td>3</td>\n",
       "      <td>free</td>\n",
       "    </tr>\n",
       "    <tr>\n",
       "      <th>1063</th>\n",
       "      <td>3276.362299</td>\n",
       "      <td>10.0</td>\n",
       "      <td>1</td>\n",
       "      <td>free</td>\n",
       "    </tr>\n",
       "    <tr>\n",
       "      <th>1064</th>\n",
       "      <td>5297.324649</td>\n",
       "      <td>15.0</td>\n",
       "      <td>1</td>\n",
       "      <td>free</td>\n",
       "    </tr>\n",
       "    <tr>\n",
       "      <th>1065</th>\n",
       "      <td>14547.099333</td>\n",
       "      <td>99.0</td>\n",
       "      <td>4</td>\n",
       "      <td>free</td>\n",
       "    </tr>\n",
       "    <tr>\n",
       "      <th>1066</th>\n",
       "      <td>2809.064949</td>\n",
       "      <td>19.0</td>\n",
       "      <td>1</td>\n",
       "      <td>free</td>\n",
       "    </tr>\n",
       "    <tr>\n",
       "      <th>1067</th>\n",
       "      <td>3864.900780</td>\n",
       "      <td>22.0</td>\n",
       "      <td>1</td>\n",
       "      <td>free</td>\n",
       "    </tr>\n",
       "    <tr>\n",
       "      <th>1069</th>\n",
       "      <td>7007.076943</td>\n",
       "      <td>53.0</td>\n",
       "      <td>3</td>\n",
       "      <td>free</td>\n",
       "    </tr>\n",
       "    <tr>\n",
       "      <th>1071</th>\n",
       "      <td>3635.094136</td>\n",
       "      <td>15.0</td>\n",
       "      <td>1</td>\n",
       "      <td>free</td>\n",
       "    </tr>\n",
       "    <tr>\n",
       "      <th>1072</th>\n",
       "      <td>2498.615999</td>\n",
       "      <td>11.0</td>\n",
       "      <td>1</td>\n",
       "      <td>free</td>\n",
       "    </tr>\n",
       "  </tbody>\n",
       "</table>\n",
       "</div>"
      ],
      "text/plain": [
       "                   distance  duration  count_tips subscription_type\n",
       "month user_id                                                      \n",
       "1     1         7027.511294      42.0           2             ultra\n",
       "      1061     12637.249630      43.0           3              free\n",
       "      1063      3276.362299      10.0           1              free\n",
       "      1064      5297.324649      15.0           1              free\n",
       "      1065     14547.099333      99.0           4              free\n",
       "      1066      2809.064949      19.0           1              free\n",
       "      1067      3864.900780      22.0           1              free\n",
       "      1069      7007.076943      53.0           3              free\n",
       "      1071      3635.094136      15.0           1              free\n",
       "      1072      2498.615999      11.0           1              free"
      ]
     },
     "execution_count": 52,
     "metadata": {},
     "output_type": "execute_result"
    }
   ],
   "source": [
    "#Отсортируем помесячно и посмотрим:\n",
    "final_data.sort_values(by='month').head(10)\n"
   ]
  },
  {
   "cell_type": "code",
   "execution_count": 53,
   "id": "f075ef56",
   "metadata": {},
   "outputs": [
    {
     "data": {
      "text/html": [
       "<div>\n",
       "<style scoped>\n",
       "    .dataframe tbody tr th:only-of-type {\n",
       "        vertical-align: middle;\n",
       "    }\n",
       "\n",
       "    .dataframe tbody tr th {\n",
       "        vertical-align: top;\n",
       "    }\n",
       "\n",
       "    .dataframe thead th {\n",
       "        text-align: right;\n",
       "    }\n",
       "</style>\n",
       "<table border=\"1\" class=\"dataframe\">\n",
       "  <thead>\n",
       "    <tr style=\"text-align: right;\">\n",
       "      <th></th>\n",
       "      <th></th>\n",
       "      <th>distance</th>\n",
       "      <th>duration</th>\n",
       "      <th>count_tips</th>\n",
       "      <th>subscription_type</th>\n",
       "    </tr>\n",
       "    <tr>\n",
       "      <th>month</th>\n",
       "      <th>user_id</th>\n",
       "      <th></th>\n",
       "      <th></th>\n",
       "      <th></th>\n",
       "      <th></th>\n",
       "    </tr>\n",
       "  </thead>\n",
       "  <tbody>\n",
       "    <tr>\n",
       "      <th>1</th>\n",
       "      <th>3</th>\n",
       "      <td>3061.777147</td>\n",
       "      <td>13.0</td>\n",
       "      <td>1</td>\n",
       "      <td>ultra</td>\n",
       "    </tr>\n",
       "    <tr>\n",
       "      <th>2</th>\n",
       "      <th>3</th>\n",
       "      <td>5421.152016</td>\n",
       "      <td>39.0</td>\n",
       "      <td>2</td>\n",
       "      <td>ultra</td>\n",
       "    </tr>\n",
       "    <tr>\n",
       "      <th>4</th>\n",
       "      <th>3</th>\n",
       "      <td>2956.651632</td>\n",
       "      <td>21.0</td>\n",
       "      <td>1</td>\n",
       "      <td>ultra</td>\n",
       "    </tr>\n",
       "    <tr>\n",
       "      <th>5</th>\n",
       "      <th>3</th>\n",
       "      <td>9064.026918</td>\n",
       "      <td>63.0</td>\n",
       "      <td>3</td>\n",
       "      <td>ultra</td>\n",
       "    </tr>\n",
       "    <tr>\n",
       "      <th>7</th>\n",
       "      <th>3</th>\n",
       "      <td>10919.595403</td>\n",
       "      <td>67.0</td>\n",
       "      <td>3</td>\n",
       "      <td>ultra</td>\n",
       "    </tr>\n",
       "    <tr>\n",
       "      <th>9</th>\n",
       "      <th>3</th>\n",
       "      <td>2891.012822</td>\n",
       "      <td>23.0</td>\n",
       "      <td>1</td>\n",
       "      <td>ultra</td>\n",
       "    </tr>\n",
       "    <tr>\n",
       "      <th>12</th>\n",
       "      <th>3</th>\n",
       "      <td>2593.381928</td>\n",
       "      <td>13.0</td>\n",
       "      <td>1</td>\n",
       "      <td>ultra</td>\n",
       "    </tr>\n",
       "  </tbody>\n",
       "</table>\n",
       "</div>"
      ],
      "text/plain": [
       "                   distance  duration  count_tips subscription_type\n",
       "month user_id                                                      \n",
       "1     3         3061.777147      13.0           1             ultra\n",
       "2     3         5421.152016      39.0           2             ultra\n",
       "4     3         2956.651632      21.0           1             ultra\n",
       "5     3         9064.026918      63.0           3             ultra\n",
       "7     3        10919.595403      67.0           3             ultra\n",
       "9     3         2891.012822      23.0           1             ultra\n",
       "12    3         2593.381928      13.0           1             ultra"
      ]
     },
     "execution_count": 53,
     "metadata": {},
     "output_type": "execute_result"
    }
   ],
   "source": [
    "#И выведем например пользователя c  ID = 3\n",
    "final_data.query('user_id == 3')"
   ]
  },
  {
   "cell_type": "code",
   "execution_count": 54,
   "id": "95790c1b",
   "metadata": {},
   "outputs": [],
   "source": [
    "# Осталось добавить столбец с помесячной выручкой, сделаем функцию, \n",
    "# если подписка есть, умножаем цену на продолжительность и добавляем ее цену в месяц\n",
    "# если подписки нет, умножаем повышенную цену и добавляем стомость посадки помноженную на количество поездок:\n",
    "def estimate (row):\n",
    "    if row['subscription_type'] == 'ultra':\n",
    "        return 6 * row['duration'] + 199\n",
    "    elif row['subscription_type'] == 'free':\n",
    "        return 8 * row['duration'] + 50 * row['count_tips']\n",
    "    else:\n",
    "        return 'Not such sub'"
   ]
  },
  {
   "cell_type": "code",
   "execution_count": 55,
   "id": "4733ea57",
   "metadata": {},
   "outputs": [],
   "source": [
    "# Добавляем новый столбец и используем фунцию .apply с применением к каждой строчке. \n",
    "final_data['rate_each_month'] = final_data.apply(estimate, axis=1)"
   ]
  },
  {
   "cell_type": "code",
   "execution_count": 56,
   "id": "adc1aed2",
   "metadata": {},
   "outputs": [
    {
     "data": {
      "text/plain": [
       "month  user_id\n",
       "1      1          451.0\n",
       "       3          277.0\n",
       "       5          277.0\n",
       "       7          367.0\n",
       "       12         397.0\n",
       "       13         451.0\n",
       "       14         409.0\n",
       "       15         433.0\n",
       "       20         373.0\n",
       "       22         277.0\n",
       "       25         301.0\n",
       "       26         367.0\n",
       "       30         349.0\n",
       "       32         349.0\n",
       "       35         541.0\n",
       "Name: rate_each_month, dtype: float64"
      ]
     },
     "execution_count": 56,
     "metadata": {},
     "output_type": "execute_result"
    }
   ],
   "source": [
    "# проверим:\n",
    "final_data['rate_each_month'].head(15)"
   ]
  },
  {
   "cell_type": "code",
   "execution_count": 57,
   "id": "5cdfeb18",
   "metadata": {
    "scrolled": false
   },
   "outputs": [
    {
     "data": {
      "text/html": [
       "<div>\n",
       "<style scoped>\n",
       "    .dataframe tbody tr th:only-of-type {\n",
       "        vertical-align: middle;\n",
       "    }\n",
       "\n",
       "    .dataframe tbody tr th {\n",
       "        vertical-align: top;\n",
       "    }\n",
       "\n",
       "    .dataframe thead th {\n",
       "        text-align: right;\n",
       "    }\n",
       "</style>\n",
       "<table border=\"1\" class=\"dataframe\">\n",
       "  <thead>\n",
       "    <tr style=\"text-align: right;\">\n",
       "      <th></th>\n",
       "      <th></th>\n",
       "      <th>distance</th>\n",
       "      <th>duration</th>\n",
       "      <th>count_tips</th>\n",
       "      <th>subscription_type</th>\n",
       "      <th>rate_each_month</th>\n",
       "    </tr>\n",
       "    <tr>\n",
       "      <th>month</th>\n",
       "      <th>user_id</th>\n",
       "      <th></th>\n",
       "      <th></th>\n",
       "      <th></th>\n",
       "      <th></th>\n",
       "      <th></th>\n",
       "    </tr>\n",
       "  </thead>\n",
       "  <tbody>\n",
       "    <tr>\n",
       "      <th rowspan=\"5\" valign=\"top\">1</th>\n",
       "      <th>1</th>\n",
       "      <td>7027.511294</td>\n",
       "      <td>42.0</td>\n",
       "      <td>2</td>\n",
       "      <td>ultra</td>\n",
       "      <td>451.0</td>\n",
       "    </tr>\n",
       "    <tr>\n",
       "      <th>3</th>\n",
       "      <td>3061.777147</td>\n",
       "      <td>13.0</td>\n",
       "      <td>1</td>\n",
       "      <td>ultra</td>\n",
       "      <td>277.0</td>\n",
       "    </tr>\n",
       "    <tr>\n",
       "      <th>5</th>\n",
       "      <td>3914.646990</td>\n",
       "      <td>13.0</td>\n",
       "      <td>1</td>\n",
       "      <td>ultra</td>\n",
       "      <td>277.0</td>\n",
       "    </tr>\n",
       "    <tr>\n",
       "      <th>7</th>\n",
       "      <td>6478.080979</td>\n",
       "      <td>28.0</td>\n",
       "      <td>2</td>\n",
       "      <td>ultra</td>\n",
       "      <td>367.0</td>\n",
       "    </tr>\n",
       "    <tr>\n",
       "      <th>12</th>\n",
       "      <td>3577.151148</td>\n",
       "      <td>33.0</td>\n",
       "      <td>1</td>\n",
       "      <td>ultra</td>\n",
       "      <td>397.0</td>\n",
       "    </tr>\n",
       "  </tbody>\n",
       "</table>\n",
       "</div>"
      ],
      "text/plain": [
       "                  distance  duration  count_tips subscription_type  \\\n",
       "month user_id                                                        \n",
       "1     1        7027.511294      42.0           2             ultra   \n",
       "      3        3061.777147      13.0           1             ultra   \n",
       "      5        3914.646990      13.0           1             ultra   \n",
       "      7        6478.080979      28.0           2             ultra   \n",
       "      12       3577.151148      33.0           1             ultra   \n",
       "\n",
       "               rate_each_month  \n",
       "month user_id                   \n",
       "1     1                  451.0  \n",
       "      3                  277.0  \n",
       "      5                  277.0  \n",
       "      7                  367.0  \n",
       "      12                 397.0  "
      ]
     },
     "execution_count": 57,
     "metadata": {},
     "output_type": "execute_result"
    }
   ],
   "source": [
    "final_data.head()"
   ]
  },
  {
   "cell_type": "markdown",
   "id": "9a2bb49f",
   "metadata": {},
   "source": [
    "##### Вывод:  Мы собрали все данные в единую таблицу, где можно увидеть траты каждого пользователя, за каждый месяц."
   ]
  },
  {
   "cell_type": "markdown",
   "id": "41545ac0",
   "metadata": {},
   "source": [
    "#### Шаг 6. Проверка гипотез"
   ]
  },
  {
   "cell_type": "markdown",
   "id": "a9b0a5f4",
   "metadata": {},
   "source": [
    "##### Сформируем первую гипотезу, вопрос звучал как:\n",
    "Важно понять, тратят ли пользователи с подпиской больше времени на поездки?\n",
    "\n",
    "Сформируем нулевую гипотезу: \n",
    "- Среднее время поездики пользователей с подпиской и без - равно. H_0.\n",
    "\n",
    "Альтернативная ей: \n",
    "- Пользователи с подпиской тратят больше времени - H_1 (Получается у нас односторонняя гипотеза) \n",
    "\n"
   ]
  },
  {
   "cell_type": "code",
   "execution_count": 58,
   "id": "fa4dec98",
   "metadata": {
    "scrolled": true
   },
   "outputs": [
    {
     "name": "stdout",
     "output_type": "stream",
     "text": [
      "p-значение: 1.2804098316645618e-34\n",
      "Отвергаем нулевую гипотезу, пользователи с подпиской тратят больше времени на поездку\n"
     ]
    }
   ],
   "source": [
    "# Уровень статистической значимости, граница ошибки которую мы готовы принять, когда отвергаем H_0.\n",
    "alpha = .05 \n",
    "\n",
    "results = st.ttest_ind(\n",
    "    data_mrg_ultra['duration'],\n",
    "    data_mrg_free['duration'],\n",
    "    alternative = 'greater'\n",
    ")\n",
    "print('p-значение:', results.pvalue)\n",
    "\n",
    "if results.pvalue < alpha:\n",
    "    print('Отвергаем нулевую гипотезу, пользователи с подпиской тратят больше времени на поездку')\n",
    "else:\n",
    "    print('Не отвергаем нулевую гипотезу, пользователи с подпиской не тратят больше времени на поездку')\n"
   ]
  },
  {
   "cell_type": "markdown",
   "id": "4d857de8",
   "metadata": {},
   "source": [
    "##### Теория продактов: Расстояние одной поездки в  3130 метров — оптимальное с точки зрения износа самоката. Можно ли сказать, что среднее расстояние, которое проезжают пользователи с подпиской за одну поездку, не превышает 3130 метров? \n",
    "Формируем нулеву и альтернативную гипотезы согласно общепринятым нормам:\n",
    "- H_0 среднее расстояние с подпиской равно 3130м.\n",
    "- H_1 среднее расстояние c с подпиской больше 3130м."
   ]
  },
  {
   "cell_type": "code",
   "execution_count": 59,
   "id": "6b57f635",
   "metadata": {
    "scrolled": true
   },
   "outputs": [
    {
     "name": "stdout",
     "output_type": "stream",
     "text": [
      "0.9195368847849785\n",
      "Не получилось отвергнуть нулевую гипотезу\n"
     ]
    }
   ],
   "source": [
    "results = st.ttest_1samp(data_mrg_ultra['distance'], 3130, alternative='greater')\n",
    "print(results.pvalue)\n",
    "if results.pvalue < alpha:\n",
    "    print('Отвергаем нулевую гипотезу')\n",
    "else:\n",
    "    print('Не получилось отвергнуть нулевую гипотезу')"
   ]
  },
  {
   "cell_type": "markdown",
   "id": "dce592f6",
   "metadata": {},
   "source": [
    "##### Теория продактов : Проверьте гипотезу о том, будет ли помесячная выручка от пользователей с подпиской по месяцам выше, чем выручка от пользователей без подписки. \n",
    "Формируем нулевую и альтернативную гипотезы согласно общепринятым нормам:\n",
    "- H_0 помесячная выручка пользователей с подпиской = выручке пользователей без подписки.\n",
    "- H_1 помесячная выручка пользователей с подпиской выше.\n"
   ]
  },
  {
   "cell_type": "code",
   "execution_count": 60,
   "id": "6addddc4",
   "metadata": {
    "scrolled": true
   },
   "outputs": [
    {
     "name": "stdout",
     "output_type": "stream",
     "text": [
      "1.8850394384715216e-31\n",
      "Отвергаем нулевую гипотезу\n"
     ]
    }
   ],
   "source": [
    "\n",
    "\n",
    "results = st.ttest_ind(\n",
    "    final_data.loc[final_data['subscription_type'] == 'ultra', 'rate_each_month'],\n",
    "    final_data.loc[final_data['subscription_type'] == 'free', 'rate_each_month'],\n",
    "    equal_var=True,\n",
    "    alternative='greater'\n",
    ")\n",
    "\n",
    "print(results.pvalue)\n",
    "if results.pvalue < alpha:\n",
    "    print('Отвергаем нулевую гипотезу')\n",
    "else:\n",
    "    print('Не получилось отвергнуть нулевую гипотезу')"
   ]
  },
  {
   "cell_type": "markdown",
   "id": "7d3a6d06",
   "metadata": {},
   "source": [
    "##### Запрос от продактов: \n",
    "Представьте такую ситуацию: техническая команда сервиса обновила сервера, с которыми взаимодействует мобильное приложение. Она надеется, что из-за этого количество обращений в техподдержку значимо снизилось. Некоторый файл содержит для каждого пользователя данные о количестве обращений до обновления и после него. Какой тест вам понадобился бы для проверки этой гипотезы?\n",
    "\n",
    "Ответ: \n",
    "Нам бы понадобился двувыборочный t-тест для зависимых выборок. (st.ttest_rel)\n"
   ]
  },
  {
   "cell_type": "code",
   "execution_count": null,
   "id": "724937b9",
   "metadata": {},
   "outputs": [],
   "source": []
  },
  {
   "cell_type": "code",
   "execution_count": null,
   "id": "bb085ef2",
   "metadata": {},
   "outputs": [],
   "source": []
  },
  {
   "cell_type": "markdown",
   "id": "61213c5e",
   "metadata": {},
   "source": [
    "#### Общий вывод"
   ]
  },
  {
   "cell_type": "markdown",
   "id": "dcacb121",
   "metadata": {},
   "source": [
    "##### Мы проделали следующую работу:\n",
    "Ознакомились и предопбработали.\n",
    "- Загрузили 3 датафрейма. Ознакомились с ними,убедились что данные нормально расределены, явных выбросов нет. Удалили небольшое количество дубликатов.\n"
   ]
  },
  {
   "cell_type": "markdown",
   "id": "bca5fb10",
   "metadata": {},
   "source": [
    "##### - Исследовали данные: \n",
    "- Пользователи распределены среди 8 городов. Больше всего в Пятигорске, меньше всего в Москве.\n",
    "- Увидели тчто пользователей с подпиской немного меньше чем без(± 46% к 54, или  699 пользователей к 835)\n",
    "- Возраст пользователей имеет нормальное распределение. Самоому младшему пользователю 12 лет, старшему - 43. Больше всего пользователей в возрасте 25 лет. Межкварительный размах - от 22 до 28 лет.\n",
    "- При анализ расстояния одной поездки мы увидели нормальное распределение. Можно было явно выделить два пика, один в районе 600м, второй в районе 3000м. Большая часть поездок находится в межквартильном размахе от 2543 до 3776 метров. \n",
    "- При анализе продолжительности поездки, мы аналогично, видим нормальное распределение. С небольшим выбросом в начале, предполагаю что это пользователи с неудачным опытом взаимодействия с приложением / самокатом.  Межквартильный размах от 13,6 минут до 21,7.\n"
   ]
  },
  {
   "cell_type": "markdown",
   "id": "79ad0017",
   "metadata": {},
   "source": [
    "##### Далее мы объеденили три датасета в один, и сравнили данные пользователей с подписой и без: \n",
    "Визуально графики схожи, имеют нормальное распределение.\n",
    "\n",
    "По расстоянию:\n",
    "\n",
    "Межквартильный размах без подписки - с 2366 м до 3905 м\n",
    "Межквартильный размах с подпиской - с 2785 м до 3560 м\n",
    "По продолжительности:\n",
    "\n",
    "Межквартильный размах без подписки - с 12.9 мин до 21.5 мин\n",
    "Межквартильный размах с подпиской - с 14.5 мин до 21.8 мин\n",
    "Как мы знаем из 3.2 что пользователей без подписки больше незначительно(835 против 699), количество поездок совершенных без подписки больше ощутимо:\n",
    "\n",
    "Так же мы увидели, что пользователи без подписки совершают больше поездок: 11568 против 6500."
   ]
  },
  {
   "cell_type": "markdown",
   "id": "8e709f28",
   "metadata": {},
   "source": [
    "##### После мы добавили столбец подсчетом выручки по каждому месяцу и пользователю, что в дальнейшем позволит нам корректно отработать предположения продактов. \n"
   ]
  },
  {
   "cell_type": "markdown",
   "id": "8f7f6922",
   "metadata": {},
   "source": [
    "##### Было обработано три запроса от продактов:\n",
    "1. Важно понять, тратят ли пользователи с подпиской больше времени на поездки\n",
    "Нулевая гипотеза: Среднее время поездики пользователей с подпиской и без - равно. H_0.\n",
    "Альтернативная : Пользователи с подпиской тратят больше времени - H_1 (Получается у нас односторонняя гипотеза)\n",
    "p-value: 1.28e-34 \n",
    "Очень маленькое значение, которое означает что мы можем отвергунть нулевую гипотезу и принять что пользователи с подской тратят больше.\n",
    "\n",
    "\n",
    "\n",
    "2. Теория продактов: Расстояние одной поездки в 3130 метров — оптимальное с точки зрения износа самоката. Можно ли сказать, что среднее расстояние, которое проезжают пользователи с подпиской за одну поездку, не превышает 3130 метров?\n",
    "\n",
    "Сформировали нулевую и альтернативную гипотезы согласно общепринятым нормам:\n",
    "H_0 среднее расстояние с подпиской равно 3130м.\n",
    "H_1 среднее расстояние c с подпиской больше 3130м.\n",
    "p-value : 0.9195\n",
    "Значение высокое, нет статистической значимой разницы между средним расстоянием пользователей с подпиской и 3130 метрами.\n",
    "\n",
    "3. Теория продактов : Проверьте гипотезу о том, будет ли помесячная выручка от пользователей с подпиской по месяцам выше, чем выручка от пользователей без подписки\n",
    "H_0 помесячная выручка пользователей с подпиской = выручке пользователей без подписки.\n",
    "H_1 помесячная выручка пользователей с подпиской выше.\n",
    "p-value:1.0718729651261336e-44 \n",
    "Значение очень маленькое, таким образом, существует статистически значимая разница, и мы можем утверждать, что помесячная выручка пользователей с подпиской действительно выше, чем у пользователей без подписки.\n",
    "\n",
    "\n",
    "\n"
   ]
  },
  {
   "cell_type": "markdown",
   "id": "08a74fe8",
   "metadata": {},
   "source": [
    "##### Мой вывод после исследования:\n",
    "- Необходимо продвигать сервис подписок, так как исходя из данных они приносят больше прибыли. \n",
    "- Необходимо доисследовать данные, для более лучшего анализа: например, просмотреть какие группы используют короткие поездки(возможно использвание для пересадок)\n",
    "- Возможно требуется добавить тариф с кешбеком в виде баллов + компенсации времени на замену, что бы средняя поездка не превышала 3130метров и не присутствовал избыточный износ техники.\n"
   ]
  }
 ],
 "metadata": {
  "ExecuteTimeLog": [
   {
    "duration": 1468,
    "start_time": "2025-02-21T15:38:46.836Z"
   },
   {
    "duration": 19,
    "start_time": "2025-02-21T15:39:06.064Z"
   },
   {
    "duration": 12,
    "start_time": "2025-02-21T15:39:36.078Z"
   },
   {
    "duration": 12,
    "start_time": "2025-02-21T15:39:43.908Z"
   },
   {
    "duration": 18,
    "start_time": "2025-02-21T15:40:06.528Z"
   },
   {
    "duration": 9,
    "start_time": "2025-02-21T15:40:13.603Z"
   },
   {
    "duration": 15,
    "start_time": "2025-02-21T15:40:19.337Z"
   },
   {
    "duration": 28,
    "start_time": "2025-02-21T15:41:33.658Z"
   },
   {
    "duration": 52,
    "start_time": "2025-02-22T13:09:30.707Z"
   },
   {
    "duration": 1539,
    "start_time": "2025-02-22T13:09:36.882Z"
   },
   {
    "duration": 30,
    "start_time": "2025-02-22T13:09:38.423Z"
   },
   {
    "duration": 15,
    "start_time": "2025-02-22T13:09:38.455Z"
   },
   {
    "duration": 13,
    "start_time": "2025-02-22T13:09:38.471Z"
   },
   {
    "duration": 33,
    "start_time": "2025-02-22T13:09:38.487Z"
   },
   {
    "duration": 10,
    "start_time": "2025-02-22T13:09:38.522Z"
   },
   {
    "duration": 13,
    "start_time": "2025-02-22T13:09:45.328Z"
   },
   {
    "duration": 16,
    "start_time": "2025-02-22T13:10:33.658Z"
   },
   {
    "duration": 8,
    "start_time": "2025-02-22T13:10:50.472Z"
   },
   {
    "duration": 7,
    "start_time": "2025-02-22T13:11:07.797Z"
   },
   {
    "duration": 10,
    "start_time": "2025-02-22T13:11:11.458Z"
   },
   {
    "duration": 537,
    "start_time": "2025-02-22T13:16:07.302Z"
   },
   {
    "duration": 509,
    "start_time": "2025-02-22T13:16:32.596Z"
   },
   {
    "duration": 8,
    "start_time": "2025-02-22T13:16:57.195Z"
   },
   {
    "duration": 111,
    "start_time": "2025-02-22T13:21:01.957Z"
   },
   {
    "duration": 10,
    "start_time": "2025-02-22T13:21:07.779Z"
   },
   {
    "duration": 370,
    "start_time": "2025-02-22T13:23:03.684Z"
   },
   {
    "duration": 6,
    "start_time": "2025-02-22T13:23:53.620Z"
   },
   {
    "duration": 6,
    "start_time": "2025-02-22T13:23:55.345Z"
   },
   {
    "duration": 8,
    "start_time": "2025-02-22T13:24:23.094Z"
   },
   {
    "duration": 7,
    "start_time": "2025-02-22T13:24:28.242Z"
   },
   {
    "duration": 7,
    "start_time": "2025-02-22T13:26:25.675Z"
   },
   {
    "duration": 10,
    "start_time": "2025-02-22T13:26:41.833Z"
   },
   {
    "duration": 7,
    "start_time": "2025-02-22T13:26:43.572Z"
   },
   {
    "duration": 569,
    "start_time": "2025-02-22T13:26:45.820Z"
   },
   {
    "duration": 7,
    "start_time": "2025-02-22T13:26:52.331Z"
   },
   {
    "duration": 5,
    "start_time": "2025-02-22T13:27:14.412Z"
   },
   {
    "duration": 511,
    "start_time": "2025-02-22T13:28:03.537Z"
   },
   {
    "duration": 8,
    "start_time": "2025-02-22T13:38:24.614Z"
   },
   {
    "duration": 13,
    "start_time": "2025-02-22T13:38:43.666Z"
   },
   {
    "duration": 6,
    "start_time": "2025-02-22T13:38:44.567Z"
   },
   {
    "duration": 6,
    "start_time": "2025-02-22T13:38:51.092Z"
   },
   {
    "duration": 5,
    "start_time": "2025-02-22T13:38:55.412Z"
   },
   {
    "duration": 12,
    "start_time": "2025-02-22T13:43:09.517Z"
   },
   {
    "duration": 15,
    "start_time": "2025-02-22T13:49:04.316Z"
   },
   {
    "duration": 17,
    "start_time": "2025-02-22T13:51:27.135Z"
   },
   {
    "duration": 19,
    "start_time": "2025-02-22T13:52:00.100Z"
   },
   {
    "duration": 1395,
    "start_time": "2025-02-22T13:52:10.501Z"
   },
   {
    "duration": 30,
    "start_time": "2025-02-22T13:52:11.898Z"
   },
   {
    "duration": 15,
    "start_time": "2025-02-22T13:52:11.929Z"
   },
   {
    "duration": 13,
    "start_time": "2025-02-22T13:52:11.946Z"
   },
   {
    "duration": 406,
    "start_time": "2025-02-22T13:52:11.962Z"
   },
   {
    "duration": 7,
    "start_time": "2025-02-22T13:52:12.372Z"
   },
   {
    "duration": 17,
    "start_time": "2025-02-22T13:52:12.381Z"
   },
   {
    "duration": 33,
    "start_time": "2025-02-22T13:52:12.401Z"
   },
   {
    "duration": 11,
    "start_time": "2025-02-22T13:52:12.436Z"
   },
   {
    "duration": 24,
    "start_time": "2025-02-22T13:52:12.449Z"
   },
   {
    "duration": 508,
    "start_time": "2025-02-22T13:52:12.475Z"
   },
   {
    "duration": 8,
    "start_time": "2025-02-22T13:52:12.986Z"
   },
   {
    "duration": 13,
    "start_time": "2025-02-22T13:52:12.996Z"
   },
   {
    "duration": 15,
    "start_time": "2025-02-22T13:52:13.013Z"
   },
   {
    "duration": 8,
    "start_time": "2025-02-22T13:52:13.030Z"
   },
   {
    "duration": 34,
    "start_time": "2025-02-22T13:52:13.040Z"
   },
   {
    "duration": 496,
    "start_time": "2025-02-22T13:52:13.076Z"
   },
   {
    "duration": 6,
    "start_time": "2025-02-22T13:52:13.574Z"
   },
   {
    "duration": 16,
    "start_time": "2025-02-22T13:52:13.581Z"
   },
   {
    "duration": 14,
    "start_time": "2025-02-22T13:52:13.598Z"
   },
   {
    "duration": 6,
    "start_time": "2025-02-22T13:52:13.614Z"
   },
   {
    "duration": 8,
    "start_time": "2025-02-22T13:52:13.621Z"
   },
   {
    "duration": 5,
    "start_time": "2025-02-22T13:52:13.630Z"
   },
   {
    "duration": 39,
    "start_time": "2025-02-22T13:52:13.637Z"
   },
   {
    "duration": 5,
    "start_time": "2025-02-22T14:25:43.404Z"
   },
   {
    "duration": 4,
    "start_time": "2025-02-22T14:36:06.230Z"
   },
   {
    "duration": 6,
    "start_time": "2025-02-22T14:36:12.436Z"
   },
   {
    "duration": 10,
    "start_time": "2025-02-22T14:36:49.950Z"
   },
   {
    "duration": 157,
    "start_time": "2025-02-22T14:37:03.586Z"
   },
   {
    "duration": 120,
    "start_time": "2025-02-22T14:37:18.633Z"
   },
   {
    "duration": 289,
    "start_time": "2025-02-22T14:37:21.751Z"
   },
   {
    "duration": 156,
    "start_time": "2025-02-22T14:38:25.501Z"
   },
   {
    "duration": 157,
    "start_time": "2025-02-22T14:38:33.692Z"
   },
   {
    "duration": 139,
    "start_time": "2025-02-22T14:38:37.877Z"
   },
   {
    "duration": 188,
    "start_time": "2025-02-22T14:39:31.913Z"
   },
   {
    "duration": 181,
    "start_time": "2025-02-22T14:39:39.333Z"
   },
   {
    "duration": 5,
    "start_time": "2025-02-22T14:41:02.493Z"
   },
   {
    "duration": 8,
    "start_time": "2025-02-22T14:41:09.003Z"
   },
   {
    "duration": 70,
    "start_time": "2025-02-22T14:42:36.515Z"
   },
   {
    "duration": 153,
    "start_time": "2025-02-22T14:42:42.530Z"
   },
   {
    "duration": 75,
    "start_time": "2025-02-22T14:43:24.710Z"
   },
   {
    "duration": 163,
    "start_time": "2025-02-22T14:43:29.150Z"
   },
   {
    "duration": 7,
    "start_time": "2025-02-22T14:44:36.232Z"
   },
   {
    "duration": 9,
    "start_time": "2025-02-22T14:47:45.758Z"
   },
   {
    "duration": 4,
    "start_time": "2025-02-22T14:48:48.563Z"
   },
   {
    "duration": 149,
    "start_time": "2025-02-22T14:49:15.127Z"
   },
   {
    "duration": 145,
    "start_time": "2025-02-22T14:49:21.414Z"
   },
   {
    "duration": 159,
    "start_time": "2025-02-22T14:49:24.316Z"
   },
   {
    "duration": 147,
    "start_time": "2025-02-22T14:49:31.281Z"
   },
   {
    "duration": 283,
    "start_time": "2025-02-22T14:49:45.055Z"
   },
   {
    "duration": 221,
    "start_time": "2025-02-22T15:00:38.963Z"
   },
   {
    "duration": 213,
    "start_time": "2025-02-22T15:01:36.384Z"
   },
   {
    "duration": 220,
    "start_time": "2025-02-22T15:02:26.953Z"
   },
   {
    "duration": 215,
    "start_time": "2025-02-22T15:02:57.893Z"
   },
   {
    "duration": 9,
    "start_time": "2025-02-22T15:02:58.109Z"
   },
   {
    "duration": 11,
    "start_time": "2025-02-22T15:09:14.910Z"
   },
   {
    "duration": 240,
    "start_time": "2025-02-22T15:10:15.076Z"
   },
   {
    "duration": 235,
    "start_time": "2025-02-22T15:18:31.691Z"
   },
   {
    "duration": 9,
    "start_time": "2025-02-22T15:24:18.744Z"
   },
   {
    "duration": 18,
    "start_time": "2025-02-22T15:28:23.337Z"
   },
   {
    "duration": 34,
    "start_time": "2025-02-22T15:28:53.337Z"
   },
   {
    "duration": 24,
    "start_time": "2025-02-22T15:31:48.313Z"
   },
   {
    "duration": 16,
    "start_time": "2025-02-22T15:31:50.600Z"
   },
   {
    "duration": 577,
    "start_time": "2025-02-22T15:42:03.108Z"
   },
   {
    "duration": 264,
    "start_time": "2025-02-22T15:42:35.530Z"
   },
   {
    "duration": 282,
    "start_time": "2025-02-22T15:44:43.325Z"
   },
   {
    "duration": 271,
    "start_time": "2025-02-22T15:46:40.221Z"
   },
   {
    "duration": 293,
    "start_time": "2025-02-22T15:51:14.318Z"
   },
   {
    "duration": 385,
    "start_time": "2025-02-22T15:51:52.761Z"
   },
   {
    "duration": 18,
    "start_time": "2025-02-22T16:04:23.359Z"
   },
   {
    "duration": 18,
    "start_time": "2025-02-22T16:04:47.718Z"
   },
   {
    "duration": 20,
    "start_time": "2025-02-22T16:04:56.633Z"
   },
   {
    "duration": 18,
    "start_time": "2025-02-22T16:07:21.505Z"
   },
   {
    "duration": 17,
    "start_time": "2025-02-22T16:07:25.480Z"
   },
   {
    "duration": 8,
    "start_time": "2025-02-22T16:07:35.543Z"
   },
   {
    "duration": 8,
    "start_time": "2025-02-22T16:07:46.254Z"
   },
   {
    "duration": 11,
    "start_time": "2025-02-22T16:07:48.757Z"
   },
   {
    "duration": 10,
    "start_time": "2025-02-22T16:08:08.574Z"
   },
   {
    "duration": 9,
    "start_time": "2025-02-22T16:08:09.303Z"
   },
   {
    "duration": 8,
    "start_time": "2025-02-22T16:08:20.125Z"
   },
   {
    "duration": 10,
    "start_time": "2025-02-22T16:09:55.837Z"
   },
   {
    "duration": 9,
    "start_time": "2025-02-22T16:09:57.610Z"
   },
   {
    "duration": 905,
    "start_time": "2025-02-22T19:51:44.120Z"
   },
   {
    "duration": 4,
    "start_time": "2025-02-22T19:51:52.268Z"
   },
   {
    "duration": 4,
    "start_time": "2025-02-22T19:53:38.541Z"
   },
   {
    "duration": 15,
    "start_time": "2025-02-22T19:54:32.377Z"
   },
   {
    "duration": 18,
    "start_time": "2025-02-22T19:55:20.770Z"
   },
   {
    "duration": 16,
    "start_time": "2025-02-22T19:55:30.488Z"
   },
   {
    "duration": 12,
    "start_time": "2025-02-22T19:55:35.512Z"
   },
   {
    "duration": 10,
    "start_time": "2025-02-22T20:04:48.752Z"
   },
   {
    "duration": 14,
    "start_time": "2025-02-22T20:05:00.607Z"
   },
   {
    "duration": 13,
    "start_time": "2025-02-22T20:05:07.780Z"
   },
   {
    "duration": 13,
    "start_time": "2025-02-22T20:05:13.165Z"
   },
   {
    "duration": 18,
    "start_time": "2025-02-22T20:11:33.396Z"
   },
   {
    "duration": 827,
    "start_time": "2025-02-22T20:11:52.439Z"
   },
   {
    "duration": 4,
    "start_time": "2025-02-22T20:11:55.151Z"
   },
   {
    "duration": 4,
    "start_time": "2025-02-22T20:11:56.935Z"
   },
   {
    "duration": 12,
    "start_time": "2025-02-22T20:11:59.893Z"
   },
   {
    "duration": 17,
    "start_time": "2025-02-22T20:12:21.579Z"
   },
   {
    "duration": 934,
    "start_time": "2025-02-22T20:12:27.572Z"
   },
   {
    "duration": 949,
    "start_time": "2025-02-22T20:13:03.128Z"
   },
   {
    "duration": 47,
    "start_time": "2025-02-23T08:46:28.200Z"
   },
   {
    "duration": 1362,
    "start_time": "2025-02-23T08:46:41.241Z"
   },
   {
    "duration": 18,
    "start_time": "2025-02-23T08:46:42.606Z"
   },
   {
    "duration": 44,
    "start_time": "2025-02-23T08:46:42.626Z"
   },
   {
    "duration": 40,
    "start_time": "2025-02-23T08:46:42.671Z"
   },
   {
    "duration": 377,
    "start_time": "2025-02-23T08:46:42.713Z"
   },
   {
    "duration": 11,
    "start_time": "2025-02-23T08:46:43.091Z"
   },
   {
    "duration": 6,
    "start_time": "2025-02-23T08:46:43.104Z"
   },
   {
    "duration": 7,
    "start_time": "2025-02-23T08:46:43.111Z"
   },
   {
    "duration": 55,
    "start_time": "2025-02-23T08:46:43.119Z"
   },
   {
    "duration": 9,
    "start_time": "2025-02-23T08:46:43.175Z"
   },
   {
    "duration": 106,
    "start_time": "2025-02-23T08:46:43.185Z"
   },
   {
    "duration": 439,
    "start_time": "2025-02-23T08:46:43.292Z"
   },
   {
    "duration": 6,
    "start_time": "2025-02-23T08:46:43.733Z"
   },
   {
    "duration": 67,
    "start_time": "2025-02-23T08:46:43.742Z"
   },
   {
    "duration": 21,
    "start_time": "2025-02-23T08:46:43.811Z"
   },
   {
    "duration": 9,
    "start_time": "2025-02-23T08:46:43.833Z"
   },
   {
    "duration": 17,
    "start_time": "2025-02-23T08:46:43.843Z"
   },
   {
    "duration": 458,
    "start_time": "2025-02-23T08:46:43.862Z"
   },
   {
    "duration": 5,
    "start_time": "2025-02-23T08:46:44.322Z"
   },
   {
    "duration": 9,
    "start_time": "2025-02-23T08:46:44.329Z"
   },
   {
    "duration": 11,
    "start_time": "2025-02-23T08:46:44.339Z"
   },
   {
    "duration": 5,
    "start_time": "2025-02-23T08:46:44.352Z"
   },
   {
    "duration": 6,
    "start_time": "2025-02-23T08:46:44.359Z"
   },
   {
    "duration": 4,
    "start_time": "2025-02-23T08:46:44.366Z"
   },
   {
    "duration": 31,
    "start_time": "2025-02-23T08:46:44.372Z"
   },
   {
    "duration": 11,
    "start_time": "2025-02-23T08:46:44.405Z"
   },
   {
    "duration": 193,
    "start_time": "2025-02-23T08:46:44.417Z"
   },
   {
    "duration": 5,
    "start_time": "2025-02-23T08:46:44.612Z"
   },
   {
    "duration": 37,
    "start_time": "2025-02-23T08:46:44.618Z"
   },
   {
    "duration": 243,
    "start_time": "2025-02-23T08:46:44.656Z"
   },
   {
    "duration": 191,
    "start_time": "2025-02-23T08:46:44.901Z"
   },
   {
    "duration": 12,
    "start_time": "2025-02-23T08:46:45.094Z"
   },
   {
    "duration": 246,
    "start_time": "2025-02-23T08:46:45.108Z"
   },
   {
    "duration": 218,
    "start_time": "2025-02-23T08:46:45.355Z"
   },
   {
    "duration": 38,
    "start_time": "2025-02-23T08:46:45.575Z"
   },
   {
    "duration": 21,
    "start_time": "2025-02-23T08:46:45.614Z"
   },
   {
    "duration": 13,
    "start_time": "2025-02-23T08:46:45.636Z"
   },
   {
    "duration": 386,
    "start_time": "2025-02-23T08:46:45.651Z"
   },
   {
    "duration": 9,
    "start_time": "2025-02-23T08:46:46.039Z"
   },
   {
    "duration": 14,
    "start_time": "2025-02-23T08:46:46.052Z"
   },
   {
    "duration": 304,
    "start_time": "2025-02-23T08:46:46.072Z"
   },
   {
    "duration": 9,
    "start_time": "2025-02-23T08:46:46.377Z"
   },
   {
    "duration": 21,
    "start_time": "2025-02-23T08:46:46.387Z"
   },
   {
    "duration": 901,
    "start_time": "2025-02-23T08:46:46.410Z"
   },
   {
    "duration": 3,
    "start_time": "2025-02-23T08:46:47.313Z"
   },
   {
    "duration": 93,
    "start_time": "2025-02-23T08:46:47.317Z"
   },
   {
    "duration": 11,
    "start_time": "2025-02-23T08:46:47.412Z"
   },
   {
    "duration": 11,
    "start_time": "2025-02-23T08:46:47.424Z"
   },
   {
    "duration": 917,
    "start_time": "2025-02-23T08:47:05.590Z"
   },
   {
    "duration": 789,
    "start_time": "2025-02-23T08:47:15.549Z"
   },
   {
    "duration": 456,
    "start_time": "2025-02-23T08:47:35.952Z"
   },
   {
    "duration": 13,
    "start_time": "2025-02-23T08:50:43.641Z"
   },
   {
    "duration": 3,
    "start_time": "2025-02-23T09:10:15.948Z"
   },
   {
    "duration": 139,
    "start_time": "2025-02-23T09:12:35.169Z"
   },
   {
    "duration": 6,
    "start_time": "2025-02-23T09:12:55.348Z"
   },
   {
    "duration": 6,
    "start_time": "2025-02-23T09:13:07.483Z"
   },
   {
    "duration": 6,
    "start_time": "2025-02-23T09:13:11.496Z"
   },
   {
    "duration": 11,
    "start_time": "2025-02-23T09:14:19.036Z"
   },
   {
    "duration": 11,
    "start_time": "2025-02-23T09:14:22.796Z"
   },
   {
    "duration": 854,
    "start_time": "2025-02-23T09:15:57.504Z"
   },
   {
    "duration": 9,
    "start_time": "2025-02-23T09:16:04.468Z"
   },
   {
    "duration": 1394,
    "start_time": "2025-02-23T09:16:19.320Z"
   },
   {
    "duration": 0,
    "start_time": "2025-02-23T09:16:20.715Z"
   },
   {
    "duration": 9,
    "start_time": "2025-02-23T09:16:21.015Z"
   },
   {
    "duration": 1256,
    "start_time": "2025-02-23T09:16:49.346Z"
   },
   {
    "duration": 18,
    "start_time": "2025-02-23T09:16:50.604Z"
   },
   {
    "duration": 13,
    "start_time": "2025-02-23T09:16:50.623Z"
   },
   {
    "duration": 10,
    "start_time": "2025-02-23T09:16:50.638Z"
   },
   {
    "duration": 378,
    "start_time": "2025-02-23T09:16:50.650Z"
   },
   {
    "duration": 6,
    "start_time": "2025-02-23T09:16:51.030Z"
   },
   {
    "duration": 5,
    "start_time": "2025-02-23T09:16:51.038Z"
   },
   {
    "duration": 11,
    "start_time": "2025-02-23T09:16:51.045Z"
   },
   {
    "duration": 32,
    "start_time": "2025-02-23T09:16:51.058Z"
   },
   {
    "duration": 17,
    "start_time": "2025-02-23T09:16:51.092Z"
   },
   {
    "duration": 26,
    "start_time": "2025-02-23T09:16:51.110Z"
   },
   {
    "duration": 499,
    "start_time": "2025-02-23T09:16:51.137Z"
   },
   {
    "duration": 7,
    "start_time": "2025-02-23T09:16:51.638Z"
   },
   {
    "duration": 76,
    "start_time": "2025-02-23T09:16:51.648Z"
   },
   {
    "duration": 39,
    "start_time": "2025-02-23T09:16:51.726Z"
   },
   {
    "duration": 158,
    "start_time": "2025-02-23T09:16:51.767Z"
   },
   {
    "duration": 28,
    "start_time": "2025-02-23T09:16:51.926Z"
   },
   {
    "duration": 482,
    "start_time": "2025-02-23T09:16:51.956Z"
   },
   {
    "duration": 7,
    "start_time": "2025-02-23T09:16:52.439Z"
   },
   {
    "duration": 22,
    "start_time": "2025-02-23T09:16:52.447Z"
   },
   {
    "duration": 22,
    "start_time": "2025-02-23T09:16:52.470Z"
   },
   {
    "duration": 41,
    "start_time": "2025-02-23T09:16:52.494Z"
   },
   {
    "duration": 18,
    "start_time": "2025-02-23T09:16:52.536Z"
   },
   {
    "duration": 14,
    "start_time": "2025-02-23T09:16:52.556Z"
   },
   {
    "duration": 25,
    "start_time": "2025-02-23T09:16:52.572Z"
   },
   {
    "duration": 29,
    "start_time": "2025-02-23T09:16:52.599Z"
   },
   {
    "duration": 170,
    "start_time": "2025-02-23T09:16:52.629Z"
   },
   {
    "duration": 6,
    "start_time": "2025-02-23T09:16:52.800Z"
   },
   {
    "duration": 12,
    "start_time": "2025-02-23T09:16:52.808Z"
   },
   {
    "duration": 233,
    "start_time": "2025-02-23T09:16:52.822Z"
   },
   {
    "duration": 201,
    "start_time": "2025-02-23T09:16:53.057Z"
   },
   {
    "duration": 8,
    "start_time": "2025-02-23T09:16:53.260Z"
   },
   {
    "duration": 331,
    "start_time": "2025-02-23T09:16:53.269Z"
   },
   {
    "duration": 220,
    "start_time": "2025-02-23T09:16:53.601Z"
   },
   {
    "duration": 31,
    "start_time": "2025-02-23T09:16:53.823Z"
   },
   {
    "duration": 97,
    "start_time": "2025-02-23T09:16:53.855Z"
   },
   {
    "duration": 21,
    "start_time": "2025-02-23T09:16:53.954Z"
   },
   {
    "duration": 279,
    "start_time": "2025-02-23T09:16:53.976Z"
   },
   {
    "duration": 8,
    "start_time": "2025-02-23T09:16:54.257Z"
   },
   {
    "duration": 80,
    "start_time": "2025-02-23T09:16:54.266Z"
   },
   {
    "duration": 272,
    "start_time": "2025-02-23T09:16:54.350Z"
   },
   {
    "duration": 8,
    "start_time": "2025-02-23T09:16:54.624Z"
   },
   {
    "duration": 31,
    "start_time": "2025-02-23T09:16:54.633Z"
   },
   {
    "duration": 932,
    "start_time": "2025-02-23T09:16:54.665Z"
   },
   {
    "duration": 4,
    "start_time": "2025-02-23T09:16:55.602Z"
   },
   {
    "duration": 125,
    "start_time": "2025-02-23T09:16:55.607Z"
   },
   {
    "duration": 35,
    "start_time": "2025-02-23T09:16:55.734Z"
   },
   {
    "duration": 129,
    "start_time": "2025-02-23T09:16:55.771Z"
   },
   {
    "duration": 4,
    "start_time": "2025-02-23T09:16:55.902Z"
   },
   {
    "duration": 166,
    "start_time": "2025-02-23T09:16:55.908Z"
   },
   {
    "duration": 8,
    "start_time": "2025-02-23T09:16:56.076Z"
   },
   {
    "duration": 49,
    "start_time": "2025-02-23T09:16:56.086Z"
   },
   {
    "duration": 3,
    "start_time": "2025-02-23T09:30:28.873Z"
   },
   {
    "duration": 6,
    "start_time": "2025-02-23T09:34:48.956Z"
   },
   {
    "duration": 6,
    "start_time": "2025-02-23T09:35:19.646Z"
   },
   {
    "duration": 6,
    "start_time": "2025-02-23T09:35:23.305Z"
   },
   {
    "duration": 119,
    "start_time": "2025-02-23T09:41:31.344Z"
   },
   {
    "duration": 5,
    "start_time": "2025-02-23T09:42:04.547Z"
   },
   {
    "duration": 533,
    "start_time": "2025-02-23T09:51:41.863Z"
   },
   {
    "duration": 28,
    "start_time": "2025-02-23T09:52:21.478Z"
   },
   {
    "duration": 9,
    "start_time": "2025-02-23T09:53:26.668Z"
   },
   {
    "duration": 10,
    "start_time": "2025-02-23T09:54:18.926Z"
   },
   {
    "duration": 9,
    "start_time": "2025-02-23T09:54:22.203Z"
   },
   {
    "duration": 9,
    "start_time": "2025-02-23T09:55:06.245Z"
   },
   {
    "duration": 18,
    "start_time": "2025-02-23T09:57:16.254Z"
   },
   {
    "duration": 9,
    "start_time": "2025-02-23T09:57:30.920Z"
   },
   {
    "duration": 1415,
    "start_time": "2025-02-23T12:27:13.907Z"
   },
   {
    "duration": 18,
    "start_time": "2025-02-23T12:27:15.324Z"
   },
   {
    "duration": 55,
    "start_time": "2025-02-23T12:27:15.344Z"
   },
   {
    "duration": 25,
    "start_time": "2025-02-23T12:27:15.401Z"
   },
   {
    "duration": 403,
    "start_time": "2025-02-23T12:27:15.428Z"
   },
   {
    "duration": 6,
    "start_time": "2025-02-23T12:27:15.833Z"
   },
   {
    "duration": 41,
    "start_time": "2025-02-23T12:27:15.841Z"
   },
   {
    "duration": 53,
    "start_time": "2025-02-23T12:27:15.884Z"
   },
   {
    "duration": 93,
    "start_time": "2025-02-23T12:27:15.939Z"
   },
   {
    "duration": 88,
    "start_time": "2025-02-23T12:27:16.033Z"
   },
   {
    "duration": 56,
    "start_time": "2025-02-23T12:27:16.123Z"
   },
   {
    "duration": 472,
    "start_time": "2025-02-23T12:27:16.180Z"
   },
   {
    "duration": 8,
    "start_time": "2025-02-23T12:27:16.654Z"
   },
   {
    "duration": 88,
    "start_time": "2025-02-23T12:27:16.665Z"
   },
   {
    "duration": 15,
    "start_time": "2025-02-23T12:27:16.754Z"
   },
   {
    "duration": 7,
    "start_time": "2025-02-23T12:27:16.771Z"
   },
   {
    "duration": 9,
    "start_time": "2025-02-23T12:27:16.779Z"
   },
   {
    "duration": 432,
    "start_time": "2025-02-23T12:27:16.790Z"
   },
   {
    "duration": 6,
    "start_time": "2025-02-23T12:27:17.223Z"
   },
   {
    "duration": 9,
    "start_time": "2025-02-23T12:27:17.231Z"
   },
   {
    "duration": 14,
    "start_time": "2025-02-23T12:27:17.242Z"
   },
   {
    "duration": 21,
    "start_time": "2025-02-23T12:27:17.258Z"
   },
   {
    "duration": 39,
    "start_time": "2025-02-23T12:27:17.280Z"
   },
   {
    "duration": 15,
    "start_time": "2025-02-23T12:27:17.321Z"
   },
   {
    "duration": 11,
    "start_time": "2025-02-23T12:27:17.338Z"
   },
   {
    "duration": 23,
    "start_time": "2025-02-23T12:27:17.350Z"
   },
   {
    "duration": 184,
    "start_time": "2025-02-23T12:27:17.375Z"
   },
   {
    "duration": 5,
    "start_time": "2025-02-23T12:27:17.561Z"
   },
   {
    "duration": 9,
    "start_time": "2025-02-23T12:27:17.568Z"
   },
   {
    "duration": 277,
    "start_time": "2025-02-23T12:27:17.579Z"
   },
   {
    "duration": 193,
    "start_time": "2025-02-23T12:27:17.858Z"
   },
   {
    "duration": 8,
    "start_time": "2025-02-23T12:27:18.052Z"
   },
   {
    "duration": 246,
    "start_time": "2025-02-23T12:27:18.062Z"
   },
   {
    "duration": 228,
    "start_time": "2025-02-23T12:27:18.310Z"
   },
   {
    "duration": 31,
    "start_time": "2025-02-23T12:27:18.540Z"
   },
   {
    "duration": 165,
    "start_time": "2025-02-23T12:27:18.573Z"
   },
   {
    "duration": 14,
    "start_time": "2025-02-23T12:27:18.740Z"
   },
   {
    "duration": 254,
    "start_time": "2025-02-23T12:27:18.756Z"
   },
   {
    "duration": 9,
    "start_time": "2025-02-23T12:27:19.012Z"
   },
   {
    "duration": 8,
    "start_time": "2025-02-23T12:27:19.023Z"
   },
   {
    "duration": 294,
    "start_time": "2025-02-23T12:27:19.035Z"
   },
   {
    "duration": 9,
    "start_time": "2025-02-23T12:27:19.331Z"
   },
   {
    "duration": 9,
    "start_time": "2025-02-23T12:27:19.342Z"
   },
   {
    "duration": 880,
    "start_time": "2025-02-23T12:27:19.353Z"
   },
   {
    "duration": 3,
    "start_time": "2025-02-23T12:27:20.235Z"
   },
   {
    "duration": 9,
    "start_time": "2025-02-23T12:27:20.240Z"
   },
   {
    "duration": 25,
    "start_time": "2025-02-23T12:27:20.251Z"
   },
   {
    "duration": 24,
    "start_time": "2025-02-23T12:27:20.277Z"
   },
   {
    "duration": 6,
    "start_time": "2025-02-23T12:27:20.303Z"
   },
   {
    "duration": 281,
    "start_time": "2025-02-23T12:27:20.310Z"
   },
   {
    "duration": 11,
    "start_time": "2025-02-23T12:27:20.593Z"
   },
   {
    "duration": 134,
    "start_time": "2025-02-23T12:27:20.605Z"
   },
   {
    "duration": 16,
    "start_time": "2025-02-23T12:27:20.740Z"
   },
   {
    "duration": 17,
    "start_time": "2025-02-23T12:27:20.758Z"
   },
   {
    "duration": 31,
    "start_time": "2025-02-23T12:27:20.777Z"
   },
   {
    "duration": 9,
    "start_time": "2025-02-23T14:02:03.993Z"
   },
   {
    "duration": 1302,
    "start_time": "2025-02-23T14:08:37.709Z"
   },
   {
    "duration": 29,
    "start_time": "2025-02-23T14:08:39.013Z"
   },
   {
    "duration": 55,
    "start_time": "2025-02-23T14:08:39.043Z"
   },
   {
    "duration": 40,
    "start_time": "2025-02-23T14:08:39.100Z"
   },
   {
    "duration": 436,
    "start_time": "2025-02-23T14:08:39.142Z"
   },
   {
    "duration": 6,
    "start_time": "2025-02-23T14:08:39.579Z"
   },
   {
    "duration": 39,
    "start_time": "2025-02-23T14:08:39.586Z"
   },
   {
    "duration": 12,
    "start_time": "2025-02-23T14:08:39.626Z"
   },
   {
    "duration": 40,
    "start_time": "2025-02-23T14:08:39.639Z"
   },
   {
    "duration": 8,
    "start_time": "2025-02-23T14:08:39.681Z"
   },
   {
    "duration": 44,
    "start_time": "2025-02-23T14:08:39.690Z"
   },
   {
    "duration": 489,
    "start_time": "2025-02-23T14:08:39.736Z"
   },
   {
    "duration": 7,
    "start_time": "2025-02-23T14:08:40.227Z"
   },
   {
    "duration": 63,
    "start_time": "2025-02-23T14:08:40.237Z"
   },
   {
    "duration": 31,
    "start_time": "2025-02-23T14:08:40.302Z"
   },
   {
    "duration": 14,
    "start_time": "2025-02-23T14:08:40.335Z"
   },
   {
    "duration": 20,
    "start_time": "2025-02-23T14:08:40.351Z"
   },
   {
    "duration": 450,
    "start_time": "2025-02-23T14:08:40.373Z"
   },
   {
    "duration": 5,
    "start_time": "2025-02-23T14:08:40.825Z"
   },
   {
    "duration": 36,
    "start_time": "2025-02-23T14:08:40.832Z"
   },
   {
    "duration": 21,
    "start_time": "2025-02-23T14:08:40.870Z"
   },
   {
    "duration": 15,
    "start_time": "2025-02-23T14:08:40.893Z"
   },
   {
    "duration": 29,
    "start_time": "2025-02-23T14:08:40.910Z"
   },
   {
    "duration": 6,
    "start_time": "2025-02-23T14:08:40.941Z"
   },
   {
    "duration": 10,
    "start_time": "2025-02-23T14:08:40.949Z"
   },
   {
    "duration": 151,
    "start_time": "2025-02-23T14:08:40.961Z"
   },
   {
    "duration": 211,
    "start_time": "2025-02-23T14:08:41.114Z"
   },
   {
    "duration": 6,
    "start_time": "2025-02-23T14:08:41.327Z"
   },
   {
    "duration": 4,
    "start_time": "2025-02-23T14:08:41.336Z"
   },
   {
    "duration": 248,
    "start_time": "2025-02-23T14:08:41.341Z"
   },
   {
    "duration": 205,
    "start_time": "2025-02-23T14:08:41.591Z"
   },
   {
    "duration": 8,
    "start_time": "2025-02-23T14:08:41.802Z"
   },
   {
    "duration": 221,
    "start_time": "2025-02-23T14:08:41.812Z"
   },
   {
    "duration": 225,
    "start_time": "2025-02-23T14:08:42.034Z"
   },
   {
    "duration": 52,
    "start_time": "2025-02-23T14:08:42.261Z"
   },
   {
    "duration": 21,
    "start_time": "2025-02-23T14:08:42.315Z"
   },
   {
    "duration": 23,
    "start_time": "2025-02-23T14:08:42.338Z"
   },
   {
    "duration": 271,
    "start_time": "2025-02-23T14:08:42.363Z"
   },
   {
    "duration": 9,
    "start_time": "2025-02-23T14:08:42.636Z"
   },
   {
    "duration": 12,
    "start_time": "2025-02-23T14:08:42.646Z"
   },
   {
    "duration": 324,
    "start_time": "2025-02-23T14:08:42.661Z"
   },
   {
    "duration": 20,
    "start_time": "2025-02-23T14:08:42.986Z"
   },
   {
    "duration": 131,
    "start_time": "2025-02-23T14:08:43.008Z"
   },
   {
    "duration": 972,
    "start_time": "2025-02-23T14:08:43.142Z"
   },
   {
    "duration": 2,
    "start_time": "2025-02-23T14:08:44.116Z"
   },
   {
    "duration": 6,
    "start_time": "2025-02-23T14:08:44.120Z"
   },
   {
    "duration": 18,
    "start_time": "2025-02-23T14:08:44.127Z"
   },
   {
    "duration": 16,
    "start_time": "2025-02-23T14:08:44.146Z"
   },
   {
    "duration": 3,
    "start_time": "2025-02-23T14:08:44.164Z"
   },
   {
    "duration": 165,
    "start_time": "2025-02-23T14:08:44.168Z"
   },
   {
    "duration": 7,
    "start_time": "2025-02-23T14:08:44.334Z"
   },
   {
    "duration": 35,
    "start_time": "2025-02-23T14:08:44.343Z"
   },
   {
    "duration": 9,
    "start_time": "2025-02-23T14:08:44.380Z"
   },
   {
    "duration": 5,
    "start_time": "2025-02-23T14:08:44.391Z"
   },
   {
    "duration": 120,
    "start_time": "2025-02-23T14:08:44.397Z"
   },
   {
    "duration": 83,
    "start_time": "2025-02-24T06:37:47.396Z"
   },
   {
    "duration": 105,
    "start_time": "2025-02-24T06:45:28.473Z"
   },
   {
    "duration": 79,
    "start_time": "2025-02-24T06:45:49.137Z"
   },
   {
    "duration": 73,
    "start_time": "2025-02-24T06:46:02.410Z"
   },
   {
    "duration": 41,
    "start_time": "2025-02-24T06:56:59.248Z"
   },
   {
    "duration": 6,
    "start_time": "2025-02-24T06:57:12.436Z"
   },
   {
    "duration": 1407,
    "start_time": "2025-02-24T06:57:16.375Z"
   },
   {
    "duration": 30,
    "start_time": "2025-02-24T06:57:18.537Z"
   },
   {
    "duration": 13,
    "start_time": "2025-02-24T06:57:20.236Z"
   },
   {
    "duration": 29,
    "start_time": "2025-02-24T06:57:26.239Z"
   },
   {
    "duration": 14,
    "start_time": "2025-02-24T06:57:27.369Z"
   },
   {
    "duration": 11,
    "start_time": "2025-02-24T06:57:29.544Z"
   },
   {
    "duration": 7,
    "start_time": "2025-02-24T06:57:40.896Z"
   },
   {
    "duration": 4,
    "start_time": "2025-02-24T06:57:41.969Z"
   },
   {
    "duration": 5,
    "start_time": "2025-02-24T06:57:44.136Z"
   },
   {
    "duration": 6,
    "start_time": "2025-02-24T06:57:45.856Z"
   },
   {
    "duration": 117,
    "start_time": "2025-02-24T06:58:43.409Z"
   },
   {
    "duration": 197,
    "start_time": "2025-02-24T07:02:15.768Z"
   },
   {
    "duration": 79,
    "start_time": "2025-02-24T07:06:12.394Z"
   },
   {
    "duration": 72,
    "start_time": "2025-02-24T07:07:15.143Z"
   },
   {
    "duration": 9,
    "start_time": "2025-02-24T07:07:28.584Z"
   },
   {
    "duration": 6,
    "start_time": "2025-02-24T07:07:39.030Z"
   },
   {
    "duration": 5,
    "start_time": "2025-02-24T07:07:40.615Z"
   },
   {
    "duration": 85,
    "start_time": "2025-02-24T07:07:41.959Z"
   },
   {
    "duration": 84,
    "start_time": "2025-02-24T07:08:09.862Z"
   },
   {
    "duration": 89,
    "start_time": "2025-02-24T07:09:09.247Z"
   },
   {
    "duration": 13,
    "start_time": "2025-02-24T07:13:49.225Z"
   },
   {
    "duration": 12,
    "start_time": "2025-02-24T07:14:23.217Z"
   },
   {
    "duration": 14,
    "start_time": "2025-02-24T07:14:33.265Z"
   },
   {
    "duration": 16,
    "start_time": "2025-02-24T07:14:48.336Z"
   },
   {
    "duration": 1281,
    "start_time": "2025-02-24T07:15:13.655Z"
   },
   {
    "duration": 29,
    "start_time": "2025-02-24T07:15:14.938Z"
   },
   {
    "duration": 12,
    "start_time": "2025-02-24T07:15:14.968Z"
   },
   {
    "duration": 11,
    "start_time": "2025-02-24T07:15:15.247Z"
   },
   {
    "duration": 336,
    "start_time": "2025-02-24T07:15:16.007Z"
   },
   {
    "duration": 5,
    "start_time": "2025-02-24T07:15:18.151Z"
   },
   {
    "duration": 6,
    "start_time": "2025-02-24T07:15:18.702Z"
   },
   {
    "duration": 5,
    "start_time": "2025-02-24T07:15:19.319Z"
   },
   {
    "duration": 28,
    "start_time": "2025-02-24T07:15:20.447Z"
   },
   {
    "duration": 9,
    "start_time": "2025-02-24T07:15:20.903Z"
   },
   {
    "duration": 11,
    "start_time": "2025-02-24T07:15:21.351Z"
   },
   {
    "duration": 441,
    "start_time": "2025-02-24T07:15:21.935Z"
   },
   {
    "duration": 7,
    "start_time": "2025-02-24T07:15:22.415Z"
   },
   {
    "duration": 9,
    "start_time": "2025-02-24T07:15:23.046Z"
   },
   {
    "duration": 16,
    "start_time": "2025-02-24T07:15:24.302Z"
   },
   {
    "duration": 7,
    "start_time": "2025-02-24T07:15:24.943Z"
   },
   {
    "duration": 11,
    "start_time": "2025-02-24T07:15:25.351Z"
   },
   {
    "duration": 402,
    "start_time": "2025-02-24T07:15:25.848Z"
   },
   {
    "duration": 6,
    "start_time": "2025-02-24T07:15:26.252Z"
   },
   {
    "duration": 5,
    "start_time": "2025-02-24T07:15:26.683Z"
   },
   {
    "duration": 8,
    "start_time": "2025-02-24T07:15:28.767Z"
   },
   {
    "duration": 6,
    "start_time": "2025-02-24T07:15:29.183Z"
   },
   {
    "duration": 4,
    "start_time": "2025-02-24T07:15:29.784Z"
   },
   {
    "duration": 6,
    "start_time": "2025-02-24T07:15:31.175Z"
   },
   {
    "duration": 4,
    "start_time": "2025-02-24T07:15:32.663Z"
   },
   {
    "duration": 6,
    "start_time": "2025-02-24T07:15:34.911Z"
   },
   {
    "duration": 9,
    "start_time": "2025-02-24T07:15:35.512Z"
   },
   {
    "duration": 159,
    "start_time": "2025-02-24T07:15:35.983Z"
   },
   {
    "duration": 6,
    "start_time": "2025-02-24T07:15:38.711Z"
   },
   {
    "duration": 4,
    "start_time": "2025-02-24T07:15:39.264Z"
   },
   {
    "duration": 156,
    "start_time": "2025-02-24T07:15:39.743Z"
   },
   {
    "duration": 167,
    "start_time": "2025-02-24T07:15:42.175Z"
   },
   {
    "duration": 8,
    "start_time": "2025-02-24T07:15:43.023Z"
   },
   {
    "duration": 76,
    "start_time": "2025-02-24T07:15:50.447Z"
   },
   {
    "duration": 170,
    "start_time": "2025-02-24T07:15:56.048Z"
   },
   {
    "duration": 8,
    "start_time": "2025-02-24T07:16:00.167Z"
   },
   {
    "duration": 189,
    "start_time": "2025-02-24T07:16:01.567Z"
   },
   {
    "duration": 194,
    "start_time": "2025-02-24T07:16:04.991Z"
   },
   {
    "duration": 29,
    "start_time": "2025-02-24T07:16:07.991Z"
   },
   {
    "duration": 4,
    "start_time": "2025-02-24T07:16:39.424Z"
   },
   {
    "duration": 4,
    "start_time": "2025-02-24T07:17:49.167Z"
   },
   {
    "duration": 4,
    "start_time": "2025-02-24T07:18:05.955Z"
   },
   {
    "duration": 4,
    "start_time": "2025-02-24T07:18:07.506Z"
   },
   {
    "duration": 9,
    "start_time": "2025-02-24T07:18:29.258Z"
   },
   {
    "duration": 14,
    "start_time": "2025-02-24T07:18:47.014Z"
   },
   {
    "duration": 29,
    "start_time": "2025-02-24T07:22:13.789Z"
   },
   {
    "duration": 22,
    "start_time": "2025-02-24T07:22:19.100Z"
   },
   {
    "duration": 14,
    "start_time": "2025-02-24T07:22:21.576Z"
   },
   {
    "duration": 232,
    "start_time": "2025-02-24T07:22:23.133Z"
   },
   {
    "duration": 9,
    "start_time": "2025-02-24T07:22:25.314Z"
   },
   {
    "duration": 8,
    "start_time": "2025-02-24T07:22:26.548Z"
   },
   {
    "duration": 236,
    "start_time": "2025-02-24T07:22:27.225Z"
   },
   {
    "duration": 8,
    "start_time": "2025-02-24T07:22:29.416Z"
   },
   {
    "duration": 8,
    "start_time": "2025-02-24T07:22:30.008Z"
   },
   {
    "duration": 4,
    "start_time": "2025-02-24T07:22:34.956Z"
   },
   {
    "duration": 794,
    "start_time": "2025-02-24T07:22:57.839Z"
   },
   {
    "duration": 4,
    "start_time": "2025-02-24T07:23:07.508Z"
   },
   {
    "duration": 3,
    "start_time": "2025-02-24T07:25:09.527Z"
   },
   {
    "duration": 11,
    "start_time": "2025-02-24T07:25:12.503Z"
   },
   {
    "duration": 12,
    "start_time": "2025-02-24T07:25:14.887Z"
   },
   {
    "duration": 4,
    "start_time": "2025-02-24T07:26:13.399Z"
   },
   {
    "duration": 208,
    "start_time": "2025-02-24T07:26:14.888Z"
   },
   {
    "duration": 6,
    "start_time": "2025-02-24T07:26:16.976Z"
   },
   {
    "duration": 10,
    "start_time": "2025-02-24T07:26:18.988Z"
   },
   {
    "duration": 5,
    "start_time": "2025-02-24T07:26:37.789Z"
   },
   {
    "duration": 9,
    "start_time": "2025-02-24T07:29:58.197Z"
   },
   {
    "duration": 9,
    "start_time": "2025-02-24T07:30:03.199Z"
   },
   {
    "duration": 8,
    "start_time": "2025-02-24T07:30:07.958Z"
   },
   {
    "duration": 11,
    "start_time": "2025-02-24T07:30:16.206Z"
   },
   {
    "duration": 9,
    "start_time": "2025-02-24T07:30:20.886Z"
   },
   {
    "duration": 5,
    "start_time": "2025-02-24T07:32:52.077Z"
   },
   {
    "duration": 88,
    "start_time": "2025-02-24T07:36:10.399Z"
   },
   {
    "duration": 8,
    "start_time": "2025-02-24T07:38:35.338Z"
   },
   {
    "duration": 8,
    "start_time": "2025-02-24T07:38:44.371Z"
   },
   {
    "duration": 12,
    "start_time": "2025-02-24T07:38:51.342Z"
   },
   {
    "duration": 1426,
    "start_time": "2025-02-24T10:11:09.275Z"
   },
   {
    "duration": 19,
    "start_time": "2025-02-24T10:11:10.702Z"
   },
   {
    "duration": 13,
    "start_time": "2025-02-24T10:11:10.723Z"
   },
   {
    "duration": 12,
    "start_time": "2025-02-24T10:11:10.738Z"
   },
   {
    "duration": 363,
    "start_time": "2025-02-24T10:11:10.752Z"
   },
   {
    "duration": 7,
    "start_time": "2025-02-24T10:11:11.116Z"
   },
   {
    "duration": 6,
    "start_time": "2025-02-24T10:11:11.125Z"
   },
   {
    "duration": 5,
    "start_time": "2025-02-24T10:11:11.132Z"
   },
   {
    "duration": 53,
    "start_time": "2025-02-24T10:11:11.138Z"
   },
   {
    "duration": 9,
    "start_time": "2025-02-24T10:11:11.194Z"
   },
   {
    "duration": 11,
    "start_time": "2025-02-24T10:11:11.204Z"
   },
   {
    "duration": 441,
    "start_time": "2025-02-24T10:11:11.217Z"
   },
   {
    "duration": 8,
    "start_time": "2025-02-24T10:11:11.660Z"
   },
   {
    "duration": 9,
    "start_time": "2025-02-24T10:11:11.670Z"
   },
   {
    "duration": 27,
    "start_time": "2025-02-24T10:11:11.681Z"
   },
   {
    "duration": 8,
    "start_time": "2025-02-24T10:11:11.710Z"
   },
   {
    "duration": 10,
    "start_time": "2025-02-24T10:11:11.720Z"
   },
   {
    "duration": 447,
    "start_time": "2025-02-24T10:11:11.732Z"
   },
   {
    "duration": 6,
    "start_time": "2025-02-24T10:11:12.181Z"
   },
   {
    "duration": 8,
    "start_time": "2025-02-24T10:11:12.188Z"
   },
   {
    "duration": 7,
    "start_time": "2025-02-24T10:11:12.209Z"
   },
   {
    "duration": 6,
    "start_time": "2025-02-24T10:11:12.217Z"
   },
   {
    "duration": 13,
    "start_time": "2025-02-24T10:11:12.225Z"
   },
   {
    "duration": 7,
    "start_time": "2025-02-24T10:11:12.240Z"
   },
   {
    "duration": 6,
    "start_time": "2025-02-24T10:11:12.249Z"
   },
   {
    "duration": 12,
    "start_time": "2025-02-24T10:11:12.257Z"
   },
   {
    "duration": 11,
    "start_time": "2025-02-24T10:11:12.271Z"
   },
   {
    "duration": 182,
    "start_time": "2025-02-24T10:11:12.314Z"
   },
   {
    "duration": 5,
    "start_time": "2025-02-24T10:11:12.498Z"
   },
   {
    "duration": 5,
    "start_time": "2025-02-24T10:11:12.509Z"
   },
   {
    "duration": 174,
    "start_time": "2025-02-24T10:11:12.515Z"
   },
   {
    "duration": 193,
    "start_time": "2025-02-24T10:11:12.691Z"
   },
   {
    "duration": 8,
    "start_time": "2025-02-24T10:11:12.885Z"
   },
   {
    "duration": 243,
    "start_time": "2025-02-24T10:11:12.895Z"
   },
   {
    "duration": 217,
    "start_time": "2025-02-24T10:11:13.139Z"
   },
   {
    "duration": 30,
    "start_time": "2025-02-24T10:11:13.358Z"
   },
   {
    "duration": 4,
    "start_time": "2025-02-24T10:11:13.389Z"
   },
   {
    "duration": 3,
    "start_time": "2025-02-24T10:11:13.410Z"
   },
   {
    "duration": 11,
    "start_time": "2025-02-24T10:11:13.415Z"
   },
   {
    "duration": 36,
    "start_time": "2025-02-24T10:11:13.427Z"
   },
   {
    "duration": 21,
    "start_time": "2025-02-24T10:11:13.465Z"
   },
   {
    "duration": 12,
    "start_time": "2025-02-24T10:11:13.487Z"
   },
   {
    "duration": 253,
    "start_time": "2025-02-24T10:11:13.501Z"
   },
   {
    "duration": 8,
    "start_time": "2025-02-24T10:11:13.755Z"
   },
   {
    "duration": 63,
    "start_time": "2025-02-24T10:11:13.764Z"
   },
   {
    "duration": 274,
    "start_time": "2025-02-24T10:11:13.828Z"
   },
   {
    "duration": 10,
    "start_time": "2025-02-24T10:11:14.104Z"
   },
   {
    "duration": 8,
    "start_time": "2025-02-24T10:11:14.116Z"
   },
   {
    "duration": 3,
    "start_time": "2025-02-24T10:11:14.125Z"
   },
   {
    "duration": 853,
    "start_time": "2025-02-24T10:11:14.130Z"
   },
   {
    "duration": 3,
    "start_time": "2025-02-24T10:11:14.985Z"
   },
   {
    "duration": 101,
    "start_time": "2025-02-24T10:11:14.989Z"
   },
   {
    "duration": 20,
    "start_time": "2025-02-24T10:11:15.091Z"
   },
   {
    "duration": 3,
    "start_time": "2025-02-24T10:11:15.113Z"
   },
   {
    "duration": 201,
    "start_time": "2025-02-24T10:11:15.117Z"
   },
   {
    "duration": 6,
    "start_time": "2025-02-24T10:11:15.320Z"
   },
   {
    "duration": 30,
    "start_time": "2025-02-24T10:11:15.327Z"
   },
   {
    "duration": 19,
    "start_time": "2025-02-24T10:11:15.359Z"
   },
   {
    "duration": 7,
    "start_time": "2025-02-24T10:11:15.380Z"
   },
   {
    "duration": 12,
    "start_time": "2025-02-24T10:11:15.389Z"
   },
   {
    "duration": 1242,
    "start_time": "2025-02-24T10:24:53.795Z"
   },
   {
    "duration": 28,
    "start_time": "2025-02-24T10:24:55.039Z"
   },
   {
    "duration": 11,
    "start_time": "2025-02-24T10:24:55.069Z"
   },
   {
    "duration": 10,
    "start_time": "2025-02-24T10:24:55.082Z"
   },
   {
    "duration": 365,
    "start_time": "2025-02-24T10:24:55.093Z"
   },
   {
    "duration": 7,
    "start_time": "2025-02-24T10:24:55.461Z"
   },
   {
    "duration": 18,
    "start_time": "2025-02-24T10:24:55.470Z"
   },
   {
    "duration": 7,
    "start_time": "2025-02-24T10:24:55.489Z"
   },
   {
    "duration": 31,
    "start_time": "2025-02-24T10:24:55.497Z"
   },
   {
    "duration": 8,
    "start_time": "2025-02-24T10:24:55.530Z"
   },
   {
    "duration": 37,
    "start_time": "2025-02-24T10:24:55.539Z"
   },
   {
    "duration": 441,
    "start_time": "2025-02-24T10:24:55.578Z"
   },
   {
    "duration": 9,
    "start_time": "2025-02-24T10:24:56.022Z"
   },
   {
    "duration": 11,
    "start_time": "2025-02-24T10:24:56.036Z"
   },
   {
    "duration": 16,
    "start_time": "2025-02-24T10:24:56.049Z"
   },
   {
    "duration": 9,
    "start_time": "2025-02-24T10:24:56.067Z"
   },
   {
    "duration": 36,
    "start_time": "2025-02-24T10:24:56.078Z"
   },
   {
    "duration": 441,
    "start_time": "2025-02-24T10:24:56.115Z"
   },
   {
    "duration": 7,
    "start_time": "2025-02-24T10:24:56.557Z"
   },
   {
    "duration": 5,
    "start_time": "2025-02-24T10:24:56.565Z"
   },
   {
    "duration": 7,
    "start_time": "2025-02-24T10:24:56.572Z"
   },
   {
    "duration": 31,
    "start_time": "2025-02-24T10:24:56.580Z"
   },
   {
    "duration": 5,
    "start_time": "2025-02-24T10:24:56.613Z"
   },
   {
    "duration": 6,
    "start_time": "2025-02-24T10:24:56.619Z"
   },
   {
    "duration": 4,
    "start_time": "2025-02-24T10:24:56.626Z"
   },
   {
    "duration": 5,
    "start_time": "2025-02-24T10:24:56.632Z"
   },
   {
    "duration": 9,
    "start_time": "2025-02-24T10:24:56.639Z"
   },
   {
    "duration": 205,
    "start_time": "2025-02-24T10:24:56.649Z"
   },
   {
    "duration": 5,
    "start_time": "2025-02-24T10:24:56.856Z"
   },
   {
    "duration": 7,
    "start_time": "2025-02-24T10:24:56.863Z"
   },
   {
    "duration": 171,
    "start_time": "2025-02-24T10:24:56.872Z"
   },
   {
    "duration": 216,
    "start_time": "2025-02-24T10:24:57.044Z"
   },
   {
    "duration": 8,
    "start_time": "2025-02-24T10:24:57.261Z"
   },
   {
    "duration": 210,
    "start_time": "2025-02-24T10:24:57.270Z"
   },
   {
    "duration": 205,
    "start_time": "2025-02-24T10:24:57.481Z"
   },
   {
    "duration": 40,
    "start_time": "2025-02-24T10:24:57.687Z"
   },
   {
    "duration": 4,
    "start_time": "2025-02-24T10:24:57.728Z"
   },
   {
    "duration": 3,
    "start_time": "2025-02-24T10:24:57.733Z"
   },
   {
    "duration": 8,
    "start_time": "2025-02-24T10:24:57.738Z"
   },
   {
    "duration": 12,
    "start_time": "2025-02-24T10:24:57.748Z"
   },
   {
    "duration": 46,
    "start_time": "2025-02-24T10:24:57.764Z"
   },
   {
    "duration": 13,
    "start_time": "2025-02-24T10:24:57.812Z"
   },
   {
    "duration": 303,
    "start_time": "2025-02-24T10:24:57.826Z"
   },
   {
    "duration": 7,
    "start_time": "2025-02-24T10:24:58.131Z"
   },
   {
    "duration": 13,
    "start_time": "2025-02-24T10:24:58.139Z"
   },
   {
    "duration": 264,
    "start_time": "2025-02-24T10:24:58.154Z"
   },
   {
    "duration": 8,
    "start_time": "2025-02-24T10:24:58.419Z"
   },
   {
    "duration": 7,
    "start_time": "2025-02-24T10:24:58.429Z"
   },
   {
    "duration": 3,
    "start_time": "2025-02-24T10:24:58.437Z"
   },
   {
    "duration": 946,
    "start_time": "2025-02-24T10:24:58.442Z"
   },
   {
    "duration": 3,
    "start_time": "2025-02-24T10:24:59.389Z"
   },
   {
    "duration": 21,
    "start_time": "2025-02-24T10:24:59.394Z"
   },
   {
    "duration": 11,
    "start_time": "2025-02-24T10:24:59.416Z"
   },
   {
    "duration": 4,
    "start_time": "2025-02-24T10:24:59.429Z"
   },
   {
    "duration": 152,
    "start_time": "2025-02-24T10:24:59.434Z"
   },
   {
    "duration": 6,
    "start_time": "2025-02-24T10:24:59.587Z"
   },
   {
    "duration": 22,
    "start_time": "2025-02-24T10:24:59.594Z"
   },
   {
    "duration": 6,
    "start_time": "2025-02-24T10:24:59.617Z"
   },
   {
    "duration": 5,
    "start_time": "2025-02-24T10:24:59.624Z"
   },
   {
    "duration": 9,
    "start_time": "2025-02-24T10:24:59.630Z"
   },
   {
    "duration": 6,
    "start_time": "2025-02-26T08:59:34.452Z"
   },
   {
    "duration": 1205,
    "start_time": "2025-02-26T08:59:49.150Z"
   },
   {
    "duration": 31,
    "start_time": "2025-02-26T08:59:50.359Z"
   },
   {
    "duration": 12,
    "start_time": "2025-02-26T08:59:50.391Z"
   },
   {
    "duration": 16,
    "start_time": "2025-02-26T08:59:50.404Z"
   },
   {
    "duration": 359,
    "start_time": "2025-02-26T08:59:50.422Z"
   },
   {
    "duration": 6,
    "start_time": "2025-02-26T08:59:50.782Z"
   },
   {
    "duration": 23,
    "start_time": "2025-02-26T08:59:50.790Z"
   },
   {
    "duration": 74,
    "start_time": "2025-02-26T08:59:50.814Z"
   },
   {
    "duration": 49,
    "start_time": "2025-02-26T08:59:50.890Z"
   },
   {
    "duration": 8,
    "start_time": "2025-02-26T08:59:50.941Z"
   },
   {
    "duration": 13,
    "start_time": "2025-02-26T08:59:50.951Z"
   },
   {
    "duration": 464,
    "start_time": "2025-02-26T08:59:50.966Z"
   },
   {
    "duration": 6,
    "start_time": "2025-02-26T08:59:51.432Z"
   },
   {
    "duration": 22,
    "start_time": "2025-02-26T08:59:51.441Z"
   },
   {
    "duration": 38,
    "start_time": "2025-02-26T08:59:51.464Z"
   },
   {
    "duration": 11,
    "start_time": "2025-02-26T08:59:51.504Z"
   },
   {
    "duration": 14,
    "start_time": "2025-02-26T08:59:51.517Z"
   },
   {
    "duration": 451,
    "start_time": "2025-02-26T08:59:51.533Z"
   },
   {
    "duration": 5,
    "start_time": "2025-02-26T08:59:51.986Z"
   },
   {
    "duration": 7,
    "start_time": "2025-02-26T08:59:51.993Z"
   },
   {
    "duration": 49,
    "start_time": "2025-02-26T08:59:52.001Z"
   },
   {
    "duration": 66,
    "start_time": "2025-02-26T08:59:52.052Z"
   },
   {
    "duration": 18,
    "start_time": "2025-02-26T08:59:52.119Z"
   },
   {
    "duration": 14,
    "start_time": "2025-02-26T08:59:52.139Z"
   },
   {
    "duration": 25,
    "start_time": "2025-02-26T08:59:52.154Z"
   },
   {
    "duration": 25,
    "start_time": "2025-02-26T08:59:52.181Z"
   },
   {
    "duration": 103,
    "start_time": "2025-02-26T08:59:52.207Z"
   },
   {
    "duration": 207,
    "start_time": "2025-02-26T08:59:52.311Z"
   },
   {
    "duration": 5,
    "start_time": "2025-02-26T08:59:52.519Z"
   },
   {
    "duration": 9,
    "start_time": "2025-02-26T08:59:52.526Z"
   },
   {
    "duration": 185,
    "start_time": "2025-02-26T08:59:52.537Z"
   },
   {
    "duration": 190,
    "start_time": "2025-02-26T08:59:52.724Z"
   },
   {
    "duration": 7,
    "start_time": "2025-02-26T08:59:52.916Z"
   },
   {
    "duration": 215,
    "start_time": "2025-02-26T08:59:52.924Z"
   },
   {
    "duration": 221,
    "start_time": "2025-02-26T08:59:53.141Z"
   },
   {
    "duration": 29,
    "start_time": "2025-02-26T08:59:53.363Z"
   },
   {
    "duration": 49,
    "start_time": "2025-02-26T08:59:53.394Z"
   },
   {
    "duration": 9,
    "start_time": "2025-02-26T08:59:53.445Z"
   },
   {
    "duration": 23,
    "start_time": "2025-02-26T08:59:53.455Z"
   },
   {
    "duration": 16,
    "start_time": "2025-02-26T08:59:53.480Z"
   },
   {
    "duration": 21,
    "start_time": "2025-02-26T08:59:53.501Z"
   },
   {
    "duration": 17,
    "start_time": "2025-02-26T08:59:53.524Z"
   },
   {
    "duration": 266,
    "start_time": "2025-02-26T08:59:53.542Z"
   },
   {
    "duration": 9,
    "start_time": "2025-02-26T08:59:53.809Z"
   },
   {
    "duration": 8,
    "start_time": "2025-02-26T08:59:53.819Z"
   },
   {
    "duration": 282,
    "start_time": "2025-02-26T08:59:53.829Z"
   },
   {
    "duration": 8,
    "start_time": "2025-02-26T08:59:54.112Z"
   },
   {
    "duration": 17,
    "start_time": "2025-02-26T08:59:54.121Z"
   },
   {
    "duration": 3,
    "start_time": "2025-02-26T08:59:54.140Z"
   },
   {
    "duration": 851,
    "start_time": "2025-02-26T08:59:54.144Z"
   },
   {
    "duration": 15,
    "start_time": "2025-02-26T08:59:54.996Z"
   },
   {
    "duration": 18,
    "start_time": "2025-02-26T08:59:55.012Z"
   },
   {
    "duration": 29,
    "start_time": "2025-02-26T08:59:55.032Z"
   },
   {
    "duration": 3,
    "start_time": "2025-02-26T08:59:55.062Z"
   },
   {
    "duration": 177,
    "start_time": "2025-02-26T08:59:55.067Z"
   },
   {
    "duration": 13,
    "start_time": "2025-02-26T08:59:55.245Z"
   },
   {
    "duration": 10,
    "start_time": "2025-02-26T08:59:55.260Z"
   },
   {
    "duration": 15,
    "start_time": "2025-02-26T08:59:55.271Z"
   },
   {
    "duration": 8,
    "start_time": "2025-02-26T08:59:55.288Z"
   },
   {
    "duration": 8,
    "start_time": "2025-02-26T08:59:55.298Z"
   }
  ],
  "kernelspec": {
   "display_name": "Python 3 (ipykernel)",
   "language": "python",
   "name": "python3"
  },
  "language_info": {
   "codemirror_mode": {
    "name": "ipython",
    "version": 3
   },
   "file_extension": ".py",
   "mimetype": "text/x-python",
   "name": "python",
   "nbconvert_exporter": "python",
   "pygments_lexer": "ipython3",
   "version": "3.9.5"
  },
  "toc": {
   "base_numbering": 1,
   "nav_menu": {},
   "number_sections": true,
   "sideBar": true,
   "skip_h1_title": true,
   "title_cell": "Table of Contents",
   "title_sidebar": "Contents",
   "toc_cell": false,
   "toc_position": {},
   "toc_section_display": true,
   "toc_window_display": false
  }
 },
 "nbformat": 4,
 "nbformat_minor": 5
}
