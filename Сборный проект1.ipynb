{
 "cells": [
  {
   "cell_type": "markdown",
   "metadata": {},
   "source": [
    "# Интернет-магазин «Стримчик»"
   ]
  },
  {
   "cell_type": "markdown",
   "metadata": {},
   "source": [
    "Вы работаете в интернет-магазине «Стримчик», который продаёт по всему миру компьютерные игры. Из открытых источников доступны исторические данные о продажах игр, оценки пользователей и экспертов, жанры и платформы (например, Xbox или PlayStation). Вам нужно выявить определяющие успешность игры закономерности. Это позволит сделать ставку на потенциально популярный продукт и спланировать рекламные кампании.\n",
    "Перед вами данные до 2016 года. Представим, что сейчас декабрь 2016 г., и вы планируете кампанию на 2017-й. Нужно отработать принцип работы с данными. Неважно, прогнозируете ли вы продажи на 2017 год по данным 2016-го или же 2027-й — по данным 2026 года.\n",
    "В наборе данных попадается аббревиатура ESRB (Entertainment Software Rating Board) — это ассоциация, определяющая возрастной рейтинг компьютерных игр. ESRB оценивает игровой контент и присваивает ему подходящую возрастную категорию, например, «Для взрослых», «Для детей младшего возраста» или «Для подростков»."
   ]
  },
  {
   "cell_type": "markdown",
   "metadata": {},
   "source": [
    "## Описание данных\n",
    "- Name — название игры\n",
    "- Platform — платформа\n",
    "- Year_of_Release — год выпуска\n",
    "- Genre — жанр игры\n",
    "- NA_sales — продажи в Северной Америке (миллионы проданных копий)\n",
    "- EU_sales — продажи в Европе (миллионы проданных копий)\n",
    "- JP_sales — продажи в Японии (миллионы проданных копий)\n",
    "- Other_sales — продажи в других странах (миллионы проданных копий)\n",
    "- Critic_Score — оценка критиков (максимум 100)\n",
    "- User_Score — оценка пользователей (максимум 10)\n",
    "- Rating — рейтинг от организации ESRB (англ. Entertainment Software Rating Board). Эта ассоциация определяет рейтинг компьютерных игр и присваивает им подходящую возрастную категорию.\n",
    "\n",
    "\n",
    "Данные за 2016 год могут быть неполными."
   ]
  },
  {
   "cell_type": "markdown",
   "metadata": {},
   "source": [
    "### План работы\n",
    " 1. Выполнить предобработку данных: проверить отстутсвие пропусков / дубликатов. Привести к удобному для исследования формату.\n",
    " 2. Исследовать данные, визуализировать, ознакомиться\n",
    " 3. Составить портрет пользователя каждого региона.   \n",
    " 4. Обработать гипотезы.\n",
    " 5. Сделать вывод на основе данного исследования."
   ]
  },
  {
   "cell_type": "markdown",
   "metadata": {},
   "source": [
    "## Предобработка данных"
   ]
  },
  {
   "cell_type": "code",
   "execution_count": 1,
   "metadata": {},
   "outputs": [],
   "source": [
    "import pandas as pd\n",
    "import matplotlib.pyplot as plt\n",
    "import seaborn as sns\n",
    "import plotly.express as px\n",
    "import numpy as np\n",
    "from scipy import stats as st"
   ]
  },
  {
   "cell_type": "code",
   "execution_count": 2,
   "metadata": {},
   "outputs": [],
   "source": [
    "data = pd.read_csv('/datasets/games.csv')"
   ]
  },
  {
   "cell_type": "code",
   "execution_count": 3,
   "metadata": {},
   "outputs": [
    {
     "data": {
      "text/html": [
       "<div>\n",
       "<style scoped>\n",
       "    .dataframe tbody tr th:only-of-type {\n",
       "        vertical-align: middle;\n",
       "    }\n",
       "\n",
       "    .dataframe tbody tr th {\n",
       "        vertical-align: top;\n",
       "    }\n",
       "\n",
       "    .dataframe thead th {\n",
       "        text-align: right;\n",
       "    }\n",
       "</style>\n",
       "<table border=\"1\" class=\"dataframe\">\n",
       "  <thead>\n",
       "    <tr style=\"text-align: right;\">\n",
       "      <th></th>\n",
       "      <th>Name</th>\n",
       "      <th>Platform</th>\n",
       "      <th>Year_of_Release</th>\n",
       "      <th>Genre</th>\n",
       "      <th>NA_sales</th>\n",
       "      <th>EU_sales</th>\n",
       "      <th>JP_sales</th>\n",
       "      <th>Other_sales</th>\n",
       "      <th>Critic_Score</th>\n",
       "      <th>User_Score</th>\n",
       "      <th>Rating</th>\n",
       "    </tr>\n",
       "  </thead>\n",
       "  <tbody>\n",
       "    <tr>\n",
       "      <th>0</th>\n",
       "      <td>Wii Sports</td>\n",
       "      <td>Wii</td>\n",
       "      <td>2006.0</td>\n",
       "      <td>Sports</td>\n",
       "      <td>41.36</td>\n",
       "      <td>28.96</td>\n",
       "      <td>3.77</td>\n",
       "      <td>8.45</td>\n",
       "      <td>76.0</td>\n",
       "      <td>8</td>\n",
       "      <td>E</td>\n",
       "    </tr>\n",
       "    <tr>\n",
       "      <th>1</th>\n",
       "      <td>Super Mario Bros.</td>\n",
       "      <td>NES</td>\n",
       "      <td>1985.0</td>\n",
       "      <td>Platform</td>\n",
       "      <td>29.08</td>\n",
       "      <td>3.58</td>\n",
       "      <td>6.81</td>\n",
       "      <td>0.77</td>\n",
       "      <td>NaN</td>\n",
       "      <td>NaN</td>\n",
       "      <td>NaN</td>\n",
       "    </tr>\n",
       "    <tr>\n",
       "      <th>2</th>\n",
       "      <td>Mario Kart Wii</td>\n",
       "      <td>Wii</td>\n",
       "      <td>2008.0</td>\n",
       "      <td>Racing</td>\n",
       "      <td>15.68</td>\n",
       "      <td>12.76</td>\n",
       "      <td>3.79</td>\n",
       "      <td>3.29</td>\n",
       "      <td>82.0</td>\n",
       "      <td>8.3</td>\n",
       "      <td>E</td>\n",
       "    </tr>\n",
       "    <tr>\n",
       "      <th>3</th>\n",
       "      <td>Wii Sports Resort</td>\n",
       "      <td>Wii</td>\n",
       "      <td>2009.0</td>\n",
       "      <td>Sports</td>\n",
       "      <td>15.61</td>\n",
       "      <td>10.93</td>\n",
       "      <td>3.28</td>\n",
       "      <td>2.95</td>\n",
       "      <td>80.0</td>\n",
       "      <td>8</td>\n",
       "      <td>E</td>\n",
       "    </tr>\n",
       "    <tr>\n",
       "      <th>4</th>\n",
       "      <td>Pokemon Red/Pokemon Blue</td>\n",
       "      <td>GB</td>\n",
       "      <td>1996.0</td>\n",
       "      <td>Role-Playing</td>\n",
       "      <td>11.27</td>\n",
       "      <td>8.89</td>\n",
       "      <td>10.22</td>\n",
       "      <td>1.00</td>\n",
       "      <td>NaN</td>\n",
       "      <td>NaN</td>\n",
       "      <td>NaN</td>\n",
       "    </tr>\n",
       "    <tr>\n",
       "      <th>5</th>\n",
       "      <td>Tetris</td>\n",
       "      <td>GB</td>\n",
       "      <td>1989.0</td>\n",
       "      <td>Puzzle</td>\n",
       "      <td>23.20</td>\n",
       "      <td>2.26</td>\n",
       "      <td>4.22</td>\n",
       "      <td>0.58</td>\n",
       "      <td>NaN</td>\n",
       "      <td>NaN</td>\n",
       "      <td>NaN</td>\n",
       "    </tr>\n",
       "    <tr>\n",
       "      <th>6</th>\n",
       "      <td>New Super Mario Bros.</td>\n",
       "      <td>DS</td>\n",
       "      <td>2006.0</td>\n",
       "      <td>Platform</td>\n",
       "      <td>11.28</td>\n",
       "      <td>9.14</td>\n",
       "      <td>6.50</td>\n",
       "      <td>2.88</td>\n",
       "      <td>89.0</td>\n",
       "      <td>8.5</td>\n",
       "      <td>E</td>\n",
       "    </tr>\n",
       "    <tr>\n",
       "      <th>7</th>\n",
       "      <td>Wii Play</td>\n",
       "      <td>Wii</td>\n",
       "      <td>2006.0</td>\n",
       "      <td>Misc</td>\n",
       "      <td>13.96</td>\n",
       "      <td>9.18</td>\n",
       "      <td>2.93</td>\n",
       "      <td>2.84</td>\n",
       "      <td>58.0</td>\n",
       "      <td>6.6</td>\n",
       "      <td>E</td>\n",
       "    </tr>\n",
       "    <tr>\n",
       "      <th>8</th>\n",
       "      <td>New Super Mario Bros. Wii</td>\n",
       "      <td>Wii</td>\n",
       "      <td>2009.0</td>\n",
       "      <td>Platform</td>\n",
       "      <td>14.44</td>\n",
       "      <td>6.94</td>\n",
       "      <td>4.70</td>\n",
       "      <td>2.24</td>\n",
       "      <td>87.0</td>\n",
       "      <td>8.4</td>\n",
       "      <td>E</td>\n",
       "    </tr>\n",
       "    <tr>\n",
       "      <th>9</th>\n",
       "      <td>Duck Hunt</td>\n",
       "      <td>NES</td>\n",
       "      <td>1984.0</td>\n",
       "      <td>Shooter</td>\n",
       "      <td>26.93</td>\n",
       "      <td>0.63</td>\n",
       "      <td>0.28</td>\n",
       "      <td>0.47</td>\n",
       "      <td>NaN</td>\n",
       "      <td>NaN</td>\n",
       "      <td>NaN</td>\n",
       "    </tr>\n",
       "  </tbody>\n",
       "</table>\n",
       "</div>"
      ],
      "text/plain": [
       "                        Name Platform  Year_of_Release         Genre  \\\n",
       "0                 Wii Sports      Wii           2006.0        Sports   \n",
       "1          Super Mario Bros.      NES           1985.0      Platform   \n",
       "2             Mario Kart Wii      Wii           2008.0        Racing   \n",
       "3          Wii Sports Resort      Wii           2009.0        Sports   \n",
       "4   Pokemon Red/Pokemon Blue       GB           1996.0  Role-Playing   \n",
       "5                     Tetris       GB           1989.0        Puzzle   \n",
       "6      New Super Mario Bros.       DS           2006.0      Platform   \n",
       "7                   Wii Play      Wii           2006.0          Misc   \n",
       "8  New Super Mario Bros. Wii      Wii           2009.0      Platform   \n",
       "9                  Duck Hunt      NES           1984.0       Shooter   \n",
       "\n",
       "   NA_sales  EU_sales  JP_sales  Other_sales  Critic_Score User_Score Rating  \n",
       "0     41.36     28.96      3.77         8.45          76.0          8      E  \n",
       "1     29.08      3.58      6.81         0.77           NaN        NaN    NaN  \n",
       "2     15.68     12.76      3.79         3.29          82.0        8.3      E  \n",
       "3     15.61     10.93      3.28         2.95          80.0          8      E  \n",
       "4     11.27      8.89     10.22         1.00           NaN        NaN    NaN  \n",
       "5     23.20      2.26      4.22         0.58           NaN        NaN    NaN  \n",
       "6     11.28      9.14      6.50         2.88          89.0        8.5      E  \n",
       "7     13.96      9.18      2.93         2.84          58.0        6.6      E  \n",
       "8     14.44      6.94      4.70         2.24          87.0        8.4      E  \n",
       "9     26.93      0.63      0.28         0.47           NaN        NaN    NaN  "
      ]
     },
     "execution_count": 3,
     "metadata": {},
     "output_type": "execute_result"
    }
   ],
   "source": [
    "data.head(10)"
   ]
  },
  {
   "cell_type": "code",
   "execution_count": 4,
   "metadata": {},
   "outputs": [
    {
     "name": "stdout",
     "output_type": "stream",
     "text": [
      "<class 'pandas.core.frame.DataFrame'>\n",
      "RangeIndex: 16715 entries, 0 to 16714\n",
      "Data columns (total 11 columns):\n",
      " #   Column           Non-Null Count  Dtype  \n",
      "---  ------           --------------  -----  \n",
      " 0   Name             16713 non-null  object \n",
      " 1   Platform         16715 non-null  object \n",
      " 2   Year_of_Release  16446 non-null  float64\n",
      " 3   Genre            16713 non-null  object \n",
      " 4   NA_sales         16715 non-null  float64\n",
      " 5   EU_sales         16715 non-null  float64\n",
      " 6   JP_sales         16715 non-null  float64\n",
      " 7   Other_sales      16715 non-null  float64\n",
      " 8   Critic_Score     8137 non-null   float64\n",
      " 9   User_Score       10014 non-null  object \n",
      " 10  Rating           9949 non-null   object \n",
      "dtypes: float64(6), object(5)\n",
      "memory usage: 1.4+ MB\n"
     ]
    }
   ],
   "source": [
    "data.info()"
   ]
  },
  {
   "cell_type": "code",
   "execution_count": 5,
   "metadata": {},
   "outputs": [
    {
     "data": {
      "image/png": "[encoded data removed]",
      "text/plain": [
       "<Figure size 1080x1440 with 6 Axes>"
      ]
     },
     "metadata": {
      "needs_background": "light"
     },
     "output_type": "display_data"
    }
   ],
   "source": [
    "data.hist(\n",
    "    figsize=(15, 20),\n",
    "    color='skyblue',  \n",
    "    edgecolor='black'\n",
    ")\n",
    "plt.show()"
   ]
  },
  {
   "cell_type": "code",
   "execution_count": 6,
   "metadata": {},
   "outputs": [
    {
     "data": {
      "text/plain": [
       "Index(['Name', 'Platform', 'Year_of_Release', 'Genre', 'NA_sales', 'EU_sales',\n",
       "       'JP_sales', 'Other_sales', 'Critic_Score', 'User_Score', 'Rating'],\n",
       "      dtype='object')"
      ]
     },
     "execution_count": 6,
     "metadata": {},
     "output_type": "execute_result"
    }
   ],
   "source": [
    "data.columns"
   ]
  },
  {
   "cell_type": "code",
   "execution_count": 7,
   "metadata": {},
   "outputs": [],
   "source": [
    "data.columns = data.columns.str.lower()"
   ]
  },
  {
   "cell_type": "code",
   "execution_count": 8,
   "metadata": {},
   "outputs": [
    {
     "data": {
      "text/plain": [
       "Index(['name', 'platform', 'year_of_release', 'genre', 'na_sales', 'eu_sales',\n",
       "       'jp_sales', 'other_sales', 'critic_score', 'user_score', 'rating'],\n",
       "      dtype='object')"
      ]
     },
     "execution_count": 8,
     "metadata": {},
     "output_type": "execute_result"
    }
   ],
   "source": [
    "data.columns "
   ]
  },
  {
   "cell_type": "code",
   "execution_count": 9,
   "metadata": {
    "scrolled": true
   },
   "outputs": [
    {
     "data": {
      "text/html": [
       "<div>\n",
       "<style scoped>\n",
       "    .dataframe tbody tr th:only-of-type {\n",
       "        vertical-align: middle;\n",
       "    }\n",
       "\n",
       "    .dataframe tbody tr th {\n",
       "        vertical-align: top;\n",
       "    }\n",
       "\n",
       "    .dataframe thead th {\n",
       "        text-align: right;\n",
       "    }\n",
       "</style>\n",
       "<table border=\"1\" class=\"dataframe\">\n",
       "  <thead>\n",
       "    <tr style=\"text-align: right;\">\n",
       "      <th></th>\n",
       "      <th>year_of_release</th>\n",
       "      <th>na_sales</th>\n",
       "      <th>eu_sales</th>\n",
       "      <th>jp_sales</th>\n",
       "      <th>other_sales</th>\n",
       "      <th>critic_score</th>\n",
       "    </tr>\n",
       "  </thead>\n",
       "  <tbody>\n",
       "    <tr>\n",
       "      <th>count</th>\n",
       "      <td>16446.000000</td>\n",
       "      <td>16715.000000</td>\n",
       "      <td>16715.000000</td>\n",
       "      <td>16715.000000</td>\n",
       "      <td>16715.000000</td>\n",
       "      <td>8137.000000</td>\n",
       "    </tr>\n",
       "    <tr>\n",
       "      <th>mean</th>\n",
       "      <td>2006.484616</td>\n",
       "      <td>0.263377</td>\n",
       "      <td>0.145060</td>\n",
       "      <td>0.077617</td>\n",
       "      <td>0.047342</td>\n",
       "      <td>68.967679</td>\n",
       "    </tr>\n",
       "    <tr>\n",
       "      <th>std</th>\n",
       "      <td>5.877050</td>\n",
       "      <td>0.813604</td>\n",
       "      <td>0.503339</td>\n",
       "      <td>0.308853</td>\n",
       "      <td>0.186731</td>\n",
       "      <td>13.938165</td>\n",
       "    </tr>\n",
       "    <tr>\n",
       "      <th>min</th>\n",
       "      <td>1980.000000</td>\n",
       "      <td>0.000000</td>\n",
       "      <td>0.000000</td>\n",
       "      <td>0.000000</td>\n",
       "      <td>0.000000</td>\n",
       "      <td>13.000000</td>\n",
       "    </tr>\n",
       "    <tr>\n",
       "      <th>25%</th>\n",
       "      <td>2003.000000</td>\n",
       "      <td>0.000000</td>\n",
       "      <td>0.000000</td>\n",
       "      <td>0.000000</td>\n",
       "      <td>0.000000</td>\n",
       "      <td>60.000000</td>\n",
       "    </tr>\n",
       "    <tr>\n",
       "      <th>50%</th>\n",
       "      <td>2007.000000</td>\n",
       "      <td>0.080000</td>\n",
       "      <td>0.020000</td>\n",
       "      <td>0.000000</td>\n",
       "      <td>0.010000</td>\n",
       "      <td>71.000000</td>\n",
       "    </tr>\n",
       "    <tr>\n",
       "      <th>75%</th>\n",
       "      <td>2010.000000</td>\n",
       "      <td>0.240000</td>\n",
       "      <td>0.110000</td>\n",
       "      <td>0.040000</td>\n",
       "      <td>0.030000</td>\n",
       "      <td>79.000000</td>\n",
       "    </tr>\n",
       "    <tr>\n",
       "      <th>max</th>\n",
       "      <td>2016.000000</td>\n",
       "      <td>41.360000</td>\n",
       "      <td>28.960000</td>\n",
       "      <td>10.220000</td>\n",
       "      <td>10.570000</td>\n",
       "      <td>98.000000</td>\n",
       "    </tr>\n",
       "  </tbody>\n",
       "</table>\n",
       "</div>"
      ],
      "text/plain": [
       "       year_of_release      na_sales      eu_sales      jp_sales  \\\n",
       "count     16446.000000  16715.000000  16715.000000  16715.000000   \n",
       "mean       2006.484616      0.263377      0.145060      0.077617   \n",
       "std           5.877050      0.813604      0.503339      0.308853   \n",
       "min        1980.000000      0.000000      0.000000      0.000000   \n",
       "25%        2003.000000      0.000000      0.000000      0.000000   \n",
       "50%        2007.000000      0.080000      0.020000      0.000000   \n",
       "75%        2010.000000      0.240000      0.110000      0.040000   \n",
       "max        2016.000000     41.360000     28.960000     10.220000   \n",
       "\n",
       "        other_sales  critic_score  \n",
       "count  16715.000000   8137.000000  \n",
       "mean       0.047342     68.967679  \n",
       "std        0.186731     13.938165  \n",
       "min        0.000000     13.000000  \n",
       "25%        0.000000     60.000000  \n",
       "50%        0.010000     71.000000  \n",
       "75%        0.030000     79.000000  \n",
       "max       10.570000     98.000000  "
      ]
     },
     "execution_count": 9,
     "metadata": {},
     "output_type": "execute_result"
    }
   ],
   "source": [
    "data.describe()"
   ]
  },
  {
   "cell_type": "code",
   "execution_count": 10,
   "metadata": {},
   "outputs": [
    {
     "name": "stdout",
     "output_type": "stream",
     "text": [
      "<class 'pandas.core.frame.DataFrame'>\n",
      "RangeIndex: 16715 entries, 0 to 16714\n",
      "Data columns (total 11 columns):\n",
      " #   Column           Non-Null Count  Dtype  \n",
      "---  ------           --------------  -----  \n",
      " 0   name             16713 non-null  object \n",
      " 1   platform         16715 non-null  object \n",
      " 2   year_of_release  16446 non-null  float64\n",
      " 3   genre            16713 non-null  object \n",
      " 4   na_sales         16715 non-null  float64\n",
      " 5   eu_sales         16715 non-null  float64\n",
      " 6   jp_sales         16715 non-null  float64\n",
      " 7   other_sales      16715 non-null  float64\n",
      " 8   critic_score     8137 non-null   float64\n",
      " 9   user_score       10014 non-null  object \n",
      " 10  rating           9949 non-null   object \n",
      "dtypes: float64(6), object(5)\n",
      "memory usage: 1.4+ MB\n"
     ]
    }
   ],
   "source": [
    "data.info()"
   ]
  },
  {
   "cell_type": "code",
   "execution_count": 11,
   "metadata": {},
   "outputs": [
    {
     "data": {
      "text/plain": [
       "name                  2\n",
       "platform              0\n",
       "year_of_release     269\n",
       "genre                 2\n",
       "na_sales              0\n",
       "eu_sales              0\n",
       "jp_sales              0\n",
       "other_sales           0\n",
       "critic_score       8578\n",
       "user_score         6701\n",
       "rating             6766\n",
       "dtype: int64"
      ]
     },
     "execution_count": 11,
     "metadata": {},
     "output_type": "execute_result"
    }
   ],
   "source": [
    "data.isna().sum()"
   ]
  },
  {
   "cell_type": "code",
   "execution_count": 12,
   "metadata": {},
   "outputs": [],
   "source": [
    "#удалим пропуски с годом выпуска. Иначе в дальнейшем мы получим нули. Значений не много ими можно пренебречь. \n",
    "data = data.dropna(subset=['year_of_release'])"
   ]
  },
  {
   "cell_type": "code",
   "execution_count": 13,
   "metadata": {},
   "outputs": [],
   "source": [
    "# Заменим в этих столбцах тип данных:\n",
    "data['year_of_release'] = data['year_of_release'].fillna(0).astype(int)\n",
    "data['user_score'] = pd.to_numeric(data['user_score'], errors='coerce')"
   ]
  },
  {
   "cell_type": "code",
   "execution_count": 14,
   "metadata": {},
   "outputs": [
    {
     "data": {
      "text/plain": [
       "name                  2\n",
       "platform              0\n",
       "year_of_release       0\n",
       "genre                 2\n",
       "na_sales              0\n",
       "eu_sales              0\n",
       "jp_sales              0\n",
       "other_sales           0\n",
       "critic_score       8463\n",
       "user_score         8983\n",
       "rating             6678\n",
       "dtype: int64"
      ]
     },
     "execution_count": 14,
     "metadata": {},
     "output_type": "execute_result"
    }
   ],
   "source": [
    "# Посмотрим что по пропускам\n",
    "data.isna().sum()"
   ]
  },
  {
   "cell_type": "code",
   "execution_count": 15,
   "metadata": {},
   "outputs": [],
   "source": [
    "# имя / жанр удаляем без сожаления, ими можно пренебречь\n",
    "data = data.dropna(subset=['name', 'genre'])"
   ]
  },
  {
   "cell_type": "code",
   "execution_count": 16,
   "metadata": {},
   "outputs": [],
   "source": [
    "#Рейтинг - это возрастные ограничения. Ими нельзя принебречь, заполним значением, которое даст понять,\n",
    "#что категория не была проставлена.\n",
    "\n",
    "data['rating'].fillna('Not Rated', inplace=True)"
   ]
  },
  {
   "cell_type": "code",
   "execution_count": 17,
   "metadata": {},
   "outputs": [
    {
     "data": {
      "text/html": [
       "<div>\n",
       "<style scoped>\n",
       "    .dataframe tbody tr th:only-of-type {\n",
       "        vertical-align: middle;\n",
       "    }\n",
       "\n",
       "    .dataframe tbody tr th {\n",
       "        vertical-align: top;\n",
       "    }\n",
       "\n",
       "    .dataframe thead th {\n",
       "        text-align: right;\n",
       "    }\n",
       "</style>\n",
       "<table border=\"1\" class=\"dataframe\">\n",
       "  <thead>\n",
       "    <tr style=\"text-align: right;\">\n",
       "      <th></th>\n",
       "      <th>name</th>\n",
       "      <th>platform</th>\n",
       "      <th>year_of_release</th>\n",
       "      <th>genre</th>\n",
       "      <th>na_sales</th>\n",
       "      <th>eu_sales</th>\n",
       "      <th>jp_sales</th>\n",
       "      <th>other_sales</th>\n",
       "      <th>critic_score</th>\n",
       "      <th>user_score</th>\n",
       "      <th>rating</th>\n",
       "    </tr>\n",
       "  </thead>\n",
       "  <tbody>\n",
       "  </tbody>\n",
       "</table>\n",
       "</div>"
      ],
      "text/plain": [
       "Empty DataFrame\n",
       "Columns: [name, platform, year_of_release, genre, na_sales, eu_sales, jp_sales, other_sales, critic_score, user_score, rating]\n",
       "Index: []"
      ]
     },
     "execution_count": 17,
     "metadata": {},
     "output_type": "execute_result"
    }
   ],
   "source": [
    "# Далее я хочу просмотреть, нет ли нулевых значений, что бы возможно заменить NaN на нули.\n",
    "data[data['critic_score'] == 0] "
   ]
  },
  {
   "cell_type": "code",
   "execution_count": 18,
   "metadata": {},
   "outputs": [
    {
     "data": {
      "text/html": [
       "<div>\n",
       "<style scoped>\n",
       "    .dataframe tbody tr th:only-of-type {\n",
       "        vertical-align: middle;\n",
       "    }\n",
       "\n",
       "    .dataframe tbody tr th {\n",
       "        vertical-align: top;\n",
       "    }\n",
       "\n",
       "    .dataframe thead th {\n",
       "        text-align: right;\n",
       "    }\n",
       "</style>\n",
       "<table border=\"1\" class=\"dataframe\">\n",
       "  <thead>\n",
       "    <tr style=\"text-align: right;\">\n",
       "      <th></th>\n",
       "      <th>name</th>\n",
       "      <th>platform</th>\n",
       "      <th>year_of_release</th>\n",
       "      <th>genre</th>\n",
       "      <th>na_sales</th>\n",
       "      <th>eu_sales</th>\n",
       "      <th>jp_sales</th>\n",
       "      <th>other_sales</th>\n",
       "      <th>critic_score</th>\n",
       "      <th>user_score</th>\n",
       "      <th>rating</th>\n",
       "    </tr>\n",
       "  </thead>\n",
       "  <tbody>\n",
       "    <tr>\n",
       "      <th>2835</th>\n",
       "      <td>My Little Pony: Pinkie Pie's Party</td>\n",
       "      <td>DS</td>\n",
       "      <td>2008</td>\n",
       "      <td>Adventure</td>\n",
       "      <td>0.66</td>\n",
       "      <td>0.0</td>\n",
       "      <td>0.0</td>\n",
       "      <td>0.06</td>\n",
       "      <td>NaN</td>\n",
       "      <td>0.0</td>\n",
       "      <td>E</td>\n",
       "    </tr>\n",
       "  </tbody>\n",
       "</table>\n",
       "</div>"
      ],
      "text/plain": [
       "                                    name platform  year_of_release      genre  \\\n",
       "2835  My Little Pony: Pinkie Pie's Party       DS             2008  Adventure   \n",
       "\n",
       "      na_sales  eu_sales  jp_sales  other_sales  critic_score  user_score  \\\n",
       "2835      0.66       0.0       0.0         0.06           NaN         0.0   \n",
       "\n",
       "     rating  \n",
       "2835      E  "
      ]
     },
     "execution_count": 18,
     "metadata": {},
     "output_type": "execute_result"
    }
   ],
   "source": [
    "# Тут анналогично\n",
    "data[data['user_score'] == 0] "
   ]
  },
  {
   "cell_type": "code",
   "execution_count": 19,
   "metadata": {},
   "outputs": [
    {
     "data": {
      "text/html": [
       "<div>\n",
       "<style scoped>\n",
       "    .dataframe tbody tr th:only-of-type {\n",
       "        vertical-align: middle;\n",
       "    }\n",
       "\n",
       "    .dataframe tbody tr th {\n",
       "        vertical-align: top;\n",
       "    }\n",
       "\n",
       "    .dataframe thead th {\n",
       "        text-align: right;\n",
       "    }\n",
       "</style>\n",
       "<table border=\"1\" class=\"dataframe\">\n",
       "  <thead>\n",
       "    <tr style=\"text-align: right;\">\n",
       "      <th></th>\n",
       "      <th>name</th>\n",
       "      <th>platform</th>\n",
       "      <th>year_of_release</th>\n",
       "      <th>genre</th>\n",
       "      <th>na_sales</th>\n",
       "      <th>eu_sales</th>\n",
       "      <th>jp_sales</th>\n",
       "      <th>other_sales</th>\n",
       "      <th>critic_score</th>\n",
       "      <th>user_score</th>\n",
       "      <th>rating</th>\n",
       "    </tr>\n",
       "  </thead>\n",
       "  <tbody>\n",
       "  </tbody>\n",
       "</table>\n",
       "</div>"
      ],
      "text/plain": [
       "Empty DataFrame\n",
       "Columns: [name, platform, year_of_release, genre, na_sales, eu_sales, jp_sales, other_sales, critic_score, user_score, rating]\n",
       "Index: []"
      ]
     },
     "execution_count": 19,
     "metadata": {},
     "output_type": "execute_result"
    }
   ],
   "source": [
    "#И тут\n",
    "data[data['rating'] == 0] "
   ]
  },
  {
   "cell_type": "code",
   "execution_count": 20,
   "metadata": {},
   "outputs": [],
   "source": [
    "# Подумал, что NaN общую статистику не испортит. А нули - будут явными выбросами. Поэтому отказался от идеи замены. "
   ]
  },
  {
   "cell_type": "code",
   "execution_count": 21,
   "metadata": {},
   "outputs": [
    {
     "data": {
      "text/plain": [
       "0"
      ]
     },
     "execution_count": 21,
     "metadata": {},
     "output_type": "execute_result"
    }
   ],
   "source": [
    "data.duplicated().sum()"
   ]
  },
  {
   "cell_type": "code",
   "execution_count": 22,
   "metadata": {},
   "outputs": [
    {
     "data": {
      "text/plain": [
       "name                  0\n",
       "platform              0\n",
       "year_of_release       0\n",
       "genre                 0\n",
       "na_sales              0\n",
       "eu_sales              0\n",
       "jp_sales              0\n",
       "other_sales           0\n",
       "critic_score       8461\n",
       "user_score         8981\n",
       "rating                0\n",
       "dtype: int64"
      ]
     },
     "execution_count": 22,
     "metadata": {},
     "output_type": "execute_result"
    }
   ],
   "source": [
    "data.isna().sum()"
   ]
  },
  {
   "cell_type": "code",
   "execution_count": 23,
   "metadata": {},
   "outputs": [
    {
     "data": {
      "text/plain": [
       "array([8. , nan, 8.3, 8.5, 6.6, 8.4, 8.6, 7.7, 6.3, 7.4, 8.2, 9. , 7.9,\n",
       "       8.1, 8.7, 7.1, 3.4, 5.3, 4.8, 3.2, 8.9, 6.4, 7.8, 7.5, 2.6, 7.2,\n",
       "       9.2, 7. , 7.3, 4.3, 7.6, 5.7, 5. , 9.1, 6.5, 8.8, 6.9, 9.4, 6.8,\n",
       "       6.1, 6.7, 5.4, 4. , 4.9, 4.5, 9.3, 6.2, 4.2, 6. , 3.7, 4.1, 5.8,\n",
       "       5.6, 5.5, 4.4, 4.6, 5.9, 3.9, 3.1, 2.9, 5.2, 3.3, 4.7, 5.1, 3.5,\n",
       "       2.5, 1.9, 3. , 2.7, 2.2, 2. , 9.5, 2.1, 3.6, 2.8, 1.8, 3.8, 0. ,\n",
       "       1.6, 9.6, 2.4, 1.7, 1.1, 0.3, 1.5, 0.7, 1.2, 2.3, 0.5, 1.3, 0.2,\n",
       "       0.6, 1.4, 0.9, 1. , 9.7])"
      ]
     },
     "execution_count": 23,
     "metadata": {},
     "output_type": "execute_result"
    }
   ],
   "source": [
    "data['user_score'].unique()"
   ]
  },
  {
   "cell_type": "code",
   "execution_count": 24,
   "metadata": {},
   "outputs": [
    {
     "data": {
      "text/plain": [
       "array([76., nan, 82., 80., 89., 58., 87., 91., 61., 97., 95., 77., 88.,\n",
       "       83., 94., 93., 85., 86., 98., 96., 90., 84., 73., 74., 78., 92.,\n",
       "       71., 72., 68., 62., 49., 67., 81., 66., 56., 79., 70., 59., 64.,\n",
       "       75., 60., 63., 69., 50., 25., 42., 44., 55., 48., 57., 29., 47.,\n",
       "       65., 54., 20., 53., 37., 38., 33., 52., 30., 32., 43., 45., 51.,\n",
       "       40., 46., 39., 34., 41., 36., 31., 27., 35., 26., 19., 28., 23.,\n",
       "       24., 21., 17., 13.])"
      ]
     },
     "execution_count": 24,
     "metadata": {},
     "output_type": "execute_result"
    }
   ],
   "source": [
    "data['critic_score'].unique()"
   ]
  },
  {
   "cell_type": "code",
   "execution_count": 25,
   "metadata": {},
   "outputs": [
    {
     "data": {
      "text/html": [
       "<div>\n",
       "<style scoped>\n",
       "    .dataframe tbody tr th:only-of-type {\n",
       "        vertical-align: middle;\n",
       "    }\n",
       "\n",
       "    .dataframe tbody tr th {\n",
       "        vertical-align: top;\n",
       "    }\n",
       "\n",
       "    .dataframe thead th {\n",
       "        text-align: right;\n",
       "    }\n",
       "</style>\n",
       "<table border=\"1\" class=\"dataframe\">\n",
       "  <thead>\n",
       "    <tr style=\"text-align: right;\">\n",
       "      <th></th>\n",
       "      <th>name</th>\n",
       "      <th>platform</th>\n",
       "      <th>year_of_release</th>\n",
       "      <th>genre</th>\n",
       "      <th>na_sales</th>\n",
       "      <th>eu_sales</th>\n",
       "      <th>jp_sales</th>\n",
       "      <th>other_sales</th>\n",
       "      <th>critic_score</th>\n",
       "      <th>user_score</th>\n",
       "      <th>rating</th>\n",
       "      <th>total_sales</th>\n",
       "    </tr>\n",
       "  </thead>\n",
       "  <tbody>\n",
       "    <tr>\n",
       "      <th>0</th>\n",
       "      <td>Wii Sports</td>\n",
       "      <td>Wii</td>\n",
       "      <td>2006</td>\n",
       "      <td>Sports</td>\n",
       "      <td>41.36</td>\n",
       "      <td>28.96</td>\n",
       "      <td>3.77</td>\n",
       "      <td>8.45</td>\n",
       "      <td>76.0</td>\n",
       "      <td>8.0</td>\n",
       "      <td>E</td>\n",
       "      <td>82.54</td>\n",
       "    </tr>\n",
       "    <tr>\n",
       "      <th>1</th>\n",
       "      <td>Super Mario Bros.</td>\n",
       "      <td>NES</td>\n",
       "      <td>1985</td>\n",
       "      <td>Platform</td>\n",
       "      <td>29.08</td>\n",
       "      <td>3.58</td>\n",
       "      <td>6.81</td>\n",
       "      <td>0.77</td>\n",
       "      <td>NaN</td>\n",
       "      <td>NaN</td>\n",
       "      <td>Not Rated</td>\n",
       "      <td>40.24</td>\n",
       "    </tr>\n",
       "    <tr>\n",
       "      <th>2</th>\n",
       "      <td>Mario Kart Wii</td>\n",
       "      <td>Wii</td>\n",
       "      <td>2008</td>\n",
       "      <td>Racing</td>\n",
       "      <td>15.68</td>\n",
       "      <td>12.76</td>\n",
       "      <td>3.79</td>\n",
       "      <td>3.29</td>\n",
       "      <td>82.0</td>\n",
       "      <td>8.3</td>\n",
       "      <td>E</td>\n",
       "      <td>35.52</td>\n",
       "    </tr>\n",
       "    <tr>\n",
       "      <th>3</th>\n",
       "      <td>Wii Sports Resort</td>\n",
       "      <td>Wii</td>\n",
       "      <td>2009</td>\n",
       "      <td>Sports</td>\n",
       "      <td>15.61</td>\n",
       "      <td>10.93</td>\n",
       "      <td>3.28</td>\n",
       "      <td>2.95</td>\n",
       "      <td>80.0</td>\n",
       "      <td>8.0</td>\n",
       "      <td>E</td>\n",
       "      <td>32.77</td>\n",
       "    </tr>\n",
       "    <tr>\n",
       "      <th>4</th>\n",
       "      <td>Pokemon Red/Pokemon Blue</td>\n",
       "      <td>GB</td>\n",
       "      <td>1996</td>\n",
       "      <td>Role-Playing</td>\n",
       "      <td>11.27</td>\n",
       "      <td>8.89</td>\n",
       "      <td>10.22</td>\n",
       "      <td>1.00</td>\n",
       "      <td>NaN</td>\n",
       "      <td>NaN</td>\n",
       "      <td>Not Rated</td>\n",
       "      <td>31.38</td>\n",
       "    </tr>\n",
       "    <tr>\n",
       "      <th>...</th>\n",
       "      <td>...</td>\n",
       "      <td>...</td>\n",
       "      <td>...</td>\n",
       "      <td>...</td>\n",
       "      <td>...</td>\n",
       "      <td>...</td>\n",
       "      <td>...</td>\n",
       "      <td>...</td>\n",
       "      <td>...</td>\n",
       "      <td>...</td>\n",
       "      <td>...</td>\n",
       "      <td>...</td>\n",
       "    </tr>\n",
       "    <tr>\n",
       "      <th>16710</th>\n",
       "      <td>Samurai Warriors: Sanada Maru</td>\n",
       "      <td>PS3</td>\n",
       "      <td>2016</td>\n",
       "      <td>Action</td>\n",
       "      <td>0.00</td>\n",
       "      <td>0.00</td>\n",
       "      <td>0.01</td>\n",
       "      <td>0.00</td>\n",
       "      <td>NaN</td>\n",
       "      <td>NaN</td>\n",
       "      <td>Not Rated</td>\n",
       "      <td>0.01</td>\n",
       "    </tr>\n",
       "    <tr>\n",
       "      <th>16711</th>\n",
       "      <td>LMA Manager 2007</td>\n",
       "      <td>X360</td>\n",
       "      <td>2006</td>\n",
       "      <td>Sports</td>\n",
       "      <td>0.00</td>\n",
       "      <td>0.01</td>\n",
       "      <td>0.00</td>\n",
       "      <td>0.00</td>\n",
       "      <td>NaN</td>\n",
       "      <td>NaN</td>\n",
       "      <td>Not Rated</td>\n",
       "      <td>0.01</td>\n",
       "    </tr>\n",
       "    <tr>\n",
       "      <th>16712</th>\n",
       "      <td>Haitaka no Psychedelica</td>\n",
       "      <td>PSV</td>\n",
       "      <td>2016</td>\n",
       "      <td>Adventure</td>\n",
       "      <td>0.00</td>\n",
       "      <td>0.00</td>\n",
       "      <td>0.01</td>\n",
       "      <td>0.00</td>\n",
       "      <td>NaN</td>\n",
       "      <td>NaN</td>\n",
       "      <td>Not Rated</td>\n",
       "      <td>0.01</td>\n",
       "    </tr>\n",
       "    <tr>\n",
       "      <th>16713</th>\n",
       "      <td>Spirits &amp; Spells</td>\n",
       "      <td>GBA</td>\n",
       "      <td>2003</td>\n",
       "      <td>Platform</td>\n",
       "      <td>0.01</td>\n",
       "      <td>0.00</td>\n",
       "      <td>0.00</td>\n",
       "      <td>0.00</td>\n",
       "      <td>NaN</td>\n",
       "      <td>NaN</td>\n",
       "      <td>Not Rated</td>\n",
       "      <td>0.01</td>\n",
       "    </tr>\n",
       "    <tr>\n",
       "      <th>16714</th>\n",
       "      <td>Winning Post 8 2016</td>\n",
       "      <td>PSV</td>\n",
       "      <td>2016</td>\n",
       "      <td>Simulation</td>\n",
       "      <td>0.00</td>\n",
       "      <td>0.00</td>\n",
       "      <td>0.01</td>\n",
       "      <td>0.00</td>\n",
       "      <td>NaN</td>\n",
       "      <td>NaN</td>\n",
       "      <td>Not Rated</td>\n",
       "      <td>0.01</td>\n",
       "    </tr>\n",
       "  </tbody>\n",
       "</table>\n",
       "<p>16444 rows × 12 columns</p>\n",
       "</div>"
      ],
      "text/plain": [
       "                                name platform  year_of_release         genre  \\\n",
       "0                         Wii Sports      Wii             2006        Sports   \n",
       "1                  Super Mario Bros.      NES             1985      Platform   \n",
       "2                     Mario Kart Wii      Wii             2008        Racing   \n",
       "3                  Wii Sports Resort      Wii             2009        Sports   \n",
       "4           Pokemon Red/Pokemon Blue       GB             1996  Role-Playing   \n",
       "...                              ...      ...              ...           ...   \n",
       "16710  Samurai Warriors: Sanada Maru      PS3             2016        Action   \n",
       "16711               LMA Manager 2007     X360             2006        Sports   \n",
       "16712        Haitaka no Psychedelica      PSV             2016     Adventure   \n",
       "16713               Spirits & Spells      GBA             2003      Platform   \n",
       "16714            Winning Post 8 2016      PSV             2016    Simulation   \n",
       "\n",
       "       na_sales  eu_sales  jp_sales  other_sales  critic_score  user_score  \\\n",
       "0         41.36     28.96      3.77         8.45          76.0         8.0   \n",
       "1         29.08      3.58      6.81         0.77           NaN         NaN   \n",
       "2         15.68     12.76      3.79         3.29          82.0         8.3   \n",
       "3         15.61     10.93      3.28         2.95          80.0         8.0   \n",
       "4         11.27      8.89     10.22         1.00           NaN         NaN   \n",
       "...         ...       ...       ...          ...           ...         ...   \n",
       "16710      0.00      0.00      0.01         0.00           NaN         NaN   \n",
       "16711      0.00      0.01      0.00         0.00           NaN         NaN   \n",
       "16712      0.00      0.00      0.01         0.00           NaN         NaN   \n",
       "16713      0.01      0.00      0.00         0.00           NaN         NaN   \n",
       "16714      0.00      0.00      0.01         0.00           NaN         NaN   \n",
       "\n",
       "          rating  total_sales  \n",
       "0              E        82.54  \n",
       "1      Not Rated        40.24  \n",
       "2              E        35.52  \n",
       "3              E        32.77  \n",
       "4      Not Rated        31.38  \n",
       "...          ...          ...  \n",
       "16710  Not Rated         0.01  \n",
       "16711  Not Rated         0.01  \n",
       "16712  Not Rated         0.01  \n",
       "16713  Not Rated         0.01  \n",
       "16714  Not Rated         0.01  \n",
       "\n",
       "[16444 rows x 12 columns]"
      ]
     },
     "execution_count": 25,
     "metadata": {},
     "output_type": "execute_result"
    }
   ],
   "source": [
    "data['total_sales'] = data.loc[:,['na_sales','eu_sales', 'jp_sales', 'other_sales']].sum(axis=1)\n",
    "data"
   ]
  },
  {
   "cell_type": "code",
   "execution_count": 35,
   "metadata": {},
   "outputs": [
    {
     "data": {
      "text/html": [
       "<div>\n",
       "<style scoped>\n",
       "    .dataframe tbody tr th:only-of-type {\n",
       "        vertical-align: middle;\n",
       "    }\n",
       "\n",
       "    .dataframe tbody tr th {\n",
       "        vertical-align: top;\n",
       "    }\n",
       "\n",
       "    .dataframe thead th {\n",
       "        text-align: right;\n",
       "    }\n",
       "</style>\n",
       "<table border=\"1\" class=\"dataframe\">\n",
       "  <thead>\n",
       "    <tr style=\"text-align: right;\">\n",
       "      <th></th>\n",
       "      <th>name</th>\n",
       "      <th>platform</th>\n",
       "      <th>year_of_release</th>\n",
       "      <th>genre</th>\n",
       "      <th>na_sales</th>\n",
       "      <th>eu_sales</th>\n",
       "      <th>jp_sales</th>\n",
       "      <th>other_sales</th>\n",
       "      <th>critic_score</th>\n",
       "      <th>user_score</th>\n",
       "      <th>rating</th>\n",
       "      <th>total_sales</th>\n",
       "    </tr>\n",
       "  </thead>\n",
       "  <tbody>\n",
       "    <tr>\n",
       "      <th>604</th>\n",
       "      <td>Madden NFL 13</td>\n",
       "      <td>PS3</td>\n",
       "      <td>2012</td>\n",
       "      <td>Sports</td>\n",
       "      <td>2.11</td>\n",
       "      <td>0.22</td>\n",
       "      <td>0.00</td>\n",
       "      <td>0.23</td>\n",
       "      <td>83.0</td>\n",
       "      <td>5.5</td>\n",
       "      <td>E</td>\n",
       "      <td>2.56</td>\n",
       "    </tr>\n",
       "    <tr>\n",
       "      <th>1190</th>\n",
       "      <td>Need for Speed: Most Wanted</td>\n",
       "      <td>X360</td>\n",
       "      <td>2012</td>\n",
       "      <td>Racing</td>\n",
       "      <td>0.62</td>\n",
       "      <td>0.78</td>\n",
       "      <td>0.01</td>\n",
       "      <td>0.15</td>\n",
       "      <td>83.0</td>\n",
       "      <td>8.5</td>\n",
       "      <td>T</td>\n",
       "      <td>1.56</td>\n",
       "    </tr>\n",
       "    <tr>\n",
       "      <th>1591</th>\n",
       "      <td>Need for Speed: Most Wanted</td>\n",
       "      <td>X360</td>\n",
       "      <td>2005</td>\n",
       "      <td>Racing</td>\n",
       "      <td>1.00</td>\n",
       "      <td>0.13</td>\n",
       "      <td>0.02</td>\n",
       "      <td>0.10</td>\n",
       "      <td>83.0</td>\n",
       "      <td>8.5</td>\n",
       "      <td>T</td>\n",
       "      <td>1.25</td>\n",
       "    </tr>\n",
       "    <tr>\n",
       "      <th>5972</th>\n",
       "      <td>Need for Speed: Most Wanted</td>\n",
       "      <td>PC</td>\n",
       "      <td>2005</td>\n",
       "      <td>Racing</td>\n",
       "      <td>0.02</td>\n",
       "      <td>0.23</td>\n",
       "      <td>0.00</td>\n",
       "      <td>0.04</td>\n",
       "      <td>82.0</td>\n",
       "      <td>8.5</td>\n",
       "      <td>T</td>\n",
       "      <td>0.29</td>\n",
       "    </tr>\n",
       "    <tr>\n",
       "      <th>11715</th>\n",
       "      <td>Need for Speed: Most Wanted</td>\n",
       "      <td>PC</td>\n",
       "      <td>2012</td>\n",
       "      <td>Racing</td>\n",
       "      <td>0.00</td>\n",
       "      <td>0.06</td>\n",
       "      <td>0.00</td>\n",
       "      <td>0.02</td>\n",
       "      <td>82.0</td>\n",
       "      <td>8.5</td>\n",
       "      <td>T</td>\n",
       "      <td>0.08</td>\n",
       "    </tr>\n",
       "    <tr>\n",
       "      <th>16230</th>\n",
       "      <td>Madden NFL 13</td>\n",
       "      <td>PS3</td>\n",
       "      <td>2012</td>\n",
       "      <td>Sports</td>\n",
       "      <td>0.00</td>\n",
       "      <td>0.01</td>\n",
       "      <td>0.00</td>\n",
       "      <td>0.00</td>\n",
       "      <td>83.0</td>\n",
       "      <td>5.5</td>\n",
       "      <td>E</td>\n",
       "      <td>0.01</td>\n",
       "    </tr>\n",
       "  </tbody>\n",
       "</table>\n",
       "</div>"
      ],
      "text/plain": [
       "                              name platform  year_of_release   genre  \\\n",
       "604                  Madden NFL 13      PS3             2012  Sports   \n",
       "1190   Need for Speed: Most Wanted     X360             2012  Racing   \n",
       "1591   Need for Speed: Most Wanted     X360             2005  Racing   \n",
       "5972   Need for Speed: Most Wanted       PC             2005  Racing   \n",
       "11715  Need for Speed: Most Wanted       PC             2012  Racing   \n",
       "16230                Madden NFL 13      PS3             2012  Sports   \n",
       "\n",
       "       na_sales  eu_sales  jp_sales  other_sales  critic_score  user_score  \\\n",
       "604        2.11      0.22      0.00         0.23          83.0         5.5   \n",
       "1190       0.62      0.78      0.01         0.15          83.0         8.5   \n",
       "1591       1.00      0.13      0.02         0.10          83.0         8.5   \n",
       "5972       0.02      0.23      0.00         0.04          82.0         8.5   \n",
       "11715      0.00      0.06      0.00         0.02          82.0         8.5   \n",
       "16230      0.00      0.01      0.00         0.00          83.0         5.5   \n",
       "\n",
       "      rating  total_sales  \n",
       "604        E         2.56  \n",
       "1190       T         1.56  \n",
       "1591       T         1.25  \n",
       "5972       T         0.29  \n",
       "11715      T         0.08  \n",
       "16230      E         0.01  "
      ]
     },
     "execution_count": 35,
     "metadata": {},
     "output_type": "execute_result"
    }
   ],
   "source": [
    "#data.duplicated(subset = ['name']).sum()\n",
    "#добавим еще один столбец. Можно было добавить год релиза, но я посчитал, что на разных платформах игра \n",
    "# могла выйти в конце одного и начале другого года. Поэтому выведем и посмотрим:\n",
    "data.duplicated(subset=['name', 'platform']).sum()\n",
    "data[data.duplicated(subset=['name', 'platform']]"
   ]
  },
  {
   "cell_type": "code",
   "execution_count": 36,
   "metadata": {},
   "outputs": [],
   "source": [
    "data = data.drop_duplicates(subset=['name', 'platform'])\n"
   ]
  },
  {
   "cell_type": "code",
   "execution_count": 37,
   "metadata": {},
   "outputs": [
    {
     "data": {
      "text/plain": [
       "0"
      ]
     },
     "execution_count": 37,
     "metadata": {},
     "output_type": "execute_result"
    }
   ],
   "source": [
    "data.duplicated(subset=['name', 'platform']).sum()\n"
   ]
  },
  {
   "cell_type": "code",
   "execution_count": 38,
   "metadata": {},
   "outputs": [
    {
     "data": {
      "text/html": [
       "<div>\n",
       "<style scoped>\n",
       "    .dataframe tbody tr th:only-of-type {\n",
       "        vertical-align: middle;\n",
       "    }\n",
       "\n",
       "    .dataframe tbody tr th {\n",
       "        vertical-align: top;\n",
       "    }\n",
       "\n",
       "    .dataframe thead th {\n",
       "        text-align: right;\n",
       "    }\n",
       "</style>\n",
       "<table border=\"1\" class=\"dataframe\">\n",
       "  <thead>\n",
       "    <tr style=\"text-align: right;\">\n",
       "      <th></th>\n",
       "      <th>name</th>\n",
       "      <th>platform</th>\n",
       "      <th>year_of_release</th>\n",
       "      <th>genre</th>\n",
       "      <th>na_sales</th>\n",
       "      <th>eu_sales</th>\n",
       "      <th>jp_sales</th>\n",
       "      <th>other_sales</th>\n",
       "      <th>critic_score</th>\n",
       "      <th>user_score</th>\n",
       "      <th>rating</th>\n",
       "      <th>total_sales</th>\n",
       "    </tr>\n",
       "  </thead>\n",
       "  <tbody>\n",
       "  </tbody>\n",
       "</table>\n",
       "</div>"
      ],
      "text/plain": [
       "Empty DataFrame\n",
       "Columns: [name, platform, year_of_release, genre, na_sales, eu_sales, jp_sales, other_sales, critic_score, user_score, rating, total_sales]\n",
       "Index: []"
      ]
     },
     "execution_count": 38,
     "metadata": {},
     "output_type": "execute_result"
    }
   ],
   "source": []
  },
  {
   "cell_type": "markdown",
   "metadata": {},
   "source": [
    "### Вывод по разделу. Что было сделано:\n",
    "- загружены необходимые для работы библиотеки.\n",
    "- загружен датасет.\n",
    "- ознакомились с данными.\n",
    "- привели названия столбцов к нижнему регистру(snake_style был уже)\n",
    "- в столбцах year_of_release и user_score поменяли тип данных. В первом случае это год выхода, это только целое число. Во втором случае - оценки пользователя это число. \n",
    "- Убрали дубликаты, убрали пропуски там, где это было возможно.\n",
    "- Добавили столбик с суммарными продажами. "
   ]
  },
  {
   "cell_type": "markdown",
   "metadata": {},
   "source": [
    "## Исследовательский анализ данных\n"
   ]
  },
  {
   "cell_type": "markdown",
   "metadata": {},
   "source": [
    "### Посмотрите, сколько игр выпускалось в разные годы. Важны ли данные за все периоды?\n"
   ]
  },
  {
   "cell_type": "code",
   "execution_count": 88,
   "metadata": {},
   "outputs": [
    {
     "data": {
      "text/html": [
       "<div>\n",
       "<style scoped>\n",
       "    .dataframe tbody tr th:only-of-type {\n",
       "        vertical-align: middle;\n",
       "    }\n",
       "\n",
       "    .dataframe tbody tr th {\n",
       "        vertical-align: top;\n",
       "    }\n",
       "\n",
       "    .dataframe thead th {\n",
       "        text-align: right;\n",
       "    }\n",
       "</style>\n",
       "<table border=\"1\" class=\"dataframe\">\n",
       "  <thead>\n",
       "    <tr style=\"text-align: right;\">\n",
       "      <th></th>\n",
       "      <th>name</th>\n",
       "    </tr>\n",
       "    <tr>\n",
       "      <th>year_of_release</th>\n",
       "      <th></th>\n",
       "    </tr>\n",
       "  </thead>\n",
       "  <tbody>\n",
       "    <tr>\n",
       "      <th>1980</th>\n",
       "      <td>8</td>\n",
       "    </tr>\n",
       "    <tr>\n",
       "      <th>1981</th>\n",
       "      <td>43</td>\n",
       "    </tr>\n",
       "    <tr>\n",
       "      <th>1982</th>\n",
       "      <td>33</td>\n",
       "    </tr>\n",
       "    <tr>\n",
       "      <th>1983</th>\n",
       "      <td>16</td>\n",
       "    </tr>\n",
       "    <tr>\n",
       "      <th>1984</th>\n",
       "      <td>13</td>\n",
       "    </tr>\n",
       "    <tr>\n",
       "      <th>1985</th>\n",
       "      <td>13</td>\n",
       "    </tr>\n",
       "    <tr>\n",
       "      <th>1986</th>\n",
       "      <td>21</td>\n",
       "    </tr>\n",
       "    <tr>\n",
       "      <th>1987</th>\n",
       "      <td>15</td>\n",
       "    </tr>\n",
       "    <tr>\n",
       "      <th>1988</th>\n",
       "      <td>11</td>\n",
       "    </tr>\n",
       "    <tr>\n",
       "      <th>1989</th>\n",
       "      <td>14</td>\n",
       "    </tr>\n",
       "    <tr>\n",
       "      <th>1990</th>\n",
       "      <td>14</td>\n",
       "    </tr>\n",
       "    <tr>\n",
       "      <th>1991</th>\n",
       "      <td>40</td>\n",
       "    </tr>\n",
       "    <tr>\n",
       "      <th>1992</th>\n",
       "      <td>37</td>\n",
       "    </tr>\n",
       "    <tr>\n",
       "      <th>1993</th>\n",
       "      <td>58</td>\n",
       "    </tr>\n",
       "    <tr>\n",
       "      <th>1994</th>\n",
       "      <td>112</td>\n",
       "    </tr>\n",
       "    <tr>\n",
       "      <th>1995</th>\n",
       "      <td>200</td>\n",
       "    </tr>\n",
       "    <tr>\n",
       "      <th>1996</th>\n",
       "      <td>247</td>\n",
       "    </tr>\n",
       "    <tr>\n",
       "      <th>1997</th>\n",
       "      <td>268</td>\n",
       "    </tr>\n",
       "    <tr>\n",
       "      <th>1998</th>\n",
       "      <td>347</td>\n",
       "    </tr>\n",
       "    <tr>\n",
       "      <th>1999</th>\n",
       "      <td>293</td>\n",
       "    </tr>\n",
       "    <tr>\n",
       "      <th>2000</th>\n",
       "      <td>300</td>\n",
       "    </tr>\n",
       "    <tr>\n",
       "      <th>2001</th>\n",
       "      <td>410</td>\n",
       "    </tr>\n",
       "    <tr>\n",
       "      <th>2002</th>\n",
       "      <td>573</td>\n",
       "    </tr>\n",
       "    <tr>\n",
       "      <th>2003</th>\n",
       "      <td>491</td>\n",
       "    </tr>\n",
       "    <tr>\n",
       "      <th>2004</th>\n",
       "      <td>521</td>\n",
       "    </tr>\n",
       "    <tr>\n",
       "      <th>2005</th>\n",
       "      <td>617</td>\n",
       "    </tr>\n",
       "    <tr>\n",
       "      <th>2006</th>\n",
       "      <td>729</td>\n",
       "    </tr>\n",
       "    <tr>\n",
       "      <th>2007</th>\n",
       "      <td>838</td>\n",
       "    </tr>\n",
       "    <tr>\n",
       "      <th>2008</th>\n",
       "      <td>987</td>\n",
       "    </tr>\n",
       "    <tr>\n",
       "      <th>2009</th>\n",
       "      <td>957</td>\n",
       "    </tr>\n",
       "    <tr>\n",
       "      <th>2010</th>\n",
       "      <td>862</td>\n",
       "    </tr>\n",
       "    <tr>\n",
       "      <th>2011</th>\n",
       "      <td>750</td>\n",
       "    </tr>\n",
       "    <tr>\n",
       "      <th>2012</th>\n",
       "      <td>406</td>\n",
       "    </tr>\n",
       "    <tr>\n",
       "      <th>2013</th>\n",
       "      <td>293</td>\n",
       "    </tr>\n",
       "    <tr>\n",
       "      <th>2014</th>\n",
       "      <td>279</td>\n",
       "    </tr>\n",
       "    <tr>\n",
       "      <th>2015</th>\n",
       "      <td>331</td>\n",
       "    </tr>\n",
       "    <tr>\n",
       "      <th>2016</th>\n",
       "      <td>279</td>\n",
       "    </tr>\n",
       "  </tbody>\n",
       "</table>\n",
       "</div>"
      ],
      "text/plain": [
       "                 name\n",
       "year_of_release      \n",
       "1980                8\n",
       "1981               43\n",
       "1982               33\n",
       "1983               16\n",
       "1984               13\n",
       "1985               13\n",
       "1986               21\n",
       "1987               15\n",
       "1988               11\n",
       "1989               14\n",
       "1990               14\n",
       "1991               40\n",
       "1992               37\n",
       "1993               58\n",
       "1994              112\n",
       "1995              200\n",
       "1996              247\n",
       "1997              268\n",
       "1998              347\n",
       "1999              293\n",
       "2000              300\n",
       "2001              410\n",
       "2002              573\n",
       "2003              491\n",
       "2004              521\n",
       "2005              617\n",
       "2006              729\n",
       "2007              838\n",
       "2008              987\n",
       "2009              957\n",
       "2010              862\n",
       "2011              750\n",
       "2012              406\n",
       "2013              293\n",
       "2014              279\n",
       "2015              331\n",
       "2016              279"
      ]
     },
     "execution_count": 88,
     "metadata": {},
     "output_type": "execute_result"
    }
   ],
   "source": [
    "game_years = pd.pivot_table(data, index='year_of_release', values='name', aggfunc='count')\n",
    "game_years"
   ]
  },
  {
   "cell_type": "code",
   "execution_count": 89,
   "metadata": {
    "scrolled": false
   },
   "outputs": [
    {
     "data": {
      "image/png": "[encoded data removed]",
      "text/plain": [
       "<Figure size 864x576 with 1 Axes>"
      ]
     },
     "metadata": {
      "needs_background": "light"
     },
     "output_type": "display_data"
    }
   ],
   "source": [
    "game_years.plot(\n",
    "    kind='barh',  \n",
    "    figsize=(12, 8), \n",
    "    color='skyblue',  \n",
    "    edgecolor='black',\n",
    "    title='Распределение выпуска игр по годам'  \n",
    ")\n",
    "plt.xlabel('Количество игр')  \n",
    "plt.ylabel('Годы выпуска')  \n",
    "plt.grid(axis='y', linestyle='--', alpha=0.7)  \n",
    "plt.show()"
   ]
  },
  {
   "cell_type": "markdown",
   "metadata": {},
   "source": []
  },
  {
   "cell_type": "markdown",
   "metadata": {},
   "source": [
    "#### Вывод: виден практически линейный рост до 2009 года и потом снижение. Я предполагаю, что постепенный рост был связан с развитием технологий, а дальнейший спад с селекцией бизнеса: крупные игроки подмяли под себя рынок, вывели игры на более качественный уровень, однако увеличили их сроки разработки. Возможно, что рынок изменился настолько, что все что было до 1995-2000 можно не учитывать. Но это предположение, посмотрим дальше на данные."
   ]
  },
  {
   "cell_type": "markdown",
   "metadata": {},
   "source": [
    "### Посмотрите, как менялись продажи по платформам. Выберите платформы с наибольшими суммарными продажами и постройте распределение по годам. За какой характерный срок появляются новые и исчезают старые платформы?"
   ]
  },
  {
   "cell_type": "code",
   "execution_count": 90,
   "metadata": {},
   "outputs": [],
   "source": [
    "sales_by_platform = pd.pivot_table(\n",
    "    data,\n",
    "    index = ['platform'],\n",
    "    values=['total_sales'], \n",
    "    aggfunc=['sum']\n",
    ").sort_values(('sum', 'total_sales'),ascending = False)\n"
   ]
  },
  {
   "cell_type": "code",
   "execution_count": 91,
   "metadata": {
    "scrolled": true
   },
   "outputs": [
    {
     "data": {
      "text/html": [
       "<div>\n",
       "<style scoped>\n",
       "    .dataframe tbody tr th:only-of-type {\n",
       "        vertical-align: middle;\n",
       "    }\n",
       "\n",
       "    .dataframe tbody tr th {\n",
       "        vertical-align: top;\n",
       "    }\n",
       "\n",
       "    .dataframe thead tr th {\n",
       "        text-align: left;\n",
       "    }\n",
       "\n",
       "    .dataframe thead tr:last-of-type th {\n",
       "        text-align: right;\n",
       "    }\n",
       "</style>\n",
       "<table border=\"1\" class=\"dataframe\">\n",
       "  <thead>\n",
       "    <tr>\n",
       "      <th></th>\n",
       "      <th>sum</th>\n",
       "    </tr>\n",
       "    <tr>\n",
       "      <th></th>\n",
       "      <th>total_sales</th>\n",
       "    </tr>\n",
       "    <tr>\n",
       "      <th>platform</th>\n",
       "      <th></th>\n",
       "    </tr>\n",
       "  </thead>\n",
       "  <tbody>\n",
       "    <tr>\n",
       "      <th>PS2</th>\n",
       "      <td>1121.07</td>\n",
       "    </tr>\n",
       "    <tr>\n",
       "      <th>Wii</th>\n",
       "      <td>769.65</td>\n",
       "    </tr>\n",
       "    <tr>\n",
       "      <th>PS</th>\n",
       "      <td>697.10</td>\n",
       "    </tr>\n",
       "    <tr>\n",
       "      <th>DS</th>\n",
       "      <td>690.89</td>\n",
       "    </tr>\n",
       "    <tr>\n",
       "      <th>X360</th>\n",
       "      <td>569.68</td>\n",
       "    </tr>\n",
       "    <tr>\n",
       "      <th>PS3</th>\n",
       "      <td>524.88</td>\n",
       "    </tr>\n",
       "    <tr>\n",
       "      <th>PS4</th>\n",
       "      <td>255.01</td>\n",
       "    </tr>\n",
       "    <tr>\n",
       "      <th>GBA</th>\n",
       "      <td>242.69</td>\n",
       "    </tr>\n",
       "    <tr>\n",
       "      <th>NES</th>\n",
       "      <td>234.59</td>\n",
       "    </tr>\n",
       "    <tr>\n",
       "      <th>GB</th>\n",
       "      <td>233.85</td>\n",
       "    </tr>\n",
       "    <tr>\n",
       "      <th>3DS</th>\n",
       "      <td>228.10</td>\n",
       "    </tr>\n",
       "    <tr>\n",
       "      <th>PSP</th>\n",
       "      <td>206.16</td>\n",
       "    </tr>\n",
       "    <tr>\n",
       "      <th>SNES</th>\n",
       "      <td>195.91</td>\n",
       "    </tr>\n",
       "    <tr>\n",
       "      <th>N64</th>\n",
       "      <td>189.63</td>\n",
       "    </tr>\n",
       "    <tr>\n",
       "      <th>PC</th>\n",
       "      <td>174.18</td>\n",
       "    </tr>\n",
       "    <tr>\n",
       "      <th>GC</th>\n",
       "      <td>112.26</td>\n",
       "    </tr>\n",
       "    <tr>\n",
       "      <th>XB</th>\n",
       "      <td>105.81</td>\n",
       "    </tr>\n",
       "    <tr>\n",
       "      <th>2600</th>\n",
       "      <td>78.21</td>\n",
       "    </tr>\n",
       "    <tr>\n",
       "      <th>WiiU</th>\n",
       "      <td>53.95</td>\n",
       "    </tr>\n",
       "    <tr>\n",
       "      <th>PSV</th>\n",
       "      <td>32.61</td>\n",
       "    </tr>\n",
       "    <tr>\n",
       "      <th>XOne</th>\n",
       "      <td>31.82</td>\n",
       "    </tr>\n",
       "    <tr>\n",
       "      <th>SAT</th>\n",
       "      <td>29.68</td>\n",
       "    </tr>\n",
       "    <tr>\n",
       "      <th>GEN</th>\n",
       "      <td>22.77</td>\n",
       "    </tr>\n",
       "    <tr>\n",
       "      <th>DC</th>\n",
       "      <td>12.98</td>\n",
       "    </tr>\n",
       "    <tr>\n",
       "      <th>SCD</th>\n",
       "      <td>1.86</td>\n",
       "    </tr>\n",
       "    <tr>\n",
       "      <th>NG</th>\n",
       "      <td>1.11</td>\n",
       "    </tr>\n",
       "    <tr>\n",
       "      <th>WS</th>\n",
       "      <td>0.66</td>\n",
       "    </tr>\n",
       "    <tr>\n",
       "      <th>TG16</th>\n",
       "      <td>0.16</td>\n",
       "    </tr>\n",
       "    <tr>\n",
       "      <th>3DO</th>\n",
       "      <td>0.10</td>\n",
       "    </tr>\n",
       "    <tr>\n",
       "      <th>GG</th>\n",
       "      <td>0.04</td>\n",
       "    </tr>\n",
       "    <tr>\n",
       "      <th>PCFX</th>\n",
       "      <td>0.03</td>\n",
       "    </tr>\n",
       "  </tbody>\n",
       "</table>\n",
       "</div>"
      ],
      "text/plain": [
       "                 sum\n",
       "         total_sales\n",
       "platform            \n",
       "PS2          1121.07\n",
       "Wii           769.65\n",
       "PS            697.10\n",
       "DS            690.89\n",
       "X360          569.68\n",
       "PS3           524.88\n",
       "PS4           255.01\n",
       "GBA           242.69\n",
       "NES           234.59\n",
       "GB            233.85\n",
       "3DS           228.10\n",
       "PSP           206.16\n",
       "SNES          195.91\n",
       "N64           189.63\n",
       "PC            174.18\n",
       "GC            112.26\n",
       "XB            105.81\n",
       "2600           78.21\n",
       "WiiU           53.95\n",
       "PSV            32.61\n",
       "XOne           31.82\n",
       "SAT            29.68\n",
       "GEN            22.77\n",
       "DC             12.98\n",
       "SCD             1.86\n",
       "NG              1.11\n",
       "WS              0.66\n",
       "TG16            0.16\n",
       "3DO             0.10\n",
       "GG              0.04\n",
       "PCFX            0.03"
      ]
     },
     "execution_count": 91,
     "metadata": {},
     "output_type": "execute_result"
    }
   ],
   "source": [
    "sales_by_platform"
   ]
  },
  {
   "cell_type": "markdown",
   "metadata": {},
   "source": [
    "##### Видно что сумма продаж первых 6 позиций доминирует. Можно предположить, что это лидеры рынка, прошедший полный цикл популярности. На основании их данных можно будет предположить средний срок жизни платформы."
   ]
  },
  {
   "cell_type": "code",
   "execution_count": 92,
   "metadata": {},
   "outputs": [
    {
     "data": {
      "text/plain": [
       "['PS2', 'Wii', 'PS', 'DS', 'X360', 'PS3']"
      ]
     },
     "execution_count": 92,
     "metadata": {},
     "output_type": "execute_result"
    }
   ],
   "source": [
    "#Построим графики распредления продаж по годам по каждой платформе. Сначала соберем список топ 6:\n",
    "top6 = sales_by_platform.reset_index().head(6)['platform'].tolist()\n",
    "top6\n"
   ]
  },
  {
   "cell_type": "code",
   "execution_count": 93,
   "metadata": {},
   "outputs": [
    {
     "data": {
      "image/png": "[encoded data removed]",
      "text/plain": [
       "<Figure size 864x432 with 1 Axes>"
      ]
     },
     "metadata": {
      "needs_background": "light"
     },
     "output_type": "display_data"
    }
   ],
   "source": [
    "plt.figure(figsize=(12, 6))\n",
    "\n",
    "# Перебираем топ-6 платформ и строим графики\n",
    "for platform in top6:\n",
    "    yearly_sales = data.loc[data['platform'] == platform].groupby('year_of_release')['total_sales'].sum()\n",
    "    plt.plot(yearly_sales.index, yearly_sales.values, label=platform, marker='o')\n",
    "\n",
    "plt.title('Динамика продаж по годам для топ-6 платформ')\n",
    "plt.xlabel('Год')\n",
    "plt.ylabel('Общие продажи (млн)')\n",
    "plt.legend()\n",
    "plt.grid(True)\n",
    "\n",
    "plt.show()\n"
   ]
  },
  {
   "cell_type": "code",
   "execution_count": 105,
   "metadata": {},
   "outputs": [
    {
     "data": {
      "text/html": [
       "<div>\n",
       "<style scoped>\n",
       "    .dataframe tbody tr th:only-of-type {\n",
       "        vertical-align: middle;\n",
       "    }\n",
       "\n",
       "    .dataframe tbody tr th {\n",
       "        vertical-align: top;\n",
       "    }\n",
       "\n",
       "    .dataframe thead th {\n",
       "        text-align: right;\n",
       "    }\n",
       "</style>\n",
       "<table border=\"1\" class=\"dataframe\">\n",
       "  <thead>\n",
       "    <tr style=\"text-align: right;\">\n",
       "      <th></th>\n",
       "      <th>name</th>\n",
       "      <th>platform</th>\n",
       "      <th>year_of_release</th>\n",
       "      <th>genre</th>\n",
       "      <th>na_sales</th>\n",
       "      <th>eu_sales</th>\n",
       "      <th>jp_sales</th>\n",
       "      <th>other_sales</th>\n",
       "      <th>critic_score</th>\n",
       "      <th>user_score</th>\n",
       "      <th>rating</th>\n",
       "      <th>total_sales</th>\n",
       "    </tr>\n",
       "  </thead>\n",
       "  <tbody>\n",
       "    <tr>\n",
       "      <th>15957</th>\n",
       "      <td>Strongest Tokyo University Shogi DS</td>\n",
       "      <td>DS</td>\n",
       "      <td>1985</td>\n",
       "      <td>Action</td>\n",
       "      <td>0.00</td>\n",
       "      <td>0.00</td>\n",
       "      <td>0.02</td>\n",
       "      <td>0.00</td>\n",
       "      <td>NaN</td>\n",
       "      <td>NaN</td>\n",
       "      <td>Not Rated</td>\n",
       "      <td>0.02</td>\n",
       "    </tr>\n",
       "    <tr>\n",
       "      <th>14087</th>\n",
       "      <td>Mahjong Taikai</td>\n",
       "      <td>DS</td>\n",
       "      <td>2004</td>\n",
       "      <td>Misc</td>\n",
       "      <td>0.00</td>\n",
       "      <td>0.00</td>\n",
       "      <td>0.04</td>\n",
       "      <td>0.00</td>\n",
       "      <td>NaN</td>\n",
       "      <td>NaN</td>\n",
       "      <td>Not Rated</td>\n",
       "      <td>0.04</td>\n",
       "    </tr>\n",
       "    <tr>\n",
       "      <th>10940</th>\n",
       "      <td>Puyo Pop Fever (JP sales)</td>\n",
       "      <td>DS</td>\n",
       "      <td>2004</td>\n",
       "      <td>Puzzle</td>\n",
       "      <td>0.00</td>\n",
       "      <td>0.00</td>\n",
       "      <td>0.09</td>\n",
       "      <td>0.00</td>\n",
       "      <td>NaN</td>\n",
       "      <td>NaN</td>\n",
       "      <td>Not Rated</td>\n",
       "      <td>0.09</td>\n",
       "    </tr>\n",
       "    <tr>\n",
       "      <th>2668</th>\n",
       "      <td>Pokemon Dash</td>\n",
       "      <td>DS</td>\n",
       "      <td>2004</td>\n",
       "      <td>Racing</td>\n",
       "      <td>0.21</td>\n",
       "      <td>0.14</td>\n",
       "      <td>0.38</td>\n",
       "      <td>0.04</td>\n",
       "      <td>46.0</td>\n",
       "      <td>5.9</td>\n",
       "      <td>E</td>\n",
       "      <td>0.77</td>\n",
       "    </tr>\n",
       "    <tr>\n",
       "      <th>691</th>\n",
       "      <td>WarioWare Touched!</td>\n",
       "      <td>DS</td>\n",
       "      <td>2004</td>\n",
       "      <td>Puzzle</td>\n",
       "      <td>0.51</td>\n",
       "      <td>0.45</td>\n",
       "      <td>1.21</td>\n",
       "      <td>0.13</td>\n",
       "      <td>NaN</td>\n",
       "      <td>NaN</td>\n",
       "      <td>Not Rated</td>\n",
       "      <td>2.30</td>\n",
       "    </tr>\n",
       "    <tr>\n",
       "      <th>...</th>\n",
       "      <td>...</td>\n",
       "      <td>...</td>\n",
       "      <td>...</td>\n",
       "      <td>...</td>\n",
       "      <td>...</td>\n",
       "      <td>...</td>\n",
       "      <td>...</td>\n",
       "      <td>...</td>\n",
       "      <td>...</td>\n",
       "      <td>...</td>\n",
       "      <td>...</td>\n",
       "      <td>...</td>\n",
       "    </tr>\n",
       "    <tr>\n",
       "      <th>16296</th>\n",
       "      <td>Hakuoki: Reimeiroku DS</td>\n",
       "      <td>DS</td>\n",
       "      <td>2012</td>\n",
       "      <td>Action</td>\n",
       "      <td>0.00</td>\n",
       "      <td>0.00</td>\n",
       "      <td>0.01</td>\n",
       "      <td>0.00</td>\n",
       "      <td>NaN</td>\n",
       "      <td>NaN</td>\n",
       "      <td>Not Rated</td>\n",
       "      <td>0.01</td>\n",
       "    </tr>\n",
       "    <tr>\n",
       "      <th>7993</th>\n",
       "      <td>The Smurfs 2</td>\n",
       "      <td>DS</td>\n",
       "      <td>2013</td>\n",
       "      <td>Platform</td>\n",
       "      <td>0.00</td>\n",
       "      <td>0.17</td>\n",
       "      <td>0.00</td>\n",
       "      <td>0.01</td>\n",
       "      <td>NaN</td>\n",
       "      <td>NaN</td>\n",
       "      <td>E</td>\n",
       "      <td>0.18</td>\n",
       "    </tr>\n",
       "    <tr>\n",
       "      <th>9753</th>\n",
       "      <td>Moshi Monsters: Katsuma Unleashed</td>\n",
       "      <td>DS</td>\n",
       "      <td>2013</td>\n",
       "      <td>Action</td>\n",
       "      <td>0.00</td>\n",
       "      <td>0.11</td>\n",
       "      <td>0.00</td>\n",
       "      <td>0.01</td>\n",
       "      <td>NaN</td>\n",
       "      <td>NaN</td>\n",
       "      <td>E</td>\n",
       "      <td>0.12</td>\n",
       "    </tr>\n",
       "    <tr>\n",
       "      <th>7460</th>\n",
       "      <td>Disney's Planes</td>\n",
       "      <td>DS</td>\n",
       "      <td>2013</td>\n",
       "      <td>Simulation</td>\n",
       "      <td>0.11</td>\n",
       "      <td>0.08</td>\n",
       "      <td>0.00</td>\n",
       "      <td>0.02</td>\n",
       "      <td>NaN</td>\n",
       "      <td>NaN</td>\n",
       "      <td>E</td>\n",
       "      <td>0.21</td>\n",
       "    </tr>\n",
       "    <tr>\n",
       "      <th>14353</th>\n",
       "      <td>Turbo: Super Stunt Squad</td>\n",
       "      <td>DS</td>\n",
       "      <td>2013</td>\n",
       "      <td>Sports</td>\n",
       "      <td>0.00</td>\n",
       "      <td>0.03</td>\n",
       "      <td>0.00</td>\n",
       "      <td>0.00</td>\n",
       "      <td>NaN</td>\n",
       "      <td>NaN</td>\n",
       "      <td>E</td>\n",
       "      <td>0.03</td>\n",
       "    </tr>\n",
       "  </tbody>\n",
       "</table>\n",
       "<p>1771 rows × 12 columns</p>\n",
       "</div>"
      ],
      "text/plain": [
       "                                      name platform  year_of_release  \\\n",
       "15957  Strongest Tokyo University Shogi DS       DS             1985   \n",
       "14087                       Mahjong Taikai       DS             2004   \n",
       "10940            Puyo Pop Fever (JP sales)       DS             2004   \n",
       "2668                          Pokemon Dash       DS             2004   \n",
       "691                     WarioWare Touched!       DS             2004   \n",
       "...                                    ...      ...              ...   \n",
       "16296               Hakuoki: Reimeiroku DS       DS             2012   \n",
       "7993                          The Smurfs 2       DS             2013   \n",
       "9753     Moshi Monsters: Katsuma Unleashed       DS             2013   \n",
       "7460                       Disney's Planes       DS             2013   \n",
       "14353             Turbo: Super Stunt Squad       DS             2013   \n",
       "\n",
       "            genre  na_sales  eu_sales  jp_sales  other_sales  critic_score  \\\n",
       "15957      Action      0.00      0.00      0.02         0.00           NaN   \n",
       "14087        Misc      0.00      0.00      0.04         0.00           NaN   \n",
       "10940      Puzzle      0.00      0.00      0.09         0.00           NaN   \n",
       "2668       Racing      0.21      0.14      0.38         0.04          46.0   \n",
       "691        Puzzle      0.51      0.45      1.21         0.13           NaN   \n",
       "...           ...       ...       ...       ...          ...           ...   \n",
       "16296      Action      0.00      0.00      0.01         0.00           NaN   \n",
       "7993     Platform      0.00      0.17      0.00         0.01           NaN   \n",
       "9753       Action      0.00      0.11      0.00         0.01           NaN   \n",
       "7460   Simulation      0.11      0.08      0.00         0.02           NaN   \n",
       "14353      Sports      0.00      0.03      0.00         0.00           NaN   \n",
       "\n",
       "       user_score     rating  total_sales  \n",
       "15957         NaN  Not Rated         0.02  \n",
       "14087         NaN  Not Rated         0.04  \n",
       "10940         NaN  Not Rated         0.09  \n",
       "2668          5.9          E         0.77  \n",
       "691           NaN  Not Rated         2.30  \n",
       "...           ...        ...          ...  \n",
       "16296         NaN  Not Rated         0.01  \n",
       "7993          NaN          E         0.18  \n",
       "9753          NaN          E         0.12  \n",
       "7460          NaN          E         0.21  \n",
       "14353         NaN          E         0.03  \n",
       "\n",
       "[1771 rows x 12 columns]"
      ]
     },
     "execution_count": 105,
     "metadata": {},
     "output_type": "execute_result"
    }
   ],
   "source": [
    "data.query('platform == \"DS\"').sort_values(by='year_of_release')"
   ]
  },
  {
   "cell_type": "code",
   "execution_count": null,
   "metadata": {},
   "outputs": [],
   "source": []
  },
  {
   "cell_type": "markdown",
   "metadata": {},
   "source": [
    "##### По графику виидно, что есть какой-то выброс с платформой DS, им можно принебречь. Для остальных случаев - жизненный цикл платформы ± 10 лет.  Причем все платформы, который заработали больше всего уже находятся на стадии падения. Поэтому нет смысла их анализировать на перспективу продаж нашего магазина.  Исходя из данных, нам нужны платформы на пике и на старте : это 5 лет.\n"
   ]
  },
  {
   "cell_type": "markdown",
   "metadata": {},
   "source": [
    "### Возьмите данные за соответствующий актуальный период. Актуальный период определите самостоятельно в результате исследования предыдущих вопросов. Основной фактор — эти данные помогут построить прогноз на 2017 год. Не учитывайте в работе данные за предыдущие годы.\n"
   ]
  },
  {
   "cell_type": "code",
   "execution_count": 106,
   "metadata": {
    "scrolled": true
   },
   "outputs": [
    {
     "data": {
      "text/html": [
       "<div>\n",
       "<style scoped>\n",
       "    .dataframe tbody tr th:only-of-type {\n",
       "        vertical-align: middle;\n",
       "    }\n",
       "\n",
       "    .dataframe tbody tr th {\n",
       "        vertical-align: top;\n",
       "    }\n",
       "\n",
       "    .dataframe thead th {\n",
       "        text-align: right;\n",
       "    }\n",
       "</style>\n",
       "<table border=\"1\" class=\"dataframe\">\n",
       "  <thead>\n",
       "    <tr style=\"text-align: right;\">\n",
       "      <th></th>\n",
       "      <th>name</th>\n",
       "      <th>platform</th>\n",
       "      <th>year_of_release</th>\n",
       "      <th>genre</th>\n",
       "      <th>na_sales</th>\n",
       "      <th>eu_sales</th>\n",
       "      <th>jp_sales</th>\n",
       "      <th>other_sales</th>\n",
       "      <th>critic_score</th>\n",
       "      <th>user_score</th>\n",
       "      <th>rating</th>\n",
       "      <th>total_sales</th>\n",
       "    </tr>\n",
       "  </thead>\n",
       "  <tbody>\n",
       "    <tr>\n",
       "      <th>16</th>\n",
       "      <td>Grand Theft Auto V</td>\n",
       "      <td>PS3</td>\n",
       "      <td>2013</td>\n",
       "      <td>Action</td>\n",
       "      <td>7.02</td>\n",
       "      <td>9.09</td>\n",
       "      <td>0.98</td>\n",
       "      <td>3.96</td>\n",
       "      <td>97.0</td>\n",
       "      <td>8.2</td>\n",
       "      <td>M</td>\n",
       "      <td>21.05</td>\n",
       "    </tr>\n",
       "    <tr>\n",
       "      <th>31</th>\n",
       "      <td>Call of Duty: Black Ops 3</td>\n",
       "      <td>PS4</td>\n",
       "      <td>2015</td>\n",
       "      <td>Shooter</td>\n",
       "      <td>6.03</td>\n",
       "      <td>5.86</td>\n",
       "      <td>0.36</td>\n",
       "      <td>2.38</td>\n",
       "      <td>NaN</td>\n",
       "      <td>NaN</td>\n",
       "      <td>Not Rated</td>\n",
       "      <td>14.63</td>\n",
       "    </tr>\n",
       "    <tr>\n",
       "      <th>33</th>\n",
       "      <td>Pokemon X/Pokemon Y</td>\n",
       "      <td>3DS</td>\n",
       "      <td>2013</td>\n",
       "      <td>Role-Playing</td>\n",
       "      <td>5.28</td>\n",
       "      <td>4.19</td>\n",
       "      <td>4.35</td>\n",
       "      <td>0.78</td>\n",
       "      <td>NaN</td>\n",
       "      <td>NaN</td>\n",
       "      <td>Not Rated</td>\n",
       "      <td>14.60</td>\n",
       "    </tr>\n",
       "    <tr>\n",
       "      <th>34</th>\n",
       "      <td>Call of Duty: Black Ops II</td>\n",
       "      <td>PS3</td>\n",
       "      <td>2012</td>\n",
       "      <td>Shooter</td>\n",
       "      <td>4.99</td>\n",
       "      <td>5.73</td>\n",
       "      <td>0.65</td>\n",
       "      <td>2.42</td>\n",
       "      <td>83.0</td>\n",
       "      <td>5.3</td>\n",
       "      <td>M</td>\n",
       "      <td>13.79</td>\n",
       "    </tr>\n",
       "    <tr>\n",
       "      <th>47</th>\n",
       "      <td>Pokemon Omega Ruby/Pokemon Alpha Sapphire</td>\n",
       "      <td>3DS</td>\n",
       "      <td>2014</td>\n",
       "      <td>Role-Playing</td>\n",
       "      <td>4.35</td>\n",
       "      <td>3.49</td>\n",
       "      <td>3.10</td>\n",
       "      <td>0.74</td>\n",
       "      <td>NaN</td>\n",
       "      <td>NaN</td>\n",
       "      <td>Not Rated</td>\n",
       "      <td>11.68</td>\n",
       "    </tr>\n",
       "    <tr>\n",
       "      <th>60</th>\n",
       "      <td>Call of Duty: Ghosts</td>\n",
       "      <td>X360</td>\n",
       "      <td>2013</td>\n",
       "      <td>Shooter</td>\n",
       "      <td>6.73</td>\n",
       "      <td>2.56</td>\n",
       "      <td>0.04</td>\n",
       "      <td>0.91</td>\n",
       "      <td>73.0</td>\n",
       "      <td>2.6</td>\n",
       "      <td>M</td>\n",
       "      <td>10.24</td>\n",
       "    </tr>\n",
       "    <tr>\n",
       "      <th>62</th>\n",
       "      <td>New Super Mario Bros. 2</td>\n",
       "      <td>3DS</td>\n",
       "      <td>2012</td>\n",
       "      <td>Platform</td>\n",
       "      <td>3.66</td>\n",
       "      <td>3.14</td>\n",
       "      <td>2.47</td>\n",
       "      <td>0.63</td>\n",
       "      <td>78.0</td>\n",
       "      <td>7.2</td>\n",
       "      <td>E</td>\n",
       "      <td>9.90</td>\n",
       "    </tr>\n",
       "    <tr>\n",
       "      <th>66</th>\n",
       "      <td>Halo 4</td>\n",
       "      <td>X360</td>\n",
       "      <td>2012</td>\n",
       "      <td>Shooter</td>\n",
       "      <td>6.65</td>\n",
       "      <td>2.28</td>\n",
       "      <td>0.04</td>\n",
       "      <td>0.74</td>\n",
       "      <td>87.0</td>\n",
       "      <td>7.0</td>\n",
       "      <td>M</td>\n",
       "      <td>9.71</td>\n",
       "    </tr>\n",
       "    <tr>\n",
       "      <th>72</th>\n",
       "      <td>Minecraft</td>\n",
       "      <td>X360</td>\n",
       "      <td>2013</td>\n",
       "      <td>Misc</td>\n",
       "      <td>5.70</td>\n",
       "      <td>2.65</td>\n",
       "      <td>0.02</td>\n",
       "      <td>0.81</td>\n",
       "      <td>NaN</td>\n",
       "      <td>NaN</td>\n",
       "      <td>Not Rated</td>\n",
       "      <td>9.18</td>\n",
       "    </tr>\n",
       "    <tr>\n",
       "      <th>73</th>\n",
       "      <td>Animal Crossing: New Leaf</td>\n",
       "      <td>3DS</td>\n",
       "      <td>2012</td>\n",
       "      <td>Simulation</td>\n",
       "      <td>2.03</td>\n",
       "      <td>2.36</td>\n",
       "      <td>4.39</td>\n",
       "      <td>0.39</td>\n",
       "      <td>88.0</td>\n",
       "      <td>8.7</td>\n",
       "      <td>E</td>\n",
       "      <td>9.17</td>\n",
       "    </tr>\n",
       "  </tbody>\n",
       "</table>\n",
       "</div>"
      ],
      "text/plain": [
       "                                         name platform  year_of_release  \\\n",
       "16                         Grand Theft Auto V      PS3             2013   \n",
       "31                  Call of Duty: Black Ops 3      PS4             2015   \n",
       "33                        Pokemon X/Pokemon Y      3DS             2013   \n",
       "34                 Call of Duty: Black Ops II      PS3             2012   \n",
       "47  Pokemon Omega Ruby/Pokemon Alpha Sapphire      3DS             2014   \n",
       "60                       Call of Duty: Ghosts     X360             2013   \n",
       "62                    New Super Mario Bros. 2      3DS             2012   \n",
       "66                                     Halo 4     X360             2012   \n",
       "72                                  Minecraft     X360             2013   \n",
       "73                  Animal Crossing: New Leaf      3DS             2012   \n",
       "\n",
       "           genre  na_sales  eu_sales  jp_sales  other_sales  critic_score  \\\n",
       "16        Action      7.02      9.09      0.98         3.96          97.0   \n",
       "31       Shooter      6.03      5.86      0.36         2.38           NaN   \n",
       "33  Role-Playing      5.28      4.19      4.35         0.78           NaN   \n",
       "34       Shooter      4.99      5.73      0.65         2.42          83.0   \n",
       "47  Role-Playing      4.35      3.49      3.10         0.74           NaN   \n",
       "60       Shooter      6.73      2.56      0.04         0.91          73.0   \n",
       "62      Platform      3.66      3.14      2.47         0.63          78.0   \n",
       "66       Shooter      6.65      2.28      0.04         0.74          87.0   \n",
       "72          Misc      5.70      2.65      0.02         0.81           NaN   \n",
       "73    Simulation      2.03      2.36      4.39         0.39          88.0   \n",
       "\n",
       "    user_score     rating  total_sales  \n",
       "16         8.2          M        21.05  \n",
       "31         NaN  Not Rated        14.63  \n",
       "33         NaN  Not Rated        14.60  \n",
       "34         5.3          M        13.79  \n",
       "47         NaN  Not Rated        11.68  \n",
       "60         2.6          M        10.24  \n",
       "62         7.2          E         9.90  \n",
       "66         7.0          M         9.71  \n",
       "72         NaN  Not Rated         9.18  \n",
       "73         8.7          E         9.17  "
      ]
     },
     "execution_count": 106,
     "metadata": {},
     "output_type": "execute_result"
    }
   ],
   "source": [
    "actual_data = data.query('year_of_release >= 2012')\n",
    "actual_data.head(10)"
   ]
  },
  {
   "cell_type": "markdown",
   "metadata": {},
   "source": [
    "### Какие платформы лидируют по продажам, растут или падают? Выберите несколько потенциально прибыльных платформ.\n",
    "\n"
   ]
  },
  {
   "cell_type": "code",
   "execution_count": 107,
   "metadata": {},
   "outputs": [
    {
     "data": {
      "text/html": [
       "<div>\n",
       "<style scoped>\n",
       "    .dataframe tbody tr th:only-of-type {\n",
       "        vertical-align: middle;\n",
       "    }\n",
       "\n",
       "    .dataframe tbody tr th {\n",
       "        vertical-align: top;\n",
       "    }\n",
       "\n",
       "    .dataframe thead tr th {\n",
       "        text-align: left;\n",
       "    }\n",
       "\n",
       "    .dataframe thead tr:last-of-type th {\n",
       "        text-align: right;\n",
       "    }\n",
       "</style>\n",
       "<table border=\"1\" class=\"dataframe\">\n",
       "  <thead>\n",
       "    <tr>\n",
       "      <th></th>\n",
       "      <th>sum</th>\n",
       "    </tr>\n",
       "    <tr>\n",
       "      <th></th>\n",
       "      <th>total_sales</th>\n",
       "    </tr>\n",
       "    <tr>\n",
       "      <th>platform</th>\n",
       "      <th></th>\n",
       "    </tr>\n",
       "  </thead>\n",
       "  <tbody>\n",
       "    <tr>\n",
       "      <th>PS4</th>\n",
       "      <td>255.01</td>\n",
       "    </tr>\n",
       "    <tr>\n",
       "      <th>3DS</th>\n",
       "      <td>177.01</td>\n",
       "    </tr>\n",
       "    <tr>\n",
       "      <th>PS3</th>\n",
       "      <td>164.26</td>\n",
       "    </tr>\n",
       "    <tr>\n",
       "      <th>X360</th>\n",
       "      <td>87.64</td>\n",
       "    </tr>\n",
       "    <tr>\n",
       "      <th>WiiU</th>\n",
       "      <td>53.95</td>\n",
       "    </tr>\n",
       "    <tr>\n",
       "      <th>XOne</th>\n",
       "      <td>31.82</td>\n",
       "    </tr>\n",
       "    <tr>\n",
       "      <th>Wii</th>\n",
       "      <td>28.68</td>\n",
       "    </tr>\n",
       "    <tr>\n",
       "      <th>PC</th>\n",
       "      <td>28.49</td>\n",
       "    </tr>\n",
       "    <tr>\n",
       "      <th>PSV</th>\n",
       "      <td>28.42</td>\n",
       "    </tr>\n",
       "    <tr>\n",
       "      <th>DS</th>\n",
       "      <td>10.42</td>\n",
       "    </tr>\n",
       "    <tr>\n",
       "      <th>PSP</th>\n",
       "      <td>8.01</td>\n",
       "    </tr>\n",
       "  </tbody>\n",
       "</table>\n",
       "</div>"
      ],
      "text/plain": [
       "                 sum\n",
       "         total_sales\n",
       "platform            \n",
       "PS4           255.01\n",
       "3DS           177.01\n",
       "PS3           164.26\n",
       "X360           87.64\n",
       "WiiU           53.95\n",
       "XOne           31.82\n",
       "Wii            28.68\n",
       "PC             28.49\n",
       "PSV            28.42\n",
       "DS             10.42\n",
       "PSP             8.01"
      ]
     },
     "execution_count": 107,
     "metadata": {},
     "output_type": "execute_result"
    }
   ],
   "source": [
    "sales_actual = actual_data.pivot_table(\n",
    "    index = ['platform'],\n",
    "    values = ['total_sales'],\n",
    "    aggfunc =  ['sum'])\n",
    "sales_actual.sort_values(('sum', 'total_sales'),ascending = False)"
   ]
  },
  {
   "cell_type": "code",
   "execution_count": 109,
   "metadata": {},
   "outputs": [
    {
     "data": {
      "text/plain": [
       "['3DS', 'DS', 'PC', 'PS3', 'PS4', 'PSP', 'PSV', 'Wii', 'WiiU', 'X360', 'XOne']"
      ]
     },
     "execution_count": 109,
     "metadata": {},
     "output_type": "execute_result"
    }
   ],
   "source": [
    "actual_platform_list = sales_actual.reset_index()['platform'].tolist()\n",
    "actual_platform_list"
   ]
  },
  {
   "cell_type": "code",
   "execution_count": 110,
   "metadata": {},
   "outputs": [
    {
     "data": {
      "image/png": "[encoded data removed]",
      "text/plain": [
       "<Figure size 864x432 with 1 Axes>"
      ]
     },
     "metadata": {
      "needs_background": "light"
     },
     "output_type": "display_data"
    }
   ],
   "source": [
    "# Строим анналогичный график но по последним данным, что бы понять кто на какой стадии:\n",
    "plt.figure(figsize=(12, 6))\n",
    "\n",
    "# Перебираем топ-6 платформ и строим графики\n",
    "for platform in actual_platform_list:\n",
    "    yearly_sales = actual_data.loc[data['platform'] == platform].groupby('year_of_release')['total_sales'].sum()\n",
    "    plt.plot(yearly_sales.index, yearly_sales.values, label=platform, marker='o')\n",
    "\n",
    "plt.title('Динамика продаж с 2012 года')\n",
    "plt.xlabel('Год')\n",
    "plt.ylabel('Общие продажи (млн)')\n",
    "plt.legend()\n",
    "plt.grid(True)\n",
    "\n",
    "plt.show()"
   ]
  },
  {
   "cell_type": "markdown",
   "metadata": {},
   "source": [
    "#### Вывод: Кажется можно отсечь платформы: DS & PSP, так как их прдажи закончились, посмотрим на цифры:"
   ]
  },
  {
   "cell_type": "code",
   "execution_count": 127,
   "metadata": {},
   "outputs": [
    {
     "data": {
      "text/html": [
       "<div>\n",
       "<style scoped>\n",
       "    .dataframe tbody tr th:only-of-type {\n",
       "        vertical-align: middle;\n",
       "    }\n",
       "\n",
       "    .dataframe tbody tr th {\n",
       "        vertical-align: top;\n",
       "    }\n",
       "\n",
       "    .dataframe thead th {\n",
       "        text-align: right;\n",
       "    }\n",
       "</style>\n",
       "<table border=\"1\" class=\"dataframe\">\n",
       "  <thead>\n",
       "    <tr style=\"text-align: right;\">\n",
       "      <th></th>\n",
       "      <th></th>\n",
       "      <th>total_sales</th>\n",
       "    </tr>\n",
       "    <tr>\n",
       "      <th>platform</th>\n",
       "      <th>year_of_release</th>\n",
       "      <th></th>\n",
       "    </tr>\n",
       "  </thead>\n",
       "  <tbody>\n",
       "    <tr>\n",
       "      <th rowspan=\"5\" valign=\"top\">3DS</th>\n",
       "      <th>2012</th>\n",
       "      <td>46.91</td>\n",
       "    </tr>\n",
       "    <tr>\n",
       "      <th>2013</th>\n",
       "      <td>50.33</td>\n",
       "    </tr>\n",
       "    <tr>\n",
       "      <th>2014</th>\n",
       "      <td>40.20</td>\n",
       "    </tr>\n",
       "    <tr>\n",
       "      <th>2015</th>\n",
       "      <td>25.27</td>\n",
       "    </tr>\n",
       "    <tr>\n",
       "      <th>2016</th>\n",
       "      <td>14.30</td>\n",
       "    </tr>\n",
       "    <tr>\n",
       "      <th rowspan=\"2\" valign=\"top\">DS</th>\n",
       "      <th>2012</th>\n",
       "      <td>9.88</td>\n",
       "    </tr>\n",
       "    <tr>\n",
       "      <th>2013</th>\n",
       "      <td>0.54</td>\n",
       "    </tr>\n",
       "    <tr>\n",
       "      <th rowspan=\"5\" valign=\"top\">PC</th>\n",
       "      <th>2012</th>\n",
       "      <td>13.37</td>\n",
       "    </tr>\n",
       "    <tr>\n",
       "      <th>2013</th>\n",
       "      <td>5.13</td>\n",
       "    </tr>\n",
       "    <tr>\n",
       "      <th>2014</th>\n",
       "      <td>5.88</td>\n",
       "    </tr>\n",
       "    <tr>\n",
       "      <th>2015</th>\n",
       "      <td>2.08</td>\n",
       "    </tr>\n",
       "    <tr>\n",
       "      <th>2016</th>\n",
       "      <td>2.03</td>\n",
       "    </tr>\n",
       "    <tr>\n",
       "      <th rowspan=\"5\" valign=\"top\">PS3</th>\n",
       "      <th>2012</th>\n",
       "      <td>81.03</td>\n",
       "    </tr>\n",
       "    <tr>\n",
       "      <th>2013</th>\n",
       "      <td>71.67</td>\n",
       "    </tr>\n",
       "    <tr>\n",
       "      <th>2014</th>\n",
       "      <td>10.16</td>\n",
       "    </tr>\n",
       "    <tr>\n",
       "      <th>2015</th>\n",
       "      <td>1.34</td>\n",
       "    </tr>\n",
       "    <tr>\n",
       "      <th>2016</th>\n",
       "      <td>0.06</td>\n",
       "    </tr>\n",
       "    <tr>\n",
       "      <th rowspan=\"4\" valign=\"top\">PS4</th>\n",
       "      <th>2013</th>\n",
       "      <td>10.38</td>\n",
       "    </tr>\n",
       "    <tr>\n",
       "      <th>2014</th>\n",
       "      <td>69.08</td>\n",
       "    </tr>\n",
       "    <tr>\n",
       "      <th>2015</th>\n",
       "      <td>110.93</td>\n",
       "    </tr>\n",
       "    <tr>\n",
       "      <th>2016</th>\n",
       "      <td>64.62</td>\n",
       "    </tr>\n",
       "    <tr>\n",
       "      <th rowspan=\"4\" valign=\"top\">PSP</th>\n",
       "      <th>2012</th>\n",
       "      <td>5.91</td>\n",
       "    </tr>\n",
       "    <tr>\n",
       "      <th>2013</th>\n",
       "      <td>1.91</td>\n",
       "    </tr>\n",
       "    <tr>\n",
       "      <th>2014</th>\n",
       "      <td>0.09</td>\n",
       "    </tr>\n",
       "    <tr>\n",
       "      <th>2015</th>\n",
       "      <td>0.10</td>\n",
       "    </tr>\n",
       "    <tr>\n",
       "      <th rowspan=\"5\" valign=\"top\">PSV</th>\n",
       "      <th>2012</th>\n",
       "      <td>10.34</td>\n",
       "    </tr>\n",
       "    <tr>\n",
       "      <th>2013</th>\n",
       "      <td>5.77</td>\n",
       "    </tr>\n",
       "    <tr>\n",
       "      <th>2014</th>\n",
       "      <td>5.23</td>\n",
       "    </tr>\n",
       "    <tr>\n",
       "      <th>2015</th>\n",
       "      <td>4.77</td>\n",
       "    </tr>\n",
       "    <tr>\n",
       "      <th>2016</th>\n",
       "      <td>2.31</td>\n",
       "    </tr>\n",
       "    <tr>\n",
       "      <th rowspan=\"5\" valign=\"top\">Wii</th>\n",
       "      <th>2012</th>\n",
       "      <td>17.15</td>\n",
       "    </tr>\n",
       "    <tr>\n",
       "      <th>2013</th>\n",
       "      <td>7.44</td>\n",
       "    </tr>\n",
       "    <tr>\n",
       "      <th>2014</th>\n",
       "      <td>2.96</td>\n",
       "    </tr>\n",
       "    <tr>\n",
       "      <th>2015</th>\n",
       "      <td>0.95</td>\n",
       "    </tr>\n",
       "    <tr>\n",
       "      <th>2016</th>\n",
       "      <td>0.18</td>\n",
       "    </tr>\n",
       "    <tr>\n",
       "      <th rowspan=\"5\" valign=\"top\">WiiU</th>\n",
       "      <th>2012</th>\n",
       "      <td>11.85</td>\n",
       "    </tr>\n",
       "    <tr>\n",
       "      <th>2013</th>\n",
       "      <td>12.06</td>\n",
       "    </tr>\n",
       "    <tr>\n",
       "      <th>2014</th>\n",
       "      <td>13.16</td>\n",
       "    </tr>\n",
       "    <tr>\n",
       "      <th>2015</th>\n",
       "      <td>13.85</td>\n",
       "    </tr>\n",
       "    <tr>\n",
       "      <th>2016</th>\n",
       "      <td>3.03</td>\n",
       "    </tr>\n",
       "    <tr>\n",
       "      <th rowspan=\"5\" valign=\"top\">X360</th>\n",
       "      <th>2012</th>\n",
       "      <td>40.30</td>\n",
       "    </tr>\n",
       "    <tr>\n",
       "      <th>2013</th>\n",
       "      <td>41.60</td>\n",
       "    </tr>\n",
       "    <tr>\n",
       "      <th>2014</th>\n",
       "      <td>4.48</td>\n",
       "    </tr>\n",
       "    <tr>\n",
       "      <th>2015</th>\n",
       "      <td>1.22</td>\n",
       "    </tr>\n",
       "    <tr>\n",
       "      <th>2016</th>\n",
       "      <td>0.04</td>\n",
       "    </tr>\n",
       "    <tr>\n",
       "      <th rowspan=\"4\" valign=\"top\">XOne</th>\n",
       "      <th>2013</th>\n",
       "      <td>6.04</td>\n",
       "    </tr>\n",
       "    <tr>\n",
       "      <th>2014</th>\n",
       "      <td>10.01</td>\n",
       "    </tr>\n",
       "    <tr>\n",
       "      <th>2015</th>\n",
       "      <td>12.55</td>\n",
       "    </tr>\n",
       "    <tr>\n",
       "      <th>2016</th>\n",
       "      <td>3.22</td>\n",
       "    </tr>\n",
       "  </tbody>\n",
       "</table>\n",
       "</div>"
      ],
      "text/plain": [
       "                          total_sales\n",
       "platform year_of_release             \n",
       "3DS      2012                   46.91\n",
       "         2013                   50.33\n",
       "         2014                   40.20\n",
       "         2015                   25.27\n",
       "         2016                   14.30\n",
       "DS       2012                    9.88\n",
       "         2013                    0.54\n",
       "PC       2012                   13.37\n",
       "         2013                    5.13\n",
       "         2014                    5.88\n",
       "         2015                    2.08\n",
       "         2016                    2.03\n",
       "PS3      2012                   81.03\n",
       "         2013                   71.67\n",
       "         2014                   10.16\n",
       "         2015                    1.34\n",
       "         2016                    0.06\n",
       "PS4      2013                   10.38\n",
       "         2014                   69.08\n",
       "         2015                  110.93\n",
       "         2016                   64.62\n",
       "PSP      2012                    5.91\n",
       "         2013                    1.91\n",
       "         2014                    0.09\n",
       "         2015                    0.10\n",
       "PSV      2012                   10.34\n",
       "         2013                    5.77\n",
       "         2014                    5.23\n",
       "         2015                    4.77\n",
       "         2016                    2.31\n",
       "Wii      2012                   17.15\n",
       "         2013                    7.44\n",
       "         2014                    2.96\n",
       "         2015                    0.95\n",
       "         2016                    0.18\n",
       "WiiU     2012                   11.85\n",
       "         2013                   12.06\n",
       "         2014                   13.16\n",
       "         2015                   13.85\n",
       "         2016                    3.03\n",
       "X360     2012                   40.30\n",
       "         2013                   41.60\n",
       "         2014                    4.48\n",
       "         2015                    1.22\n",
       "         2016                    0.04\n",
       "XOne     2013                    6.04\n",
       "         2014                   10.01\n",
       "         2015                   12.55\n",
       "         2016                    3.22"
      ]
     },
     "execution_count": 127,
     "metadata": {},
     "output_type": "execute_result"
    }
   ],
   "source": [
    "current_period_sales = pd.pivot_table(actual_data, index=['platform','year_of_release'], \n",
    "                                     values='total_sales', aggfunc = 'sum')\n",
    "\n",
    "current_period_sales"
   ]
  },
  {
   "cell_type": "markdown",
   "metadata": {},
   "source": [
    "####  Так и есть, отсекаем DS, PSP, X360,Wii. У первых двух вообще нет продаж, у  X360 и Wii есть более новые модели, которые перехватили инициативу на рынке. Итоговый список будет состоять из 7 платформ:"
   ]
  },
  {
   "cell_type": "code",
   "execution_count": 112,
   "metadata": {},
   "outputs": [],
   "source": [
    "actual_platform_list = ['3DS', 'PC', 'PS3', 'PS4', 'PSV',  'WiiU', 'XOne']"
   ]
  },
  {
   "cell_type": "markdown",
   "metadata": {},
   "source": [
    "### Постройте график «ящик с усами» по глобальным продажам игр в разбивке по платформам. Опишите результат."
   ]
  },
  {
   "cell_type": "code",
   "execution_count": 113,
   "metadata": {},
   "outputs": [
    {
     "data": {
      "image/png": "[encoded data removed]",
      "text/plain": [
       "<Figure size 1080x720 with 1 Axes>"
      ]
     },
     "metadata": {
      "needs_background": "light"
     },
     "output_type": "display_data"
    }
   ],
   "source": [
    "plt.figure(figsize=(15, 10))\n",
    "sns.boxplot(\n",
    "    x=\"total_sales\",\n",
    "    y=\"platform\",\n",
    "    data=actual_data[actual_data['platform'].isin(actual_platform_list)]\n",
    ")\n",
    "\n",
    "plt.title(\"Распределение глобальных продаж по платформам\")\n",
    "plt.xlabel(\"Глобальные продажи (млн копий)\")\n",
    "plt.ylabel(\"Платформа\")\n",
    "plt.grid(True)\n",
    "plt.show()\n"
   ]
  },
  {
   "cell_type": "code",
   "execution_count": 114,
   "metadata": {},
   "outputs": [
    {
     "data": {
      "image/png": "[encoded data removed]",
      "text/plain": [
       "<Figure size 1080x720 with 1 Axes>"
      ]
     },
     "metadata": {
      "needs_background": "light"
     },
     "output_type": "display_data"
    }
   ],
   "source": [
    "# С учетом выбросов вышло криво, посмотрим без них:\n",
    "plt.figure(figsize=(15, 10))\n",
    "sns.boxplot(\n",
    "    x=\"total_sales\",\n",
    "    y=\"platform\",\n",
    "    showfliers=False,\n",
    "    data=actual_data[actual_data['platform'].isin(actual_platform_list)]\n",
    ")\n",
    "\n",
    "plt.title(\"Распределение глобальных продаж по платформам\")\n",
    "plt.xlabel(\"Глобальные продажи (млн копий)\")\n",
    "plt.ylabel(\"Платформа\")\n",
    "plt.grid(True)\n",
    "plt.show()\n",
    "\n",
    "\n"
   ]
  },
  {
   "cell_type": "markdown",
   "metadata": {},
   "source": [
    "#### Вывод:  Самый большой выброс по продажам одной игры у PS3, более 20 млн копий. Уверенную долю рынка занимают PS4, X0ne, PS3, WiiU. "
   ]
  },
  {
   "cell_type": "markdown",
   "metadata": {},
   "source": [
    "### Посмотрите, как влияют на продажи внутри одной популярной платформы отзывы пользователей и критиков. Постройте диаграмму рассеяния и посчитайте корреляцию между отзывами и продажами. Сформулируйте выводы."
   ]
  },
  {
   "cell_type": "code",
   "execution_count": 115,
   "metadata": {},
   "outputs": [
    {
     "name": "stdout",
     "output_type": "stream",
     "text": [
      "Корреляция между оценками пользователей и продажами по платформе PS4  = -0.053395650308599905\n"
     ]
    },
    {
     "data": {
      "image/png": "[encoded data removed]",
      "text/plain": [
       "<Figure size 720x360 with 1 Axes>"
      ]
     },
     "metadata": {
      "needs_background": "light"
     },
     "output_type": "display_data"
    },
    {
     "name": "stdout",
     "output_type": "stream",
     "text": [
      "Корреляция между оценками пользователей и продажами по платформе XOne  = 0.09923469220745382\n"
     ]
    },
    {
     "data": {
      "image/png": "[encoded data removed]",
      "text/plain": [
       "<Figure size 720x360 with 1 Axes>"
      ]
     },
     "metadata": {
      "needs_background": "light"
     },
     "output_type": "display_data"
    },
    {
     "name": "stdout",
     "output_type": "stream",
     "text": [
      "Корреляция между оценками пользователей и продажами по платформе PS3  = 0.02351166507817631\n"
     ]
    },
    {
     "data": {
      "image/png": "[encoded data removed]",
      "text/plain": [
       "<Figure size 720x360 with 1 Axes>"
      ]
     },
     "metadata": {
      "needs_background": "light"
     },
     "output_type": "display_data"
    },
    {
     "name": "stdout",
     "output_type": "stream",
     "text": [
      "Корреляция между оценками пользователей и продажами по платформе WiiU  = 0.4517548555282536\n"
     ]
    },
    {
     "data": {
      "image/png": "[encoded data removed]",
      "text/plain": [
       "<Figure size 720x360 with 1 Axes>"
      ]
     },
     "metadata": {
      "needs_background": "light"
     },
     "output_type": "display_data"
    }
   ],
   "source": [
    "# Будем смотреть на наш топ4 как на самые современные. Построим графики корреляций: \n",
    "top4 = ['PS4', 'XOne', 'PS3', 'WiiU']\n",
    "for top in top4:\n",
    "    (\n",
    "     actual_data.query('platform == @top')\n",
    "        .plot(x='user_score', \n",
    "          y='total_sales', \n",
    "          kind='scatter', \n",
    "          figsize=(10, 5))\n",
    "    )\n",
    "    plt.title(f'Диаграмма рассеяния между оценками пользователей и продажами по платформе {top}')\n",
    "    plt.xlabel('Оценка пользователей')\n",
    "    plt.ylabel('Продажи')\n",
    "    plt.legend([top])\n",
    "    print(f'Корреляция между оценками пользователей и продажами по платформе {top}  =', actual_data.query('platform == @top')['user_score'].corr(actual_data.query('platform == @top')['total_sales']))\n",
    "    plt.show()\n",
    "\n"
   ]
  },
  {
   "cell_type": "markdown",
   "metadata": {},
   "source": [
    "#### Вывод по корреляции оценки пользователей и продажам:  слабая прослеживается только по платформе  WiiU( Коэффицент Пирсона = 0.4) . Посмотрим  корреляцию с оценками критиков:"
   ]
  },
  {
   "cell_type": "code",
   "execution_count": 116,
   "metadata": {},
   "outputs": [
    {
     "name": "stdout",
     "output_type": "stream",
     "text": [
      "Корреляция между оценками критиков и продажами по платформе PS4  = 0.41895932005956243\n"
     ]
    },
    {
     "data": {
      "image/png": "[encoded data removed]",
      "text/plain": [
       "<Figure size 720x360 with 1 Axes>"
      ]
     },
     "metadata": {
      "needs_background": "light"
     },
     "output_type": "display_data"
    },
    {
     "name": "stdout",
     "output_type": "stream",
     "text": [
      "Корреляция между оценками критиков и продажами по платформе XOne  = 0.518353739512983\n"
     ]
    },
    {
     "data": {
      "image/png": "[encoded data removed]",
      "text/plain": [
       "<Figure size 720x360 with 1 Axes>"
      ]
     },
     "metadata": {
      "needs_background": "light"
     },
     "output_type": "display_data"
    },
    {
     "name": "stdout",
     "output_type": "stream",
     "text": [
      "Корреляция между оценками критиков и продажами по платформе PS3  = 0.3998081861076079\n"
     ]
    },
    {
     "data": {
      "image/png": "[encoded data removed]",
      "text/plain": [
       "<Figure size 720x360 with 1 Axes>"
      ]
     },
     "metadata": {
      "needs_background": "light"
     },
     "output_type": "display_data"
    },
    {
     "name": "stdout",
     "output_type": "stream",
     "text": [
      "Корреляция между оценками критиков и продажами по платформе WiiU  = 0.4379749166503039\n"
     ]
    },
    {
     "data": {
      "image/png": "[encoded data removed]",
      "text/plain": [
       "<Figure size 720x360 with 1 Axes>"
      ]
     },
     "metadata": {
      "needs_background": "light"
     },
     "output_type": "display_data"
    }
   ],
   "source": [
    "for top in top4:\n",
    "    (\n",
    "     actual_data.query('platform == @top')\n",
    "        .plot(x='critic_score', \n",
    "          y='total_sales', \n",
    "          kind='scatter', \n",
    "          figsize=(10, 5))\n",
    "    )\n",
    "    plt.title(f'Диаграмма рассеяния между оценками критиков и продажами по платформе {top}')\n",
    "    plt.xlabel('Оценка критиков')\n",
    "    plt.ylabel('Продажи')\n",
    "    plt.legend([top])\n",
    "    print(f'Корреляция между оценками критиков и продажами по платформе {top}  =', actual_data.query('platform == @top')['critic_score'].corr(actual_data.query('platform == @top')['total_sales']))\n",
    "    plt.show()"
   ]
  },
  {
   "cell_type": "markdown",
   "metadata": {},
   "source": [
    "#### Вывод: тут и визуально, и по числам  присутствует небольшая корреляция. В PS3 / Wiiu коэффицент Пирсона в районе 0.33-0.34. У PS4 / XOne в районе 0.40-0.41. "
   ]
  },
  {
   "cell_type": "markdown",
   "metadata": {},
   "source": [
    "#### Посмотрите на общее распределение игр по жанрам. Что можно сказать о самых прибыльных жанрах? Выделяются ли жанры с высокими и низкими продажами?"
   ]
  },
  {
   "cell_type": "code",
   "execution_count": 117,
   "metadata": {},
   "outputs": [
    {
     "data": {
      "image/png": "[encoded data removed]",
      "text/plain": [
       "<Figure size 864x432 with 1 Axes>"
      ]
     },
     "metadata": {
      "needs_background": "light"
     },
     "output_type": "display_data"
    }
   ],
   "source": [
    "# соберем таблицу и построим график сначала по топовым платформам\n",
    "genre_actual = (\n",
    "    actual_data\n",
    "    .query('platform in [\"PS4\", \"XOne\", \"PS3\", \"WiiU\"]')\n",
    "    .pivot_table(index='genre', values='total_sales', aggfunc='sum')\n",
    "    .sort_values('total_sales', ascending=False)\n",
    ")\n",
    "\n",
    "plt.figure(figsize=(12, 6))\n",
    "(sns.barplot(data = genre_actual, x = genre_actual.index, y = 'total_sales', color = 'skyblue',edgecolor='black', \n",
    "    alpha=0.7)\n",
    "    .set(title = 'Продажи по жанрам за 2012-2016 гг', xlabel = 'Жанры', ylabel = 'Общие продажи'))\n",
    "\n",
    "plt.show()"
   ]
  },
  {
   "cell_type": "code",
   "execution_count": 118,
   "metadata": {},
   "outputs": [
    {
     "data": {
      "image/png": "[encoded data removed]",
      "text/plain": [
       "<Figure size 864x432 with 1 Axes>"
      ]
     },
     "metadata": {
      "needs_background": "light"
     },
     "output_type": "display_data"
    }
   ],
   "source": [
    "# и по всем платформам\n",
    "genre_actual = (\n",
    "    actual_data\n",
    "    .pivot_table(index='genre', values='total_sales', aggfunc='sum')\n",
    "    .sort_values('total_sales', ascending=False)\n",
    ")\n",
    "\n",
    "plt.figure(figsize=(12, 6))\n",
    "(sns.barplot(data = genre_actual, x = genre_actual.index, y = 'total_sales', color = 'skyblue',edgecolor='black', \n",
    "    alpha=0.7)\n",
    "    .set(title = 'Продажи по жанрам за 2012-2016 гг', xlabel = 'Жанры', ylabel = 'Общие продажи'))\n",
    "\n",
    "plt.show()"
   ]
  },
  {
   "cell_type": "code",
   "execution_count": 119,
   "metadata": {},
   "outputs": [
    {
     "data": {
      "image/png": "[encoded data removed]",
      "text/plain": [
       "<Figure size 864x432 with 1 Axes>"
      ]
     },
     "metadata": {
      "needs_background": "light"
     },
     "output_type": "display_data"
    }
   ],
   "source": [
    "plt.figure(figsize=(12, 6))\n",
    "(sns.boxplot(data = actual_data, y = 'total_sales', x='genre')\n",
    "    .set(title = 'Продажи по жанрам за 2012-2016 гг', xlabel = 'Платформы', ylabel = 'Общие продажи', ylim=(0, 3)))\n",
    "\n",
    "plt.show() "
   ]
  },
  {
   "cell_type": "code",
   "execution_count": 120,
   "metadata": {},
   "outputs": [
    {
     "data": {
      "image/png": "[encoded data removed]",
      "text/plain": [
       "<Figure size 1080x720 with 1 Axes>"
      ]
     },
     "metadata": {
      "needs_background": "light"
     },
     "output_type": "display_data"
    }
   ],
   "source": [
    "plt.figure(figsize=(15, 10))\n",
    "(sns.boxplot(data = actual_data\n",
    "    .query('platform in [\"PS4\", \"XOne\", \"PS3\", \"WiiU\"]'), y = 'total_sales', x='genre')\n",
    "    .set(title = 'Продажи по жанрам за 2012-2016 гг у топовых платформ', xlabel = 'Платформы', ylabel = 'Общие продажи', ylim=(0, 3)))\n",
    "\n",
    "plt.show() "
   ]
  },
  {
   "cell_type": "markdown",
   "metadata": {},
   "source": [
    "#### Вывод: Что у топовых платформ, что у всех за актуальный период времени очень стабильная медана у шутеров.При этом большие значения за медианой часто наблюдаются у жанра экшн и спорт и платформы. "
   ]
  },
  {
   "cell_type": "markdown",
   "metadata": {},
   "source": [
    "## Составьте портрет пользователя каждого региона\n",
    "\n"
   ]
  },
  {
   "cell_type": "markdown",
   "metadata": {},
   "source": [
    "### Определите для пользователя каждого региона (NA, EU, JP):"
   ]
  },
  {
   "cell_type": "markdown",
   "metadata": {},
   "source": [
    "### Самые популярные платформы (топ-5). Опишите различия в долях продаж.\n"
   ]
  },
  {
   "cell_type": "code",
   "execution_count": 121,
   "metadata": {},
   "outputs": [
    {
     "data": {
      "image/png": "[encoded data removed]",
      "text/plain": [
       "<Figure size 1800x720 with 4 Axes>"
      ]
     },
     "metadata": {},
     "output_type": "display_data"
    }
   ],
   "source": [
    "# срежем регионы: Северная Америка, Европа, Япония. \n",
    "regions = actual_data.columns[4:7]\n",
    "\n",
    "# Создаем 4 графика, по каждому региону + распределение всех продаж среди регионов7]\n",
    "fig, axs = plt.subplots(1, 4, figsize=(25, 10))  \n",
    "fig.suptitle('ТОП-5 платформ в регионах и распределение продаж по регионам')\n",
    "\n",
    "# Перебираем три региона и строим круговые диаграммы по платформам\n",
    "for i in range(3):\n",
    "    # Берем 5 самых продающих платформ в регионе\n",
    "    df_i = (actual_data.groupby('platform')[regions[i]].sum()\n",
    "               .reset_index()\n",
    "               .sort_values(regions[i], ascending=False, ignore_index=True)\n",
    "               .head(5))\n",
    "    \n",
    "    # Все остальные продажи отнесем в категорию 'Other_platforms'\n",
    "    df_i = df_i.append({'platform': 'Other_platforms', regions[i]: actual_data[regions[i]].sum() - df_i[regions[i]].sum()}, \n",
    "                        ignore_index=True)\n",
    "    \n",
    "    # Строим круговую диаграмму\n",
    "    axs[i].pie(df_i[regions[i]], labels=df_i['platform'], autopct='%1.1f%%')\n",
    "    axs[i].set_title(df_i.columns[1].split('_')[0].upper())\n",
    "\n",
    "# Добавляем общий график распределения продаж по регионам\n",
    "total_sales_by_region = actual_data[regions].sum()  # Считаем сумму продаж по каждому региону\n",
    "axs[3].pie(total_sales_by_region, labels=total_sales_by_region.index, autopct='%1.1f%%', colors=['lightblue', 'lightgreen', 'lightcoral'])\n",
    "axs[3].set_title('Доля регионов в общих продажах')\n",
    "\n",
    "plt.show()\n"
   ]
  },
  {
   "cell_type": "markdown",
   "metadata": {},
   "source": [
    " #### Вывод: За выбранный нами период( 5 лет), видны сущетсвенные  различия на каждом рынке: На рынке Северной Америке почти 1/4 рынка за X360, чуть меньше за PS4, далее PS3. При этом доля Северной Америки от общего рынка 45,8%. В Европе же тройка лидеров наоборот: Ps4,Ps3,X360 и доля рынка 39,3. В Японии почти половину рынка(45,6%) занимает 3DS, следом PS3 с 18,3% и потом PSV с 10,9, при этом доля от общего рынка самая малая и составляет 14,9%."
   ]
  },
  {
   "cell_type": "markdown",
   "metadata": {},
   "source": [
    "###  Самые популярные жанры (топ-5). Поясните разницу.\n"
   ]
  },
  {
   "cell_type": "code",
   "execution_count": 122,
   "metadata": {},
   "outputs": [
    {
     "data": {
      "image/png": "[encoded data removed]",
      "text/plain": [
       "<Figure size 1440x360 with 4 Axes>"
      ]
     },
     "metadata": {},
     "output_type": "display_data"
    }
   ],
   "source": [
    "# Все то же самое\n",
    "fig, axs = plt.subplots(1, 4, figsize=(20, 5))  \n",
    "fig.suptitle('ТОП-5 жанров в регионах и распределение продаж по регионам')\n",
    "\n",
    "# Перебираем три региона и строим круговые диаграммы по жанрам\n",
    "for i in range(3):\n",
    "    # Берем 5 самых продающих жанров в регионе\n",
    "    df_i = (actual_data.groupby('genre')[regions[i]].sum()\n",
    "               .reset_index()\n",
    "               .sort_values(regions[i], ascending=False, ignore_index=True)\n",
    "               .head(5))\n",
    "    \n",
    "    # Все остальные продажи отнесем в категорию 'Other_genre'\n",
    "    df_i = df_i.append({'genre': 'Other_genre', regions[i]: actual_data[regions[i]].sum() - df_i[regions[i]].sum()}, \n",
    "                        ignore_index=True)\n",
    "    \n",
    "    # Строим круговую диаграмму\n",
    "    axs[i].pie(df_i[regions[i]], labels=df_i['genre'], autopct='%1.1f%%')\n",
    "    axs[i].set_title(df_i.columns[1].split('_')[0].upper())\n",
    "\n",
    "# Добавляем общий график распределения продаж по регионам\n",
    "total_sales_by_region = actual_data[regions].sum()  # Считаем сумму продаж по каждому региону\n",
    "axs[3].pie(total_sales_by_region, labels=total_sales_by_region.index, autopct='%1.1f%%', colors=['lightblue', 'lightgreen', 'lightcoral'])\n",
    "axs[3].set_title('Доля регионов в общих продажах')\n",
    "\n",
    "plt.show()\n"
   ]
  },
  {
   "cell_type": "markdown",
   "metadata": {},
   "source": [
    "#### В Северной Америке и Европе 1/2/3место уверенно за жанрами Action/Shooter/ Sports. Япония же и тут отличается: 1 место Role-Playing, 2ое - action, явного третьего места нет, так как 21,6% занимает сборка из остальных жанров, не попавших в топ 5. "
   ]
  },
  {
   "cell_type": "markdown",
   "metadata": {},
   "source": [
    "### Влияет ли рейтинг ESRB на продажи в отдельном регионе?"
   ]
  },
  {
   "cell_type": "code",
   "execution_count": 123,
   "metadata": {},
   "outputs": [
    {
     "data": {
      "text/plain": [
       "array(['M', 'Not Rated', 'E', 'E10+', 'T'], dtype=object)"
      ]
     },
     "execution_count": 123,
     "metadata": {},
     "output_type": "execute_result"
    }
   ],
   "source": [
    "# Вспомним что у нас есть за рейтинги\n",
    "actual_data['rating'].unique()"
   ]
  },
  {
   "cell_type": "markdown",
   "metadata": {},
   "source": [
    "####  Что они значат? \n",
    "- M - Mature 17+\n",
    "- E - Everyone\n",
    "- E10+ - Everyone 10+\n",
    "- T - Teen (13 years)"
   ]
  },
  {
   "cell_type": "code",
   "execution_count": 124,
   "metadata": {},
   "outputs": [
    {
     "data": {
      "image/png": "[encoded data removed]",
      "text/plain": [
       "<Figure size 1440x360 with 4 Axes>"
      ]
     },
     "metadata": {},
     "output_type": "display_data"
    }
   ],
   "source": [
    "fig, axs = plt.subplots(1, 4, figsize=(20, 5))  \n",
    "fig.suptitle('ТОП-5 рейтингов в регионах и распределение продаж по регионам')\n",
    "\n",
    "# Перебираем три региона и строим круговые диаграммы по рейтингам\n",
    "for i in range(3):\n",
    "    # Берем 5 самых популярных рейтингов в регионе\n",
    "    df_i = (actual_data.groupby('rating')[regions[i]].sum()\n",
    "               .reset_index()\n",
    "               .sort_values(regions[i], ascending=False, ignore_index=True)\n",
    "               .head(5))\n",
    "    \n",
    "    # Строим круговую диаграмму\n",
    "    axs[i].pie(df_i[regions[i]], labels=df_i['rating'], autopct='%1.1f%%')\n",
    "    axs[i].set_title(df_i.columns[1].split('_')[0].upper())\n",
    "\n",
    "# Добавляем общий график распределения продаж по регионам\n",
    "total_sales_by_region = actual_data[regions].sum()  # Считаем сумму продаж по каждому региону\n",
    "axs[3].pie(total_sales_by_region, labels=total_sales_by_region.index, autopct='%1.1f%%', colors=['lightblue', 'lightgreen', 'lightcoral'])\n",
    "axs[3].set_title('Доля регионов в общих продажах')\n",
    "\n",
    "plt.show()"
   ]
  },
  {
   "cell_type": "markdown",
   "metadata": {},
   "source": [
    "#### В Северной Америке и Европе лидируют продажи игр с рейтингом 17+, на втором же месте игры с рейтингом 'для всех'. Япония и в этом случае отличается: %гры с возрастным ограничением 17+ у них занимают 11%, а большую популярность имеют игры вообще без рейтинга. Компания занимающаяся оценкой - Entertainment Software Rating Board (ESRB) получает запрос от издателя, следовательно, можно предположить, что в Японии сильно развит внутренний игровой рынок, без выхода на \"Мир\"."
   ]
  },
  {
   "cell_type": "markdown",
   "metadata": {},
   "source": [
    "## Проверьте гипотезы"
   ]
  },
  {
   "cell_type": "markdown",
   "metadata": {},
   "source": [
    "### Средние пользовательские рейтинги платформ Xbox One и PC одинаковые"
   ]
  },
  {
   "cell_type": "markdown",
   "metadata": {},
   "source": [
    "Зададим нулевую и альтернативные гипотезы:\n",
    " - **Нулевая гипотеза (H0)**: Средние пользовательские рейтинги платформ Xbox One и PC одинаковые.\n",
    " - **Альтерантивная гипотеза** (H1): Средние пользовательские рейтинги платформ Xbox One и PC различаются.\n",
    " \n",
    " Пороговое значение = 0.05\n",
    " Пороговое значение выбрано из двух общепринятых 0.01 и 0.05, так как не требуется высокая точность. \n",
    " \n",
    " Наши выборки независимы, поэтому мы будетиспользовать t-критерий Стьюдента. \n",
    "  И двухсторонний тест."
   ]
  },
  {
   "cell_type": "code",
   "execution_count": 125,
   "metadata": {},
   "outputs": [
    {
     "name": "stdout",
     "output_type": "stream",
     "text": [
      "p-value  равно: 0.5998873261719986\n",
      "Не получилось отвергнуть нулевую гипотезу\n"
     ]
    }
   ],
   "source": [
    "results = st.ttest_ind(\n",
    "    actual_data.loc[actual_data['platform'] == 'XOne', 'user_score'].dropna(),\n",
    "    actual_data.loc[actual_data['platform'] == 'PC', 'user_score'].dropna(),\n",
    "    equal_var=False,\n",
    "    alternative='two-sided'\n",
    ")\n",
    "\n",
    "print(f'p-value  равно: {results.pvalue}')\n",
    "if results.pvalue < .05:\n",
    "    print('Отвергаем нулевую гипотезу')\n",
    "else:\n",
    "    print('Не получилось отвергнуть нулевую гипотезу')"
   ]
  },
  {
   "cell_type": "markdown",
   "metadata": {},
   "source": [
    "####  Вывод: На основании исследования мы не можем утверждать, что средние пользовательские рейтинги платформ Xbox One и PC различаются"
   ]
  },
  {
   "cell_type": "markdown",
   "metadata": {},
   "source": [
    "### Средние пользовательские рейтинги жанров Action (англ. «действие», экшен-игры) и Sports (англ. «спортивные соревнования») разные."
   ]
  },
  {
   "cell_type": "markdown",
   "metadata": {},
   "source": [
    " - **Нулевая гипотеза (H0)**: Средние пользовательские рейтинги жанров Action и Sports одинаковые.\n",
    " - **Альтерантивная гипотеза (H1)**: Средние пользовательские рейтинги жанров Action и Sports различаются.\n",
    " \n",
    " Пороговое значение = 0.05\n",
    " Пороговое значение выбрано из двух общепринятых 0.01 и 0.05, так как не требуется высокая точность. \n",
    " \n",
    " Наши выборки независимы, поэтому мы будетиспользовать t-критерий Стьюдента. \n",
    " И двухсторонний тест."
   ]
  },
  {
   "cell_type": "code",
   "execution_count": 126,
   "metadata": {},
   "outputs": [
    {
     "name": "stdout",
     "output_type": "stream",
     "text": [
      "1.214134289177593e-07\n",
      "Отвергаем нулевую гипотезу\n"
     ]
    }
   ],
   "source": [
    "results = st.ttest_ind(\n",
    "    actual_data.loc[actual_data['genre'] == 'Action', 'user_score'].dropna(),\n",
    "    actual_data.loc[actual_data['genre'] == 'Sports', 'user_score'].dropna(),\n",
    "    equal_var=False,\n",
    "    alternative='two-sided'\n",
    ")\n",
    "\n",
    "print(results.pvalue)\n",
    "if results.pvalue < .05:\n",
    "    print('Отвергаем нулевую гипотезу')\n",
    "else:\n",
    "    print('Не получилось отвергнуть нулевую минуту')"
   ]
  },
  {
   "cell_type": "markdown",
   "metadata": {},
   "source": [
    "####  Вывод: На основании исследования мы не можем утверждать, что средние пользовательские рейтинги платформ Xbox One и PC различаются"
   ]
  },
  {
   "cell_type": "markdown",
   "metadata": {},
   "source": [
    "## Общий вывод"
   ]
  },
  {
   "cell_type": "markdown",
   "metadata": {},
   "source": [
    "### Мы проделали следующую работу:\n",
    "- загружены необходимые для работы библиотеки.\n",
    "- загружен датасет\n",
    "- ознакомились с данными \n",
    "- привели названия столбцов к нижнему регистру(snake_style был уже)\n",
    "- в столбцах year_of_release и user_score поменяли тип данных. В первом случае это год выхода, это только целое число. Во втором случае - оценки пользователя это число\n",
    "- Убрали дубликаты, убрали пропуски там, где это было возможно\n",
    "- Добавили столбик с суммарными продажами"
   ]
  },
  {
   "cell_type": "markdown",
   "metadata": {},
   "source": [
    "### Исследовали данные и сделали следующие выводы:\n",
    "-  Виден практически линейный рост количества выпускаемых игр до 2009 года и потом снижение. Я предполагаю, что постепенный рост был связан с развитием технологий, а дальнейший спад с селекцией бизнеса: крупные игроки подмяли под себя рынок, вывели игры на более качественный уровень, однако увеличили их сроки разработки. Возможно, что рынок изменился настолько, что все что было до 1995-2000 можно не учитывать. Но это предположение, посмотрим дальше на данные.\n",
    "- Далее мы определили топ6 лидеров рынка за все время, это платформы: PS2, X360, PS3, Wii, DS, PS. \n",
    "- Посмотрели график распредления продаж,и определили - жизненный цикл платформы ± 10 лет. Причем все платформы, который заработали больше всего уже находятся на стадии падения на текущий момент. Поэтому нет смысла их анализировать на перспективу продаж нашего магазина. Исходя из данных, нам нужны платформы на пике и на старте : это 5 лет.¶ Этот тайминг выбрали за актуальный - с 2012 по 20167 \n",
    "- Далее посмотрели графики распределения продаж игр на платформы по годам, отсекли часть и вывели 7 актуальных платформ.\n",
    "- Все дальнейшие анализы производили по этим 7 платформам и актуальному таймингу.\n",
    "- Посмотрели корреляцию между оценками пользователей и продажами, получили небольшую корреляцию только по платформе WiiU( Коэффицент Пирсона = 0.4)\n",
    "- Посмотрели корреляцию между оценками критиков и продажами, и увидели визуально, и по числам присутствует небольшая корреляция. В PS3 / Wiiu коэффицент Пирсона в районе 0.33-0.34. У PS4 / XOne в районе 0.40-0.41.\n",
    "- Посмотрели графики по жанрами и сделали вывод: Что у выбранных нами топовых платформ, что у всех за актуальный период времени очень стабильная медана у шутеров.При этом большие значения за медианой часто наблюдаются у жанра экшн и спорт и платформы.\n"
   ]
  },
  {
   "cell_type": "markdown",
   "metadata": {},
   "source": [
    " ### Далее составили  портрет пользователя каждого региона"
   ]
  },
  {
   "cell_type": "markdown",
   "metadata": {},
   "source": [
    "#### За выбранный нами период( 5 лет), видны сущетсвенные различия на каждом рынке: На рынке Северной Америке почти 1/4 рынка за X360, чуть меньше за PS4, далее PS3. При этом доля Северной Америки от общего рынка 45,8%. В Европе же тройка лидеров наоборот: Ps4,Ps3,X360 и доля рынка 39,3. В Японии почти половину рынка(45,6%) занимает 3DS, следом PS3 с 18,3% и потом PSV с 10,9, при этом доля от общего рынка самая малая и составляет 14,9%.\n",
    "\n"
   ]
  },
  {
   "cell_type": "markdown",
   "metadata": {},
   "source": [
    "#### В Северной Америке и Европе 1/2/3место уверенно за жанрами Action/Shooter/ Sports. Япония же и тут отличается: 1 место Role-Playing, 2ое - action, явного третьего места нет, так как 21,6% занимает сборка из остальных жанров, не попавших в топ 5. "
   ]
  },
  {
   "cell_type": "markdown",
   "metadata": {},
   "source": [
    "#### В Северной Америке и Европе лидируют продажи игр с рейтингом 17+, на втором же месте игры с рейтингом 'для всех'. Япония и в этом случае отличается: %гры с возрастным ограничением 17+ у них занимают 11%, а большую популярность имеют игры вообще без рейтинга. Компания занимающаяся оценкой - Entertainment Software Rating Board (ESRB) получает запрос от издателя, следовательно, можно предположить, что в Японии сильно развит внутренний игровой рынок, без выхода на \"Мир\"."
   ]
  },
  {
   "cell_type": "markdown",
   "metadata": {},
   "source": [
    "#### Как вывод по этому разделу: Наш целевой покупатель это Северо-Американец или Европеец. У него либо X360, либо PS3,PS4. Он предпочитает Action / Shooter или Sports. При этом он либо играет либо с возрастным ограничением 17+, либо в игры для всех (E - Everyone).  Если наш покупатель японец, то надо ориентироваться на платформу 3DS и жанры Role-Playing или action. Рейтинг ESRB в Японии судя по всему не котируется, так как там 56%"
   ]
  },
  {
   "cell_type": "markdown",
   "metadata": {},
   "source": [
    "### Проверка гипотез. "
   ]
  },
  {
   "cell_type": "markdown",
   "metadata": {},
   "source": [
    "#### У нас было два запроса от коллег:\n",
    "- Средние пользовательские рейтинги платформ Xbox One и PC одинаковые\n",
    "- Средние пользовательские рейтинги жанров Action (англ. «действие», экшен-игры) и Sports (англ. «спортивные соревнования») разны"
   ]
  },
  {
   "cell_type": "markdown",
   "metadata": {},
   "source": [
    "#### По первой мы вывели:\n",
    "Нулевая гипотеза (H0): Средние пользовательские рейтинги жанров Action и Sports одинаковые.\n",
    "\n",
    "Альтерантивная гипотеза (H1): Средние пользовательские рейтинги жанров Action и Sports различаются.\n",
    "\n",
    "Пороговое значение = 0.05 Пороговое значение выбрано из двух общепринятых 0.01 и 0.05, так как не требуется высокая точность.\n",
    "\n",
    "Наши выборки независимы, поэтому мы использовали t-критерий Стьюдента. И двухсторонний тест.\n",
    "\n",
    "Получили p-value  равное: 0.5489537965134912\n",
    "\n",
    "Как итог: На основании исследования мы не можем утверждать, что средние пользовательские рейтинги платформ Xbox One и PC различаются\n"
   ]
  },
  {
   "cell_type": "markdown",
   "metadata": {},
   "source": [
    "#### По второй:\n",
    "Нулевая гипотеза (H0): Средние пользовательские рейтинги жанров Action и Sports одинаковые.\n",
    "\n",
    "Альтерантивная гипотеза (H1): Средние пользовательские рейтинги жанров Action и Sports различаются.\n",
    "\n",
    "Пороговое значение = 0.05 Пороговое значение выбрано из двух общепринятых 0.01 и 0.05, так как не требуется высокая точность.\n",
    "\n",
    "Наши выборки независимы, поэтому мы использовали t-критерий Стьюдента. И двухсторонний тест.\n",
    "\n",
    "\n",
    "Получили:p-value  равно: 4.24307776572644e-20\n",
    "Это очень маленькое значение, поэтому на основании исследования мы не можем утверждать, что средние пользовательские рейтинги платформ Xbox One и PC различаются"
   ]
  },
  {
   "cell_type": "markdown",
   "metadata": {},
   "source": [
    "### Мой вывод: \n"
   ]
  },
  {
   "cell_type": "markdown",
   "metadata": {},
   "source": [
    "#### В рамках планирования на 2017-ый год, если рассуждать с позиции магазина продающего игры по всему миру:   \n",
    "\n",
    "##### Наш покупатель в Северной Америке:\n",
    "- Использует чаще всего X360, чуть реже PS4, и на третьем месте PS3.\n",
    "- Играет в Action/Shooter/ Sports\n",
    "- Предпочитает игры с рейтингом М(17+) или E(evryone).\n",
    "\n",
    "##### Наш покупатель в Европе\n",
    "- Использует Ps4,Ps3,X360 \n",
    "- Играет в Action/Shooter/ Sports\n",
    "- Предпочитает игры с рейтингом М(17+) или E(evryone).\n",
    "\n",
    "##### Наш покупатель в Японии \n",
    "- Использует чаще всего: 3DS, следом PS3 с 18,3% и потом PSV \n",
    "- Играет чаще всего в Role-Playing, 2ое место - action, явного третьего места нет, так как 21,6% занимает сборка из остальных жанров, не попавших в топ 5\n",
    "- Более 56% рынка игр там без рейтинга ESRB. \n",
    "\n",
    "Добольнительно стоит взять во внимание, что рынок продаж в Японии составляет 20% от общего, тогда как Северная Америка и Европа делят его соответсвенно 41% и 39%, именно в такой пропроции следует распределять рекламный бюджет и учитывать портрет описанный выше."
   ]
  }
 ],
 "metadata": {
  "ExecuteTimeLog": [
   {
    "duration": 1385,
    "start_time": "2025-02-24T11:24:06.041Z"
   },
   {
    "duration": 60,
    "start_time": "2025-02-24T11:25:30.220Z"
   },
   {
    "duration": 19,
    "start_time": "2025-02-24T11:25:42.423Z"
   },
   {
    "duration": 16,
    "start_time": "2025-02-24T11:25:46.523Z"
   },
   {
    "duration": 24,
    "start_time": "2025-02-24T11:26:05.913Z"
   },
   {
    "duration": 127,
    "start_time": "2025-02-24T11:26:26.643Z"
   },
   {
    "duration": 827,
    "start_time": "2025-02-24T11:26:32.425Z"
   },
   {
    "duration": 10,
    "start_time": "2025-02-24T11:31:10.639Z"
   },
   {
    "duration": 4,
    "start_time": "2025-02-24T11:31:14.519Z"
   },
   {
    "duration": 4,
    "start_time": "2025-02-24T11:31:37.298Z"
   },
   {
    "duration": 4,
    "start_time": "2025-02-24T11:31:44.440Z"
   },
   {
    "duration": 4,
    "start_time": "2025-02-24T11:41:39.534Z"
   },
   {
    "duration": 4,
    "start_time": "2025-02-24T11:41:45.241Z"
   },
   {
    "duration": 28,
    "start_time": "2025-02-24T11:56:19.290Z"
   },
   {
    "duration": 14,
    "start_time": "2025-02-24T12:25:24.409Z"
   },
   {
    "duration": 1002,
    "start_time": "2025-02-24T12:29:58.560Z"
   },
   {
    "duration": 10,
    "start_time": "2025-02-24T12:31:14.859Z"
   },
   {
    "duration": 64,
    "start_time": "2025-02-24T12:32:45.547Z"
   },
   {
    "duration": 8,
    "start_time": "2025-02-24T12:37:25.913Z"
   },
   {
    "duration": 9,
    "start_time": "2025-02-24T12:38:21.444Z"
   },
   {
    "duration": 49,
    "start_time": "2025-02-24T13:49:32.373Z"
   },
   {
    "duration": 21,
    "start_time": "2025-02-24T13:50:27.325Z"
   },
   {
    "duration": 24,
    "start_time": "2025-02-24T13:53:39.309Z"
   },
   {
    "duration": 13,
    "start_time": "2025-02-24T13:55:07.616Z"
   },
   {
    "duration": 8,
    "start_time": "2025-02-24T13:55:45.405Z"
   },
   {
    "duration": 5,
    "start_time": "2025-02-24T13:55:56.381Z"
   },
   {
    "duration": 7,
    "start_time": "2025-02-24T13:57:31.693Z"
   },
   {
    "duration": 6,
    "start_time": "2025-02-24T14:00:14.261Z"
   },
   {
    "duration": 6,
    "start_time": "2025-02-24T14:00:31.364Z"
   },
   {
    "duration": 6,
    "start_time": "2025-02-24T14:00:33.244Z"
   },
   {
    "duration": 2,
    "start_time": "2025-02-24T14:00:36.941Z"
   },
   {
    "duration": 5,
    "start_time": "2025-02-24T14:00:38.485Z"
   },
   {
    "duration": 8,
    "start_time": "2025-02-24T14:01:01.180Z"
   },
   {
    "duration": 4,
    "start_time": "2025-02-24T14:01:15.261Z"
   },
   {
    "duration": 15,
    "start_time": "2025-02-24T14:05:05.284Z"
   },
   {
    "duration": 10,
    "start_time": "2025-02-24T14:05:31.584Z"
   },
   {
    "duration": 5,
    "start_time": "2025-02-24T14:11:51.480Z"
   },
   {
    "duration": 9,
    "start_time": "2025-02-24T14:16:18.094Z"
   },
   {
    "duration": 9,
    "start_time": "2025-02-24T14:16:27.935Z"
   },
   {
    "duration": 13,
    "start_time": "2025-02-24T14:16:43.857Z"
   },
   {
    "duration": 9,
    "start_time": "2025-02-24T14:17:02.926Z"
   },
   {
    "duration": 8,
    "start_time": "2025-02-24T14:18:28.313Z"
   },
   {
    "duration": 5,
    "start_time": "2025-02-24T14:24:29.696Z"
   },
   {
    "duration": 4,
    "start_time": "2025-02-24T14:24:35.542Z"
   },
   {
    "duration": 24,
    "start_time": "2025-02-24T14:50:11.451Z"
   },
   {
    "duration": 3,
    "start_time": "2025-02-24T14:56:03.809Z"
   },
   {
    "duration": 42,
    "start_time": "2025-02-24T14:56:05.197Z"
   },
   {
    "duration": 15,
    "start_time": "2025-02-24T14:56:06.401Z"
   },
   {
    "duration": 14,
    "start_time": "2025-02-24T14:56:07.633Z"
   },
   {
    "duration": 831,
    "start_time": "2025-02-24T14:56:08.761Z"
   },
   {
    "duration": 3,
    "start_time": "2025-02-24T14:56:10.241Z"
   },
   {
    "duration": 3,
    "start_time": "2025-02-24T14:56:12.869Z"
   },
   {
    "duration": 4,
    "start_time": "2025-02-24T14:56:13.992Z"
   },
   {
    "duration": 28,
    "start_time": "2025-02-24T14:56:15.908Z"
   },
   {
    "duration": 14,
    "start_time": "2025-02-24T14:56:18.133Z"
   },
   {
    "duration": 9,
    "start_time": "2025-02-24T14:56:38.561Z"
   },
   {
    "duration": 9,
    "start_time": "2025-02-24T14:56:43.308Z"
   },
   {
    "duration": 11,
    "start_time": "2025-02-24T14:56:50.481Z"
   },
   {
    "duration": 5,
    "start_time": "2025-02-24T14:56:51.148Z"
   },
   {
    "duration": 8,
    "start_time": "2025-02-24T14:56:51.569Z"
   },
   {
    "duration": 13,
    "start_time": "2025-02-24T14:56:52.285Z"
   },
   {
    "duration": 9,
    "start_time": "2025-02-24T14:56:52.521Z"
   },
   {
    "duration": 2,
    "start_time": "2025-02-24T14:56:52.729Z"
   },
   {
    "duration": 15,
    "start_time": "2025-02-24T14:56:52.873Z"
   },
   {
    "duration": 10,
    "start_time": "2025-02-24T14:56:53.093Z"
   },
   {
    "duration": 23,
    "start_time": "2025-02-24T14:56:53.213Z"
   },
   {
    "duration": 9,
    "start_time": "2025-02-24T15:04:24.048Z"
   },
   {
    "duration": 9,
    "start_time": "2025-02-24T15:04:48.160Z"
   },
   {
    "duration": 15,
    "start_time": "2025-02-24T15:04:57.312Z"
   },
   {
    "duration": 11,
    "start_time": "2025-02-24T15:05:07.061Z"
   },
   {
    "duration": 323,
    "start_time": "2025-02-24T15:05:41.681Z"
   },
   {
    "duration": 14,
    "start_time": "2025-02-24T15:06:35.181Z"
   },
   {
    "duration": 1239,
    "start_time": "2025-02-24T15:07:45.253Z"
   },
   {
    "duration": 47,
    "start_time": "2025-02-24T15:07:46.768Z"
   },
   {
    "duration": 20,
    "start_time": "2025-02-24T15:07:47.743Z"
   },
   {
    "duration": 14,
    "start_time": "2025-02-24T15:07:48.094Z"
   },
   {
    "duration": 737,
    "start_time": "2025-02-24T15:07:50.396Z"
   },
   {
    "duration": 4,
    "start_time": "2025-02-24T15:07:56.936Z"
   },
   {
    "duration": 3,
    "start_time": "2025-02-24T15:07:57.805Z"
   },
   {
    "duration": 11,
    "start_time": "2025-02-24T15:07:57.810Z"
   },
   {
    "duration": 29,
    "start_time": "2025-02-24T15:07:58.094Z"
   },
   {
    "duration": 14,
    "start_time": "2025-02-24T15:08:01.634Z"
   },
   {
    "duration": 11,
    "start_time": "2025-02-24T15:08:09.142Z"
   },
   {
    "duration": 8,
    "start_time": "2025-02-24T15:11:34.075Z"
   },
   {
    "duration": 7,
    "start_time": "2025-02-24T15:11:47.661Z"
   },
   {
    "duration": 7,
    "start_time": "2025-02-24T15:12:47.875Z"
   },
   {
    "duration": 10,
    "start_time": "2025-02-24T15:12:48.575Z"
   },
   {
    "duration": 9,
    "start_time": "2025-02-24T15:12:49.212Z"
   },
   {
    "duration": 8,
    "start_time": "2025-02-24T15:12:51.495Z"
   },
   {
    "duration": 4,
    "start_time": "2025-02-24T15:12:51.975Z"
   },
   {
    "duration": 12,
    "start_time": "2025-02-24T15:12:52.283Z"
   },
   {
    "duration": 12,
    "start_time": "2025-02-24T15:12:52.517Z"
   },
   {
    "duration": 9,
    "start_time": "2025-02-24T15:12:52.714Z"
   },
   {
    "duration": 3,
    "start_time": "2025-02-24T15:12:52.892Z"
   },
   {
    "duration": 15,
    "start_time": "2025-02-24T15:12:53.127Z"
   },
   {
    "duration": 9,
    "start_time": "2025-02-24T15:12:53.356Z"
   },
   {
    "duration": 23,
    "start_time": "2025-02-24T15:12:53.523Z"
   },
   {
    "duration": 13,
    "start_time": "2025-02-24T15:12:54.395Z"
   },
   {
    "duration": 338,
    "start_time": "2025-02-24T15:13:02.416Z"
   },
   {
    "duration": 421,
    "start_time": "2025-02-24T15:14:19.421Z"
   },
   {
    "duration": 335,
    "start_time": "2025-02-24T15:14:33.376Z"
   },
   {
    "duration": 356,
    "start_time": "2025-02-24T15:14:52.915Z"
   },
   {
    "duration": 47,
    "start_time": "2025-02-25T06:39:23.178Z"
   },
   {
    "duration": 1477,
    "start_time": "2025-02-25T06:39:37.593Z"
   },
   {
    "duration": 52,
    "start_time": "2025-02-25T06:39:39.072Z"
   },
   {
    "duration": 21,
    "start_time": "2025-02-25T06:39:39.126Z"
   },
   {
    "duration": 23,
    "start_time": "2025-02-25T06:39:39.148Z"
   },
   {
    "duration": 732,
    "start_time": "2025-02-25T06:39:39.174Z"
   },
   {
    "duration": 4,
    "start_time": "2025-02-25T06:39:39.907Z"
   },
   {
    "duration": 10,
    "start_time": "2025-02-25T06:39:39.913Z"
   },
   {
    "duration": 10,
    "start_time": "2025-02-25T06:39:39.925Z"
   },
   {
    "duration": 38,
    "start_time": "2025-02-25T06:39:39.937Z"
   },
   {
    "duration": 16,
    "start_time": "2025-02-25T06:39:39.976Z"
   },
   {
    "duration": 9,
    "start_time": "2025-02-25T06:39:39.994Z"
   },
   {
    "duration": 33,
    "start_time": "2025-02-25T06:39:40.004Z"
   },
   {
    "duration": 38,
    "start_time": "2025-02-25T06:39:40.038Z"
   },
   {
    "duration": 23,
    "start_time": "2025-02-25T06:39:40.079Z"
   },
   {
    "duration": 28,
    "start_time": "2025-02-25T06:39:40.104Z"
   },
   {
    "duration": 5,
    "start_time": "2025-02-25T06:39:40.133Z"
   },
   {
    "duration": 24,
    "start_time": "2025-02-25T06:39:40.139Z"
   },
   {
    "duration": 13,
    "start_time": "2025-02-25T06:39:40.165Z"
   },
   {
    "duration": 28,
    "start_time": "2025-02-25T06:39:40.180Z"
   },
   {
    "duration": 6,
    "start_time": "2025-02-25T06:39:40.210Z"
   },
   {
    "duration": 31,
    "start_time": "2025-02-25T06:39:40.217Z"
   },
   {
    "duration": 8,
    "start_time": "2025-02-25T06:39:40.250Z"
   },
   {
    "duration": 24,
    "start_time": "2025-02-25T06:39:40.260Z"
   },
   {
    "duration": 31,
    "start_time": "2025-02-25T06:39:40.286Z"
   },
   {
    "duration": 343,
    "start_time": "2025-02-25T06:39:40.318Z"
   },
   {
    "duration": 20,
    "start_time": "2025-02-25T06:39:40.663Z"
   },
   {
    "duration": 101,
    "start_time": "2025-02-25T06:41:14.550Z"
   },
   {
    "duration": 30,
    "start_time": "2025-02-25T06:46:15.964Z"
   },
   {
    "duration": 11,
    "start_time": "2025-02-25T06:46:36.142Z"
   },
   {
    "duration": 11,
    "start_time": "2025-02-25T06:46:39.571Z"
   },
   {
    "duration": 11,
    "start_time": "2025-02-25T06:48:05.130Z"
   },
   {
    "duration": 11,
    "start_time": "2025-02-25T06:48:06.630Z"
   },
   {
    "duration": 313,
    "start_time": "2025-02-25T07:00:59.898Z"
   },
   {
    "duration": 11,
    "start_time": "2025-02-25T07:07:18.726Z"
   },
   {
    "duration": 15,
    "start_time": "2025-02-25T07:07:25.518Z"
   },
   {
    "duration": 907,
    "start_time": "2025-02-25T07:08:03.958Z"
   },
   {
    "duration": 10,
    "start_time": "2025-02-25T07:08:53.011Z"
   },
   {
    "duration": 11,
    "start_time": "2025-02-25T07:08:55.705Z"
   },
   {
    "duration": 1137,
    "start_time": "2025-02-25T07:08:58.046Z"
   },
   {
    "duration": 1666,
    "start_time": "2025-02-25T07:09:02.432Z"
   },
   {
    "duration": 2761,
    "start_time": "2025-02-25T07:09:25.578Z"
   },
   {
    "duration": 2528,
    "start_time": "2025-02-25T07:12:34.898Z"
   },
   {
    "duration": 1185,
    "start_time": "2025-02-25T07:12:40.378Z"
   },
   {
    "duration": 4,
    "start_time": "2025-02-25T07:14:48.922Z"
   },
   {
    "duration": 9,
    "start_time": "2025-02-25T07:32:56.927Z"
   },
   {
    "duration": 11,
    "start_time": "2025-02-25T07:33:12.695Z"
   },
   {
    "duration": 1431,
    "start_time": "2025-02-25T07:33:32.663Z"
   },
   {
    "duration": 1477,
    "start_time": "2025-02-25T07:33:54.806Z"
   },
   {
    "duration": 14,
    "start_time": "2025-02-25T07:34:29.439Z"
   },
   {
    "duration": 9,
    "start_time": "2025-02-25T07:34:32.095Z"
   },
   {
    "duration": 1421,
    "start_time": "2025-02-25T15:02:54.611Z"
   },
   {
    "duration": 54,
    "start_time": "2025-02-25T15:02:56.034Z"
   },
   {
    "duration": 25,
    "start_time": "2025-02-25T15:02:56.090Z"
   },
   {
    "duration": 18,
    "start_time": "2025-02-25T15:02:56.117Z"
   },
   {
    "duration": 750,
    "start_time": "2025-02-25T15:02:56.137Z"
   },
   {
    "duration": 4,
    "start_time": "2025-02-25T15:02:56.888Z"
   },
   {
    "duration": 16,
    "start_time": "2025-02-25T15:02:56.893Z"
   },
   {
    "duration": 3,
    "start_time": "2025-02-25T15:02:56.911Z"
   },
   {
    "duration": 27,
    "start_time": "2025-02-25T15:02:56.916Z"
   },
   {
    "duration": 13,
    "start_time": "2025-02-25T15:02:56.944Z"
   },
   {
    "duration": 8,
    "start_time": "2025-02-25T15:02:56.959Z"
   },
   {
    "duration": 8,
    "start_time": "2025-02-25T15:02:56.969Z"
   },
   {
    "duration": 33,
    "start_time": "2025-02-25T15:02:56.979Z"
   },
   {
    "duration": 8,
    "start_time": "2025-02-25T15:02:57.015Z"
   },
   {
    "duration": 8,
    "start_time": "2025-02-25T15:02:57.024Z"
   },
   {
    "duration": 4,
    "start_time": "2025-02-25T15:02:57.033Z"
   },
   {
    "duration": 46,
    "start_time": "2025-02-25T15:02:57.038Z"
   },
   {
    "duration": 39,
    "start_time": "2025-02-25T15:02:57.085Z"
   },
   {
    "duration": 12,
    "start_time": "2025-02-25T15:02:57.125Z"
   },
   {
    "duration": 7,
    "start_time": "2025-02-25T15:02:57.138Z"
   },
   {
    "duration": 29,
    "start_time": "2025-02-25T15:02:57.146Z"
   },
   {
    "duration": 7,
    "start_time": "2025-02-25T15:02:57.177Z"
   },
   {
    "duration": 22,
    "start_time": "2025-02-25T15:02:57.185Z"
   },
   {
    "duration": 13,
    "start_time": "2025-02-25T15:02:57.208Z"
   },
   {
    "duration": 369,
    "start_time": "2025-02-25T15:02:57.223Z"
   },
   {
    "duration": 19,
    "start_time": "2025-02-25T15:02:57.593Z"
   },
   {
    "duration": 9,
    "start_time": "2025-02-25T15:02:57.613Z"
   },
   {
    "duration": 8,
    "start_time": "2025-02-25T15:02:57.623Z"
   },
   {
    "duration": 4,
    "start_time": "2025-02-25T15:02:57.632Z"
   },
   {
    "duration": 1101,
    "start_time": "2025-02-25T15:14:12.388Z"
   },
   {
    "duration": 475,
    "start_time": "2025-02-25T15:16:32.068Z"
   },
   {
    "duration": 712,
    "start_time": "2025-02-25T15:17:05.272Z"
   },
   {
    "duration": 266,
    "start_time": "2025-02-25T15:17:11.070Z"
   },
   {
    "duration": 231,
    "start_time": "2025-02-25T15:17:15.169Z"
   },
   {
    "duration": 249,
    "start_time": "2025-02-25T15:23:00.001Z"
   },
   {
    "duration": 772,
    "start_time": "2025-02-25T15:24:09.260Z"
   },
   {
    "duration": 216,
    "start_time": "2025-02-25T15:24:30.289Z"
   },
   {
    "duration": 1398,
    "start_time": "2025-02-26T07:02:51.656Z"
   },
   {
    "duration": 54,
    "start_time": "2025-02-26T07:02:53.058Z"
   },
   {
    "duration": 18,
    "start_time": "2025-02-26T07:02:53.114Z"
   },
   {
    "duration": 13,
    "start_time": "2025-02-26T07:02:53.134Z"
   },
   {
    "duration": 746,
    "start_time": "2025-02-26T07:02:53.149Z"
   },
   {
    "duration": 4,
    "start_time": "2025-02-26T07:02:53.896Z"
   },
   {
    "duration": 5,
    "start_time": "2025-02-26T07:02:53.902Z"
   },
   {
    "duration": 16,
    "start_time": "2025-02-26T07:02:53.908Z"
   },
   {
    "duration": 51,
    "start_time": "2025-02-26T07:02:53.925Z"
   },
   {
    "duration": 14,
    "start_time": "2025-02-26T07:02:53.978Z"
   },
   {
    "duration": 10,
    "start_time": "2025-02-26T07:02:53.994Z"
   },
   {
    "duration": 9,
    "start_time": "2025-02-26T07:02:54.006Z"
   },
   {
    "duration": 20,
    "start_time": "2025-02-26T07:02:54.017Z"
   },
   {
    "duration": 10,
    "start_time": "2025-02-26T07:02:54.057Z"
   },
   {
    "duration": 20,
    "start_time": "2025-02-26T07:02:54.069Z"
   },
   {
    "duration": 5,
    "start_time": "2025-02-26T07:02:54.090Z"
   },
   {
    "duration": 10,
    "start_time": "2025-02-26T07:02:54.096Z"
   },
   {
    "duration": 11,
    "start_time": "2025-02-26T07:02:54.107Z"
   },
   {
    "duration": 8,
    "start_time": "2025-02-26T07:02:54.120Z"
   },
   {
    "duration": 28,
    "start_time": "2025-02-26T07:02:54.130Z"
   },
   {
    "duration": 15,
    "start_time": "2025-02-26T07:02:54.159Z"
   },
   {
    "duration": 10,
    "start_time": "2025-02-26T07:02:54.176Z"
   },
   {
    "duration": 91,
    "start_time": "2025-02-26T07:02:54.187Z"
   },
   {
    "duration": 13,
    "start_time": "2025-02-26T07:02:54.280Z"
   },
   {
    "duration": 377,
    "start_time": "2025-02-26T07:02:54.295Z"
   },
   {
    "duration": 11,
    "start_time": "2025-02-26T07:02:54.674Z"
   },
   {
    "duration": 11,
    "start_time": "2025-02-26T07:02:54.687Z"
   },
   {
    "duration": 20,
    "start_time": "2025-02-26T07:02:54.700Z"
   },
   {
    "duration": 272,
    "start_time": "2025-02-26T07:02:54.722Z"
   },
   {
    "duration": 102,
    "start_time": "2025-02-26T07:16:28.733Z"
   },
   {
    "duration": 29,
    "start_time": "2025-02-26T07:19:38.634Z"
   },
   {
    "duration": 34,
    "start_time": "2025-02-26T07:19:44.482Z"
   },
   {
    "duration": 16,
    "start_time": "2025-02-26T08:06:05.911Z"
   },
   {
    "duration": 18,
    "start_time": "2025-02-26T08:06:13.241Z"
   },
   {
    "duration": 10,
    "start_time": "2025-02-26T08:08:03.903Z"
   },
   {
    "duration": 16,
    "start_time": "2025-02-26T08:08:07.840Z"
   },
   {
    "duration": 17,
    "start_time": "2025-02-26T08:10:21.847Z"
   },
   {
    "duration": 8,
    "start_time": "2025-02-26T08:18:29.915Z"
   },
   {
    "duration": 72,
    "start_time": "2025-02-26T08:18:37.095Z"
   },
   {
    "duration": 7,
    "start_time": "2025-02-26T08:18:41.815Z"
   },
   {
    "duration": 331,
    "start_time": "2025-02-26T08:19:41.695Z"
   },
   {
    "duration": 329,
    "start_time": "2025-02-26T08:21:40.743Z"
   },
   {
    "duration": 8,
    "start_time": "2025-02-26T08:28:32.326Z"
   },
   {
    "duration": 4,
    "start_time": "2025-02-26T08:29:40.154Z"
   },
   {
    "duration": 19,
    "start_time": "2025-02-26T08:30:25.808Z"
   },
   {
    "duration": 4,
    "start_time": "2025-02-26T08:35:21.893Z"
   },
   {
    "duration": 2,
    "start_time": "2025-02-26T08:36:23.013Z"
   },
   {
    "duration": 266,
    "start_time": "2025-02-26T08:40:27.766Z"
   },
   {
    "duration": 157,
    "start_time": "2025-02-26T08:41:38.030Z"
   },
   {
    "duration": 141,
    "start_time": "2025-02-26T08:42:14.726Z"
   },
   {
    "duration": 220,
    "start_time": "2025-02-26T08:42:27.270Z"
   },
   {
    "duration": 205,
    "start_time": "2025-02-26T08:52:54.533Z"
   },
   {
    "duration": 205,
    "start_time": "2025-02-26T08:53:30.372Z"
   },
   {
    "duration": 211,
    "start_time": "2025-02-26T08:53:38.092Z"
   },
   {
    "duration": 235,
    "start_time": "2025-02-26T08:53:45.134Z"
   },
   {
    "duration": 215,
    "start_time": "2025-02-26T08:53:50.952Z"
   },
   {
    "duration": 192,
    "start_time": "2025-02-26T08:54:21.996Z"
   },
   {
    "duration": 204,
    "start_time": "2025-02-26T08:54:27.753Z"
   },
   {
    "duration": 205,
    "start_time": "2025-02-26T08:54:34.053Z"
   },
   {
    "duration": 20,
    "start_time": "2025-02-26T08:55:12.232Z"
   },
   {
    "duration": 18,
    "start_time": "2025-02-26T08:56:03.209Z"
   },
   {
    "duration": 17,
    "start_time": "2025-02-26T08:56:16.248Z"
   },
   {
    "duration": 8,
    "start_time": "2025-02-26T08:56:21.609Z"
   },
   {
    "duration": 5,
    "start_time": "2025-02-26T08:56:44.080Z"
   },
   {
    "duration": 11,
    "start_time": "2025-02-26T08:56:48.147Z"
   },
   {
    "duration": 99,
    "start_time": "2025-02-26T08:57:05.364Z"
   },
   {
    "duration": 10,
    "start_time": "2025-02-26T08:57:08.232Z"
   },
   {
    "duration": 17,
    "start_time": "2025-02-26T08:57:47.125Z"
   },
   {
    "duration": 7,
    "start_time": "2025-02-26T08:57:52.262Z"
   },
   {
    "duration": 3,
    "start_time": "2025-02-26T08:57:59.577Z"
   },
   {
    "duration": 18,
    "start_time": "2025-02-26T09:00:55.217Z"
   },
   {
    "duration": 228,
    "start_time": "2025-02-26T09:02:53.435Z"
   },
   {
    "duration": 213,
    "start_time": "2025-02-26T09:07:08.778Z"
   },
   {
    "duration": 2,
    "start_time": "2025-02-26T09:09:36.833Z"
   },
   {
    "duration": 237,
    "start_time": "2025-02-26T09:09:53.793Z"
   },
   {
    "duration": 2,
    "start_time": "2025-02-26T09:24:45.898Z"
   },
   {
    "duration": 1739,
    "start_time": "2025-02-26T13:36:53.225Z"
   },
   {
    "duration": 49,
    "start_time": "2025-02-26T13:36:54.967Z"
   },
   {
    "duration": 214,
    "start_time": "2025-02-26T13:36:55.018Z"
   },
   {
    "duration": 135,
    "start_time": "2025-02-26T13:36:55.234Z"
   },
   {
    "duration": 983,
    "start_time": "2025-02-26T13:36:55.371Z"
   },
   {
    "duration": 4,
    "start_time": "2025-02-26T13:36:56.356Z"
   },
   {
    "duration": 99,
    "start_time": "2025-02-26T13:36:56.361Z"
   },
   {
    "duration": 8,
    "start_time": "2025-02-26T13:36:56.462Z"
   },
   {
    "duration": 34,
    "start_time": "2025-02-26T13:36:56.471Z"
   },
   {
    "duration": 16,
    "start_time": "2025-02-26T13:36:56.507Z"
   },
   {
    "duration": 18,
    "start_time": "2025-02-26T13:36:56.525Z"
   },
   {
    "duration": 8,
    "start_time": "2025-02-26T13:36:56.545Z"
   },
   {
    "duration": 30,
    "start_time": "2025-02-26T13:36:56.555Z"
   },
   {
    "duration": 18,
    "start_time": "2025-02-26T13:36:56.588Z"
   },
   {
    "duration": 21,
    "start_time": "2025-02-26T13:36:56.608Z"
   },
   {
    "duration": 14,
    "start_time": "2025-02-26T13:36:56.630Z"
   },
   {
    "duration": 43,
    "start_time": "2025-02-26T13:36:56.646Z"
   },
   {
    "duration": 32,
    "start_time": "2025-02-26T13:36:56.692Z"
   },
   {
    "duration": 12,
    "start_time": "2025-02-26T13:36:56.726Z"
   },
   {
    "duration": 21,
    "start_time": "2025-02-26T13:36:56.740Z"
   },
   {
    "duration": 48,
    "start_time": "2025-02-26T13:36:56.764Z"
   },
   {
    "duration": 14,
    "start_time": "2025-02-26T13:36:56.815Z"
   },
   {
    "duration": 34,
    "start_time": "2025-02-26T13:36:56.832Z"
   },
   {
    "duration": 40,
    "start_time": "2025-02-26T13:36:56.868Z"
   },
   {
    "duration": 421,
    "start_time": "2025-02-26T13:36:56.910Z"
   },
   {
    "duration": 12,
    "start_time": "2025-02-26T13:36:57.333Z"
   },
   {
    "duration": 11,
    "start_time": "2025-02-26T13:36:57.347Z"
   },
   {
    "duration": 13,
    "start_time": "2025-02-26T13:36:57.360Z"
   },
   {
    "duration": 308,
    "start_time": "2025-02-26T13:36:57.375Z"
   },
   {
    "duration": 108,
    "start_time": "2025-02-26T13:36:57.685Z"
   },
   {
    "duration": 23,
    "start_time": "2025-02-26T13:36:57.803Z"
   },
   {
    "duration": 91,
    "start_time": "2025-02-26T13:36:57.828Z"
   },
   {
    "duration": 381,
    "start_time": "2025-02-26T13:36:57.921Z"
   },
   {
    "duration": 31,
    "start_time": "2025-02-26T13:36:58.304Z"
   },
   {
    "duration": 94,
    "start_time": "2025-02-26T13:36:58.337Z"
   },
   {
    "duration": 278,
    "start_time": "2025-02-26T13:36:58.433Z"
   },
   {
    "duration": 274,
    "start_time": "2025-02-26T13:36:58.713Z"
   },
   {
    "duration": 4,
    "start_time": "2025-02-26T13:36:58.989Z"
   },
   {
    "duration": 135,
    "start_time": "2025-02-26T13:39:04.599Z"
   },
   {
    "duration": 2,
    "start_time": "2025-02-26T13:39:17.520Z"
   },
   {
    "duration": 31,
    "start_time": "2025-02-26T13:39:23.366Z"
   },
   {
    "duration": 49,
    "start_time": "2025-02-26T13:41:34.119Z"
   },
   {
    "duration": 27,
    "start_time": "2025-02-26T13:41:44.624Z"
   },
   {
    "duration": 159,
    "start_time": "2025-02-26T14:18:44.061Z"
   },
   {
    "duration": 26,
    "start_time": "2025-02-26T14:21:07.722Z"
   },
   {
    "duration": 6,
    "start_time": "2025-02-26T14:26:45.850Z"
   },
   {
    "duration": 6,
    "start_time": "2025-02-26T14:26:57.010Z"
   },
   {
    "duration": 163,
    "start_time": "2025-02-26T14:30:11.849Z"
   },
   {
    "duration": 151,
    "start_time": "2025-02-26T14:30:34.074Z"
   },
   {
    "duration": 128,
    "start_time": "2025-02-26T14:31:22.618Z"
   },
   {
    "duration": 140,
    "start_time": "2025-02-26T14:31:27.530Z"
   },
   {
    "duration": 125,
    "start_time": "2025-02-26T14:31:33.226Z"
   },
   {
    "duration": 154,
    "start_time": "2025-02-26T14:31:36.345Z"
   },
   {
    "duration": 14,
    "start_time": "2025-02-26T14:33:55.994Z"
   },
   {
    "duration": 13,
    "start_time": "2025-02-26T14:34:21.604Z"
   },
   {
    "duration": 44,
    "start_time": "2025-02-26T14:35:50.093Z"
   },
   {
    "duration": 92,
    "start_time": "2025-02-26T14:36:30.275Z"
   },
   {
    "duration": 80,
    "start_time": "2025-02-26T14:36:39.797Z"
   },
   {
    "duration": 179,
    "start_time": "2025-02-26T14:36:43.414Z"
   },
   {
    "duration": 853,
    "start_time": "2025-02-26T14:36:58.171Z"
   },
   {
    "duration": 810,
    "start_time": "2025-02-26T14:37:48.686Z"
   },
   {
    "duration": 146,
    "start_time": "2025-02-26T14:39:54.423Z"
   },
   {
    "duration": 818,
    "start_time": "2025-02-26T14:44:53.987Z"
   },
   {
    "duration": 24,
    "start_time": "2025-02-26T14:46:23.151Z"
   },
   {
    "duration": 34,
    "start_time": "2025-02-26T14:47:30.300Z"
   },
   {
    "duration": 11,
    "start_time": "2025-02-26T14:47:53.939Z"
   },
   {
    "duration": 13,
    "start_time": "2025-02-26T14:48:05.540Z"
   },
   {
    "duration": 84,
    "start_time": "2025-02-26T14:48:27.571Z"
   },
   {
    "duration": 33,
    "start_time": "2025-02-26T14:48:45.389Z"
   },
   {
    "duration": 248,
    "start_time": "2025-02-26T14:52:46.425Z"
   },
   {
    "duration": 156,
    "start_time": "2025-02-26T14:53:05.832Z"
   },
   {
    "duration": 190,
    "start_time": "2025-02-26T14:53:41.772Z"
   },
   {
    "duration": 830,
    "start_time": "2025-02-26T14:54:07.152Z"
   },
   {
    "duration": 844,
    "start_time": "2025-02-26T15:11:54.618Z"
   },
   {
    "duration": 905,
    "start_time": "2025-02-26T15:12:06.673Z"
   },
   {
    "duration": 816,
    "start_time": "2025-02-26T15:12:13.615Z"
   },
   {
    "duration": 13,
    "start_time": "2025-02-26T15:25:13.061Z"
   },
   {
    "duration": 16,
    "start_time": "2025-02-26T15:25:42.261Z"
   },
   {
    "duration": 217,
    "start_time": "2025-02-26T15:25:49.881Z"
   },
   {
    "duration": 273,
    "start_time": "2025-02-26T15:26:13.845Z"
   },
   {
    "duration": 217,
    "start_time": "2025-02-26T15:27:57.049Z"
   },
   {
    "duration": 209,
    "start_time": "2025-02-26T15:32:47.354Z"
   },
   {
    "duration": 108,
    "start_time": "2025-02-26T15:34:37.819Z"
   },
   {
    "duration": 353,
    "start_time": "2025-02-26T15:36:57.339Z"
   },
   {
    "duration": 241,
    "start_time": "2025-02-26T15:37:16.179Z"
   },
   {
    "duration": 233,
    "start_time": "2025-02-26T15:37:24.439Z"
   },
   {
    "duration": 230,
    "start_time": "2025-02-26T15:37:59.858Z"
   },
   {
    "duration": 1522,
    "start_time": "2025-02-27T13:50:19.227Z"
   },
   {
    "duration": 60,
    "start_time": "2025-02-27T13:50:20.751Z"
   },
   {
    "duration": 21,
    "start_time": "2025-02-27T13:50:20.812Z"
   },
   {
    "duration": 16,
    "start_time": "2025-02-27T13:50:20.835Z"
   },
   {
    "duration": 886,
    "start_time": "2025-02-27T13:50:20.853Z"
   },
   {
    "duration": 17,
    "start_time": "2025-02-27T13:50:21.741Z"
   },
   {
    "duration": 7,
    "start_time": "2025-02-27T13:50:21.759Z"
   },
   {
    "duration": 10,
    "start_time": "2025-02-27T13:50:21.767Z"
   },
   {
    "duration": 34,
    "start_time": "2025-02-27T13:50:21.779Z"
   },
   {
    "duration": 13,
    "start_time": "2025-02-27T13:50:21.815Z"
   },
   {
    "duration": 31,
    "start_time": "2025-02-27T13:50:21.830Z"
   },
   {
    "duration": 8,
    "start_time": "2025-02-27T13:50:21.862Z"
   },
   {
    "duration": 11,
    "start_time": "2025-02-27T13:50:21.872Z"
   },
   {
    "duration": 10,
    "start_time": "2025-02-27T13:50:21.886Z"
   },
   {
    "duration": 9,
    "start_time": "2025-02-27T13:50:21.897Z"
   },
   {
    "duration": 4,
    "start_time": "2025-02-27T13:50:21.907Z"
   },
   {
    "duration": 47,
    "start_time": "2025-02-27T13:50:21.913Z"
   },
   {
    "duration": 14,
    "start_time": "2025-02-27T13:50:21.962Z"
   },
   {
    "duration": 8,
    "start_time": "2025-02-27T13:50:21.978Z"
   },
   {
    "duration": 3,
    "start_time": "2025-02-27T13:50:21.988Z"
   },
   {
    "duration": 19,
    "start_time": "2025-02-27T13:50:21.992Z"
   },
   {
    "duration": 9,
    "start_time": "2025-02-27T13:50:22.013Z"
   },
   {
    "duration": 36,
    "start_time": "2025-02-27T13:50:22.023Z"
   },
   {
    "duration": 5,
    "start_time": "2025-02-27T13:50:22.060Z"
   },
   {
    "duration": 24,
    "start_time": "2025-02-27T13:50:22.067Z"
   },
   {
    "duration": 15,
    "start_time": "2025-02-27T13:50:22.092Z"
   },
   {
    "duration": 420,
    "start_time": "2025-02-27T13:50:22.108Z"
   },
   {
    "duration": 11,
    "start_time": "2025-02-27T13:50:22.530Z"
   },
   {
    "duration": 22,
    "start_time": "2025-02-27T13:50:22.543Z"
   },
   {
    "duration": 8,
    "start_time": "2025-02-27T13:50:22.566Z"
   },
   {
    "duration": 274,
    "start_time": "2025-02-27T13:50:22.576Z"
   },
   {
    "duration": 94,
    "start_time": "2025-02-27T13:50:22.852Z"
   },
   {
    "duration": 20,
    "start_time": "2025-02-27T13:50:22.948Z"
   },
   {
    "duration": 98,
    "start_time": "2025-02-27T13:50:22.969Z"
   },
   {
    "duration": 396,
    "start_time": "2025-02-27T13:50:23.068Z"
   },
   {
    "duration": 19,
    "start_time": "2025-02-27T13:50:23.466Z"
   },
   {
    "duration": 49,
    "start_time": "2025-02-27T13:50:23.487Z"
   },
   {
    "duration": 265,
    "start_time": "2025-02-27T13:50:23.538Z"
   },
   {
    "duration": 261,
    "start_time": "2025-02-27T13:50:23.804Z"
   },
   {
    "duration": 781,
    "start_time": "2025-02-27T13:50:24.067Z"
   },
   {
    "duration": 807,
    "start_time": "2025-02-27T13:50:24.852Z"
   },
   {
    "duration": 299,
    "start_time": "2025-02-27T13:50:25.661Z"
   },
   {
    "duration": 228,
    "start_time": "2025-02-27T13:50:25.961Z"
   },
   {
    "duration": 1259,
    "start_time": "2025-02-27T14:48:37.499Z"
   },
   {
    "duration": 58,
    "start_time": "2025-02-27T14:48:38.759Z"
   },
   {
    "duration": 21,
    "start_time": "2025-02-27T14:48:38.819Z"
   },
   {
    "duration": 15,
    "start_time": "2025-02-27T14:48:38.841Z"
   },
   {
    "duration": 787,
    "start_time": "2025-02-27T14:48:38.859Z"
   },
   {
    "duration": 13,
    "start_time": "2025-02-27T14:48:39.647Z"
   },
   {
    "duration": 4,
    "start_time": "2025-02-27T14:48:39.661Z"
   },
   {
    "duration": 5,
    "start_time": "2025-02-27T14:48:39.667Z"
   },
   {
    "duration": 30,
    "start_time": "2025-02-27T14:48:39.673Z"
   },
   {
    "duration": 13,
    "start_time": "2025-02-27T14:48:39.705Z"
   },
   {
    "duration": 39,
    "start_time": "2025-02-27T14:48:39.720Z"
   },
   {
    "duration": 8,
    "start_time": "2025-02-27T14:48:39.761Z"
   },
   {
    "duration": 10,
    "start_time": "2025-02-27T14:48:39.770Z"
   },
   {
    "duration": 9,
    "start_time": "2025-02-27T14:48:39.783Z"
   },
   {
    "duration": 8,
    "start_time": "2025-02-27T14:48:39.794Z"
   },
   {
    "duration": 4,
    "start_time": "2025-02-27T14:48:39.804Z"
   },
   {
    "duration": 8,
    "start_time": "2025-02-27T14:48:39.810Z"
   },
   {
    "duration": 50,
    "start_time": "2025-02-27T14:48:39.819Z"
   },
   {
    "duration": 14,
    "start_time": "2025-02-27T14:48:39.871Z"
   },
   {
    "duration": 10,
    "start_time": "2025-02-27T14:48:39.886Z"
   },
   {
    "duration": 15,
    "start_time": "2025-02-27T14:48:39.898Z"
   },
   {
    "duration": 9,
    "start_time": "2025-02-27T14:48:39.915Z"
   },
   {
    "duration": 7,
    "start_time": "2025-02-27T14:48:39.926Z"
   },
   {
    "duration": 27,
    "start_time": "2025-02-27T14:48:39.935Z"
   },
   {
    "duration": 27,
    "start_time": "2025-02-27T14:48:39.964Z"
   },
   {
    "duration": 13,
    "start_time": "2025-02-27T14:48:39.992Z"
   },
   {
    "duration": 405,
    "start_time": "2025-02-27T14:48:40.007Z"
   },
   {
    "duration": 11,
    "start_time": "2025-02-27T14:48:40.414Z"
   },
   {
    "duration": 10,
    "start_time": "2025-02-27T14:48:40.426Z"
   },
   {
    "duration": 10,
    "start_time": "2025-02-27T14:48:40.457Z"
   },
   {
    "duration": 275,
    "start_time": "2025-02-27T14:48:40.468Z"
   },
   {
    "duration": 103,
    "start_time": "2025-02-27T14:48:40.744Z"
   },
   {
    "duration": 22,
    "start_time": "2025-02-27T14:48:40.848Z"
   },
   {
    "duration": 7,
    "start_time": "2025-02-27T14:48:40.871Z"
   },
   {
    "duration": 333,
    "start_time": "2025-02-27T14:48:40.879Z"
   },
   {
    "duration": 19,
    "start_time": "2025-02-27T14:48:41.213Z"
   },
   {
    "duration": 25,
    "start_time": "2025-02-27T14:48:41.234Z"
   },
   {
    "duration": 253,
    "start_time": "2025-02-27T14:48:41.261Z"
   },
   {
    "duration": 279,
    "start_time": "2025-02-27T14:48:41.516Z"
   },
   {
    "duration": 747,
    "start_time": "2025-02-27T14:48:41.796Z"
   },
   {
    "duration": 742,
    "start_time": "2025-02-27T14:48:42.547Z"
   },
   {
    "duration": 284,
    "start_time": "2025-02-27T14:48:43.291Z"
   },
   {
    "duration": 208,
    "start_time": "2025-02-27T14:48:43.576Z"
   },
   {
    "duration": 280,
    "start_time": "2025-02-27T14:49:26.019Z"
   },
   {
    "duration": 279,
    "start_time": "2025-02-27T14:54:25.228Z"
   },
   {
    "duration": 283,
    "start_time": "2025-02-27T14:57:41.207Z"
   },
   {
    "duration": 298,
    "start_time": "2025-02-27T14:57:47.431Z"
   },
   {
    "duration": 395,
    "start_time": "2025-02-27T14:57:52.688Z"
   },
   {
    "duration": 1551,
    "start_time": "2025-02-28T06:52:05.768Z"
   },
   {
    "duration": 61,
    "start_time": "2025-02-28T06:52:07.321Z"
   },
   {
    "duration": 23,
    "start_time": "2025-02-28T06:52:07.384Z"
   },
   {
    "duration": 33,
    "start_time": "2025-02-28T06:52:07.409Z"
   },
   {
    "duration": 817,
    "start_time": "2025-02-28T06:52:07.444Z"
   },
   {
    "duration": 4,
    "start_time": "2025-02-28T06:52:08.263Z"
   },
   {
    "duration": 42,
    "start_time": "2025-02-28T06:52:08.268Z"
   },
   {
    "duration": 34,
    "start_time": "2025-02-28T06:52:08.312Z"
   },
   {
    "duration": 51,
    "start_time": "2025-02-28T06:52:08.348Z"
   },
   {
    "duration": 16,
    "start_time": "2025-02-28T06:52:08.402Z"
   },
   {
    "duration": 12,
    "start_time": "2025-02-28T06:52:08.419Z"
   },
   {
    "duration": 8,
    "start_time": "2025-02-28T06:52:08.432Z"
   },
   {
    "duration": 29,
    "start_time": "2025-02-28T06:52:08.442Z"
   },
   {
    "duration": 46,
    "start_time": "2025-02-28T06:52:08.472Z"
   },
   {
    "duration": 27,
    "start_time": "2025-02-28T06:52:08.520Z"
   },
   {
    "duration": 21,
    "start_time": "2025-02-28T06:52:08.548Z"
   },
   {
    "duration": 15,
    "start_time": "2025-02-28T06:52:08.571Z"
   },
   {
    "duration": 21,
    "start_time": "2025-02-28T06:52:08.588Z"
   },
   {
    "duration": 58,
    "start_time": "2025-02-28T06:52:08.610Z"
   },
   {
    "duration": 43,
    "start_time": "2025-02-28T06:52:08.669Z"
   },
   {
    "duration": 33,
    "start_time": "2025-02-28T06:52:08.714Z"
   },
   {
    "duration": 9,
    "start_time": "2025-02-28T06:52:08.749Z"
   },
   {
    "duration": 18,
    "start_time": "2025-02-28T06:52:08.759Z"
   },
   {
    "duration": 21,
    "start_time": "2025-02-28T06:52:08.778Z"
   },
   {
    "duration": 52,
    "start_time": "2025-02-28T06:52:08.801Z"
   },
   {
    "duration": 18,
    "start_time": "2025-02-28T06:52:08.855Z"
   },
   {
    "duration": 401,
    "start_time": "2025-02-28T06:52:08.875Z"
   },
   {
    "duration": 11,
    "start_time": "2025-02-28T06:52:09.280Z"
   },
   {
    "duration": 25,
    "start_time": "2025-02-28T06:52:09.293Z"
   },
   {
    "duration": 20,
    "start_time": "2025-02-28T06:52:09.320Z"
   },
   {
    "duration": 264,
    "start_time": "2025-02-28T06:52:09.342Z"
   },
   {
    "duration": 108,
    "start_time": "2025-02-28T06:52:09.608Z"
   },
   {
    "duration": 40,
    "start_time": "2025-02-28T06:52:09.717Z"
   },
   {
    "duration": 10,
    "start_time": "2025-02-28T06:52:09.759Z"
   },
   {
    "duration": 352,
    "start_time": "2025-02-28T06:52:09.771Z"
   },
   {
    "duration": 20,
    "start_time": "2025-02-28T06:52:10.125Z"
   },
   {
    "duration": 17,
    "start_time": "2025-02-28T06:52:10.147Z"
   },
   {
    "duration": 295,
    "start_time": "2025-02-28T06:52:10.166Z"
   },
   {
    "duration": 258,
    "start_time": "2025-02-28T06:52:10.463Z"
   },
   {
    "duration": 805,
    "start_time": "2025-02-28T06:52:10.723Z"
   },
   {
    "duration": 855,
    "start_time": "2025-02-28T06:52:11.530Z"
   },
   {
    "duration": 331,
    "start_time": "2025-02-28T06:52:12.387Z"
   },
   {
    "duration": 234,
    "start_time": "2025-02-28T06:52:12.720Z"
   },
   {
    "duration": 307,
    "start_time": "2025-02-28T06:52:12.956Z"
   },
   {
    "duration": 358,
    "start_time": "2025-02-28T06:52:13.265Z"
   },
   {
    "duration": 4,
    "start_time": "2025-02-28T06:58:07.464Z"
   },
   {
    "duration": 448,
    "start_time": "2025-02-28T07:26:43.772Z"
   },
   {
    "duration": 415,
    "start_time": "2025-02-28T07:27:01.524Z"
   },
   {
    "duration": 544,
    "start_time": "2025-02-28T07:27:07.476Z"
   },
   {
    "duration": 626,
    "start_time": "2025-02-28T07:27:10.135Z"
   },
   {
    "duration": 418,
    "start_time": "2025-02-28T07:27:16.078Z"
   },
   {
    "duration": 399,
    "start_time": "2025-02-28T07:27:18.850Z"
   },
   {
    "duration": 414,
    "start_time": "2025-02-28T07:27:25.087Z"
   },
   {
    "duration": 514,
    "start_time": "2025-02-28T07:27:30.008Z"
   },
   {
    "duration": 443,
    "start_time": "2025-02-28T07:27:34.030Z"
   },
   {
    "duration": 478,
    "start_time": "2025-02-28T07:27:38.715Z"
   },
   {
    "duration": 430,
    "start_time": "2025-02-28T07:27:43.421Z"
   },
   {
    "duration": 1359,
    "start_time": "2025-02-28T07:51:57.032Z"
   },
   {
    "duration": 53,
    "start_time": "2025-02-28T07:51:58.393Z"
   },
   {
    "duration": 30,
    "start_time": "2025-02-28T07:51:58.448Z"
   },
   {
    "duration": 31,
    "start_time": "2025-02-28T07:51:58.481Z"
   },
   {
    "duration": 802,
    "start_time": "2025-02-28T07:51:58.513Z"
   },
   {
    "duration": 5,
    "start_time": "2025-02-28T07:51:59.316Z"
   },
   {
    "duration": 22,
    "start_time": "2025-02-28T07:51:59.322Z"
   },
   {
    "duration": 7,
    "start_time": "2025-02-28T07:51:59.346Z"
   },
   {
    "duration": 33,
    "start_time": "2025-02-28T07:51:59.354Z"
   },
   {
    "duration": 14,
    "start_time": "2025-02-28T07:51:59.390Z"
   },
   {
    "duration": 10,
    "start_time": "2025-02-28T07:51:59.405Z"
   },
   {
    "duration": 8,
    "start_time": "2025-02-28T07:51:59.416Z"
   },
   {
    "duration": 38,
    "start_time": "2025-02-28T07:51:59.426Z"
   },
   {
    "duration": 10,
    "start_time": "2025-02-28T07:51:59.466Z"
   },
   {
    "duration": 9,
    "start_time": "2025-02-28T07:51:59.477Z"
   },
   {
    "duration": 5,
    "start_time": "2025-02-28T07:51:59.488Z"
   },
   {
    "duration": 22,
    "start_time": "2025-02-28T07:51:59.494Z"
   },
   {
    "duration": 13,
    "start_time": "2025-02-28T07:51:59.518Z"
   },
   {
    "duration": 33,
    "start_time": "2025-02-28T07:51:59.533Z"
   },
   {
    "duration": 7,
    "start_time": "2025-02-28T07:51:59.567Z"
   },
   {
    "duration": 20,
    "start_time": "2025-02-28T07:51:59.576Z"
   },
   {
    "duration": 8,
    "start_time": "2025-02-28T07:51:59.598Z"
   },
   {
    "duration": 5,
    "start_time": "2025-02-28T07:51:59.608Z"
   },
   {
    "duration": 5,
    "start_time": "2025-02-28T07:51:59.615Z"
   },
   {
    "duration": 53,
    "start_time": "2025-02-28T07:51:59.621Z"
   },
   {
    "duration": 14,
    "start_time": "2025-02-28T07:51:59.676Z"
   },
   {
    "duration": 413,
    "start_time": "2025-02-28T07:51:59.691Z"
   },
   {
    "duration": 12,
    "start_time": "2025-02-28T07:52:00.108Z"
   },
   {
    "duration": 75,
    "start_time": "2025-02-28T07:52:00.122Z"
   },
   {
    "duration": 64,
    "start_time": "2025-02-28T07:52:00.198Z"
   },
   {
    "duration": 326,
    "start_time": "2025-02-28T07:52:00.264Z"
   },
   {
    "duration": 101,
    "start_time": "2025-02-28T07:52:00.592Z"
   },
   {
    "duration": 38,
    "start_time": "2025-02-28T07:52:00.695Z"
   },
   {
    "duration": 19,
    "start_time": "2025-02-28T07:52:00.735Z"
   },
   {
    "duration": 355,
    "start_time": "2025-02-28T07:52:00.755Z"
   },
   {
    "duration": 19,
    "start_time": "2025-02-28T07:52:01.112Z"
   },
   {
    "duration": 28,
    "start_time": "2025-02-28T07:52:01.133Z"
   },
   {
    "duration": 265,
    "start_time": "2025-02-28T07:52:01.163Z"
   },
   {
    "duration": 275,
    "start_time": "2025-02-28T07:52:01.430Z"
   },
   {
    "duration": 813,
    "start_time": "2025-02-28T07:52:01.707Z"
   },
   {
    "duration": 785,
    "start_time": "2025-02-28T07:52:02.522Z"
   },
   {
    "duration": 326,
    "start_time": "2025-02-28T07:52:03.309Z"
   },
   {
    "duration": 227,
    "start_time": "2025-02-28T07:52:03.637Z"
   },
   {
    "duration": 331,
    "start_time": "2025-02-28T07:52:03.866Z"
   },
   {
    "duration": 334,
    "start_time": "2025-02-28T07:52:04.199Z"
   },
   {
    "duration": 449,
    "start_time": "2025-02-28T07:52:04.534Z"
   },
   {
    "duration": 433,
    "start_time": "2025-02-28T07:52:54.166Z"
   },
   {
    "duration": 468,
    "start_time": "2025-02-28T08:12:20.961Z"
   },
   {
    "duration": 365,
    "start_time": "2025-02-28T08:50:54.719Z"
   },
   {
    "duration": 5,
    "start_time": "2025-02-28T08:56:56.238Z"
   },
   {
    "duration": 58,
    "start_time": "2025-02-28T09:17:00.087Z"
   },
   {
    "duration": 115,
    "start_time": "2025-02-28T09:17:08.333Z"
   },
   {
    "duration": 7,
    "start_time": "2025-02-28T09:17:14.981Z"
   },
   {
    "duration": 13,
    "start_time": "2025-02-28T09:20:03.949Z"
   },
   {
    "duration": 11,
    "start_time": "2025-02-28T09:20:10.021Z"
   },
   {
    "duration": 5,
    "start_time": "2025-02-28T09:20:21.878Z"
   },
   {
    "duration": 61,
    "start_time": "2025-02-28T14:09:46.127Z"
   },
   {
    "duration": 1716,
    "start_time": "2025-02-28T14:10:02.587Z"
   },
   {
    "duration": 67,
    "start_time": "2025-02-28T14:10:04.305Z"
   },
   {
    "duration": 23,
    "start_time": "2025-02-28T14:10:04.374Z"
   },
   {
    "duration": 18,
    "start_time": "2025-02-28T14:10:04.399Z"
   },
   {
    "duration": 916,
    "start_time": "2025-02-28T14:10:04.419Z"
   },
   {
    "duration": 5,
    "start_time": "2025-02-28T14:10:05.337Z"
   },
   {
    "duration": 26,
    "start_time": "2025-02-28T14:10:05.344Z"
   },
   {
    "duration": 11,
    "start_time": "2025-02-28T14:10:05.373Z"
   },
   {
    "duration": 41,
    "start_time": "2025-02-28T14:10:05.386Z"
   },
   {
    "duration": 18,
    "start_time": "2025-02-28T14:10:05.430Z"
   },
   {
    "duration": 33,
    "start_time": "2025-02-28T14:10:05.450Z"
   },
   {
    "duration": 30,
    "start_time": "2025-02-28T14:10:05.485Z"
   },
   {
    "duration": 12,
    "start_time": "2025-02-28T14:10:05.518Z"
   },
   {
    "duration": 13,
    "start_time": "2025-02-28T14:10:05.532Z"
   },
   {
    "duration": 15,
    "start_time": "2025-02-28T14:10:05.547Z"
   },
   {
    "duration": 25,
    "start_time": "2025-02-28T14:10:05.564Z"
   },
   {
    "duration": 12,
    "start_time": "2025-02-28T14:10:05.591Z"
   },
   {
    "duration": 15,
    "start_time": "2025-02-28T14:10:05.605Z"
   },
   {
    "duration": 11,
    "start_time": "2025-02-28T14:10:05.622Z"
   },
   {
    "duration": 4,
    "start_time": "2025-02-28T14:10:05.635Z"
   },
   {
    "duration": 48,
    "start_time": "2025-02-28T14:10:05.641Z"
   },
   {
    "duration": 10,
    "start_time": "2025-02-28T14:10:05.690Z"
   },
   {
    "duration": 10,
    "start_time": "2025-02-28T14:10:05.702Z"
   },
   {
    "duration": 9,
    "start_time": "2025-02-28T14:10:05.714Z"
   },
   {
    "duration": 77,
    "start_time": "2025-02-28T14:10:05.724Z"
   },
   {
    "duration": 16,
    "start_time": "2025-02-28T14:10:05.803Z"
   },
   {
    "duration": 451,
    "start_time": "2025-02-28T14:10:05.821Z"
   },
   {
    "duration": 13,
    "start_time": "2025-02-28T14:10:06.284Z"
   },
   {
    "duration": 14,
    "start_time": "2025-02-28T14:10:06.300Z"
   },
   {
    "duration": 15,
    "start_time": "2025-02-28T14:10:06.316Z"
   },
   {
    "duration": 328,
    "start_time": "2025-02-28T14:10:06.333Z"
   },
   {
    "duration": 131,
    "start_time": "2025-02-28T14:10:06.664Z"
   },
   {
    "duration": 19,
    "start_time": "2025-02-28T14:10:06.797Z"
   },
   {
    "duration": 12,
    "start_time": "2025-02-28T14:10:06.818Z"
   },
   {
    "duration": 444,
    "start_time": "2025-02-28T14:10:06.832Z"
   },
   {
    "duration": 23,
    "start_time": "2025-02-28T14:10:07.278Z"
   },
   {
    "duration": 5,
    "start_time": "2025-02-28T14:10:07.303Z"
   },
   {
    "duration": 317,
    "start_time": "2025-02-28T14:10:07.309Z"
   },
   {
    "duration": 290,
    "start_time": "2025-02-28T14:10:07.627Z"
   },
   {
    "duration": 892,
    "start_time": "2025-02-28T14:10:07.919Z"
   },
   {
    "duration": 911,
    "start_time": "2025-02-28T14:10:08.814Z"
   },
   {
    "duration": 361,
    "start_time": "2025-02-28T14:10:09.726Z"
   },
   {
    "duration": 236,
    "start_time": "2025-02-28T14:10:10.090Z"
   },
   {
    "duration": 337,
    "start_time": "2025-02-28T14:10:10.328Z"
   },
   {
    "duration": 370,
    "start_time": "2025-02-28T14:10:10.673Z"
   },
   {
    "duration": 518,
    "start_time": "2025-02-28T14:10:11.045Z"
   },
   {
    "duration": 468,
    "start_time": "2025-02-28T14:10:11.566Z"
   },
   {
    "duration": 5,
    "start_time": "2025-02-28T14:10:12.036Z"
   },
   {
    "duration": 529,
    "start_time": "2025-02-28T14:10:12.043Z"
   },
   {
    "duration": 9,
    "start_time": "2025-02-28T14:10:12.574Z"
   },
   {
    "duration": 10,
    "start_time": "2025-02-28T14:10:12.585Z"
   },
   {
    "duration": 7,
    "start_time": "2025-02-28T14:10:12.597Z"
   },
   {
    "duration": 7,
    "start_time": "2025-02-28T14:10:29.450Z"
   },
   {
    "duration": 58,
    "start_time": "2025-02-28T14:12:23.311Z"
   },
   {
    "duration": 111,
    "start_time": "2025-02-28T14:16:41.273Z"
   },
   {
    "duration": 8,
    "start_time": "2025-02-28T14:16:51.473Z"
   },
   {
    "duration": 1702,
    "start_time": "2025-03-03T06:53:41.668Z"
   },
   {
    "duration": 54,
    "start_time": "2025-03-03T06:53:43.372Z"
   },
   {
    "duration": 19,
    "start_time": "2025-03-03T06:53:43.428Z"
   },
   {
    "duration": 14,
    "start_time": "2025-03-03T06:53:43.448Z"
   },
   {
    "duration": 775,
    "start_time": "2025-03-03T06:53:43.464Z"
   },
   {
    "duration": 5,
    "start_time": "2025-03-03T06:53:44.240Z"
   },
   {
    "duration": 9,
    "start_time": "2025-03-03T06:53:44.247Z"
   },
   {
    "duration": 5,
    "start_time": "2025-03-03T06:53:44.257Z"
   },
   {
    "duration": 53,
    "start_time": "2025-03-03T06:53:44.263Z"
   },
   {
    "duration": 14,
    "start_time": "2025-03-03T06:53:44.318Z"
   },
   {
    "duration": 9,
    "start_time": "2025-03-03T06:53:44.334Z"
   },
   {
    "duration": 8,
    "start_time": "2025-03-03T06:53:44.345Z"
   },
   {
    "duration": 10,
    "start_time": "2025-03-03T06:53:44.354Z"
   },
   {
    "duration": 10,
    "start_time": "2025-03-03T06:53:44.367Z"
   },
   {
    "duration": 9,
    "start_time": "2025-03-03T06:53:44.414Z"
   },
   {
    "duration": 4,
    "start_time": "2025-03-03T06:53:44.424Z"
   },
   {
    "duration": 16,
    "start_time": "2025-03-03T06:53:44.430Z"
   },
   {
    "duration": 12,
    "start_time": "2025-03-03T06:53:44.448Z"
   },
   {
    "duration": 11,
    "start_time": "2025-03-03T06:53:44.461Z"
   },
   {
    "duration": 3,
    "start_time": "2025-03-03T06:53:44.473Z"
   },
   {
    "duration": 44,
    "start_time": "2025-03-03T06:53:44.477Z"
   },
   {
    "duration": 8,
    "start_time": "2025-03-03T06:53:44.523Z"
   },
   {
    "duration": 40,
    "start_time": "2025-03-03T06:53:44.533Z"
   },
   {
    "duration": 5,
    "start_time": "2025-03-03T06:53:44.575Z"
   },
   {
    "duration": 26,
    "start_time": "2025-03-03T06:53:44.582Z"
   },
   {
    "duration": 16,
    "start_time": "2025-03-03T06:53:44.610Z"
   },
   {
    "duration": 399,
    "start_time": "2025-03-03T06:53:44.627Z"
   },
   {
    "duration": 13,
    "start_time": "2025-03-03T06:53:45.028Z"
   },
   {
    "duration": 72,
    "start_time": "2025-03-03T06:53:45.043Z"
   },
   {
    "duration": 36,
    "start_time": "2025-03-03T06:53:45.118Z"
   },
   {
    "duration": 442,
    "start_time": "2025-03-03T06:53:45.156Z"
   },
   {
    "duration": 21,
    "start_time": "2025-03-03T06:53:45.600Z"
   },
   {
    "duration": 17,
    "start_time": "2025-03-03T06:53:45.622Z"
   },
   {
    "duration": 8,
    "start_time": "2025-03-03T06:53:45.640Z"
   },
   {
    "duration": 345,
    "start_time": "2025-03-03T06:53:45.649Z"
   },
   {
    "duration": 27,
    "start_time": "2025-03-03T06:53:45.996Z"
   },
   {
    "duration": 2,
    "start_time": "2025-03-03T06:53:46.025Z"
   },
   {
    "duration": 303,
    "start_time": "2025-03-03T06:53:46.029Z"
   },
   {
    "duration": 282,
    "start_time": "2025-03-03T06:53:46.334Z"
   },
   {
    "duration": 769,
    "start_time": "2025-03-03T06:53:46.618Z"
   },
   {
    "duration": 843,
    "start_time": "2025-03-03T06:53:47.392Z"
   },
   {
    "duration": 220,
    "start_time": "2025-03-03T06:53:48.237Z"
   },
   {
    "duration": 210,
    "start_time": "2025-03-03T06:53:48.459Z"
   },
   {
    "duration": 302,
    "start_time": "2025-03-03T06:53:48.671Z"
   },
   {
    "duration": 314,
    "start_time": "2025-03-03T06:53:48.975Z"
   },
   {
    "duration": 413,
    "start_time": "2025-03-03T06:53:49.291Z"
   },
   {
    "duration": 411,
    "start_time": "2025-03-03T06:53:49.705Z"
   },
   {
    "duration": 5,
    "start_time": "2025-03-03T06:53:50.117Z"
   },
   {
    "duration": 457,
    "start_time": "2025-03-03T06:53:50.123Z"
   },
   {
    "duration": 8,
    "start_time": "2025-03-03T06:53:50.581Z"
   },
   {
    "duration": 29,
    "start_time": "2025-03-03T06:53:50.590Z"
   },
   {
    "duration": 1486,
    "start_time": "2025-03-03T11:43:48.254Z"
   },
   {
    "duration": 167,
    "start_time": "2025-03-03T11:43:49.742Z"
   },
   {
    "duration": 20,
    "start_time": "2025-03-03T11:43:49.911Z"
   },
   {
    "duration": 34,
    "start_time": "2025-03-03T11:43:49.933Z"
   },
   {
    "duration": 792,
    "start_time": "2025-03-03T11:43:49.969Z"
   },
   {
    "duration": 5,
    "start_time": "2025-03-03T11:43:50.763Z"
   },
   {
    "duration": 23,
    "start_time": "2025-03-03T11:43:50.770Z"
   },
   {
    "duration": 17,
    "start_time": "2025-03-03T11:43:50.795Z"
   },
   {
    "duration": 55,
    "start_time": "2025-03-03T11:43:50.814Z"
   },
   {
    "duration": 18,
    "start_time": "2025-03-03T11:43:50.871Z"
   },
   {
    "duration": 32,
    "start_time": "2025-03-03T11:43:50.891Z"
   },
   {
    "duration": 23,
    "start_time": "2025-03-03T11:43:50.925Z"
   },
   {
    "duration": 20,
    "start_time": "2025-03-03T11:43:50.951Z"
   },
   {
    "duration": 57,
    "start_time": "2025-03-03T11:43:50.975Z"
   },
   {
    "duration": 61,
    "start_time": "2025-03-03T11:43:51.034Z"
   },
   {
    "duration": 12,
    "start_time": "2025-03-03T11:43:51.097Z"
   },
   {
    "duration": 19,
    "start_time": "2025-03-03T11:43:51.110Z"
   },
   {
    "duration": 35,
    "start_time": "2025-03-03T11:43:51.131Z"
   },
   {
    "duration": 34,
    "start_time": "2025-03-03T11:43:51.167Z"
   },
   {
    "duration": 20,
    "start_time": "2025-03-03T11:43:51.204Z"
   },
   {
    "duration": 112,
    "start_time": "2025-03-03T11:43:51.226Z"
   },
   {
    "duration": 29,
    "start_time": "2025-03-03T11:43:51.340Z"
   },
   {
    "duration": 7,
    "start_time": "2025-03-03T11:43:51.407Z"
   },
   {
    "duration": 38,
    "start_time": "2025-03-03T11:43:51.417Z"
   },
   {
    "duration": 71,
    "start_time": "2025-03-03T11:43:51.457Z"
   },
   {
    "duration": 82,
    "start_time": "2025-03-03T11:43:51.530Z"
   },
   {
    "duration": 919,
    "start_time": "2025-03-03T11:43:51.613Z"
   },
   {
    "duration": 12,
    "start_time": "2025-03-03T11:43:52.533Z"
   },
   {
    "duration": 65,
    "start_time": "2025-03-03T11:43:52.546Z"
   },
   {
    "duration": 13,
    "start_time": "2025-03-03T11:43:52.612Z"
   },
   {
    "duration": 352,
    "start_time": "2025-03-03T11:43:52.627Z"
   },
   {
    "duration": 101,
    "start_time": "2025-03-03T11:43:52.981Z"
   },
   {
    "duration": 26,
    "start_time": "2025-03-03T11:43:53.083Z"
   },
   {
    "duration": 8,
    "start_time": "2025-03-03T11:43:53.111Z"
   },
   {
    "duration": 342,
    "start_time": "2025-03-03T11:43:53.121Z"
   },
   {
    "duration": 19,
    "start_time": "2025-03-03T11:43:53.464Z"
   },
   {
    "duration": 67,
    "start_time": "2025-03-03T11:43:53.485Z"
   },
   {
    "duration": 233,
    "start_time": "2025-03-03T11:43:53.554Z"
   },
   {
    "duration": 229,
    "start_time": "2025-03-03T11:43:53.789Z"
   },
   {
    "duration": 750,
    "start_time": "2025-03-03T11:43:54.020Z"
   },
   {
    "duration": 748,
    "start_time": "2025-03-03T11:43:54.774Z"
   },
   {
    "duration": 294,
    "start_time": "2025-03-03T11:43:55.523Z"
   },
   {
    "duration": 205,
    "start_time": "2025-03-03T11:43:55.819Z"
   },
   {
    "duration": 302,
    "start_time": "2025-03-03T11:43:56.026Z"
   },
   {
    "duration": 313,
    "start_time": "2025-03-03T11:43:56.330Z"
   },
   {
    "duration": 416,
    "start_time": "2025-03-03T11:43:56.644Z"
   },
   {
    "duration": 405,
    "start_time": "2025-03-03T11:43:57.062Z"
   },
   {
    "duration": 6,
    "start_time": "2025-03-03T11:43:57.468Z"
   },
   {
    "duration": 520,
    "start_time": "2025-03-03T11:43:57.475Z"
   },
   {
    "duration": 11,
    "start_time": "2025-03-03T11:43:57.997Z"
   },
   {
    "duration": 13,
    "start_time": "2025-03-03T11:43:58.010Z"
   },
   {
    "duration": 45,
    "start_time": "2025-03-03T12:48:40.049Z"
   },
   {
    "duration": 1438,
    "start_time": "2025-03-03T12:48:53.721Z"
   },
   {
    "duration": 43,
    "start_time": "2025-03-03T12:48:55.161Z"
   },
   {
    "duration": 19,
    "start_time": "2025-03-03T12:48:55.206Z"
   },
   {
    "duration": 67,
    "start_time": "2025-03-03T12:48:55.227Z"
   },
   {
    "duration": 716,
    "start_time": "2025-03-03T12:48:55.297Z"
   },
   {
    "duration": 4,
    "start_time": "2025-03-03T12:48:56.015Z"
   },
   {
    "duration": 11,
    "start_time": "2025-03-03T12:48:56.021Z"
   },
   {
    "duration": 15,
    "start_time": "2025-03-03T12:48:56.033Z"
   },
   {
    "duration": 29,
    "start_time": "2025-03-03T12:48:56.049Z"
   },
   {
    "duration": 21,
    "start_time": "2025-03-03T12:48:56.080Z"
   },
   {
    "duration": 39,
    "start_time": "2025-03-03T12:48:56.103Z"
   },
   {
    "duration": 13,
    "start_time": "2025-03-03T12:48:56.143Z"
   },
   {
    "duration": 9,
    "start_time": "2025-03-03T12:48:56.157Z"
   },
   {
    "duration": 9,
    "start_time": "2025-03-03T12:48:56.169Z"
   },
   {
    "duration": 8,
    "start_time": "2025-03-03T12:48:56.179Z"
   },
   {
    "duration": 24,
    "start_time": "2025-03-03T12:48:56.188Z"
   },
   {
    "duration": 9,
    "start_time": "2025-03-03T12:48:56.214Z"
   },
   {
    "duration": 12,
    "start_time": "2025-03-03T12:48:56.230Z"
   },
   {
    "duration": 12,
    "start_time": "2025-03-03T12:48:56.243Z"
   },
   {
    "duration": 9,
    "start_time": "2025-03-03T12:48:56.256Z"
   },
   {
    "duration": 15,
    "start_time": "2025-03-03T12:48:56.266Z"
   },
   {
    "duration": 15,
    "start_time": "2025-03-03T12:48:56.283Z"
   },
   {
    "duration": 12,
    "start_time": "2025-03-03T12:48:56.300Z"
   },
   {
    "duration": 18,
    "start_time": "2025-03-03T12:48:56.313Z"
   },
   {
    "duration": 34,
    "start_time": "2025-03-03T12:48:56.332Z"
   },
   {
    "duration": 3,
    "start_time": "2025-03-03T12:48:56.367Z"
   },
   {
    "duration": 21,
    "start_time": "2025-03-03T12:48:56.371Z"
   },
   {
    "duration": 372,
    "start_time": "2025-03-03T12:48:56.394Z"
   },
   {
    "duration": 17,
    "start_time": "2025-03-03T12:48:56.769Z"
   },
   {
    "duration": 11,
    "start_time": "2025-03-03T12:48:56.788Z"
   },
   {
    "duration": 31,
    "start_time": "2025-03-03T12:48:56.801Z"
   },
   {
    "duration": 240,
    "start_time": "2025-03-03T12:48:56.834Z"
   },
   {
    "duration": 92,
    "start_time": "2025-03-03T12:48:57.077Z"
   },
   {
    "duration": 17,
    "start_time": "2025-03-03T12:48:57.171Z"
   },
   {
    "duration": 95,
    "start_time": "2025-03-03T12:48:57.190Z"
   },
   {
    "duration": 313,
    "start_time": "2025-03-03T12:48:57.287Z"
   },
   {
    "duration": 30,
    "start_time": "2025-03-03T12:48:57.601Z"
   },
   {
    "duration": 9,
    "start_time": "2025-03-03T12:48:57.632Z"
   },
   {
    "duration": 243,
    "start_time": "2025-03-03T12:48:57.643Z"
   },
   {
    "duration": 236,
    "start_time": "2025-03-03T12:48:57.888Z"
   },
   {
    "duration": 727,
    "start_time": "2025-03-03T12:48:58.129Z"
   },
   {
    "duration": 886,
    "start_time": "2025-03-03T12:48:58.857Z"
   },
   {
    "duration": 588,
    "start_time": "2025-03-03T12:48:59.744Z"
   },
   {
    "duration": 399,
    "start_time": "2025-03-03T12:49:00.334Z"
   },
   {
    "duration": 347,
    "start_time": "2025-03-03T12:49:00.734Z"
   },
   {
    "duration": 332,
    "start_time": "2025-03-03T12:49:01.084Z"
   },
   {
    "duration": 428,
    "start_time": "2025-03-03T12:49:01.417Z"
   },
   {
    "duration": 390,
    "start_time": "2025-03-03T12:49:01.847Z"
   },
   {
    "duration": 5,
    "start_time": "2025-03-03T12:49:02.238Z"
   },
   {
    "duration": 447,
    "start_time": "2025-03-03T12:49:02.244Z"
   },
   {
    "duration": 8,
    "start_time": "2025-03-03T12:49:02.692Z"
   },
   {
    "duration": 32,
    "start_time": "2025-03-03T12:49:02.701Z"
   },
   {
    "duration": 100,
    "start_time": "2025-03-03T12:49:15.943Z"
   },
   {
    "duration": 8,
    "start_time": "2025-03-03T12:49:55.735Z"
   },
   {
    "duration": 8,
    "start_time": "2025-03-03T12:49:58.943Z"
   },
   {
    "duration": 7,
    "start_time": "2025-03-03T12:50:02.167Z"
   },
   {
    "duration": 23,
    "start_time": "2025-03-03T12:51:47.577Z"
   },
   {
    "duration": 2,
    "start_time": "2025-03-03T12:55:25.887Z"
   },
   {
    "duration": 39,
    "start_time": "2025-03-03T12:55:27.039Z"
   },
   {
    "duration": 15,
    "start_time": "2025-03-03T12:55:28.207Z"
   },
   {
    "duration": 14,
    "start_time": "2025-03-03T12:55:28.886Z"
   },
   {
    "duration": 712,
    "start_time": "2025-03-03T12:55:29.327Z"
   },
   {
    "duration": 4,
    "start_time": "2025-03-03T12:55:30.040Z"
   },
   {
    "duration": 3,
    "start_time": "2025-03-03T12:55:30.527Z"
   },
   {
    "duration": 4,
    "start_time": "2025-03-03T12:55:33.127Z"
   },
   {
    "duration": 28,
    "start_time": "2025-03-03T12:55:33.807Z"
   },
   {
    "duration": 16,
    "start_time": "2025-03-03T12:55:35.527Z"
   },
   {
    "duration": 10,
    "start_time": "2025-03-03T12:55:35.807Z"
   },
   {
    "duration": 7,
    "start_time": "2025-03-03T12:55:37.608Z"
   },
   {
    "duration": 10,
    "start_time": "2025-03-03T12:55:39.687Z"
   },
   {
    "duration": 10,
    "start_time": "2025-03-03T12:55:41.287Z"
   },
   {
    "duration": 8,
    "start_time": "2025-03-03T12:55:42.159Z"
   },
   {
    "duration": 5,
    "start_time": "2025-03-03T12:55:44.206Z"
   },
   {
    "duration": 8,
    "start_time": "2025-03-03T12:55:44.887Z"
   },
   {
    "duration": 13,
    "start_time": "2025-03-03T12:55:45.407Z"
   },
   {
    "duration": 9,
    "start_time": "2025-03-03T12:55:46.047Z"
   },
   {
    "duration": 3,
    "start_time": "2025-03-03T12:55:48.791Z"
   },
   {
    "duration": 15,
    "start_time": "2025-03-03T12:55:49.806Z"
   },
   {
    "duration": 11,
    "start_time": "2025-03-03T12:55:51.246Z"
   },
   {
    "duration": 5,
    "start_time": "2025-03-03T12:55:51.606Z"
   },
   {
    "duration": 5,
    "start_time": "2025-03-03T12:55:51.895Z"
   },
   {
    "duration": 32,
    "start_time": "2025-03-03T12:55:54.327Z"
   },
   {
    "duration": 8,
    "start_time": "2025-03-03T12:55:56.559Z"
   },
   {
    "duration": 8,
    "start_time": "2025-03-03T12:56:21.783Z"
   },
   {
    "duration": 7,
    "start_time": "2025-03-03T12:56:27.119Z"
   },
   {
    "duration": 20,
    "start_time": "2025-03-03T12:56:33.471Z"
   },
   {
    "duration": 50,
    "start_time": "2025-03-03T12:57:23.383Z"
   },
   {
    "duration": 14,
    "start_time": "2025-03-03T12:58:55.390Z"
   },
   {
    "duration": 381,
    "start_time": "2025-03-03T12:59:04.070Z"
   },
   {
    "duration": 11,
    "start_time": "2025-03-03T12:59:10.550Z"
   },
   {
    "duration": 9,
    "start_time": "2025-03-03T12:59:12.470Z"
   },
   {
    "duration": 8,
    "start_time": "2025-03-03T12:59:15.231Z"
   },
   {
    "duration": 216,
    "start_time": "2025-03-03T12:59:42.151Z"
   },
   {
    "duration": 24,
    "start_time": "2025-03-03T13:02:18.511Z"
   },
   {
    "duration": 11,
    "start_time": "2025-03-03T13:02:48.456Z"
   },
   {
    "duration": 23,
    "start_time": "2025-03-03T13:02:54.327Z"
   },
   {
    "duration": 9,
    "start_time": "2025-03-03T13:11:54.873Z"
   },
   {
    "duration": 9,
    "start_time": "2025-03-03T13:11:58.457Z"
   },
   {
    "duration": 8,
    "start_time": "2025-03-03T13:12:02.826Z"
   },
   {
    "duration": 28,
    "start_time": "2025-03-03T13:12:10.114Z"
   },
   {
    "duration": 27,
    "start_time": "2025-03-03T13:12:17.025Z"
   },
   {
    "duration": 30,
    "start_time": "2025-03-03T13:12:31.145Z"
   },
   {
    "duration": 29,
    "start_time": "2025-03-03T13:12:36.546Z"
   },
   {
    "duration": 16,
    "start_time": "2025-03-03T13:13:53.673Z"
   },
   {
    "duration": 31,
    "start_time": "2025-03-03T13:14:08.486Z"
   },
   {
    "duration": 18,
    "start_time": "2025-03-03T13:16:45.826Z"
   },
   {
    "duration": 16,
    "start_time": "2025-03-03T13:16:48.666Z"
   },
   {
    "duration": 8,
    "start_time": "2025-03-03T13:16:51.197Z"
   },
   {
    "duration": 7,
    "start_time": "2025-03-03T13:16:54.054Z"
   },
   {
    "duration": 293,
    "start_time": "2025-03-03T13:17:08.679Z"
   },
   {
    "duration": 17,
    "start_time": "2025-03-03T13:17:19.146Z"
   },
   {
    "duration": 3,
    "start_time": "2025-03-03T13:17:30.426Z"
   },
   {
    "duration": 216,
    "start_time": "2025-03-03T13:17:31.886Z"
   },
   {
    "duration": 226,
    "start_time": "2025-03-03T13:17:34.328Z"
   },
   {
    "duration": 759,
    "start_time": "2025-03-03T13:17:35.166Z"
   },
   {
    "duration": 667,
    "start_time": "2025-03-03T13:17:35.929Z"
   },
   {
    "duration": 204,
    "start_time": "2025-03-03T13:17:36.598Z"
   },
   {
    "duration": 196,
    "start_time": "2025-03-03T13:17:36.804Z"
   },
   {
    "duration": 334,
    "start_time": "2025-03-03T13:17:37.001Z"
   },
   {
    "duration": 301,
    "start_time": "2025-03-03T13:17:37.337Z"
   },
   {
    "duration": 387,
    "start_time": "2025-03-03T13:17:38.743Z"
   },
   {
    "duration": 352,
    "start_time": "2025-03-03T13:17:44.210Z"
   },
   {
    "duration": 4,
    "start_time": "2025-03-03T13:17:49.026Z"
   },
   {
    "duration": 356,
    "start_time": "2025-03-03T13:17:51.321Z"
   },
   {
    "duration": 7,
    "start_time": "2025-03-03T13:18:00.386Z"
   },
   {
    "duration": 6,
    "start_time": "2025-03-03T13:18:04.386Z"
   },
   {
    "duration": 18,
    "start_time": "2025-03-03T13:28:34.960Z"
   },
   {
    "duration": 1438,
    "start_time": "2025-03-05T06:36:47.730Z"
   },
   {
    "duration": 58,
    "start_time": "2025-03-05T06:36:49.169Z"
   },
   {
    "duration": 19,
    "start_time": "2025-03-05T06:36:49.229Z"
   },
   {
    "duration": 19,
    "start_time": "2025-03-05T06:36:49.250Z"
   },
   {
    "duration": 720,
    "start_time": "2025-03-05T06:36:49.318Z"
   },
   {
    "duration": 5,
    "start_time": "2025-03-05T06:36:50.040Z"
   },
   {
    "duration": 33,
    "start_time": "2025-03-05T06:36:50.047Z"
   },
   {
    "duration": 4,
    "start_time": "2025-03-05T06:36:50.349Z"
   },
   {
    "duration": 27,
    "start_time": "2025-03-05T06:36:50.692Z"
   },
   {
    "duration": 14,
    "start_time": "2025-03-05T06:36:50.995Z"
   },
   {
    "duration": 9,
    "start_time": "2025-03-05T06:36:52.125Z"
   },
   {
    "duration": 9,
    "start_time": "2025-03-05T06:36:55.257Z"
   },
   {
    "duration": 11,
    "start_time": "2025-03-05T06:36:56.018Z"
   },
   {
    "duration": 10,
    "start_time": "2025-03-05T06:36:57.038Z"
   },
   {
    "duration": 9,
    "start_time": "2025-03-05T06:37:01.047Z"
   },
   {
    "duration": 4,
    "start_time": "2025-03-05T06:37:01.525Z"
   },
   {
    "duration": 90,
    "start_time": "2025-03-05T06:37:01.577Z"
   },
   {
    "duration": 14,
    "start_time": "2025-03-05T06:37:02.405Z"
   },
   {
    "duration": 9,
    "start_time": "2025-03-05T06:37:04.133Z"
   },
   {
    "duration": 3,
    "start_time": "2025-03-05T06:37:04.605Z"
   },
   {
    "duration": 14,
    "start_time": "2025-03-05T06:37:05.806Z"
   },
   {
    "duration": 9,
    "start_time": "2025-03-05T06:37:07.778Z"
   },
   {
    "duration": 5,
    "start_time": "2025-03-05T06:37:08.045Z"
   },
   {
    "duration": 5,
    "start_time": "2025-03-05T06:37:08.687Z"
   },
   {
    "duration": 21,
    "start_time": "2025-03-05T06:37:09.619Z"
   },
   {
    "duration": 101,
    "start_time": "2025-03-05T06:37:19.208Z"
   },
   {
    "duration": 9,
    "start_time": "2025-03-05T06:37:57.147Z"
   },
   {
    "duration": 10,
    "start_time": "2025-03-05T06:39:05.897Z"
   },
   {
    "duration": 9,
    "start_time": "2025-03-05T06:39:55.550Z"
   },
   {
    "duration": 25,
    "start_time": "2025-03-05T06:40:45.789Z"
   },
   {
    "duration": 24,
    "start_time": "2025-03-05T06:41:02.632Z"
   },
   {
    "duration": 21,
    "start_time": "2025-03-05T06:41:11.630Z"
   },
   {
    "duration": 30,
    "start_time": "2025-03-05T06:42:59.129Z"
   },
   {
    "duration": 22,
    "start_time": "2025-03-05T06:43:04.269Z"
   },
   {
    "duration": 22,
    "start_time": "2025-03-05T06:43:30.602Z"
   },
   {
    "duration": 8,
    "start_time": "2025-03-05T06:44:05.571Z"
   },
   {
    "duration": 14,
    "start_time": "2025-03-05T06:44:06.748Z"
   },
   {
    "duration": 12,
    "start_time": "2025-03-05T06:44:22.488Z"
   }
  ],
  "kernelspec": {
   "display_name": "Python 3 (ipykernel)",
   "language": "python",
   "name": "python3"
  },
  "language_info": {
   "codemirror_mode": {
    "name": "ipython",
    "version": 3
   },
   "file_extension": ".py",
   "mimetype": "text/x-python",
   "name": "python",
   "nbconvert_exporter": "python",
   "pygments_lexer": "ipython3",
   "version": "3.9.5"
  },
  "toc": {
   "base_numbering": "",
   "nav_menu": {
    "height": "33px",
    "width": "160px"
   },
   "number_sections": false,
   "sideBar": true,
   "skip_h1_title": false,
   "title_cell": "Table of Contents",
   "title_sidebar": "",
   "toc_cell": false,
   "toc_position": {
    "height": "calc(100% - 180px)",
    "left": "10px",
    "top": "150px",
    "width": "165px"
   },
   "toc_section_display": true,
   "toc_window_display": false
  }
 },
 "nbformat": 4,
 "nbformat_minor": 2
}
