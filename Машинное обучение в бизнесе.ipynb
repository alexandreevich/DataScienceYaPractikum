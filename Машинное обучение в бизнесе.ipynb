{
 "cells": [
  {
   "cell_type": "markdown",
   "metadata": {},
   "source": [
    "# Выбор локации для скважины"
   ]
  },
  {
   "cell_type": "markdown",
   "metadata": {},
   "source": [
    "Допустим, вы работаете в добывающей компании «ГлавРосГосНефть». Нужно решить, где бурить новую скважину.\n",
    "\n",
    "Вам предоставлены пробы нефти в трёх регионах: в каждом 100 000 месторождений, где измерили качество нефти и объём её запасов. Постройте модель машинного обучения, которая поможет определить регион, где добыча принесёт наибольшую прибыль. Проанализируйте возможную прибыль и риски техникой *Bootstrap.*\n",
    "\n",
    "Шаги для выбора локации:\n",
    "\n",
    "- В избранном регионе ищут месторождения, для каждого определяют значения признаков;\n",
    "- Строят модель и оценивают объём запасов;\n",
    "- Выбирают месторождения с самым высокими оценками значений. Количество месторождений зависит от бюджета компании и стоимости разработки одной скважины;\n",
    "- Прибыль равна суммарной прибыли отобранных месторождений."
   ]
  },
  {
   "cell_type": "markdown",
   "metadata": {},
   "source": [
    "## Загрузка и подготовка данных"
   ]
  },
  {
   "cell_type": "markdown",
   "metadata": {},
   "source": [
    "### Сначала загрузим необходимые библиотеки и данные"
   ]
  },
  {
   "cell_type": "code",
   "execution_count": 1,
   "metadata": {},
   "outputs": [],
   "source": [
    "!pip install -q imblearn\n",
    "!pip install -q phik\n",
    "!pip install -q scikit-learn\n",
    "!pip install -q shap\n",
    "!pip install -q optuna\n",
    "!pip install -q optuna.integration"
   ]
  },
  {
   "cell_type": "code",
   "execution_count": 2,
   "metadata": {},
   "outputs": [],
   "source": [
    "# Импорт библиотек\n",
    "import pandas as pd\n",
    "import numpy as np\n",
    "from scipy import stats\n",
    "import optuna\n",
    "import phik\n",
    "import shap\n",
    "\n",
    "\n",
    "#Графики\n",
    "import seaborn as sns\n",
    "import matplotlib.pyplot as plt\n",
    "from re import template\n",
    "import plotly.express as px\n",
    "from plotly.subplots import make_subplots\n",
    "from scipy.stats import shapiro\n",
    "from phik.report import plot_correlation_matrix\n",
    "\n",
    "\n",
    "\n",
    "\n",
    "# Модели МО\n",
    "from sklearn.linear_model import LogisticRegression\n",
    "from sklearn.linear_model import LinearRegression\n",
    "from sklearn.tree import DecisionTreeClassifier,DecisionTreeRegressor\n",
    "from sklearn.neighbors import KNeighborsClassifier\n",
    "from sklearn.svm import SVC\n",
    "\n",
    "\n",
    "# Разбивка данных + обработка признаков \n",
    "from sklearn.model_selection import train_test_split, RandomizedSearchCV\n",
    "from sklearn.preprocessing import OneHotEncoder\n",
    "from sklearn.preprocessing import LabelEncoder\n",
    "from sklearn.preprocessing import StandardScaler\n",
    "from sklearn.preprocessing import PolynomialFeatures\n",
    "from sklearn.preprocessing import OrdinalEncoder\n",
    "from sklearn.preprocessing import MinMaxScaler\n",
    "from sklearn.impute import SimpleImputer\n",
    "from sklearn.compose import ColumnTransformer\n",
    "\n",
    "\n",
    "# Метрики для Линейной Регрессии\n",
    "from sklearn.metrics import mean_squared_error\n",
    "from sklearn.metrics import r2_score\n",
    "from sklearn.metrics import mean_absolute_error\n",
    "\n",
    "\n",
    "# Метрики для Логистической Регрессии\n",
    "from sklearn.metrics import accuracy_score\n",
    "from sklearn.metrics import confusion_matrix\n",
    "from sklearn.metrics import recall_score\n",
    "from sklearn.metrics import precision_score\n",
    "from sklearn. metrics import precision_recall_curve\n",
    "from sklearn.metrics import roc_auc_score, f1_score,make_scorer\n",
    "\n",
    "# Для подбора гиперпараметров \n",
    "from optuna import distributions\n",
    "from optuna.integration import OptunaSearchCV\n",
    "\n",
    "# Интерпритация модели\n",
    "from sklearn.inspection import permutation_importance\n",
    "\n",
    "\n",
    "\n",
    "# Для создания пайплайна \n",
    "from sklearn.pipeline import Pipeline\n",
    "from sklearn.compose import ColumnTransformer\n",
    "from sklearn.model_selection import GridSearchCV"
   ]
  },
  {
   "cell_type": "markdown",
   "metadata": {},
   "source": [
    "<div style=\"border:solid purple 5px; padding: 20px\">\n",
    "<h2 align=\"center\"> Рубрика «Питонячий лайфхакер» <a class=\"tocSkip\"> </h2>\n",
    "<h3> Широкоформатный Jupyter <a class=\"tocSkip\"> </h3>\n",
    "    \n",
    "Расширяем границы, или как сделать работу более комфортной (не всем нравится 😄)\n",
    "\n",
    "    from IPython.core.display import display, HTML\n",
    "    display(HTML(\"<style>.container { width:90% !important; }</style>\"))\n"
   ]
  },
  {
   "cell_type": "code",
   "execution_count": 3,
   "metadata": {},
   "outputs": [],
   "source": [
    "df0 = pd.read_csv('/datasets/geo_data_0.csv')\n",
    "df1 = pd.read_csv('/datasets/geo_data_1.csv')\n",
    "df2 = pd.read_csv('/datasets/geo_data_2.csv')\n"
   ]
  },
  {
   "cell_type": "code",
   "execution_count": 4,
   "metadata": {},
   "outputs": [],
   "source": [
    "# У меня была классная функция для знакомства с данными: \n",
    "def quick_eda_report(df):\n",
    "    \n",
    "        print(f'\\n{\"=\"*50}\\n📊 Анализ датасета: \\n{\"=\"*50}')\n",
    "        \n",
    "        print('\\n🔹 Размерность:', df.shape)\n",
    "        \n",
    "        print('\\n🔹 Типы данных и информация:')\n",
    "        display(df.info(verbose=False, memory_usage='deep'))\n",
    "        \n",
    "        print('\\n🔹 Первые 5 строк:')\n",
    "        display(df.head())\n",
    "\n",
    "        print('\\n🔹 Случайные 5 строк:')\n",
    "        display(df.sample(5, random_state=42))\n",
    "\n",
    "        print('\\n🔹 Кол-во дубликатов:', df.duplicated().sum())\n",
    "        \n",
    "        print('\\n🔹 Пропуски по столбцам:')\n",
    "        nulls = df.isnull().sum()\n",
    "        display(nulls[nulls > 0].sort_values(ascending=False))\n",
    "\n",
    "        print('\\n' + '-'*50)"
   ]
  },
  {
   "cell_type": "code",
   "execution_count": 5,
   "metadata": {},
   "outputs": [
    {
     "name": "stdout",
     "output_type": "stream",
     "text": [
      "\n",
      "==================================================\n",
      "📊 Анализ датасета: \n",
      "==================================================\n",
      "\n",
      "🔹 Размерность: (100000, 5)\n",
      "\n",
      "🔹 Типы данных и информация:\n",
      "<class 'pandas.core.frame.DataFrame'>\n",
      "RangeIndex: 100000 entries, 0 to 99999\n",
      "Columns: 5 entries, id to product\n",
      "dtypes: float64(4), object(1)\n",
      "memory usage: 9.0 MB\n"
     ]
    },
    {
     "data": {
      "text/plain": [
       "None"
      ]
     },
     "metadata": {},
     "output_type": "display_data"
    },
    {
     "name": "stdout",
     "output_type": "stream",
     "text": [
      "\n",
      "🔹 Первые 5 строк:\n"
     ]
    },
    {
     "data": {
      "text/html": [
       "<div>\n",
       "<style scoped>\n",
       "    .dataframe tbody tr th:only-of-type {\n",
       "        vertical-align: middle;\n",
       "    }\n",
       "\n",
       "    .dataframe tbody tr th {\n",
       "        vertical-align: top;\n",
       "    }\n",
       "\n",
       "    .dataframe thead th {\n",
       "        text-align: right;\n",
       "    }\n",
       "</style>\n",
       "<table border=\"1\" class=\"dataframe\">\n",
       "  <thead>\n",
       "    <tr style=\"text-align: right;\">\n",
       "      <th></th>\n",
       "      <th>id</th>\n",
       "      <th>f0</th>\n",
       "      <th>f1</th>\n",
       "      <th>f2</th>\n",
       "      <th>product</th>\n",
       "    </tr>\n",
       "  </thead>\n",
       "  <tbody>\n",
       "    <tr>\n",
       "      <th>0</th>\n",
       "      <td>txEyH</td>\n",
       "      <td>0.705745</td>\n",
       "      <td>-0.497823</td>\n",
       "      <td>1.221170</td>\n",
       "      <td>105.280062</td>\n",
       "    </tr>\n",
       "    <tr>\n",
       "      <th>1</th>\n",
       "      <td>2acmU</td>\n",
       "      <td>1.334711</td>\n",
       "      <td>-0.340164</td>\n",
       "      <td>4.365080</td>\n",
       "      <td>73.037750</td>\n",
       "    </tr>\n",
       "    <tr>\n",
       "      <th>2</th>\n",
       "      <td>409Wp</td>\n",
       "      <td>1.022732</td>\n",
       "      <td>0.151990</td>\n",
       "      <td>1.419926</td>\n",
       "      <td>85.265647</td>\n",
       "    </tr>\n",
       "    <tr>\n",
       "      <th>3</th>\n",
       "      <td>iJLyR</td>\n",
       "      <td>-0.032172</td>\n",
       "      <td>0.139033</td>\n",
       "      <td>2.978566</td>\n",
       "      <td>168.620776</td>\n",
       "    </tr>\n",
       "    <tr>\n",
       "      <th>4</th>\n",
       "      <td>Xdl7t</td>\n",
       "      <td>1.988431</td>\n",
       "      <td>0.155413</td>\n",
       "      <td>4.751769</td>\n",
       "      <td>154.036647</td>\n",
       "    </tr>\n",
       "  </tbody>\n",
       "</table>\n",
       "</div>"
      ],
      "text/plain": [
       "      id        f0        f1        f2     product\n",
       "0  txEyH  0.705745 -0.497823  1.221170  105.280062\n",
       "1  2acmU  1.334711 -0.340164  4.365080   73.037750\n",
       "2  409Wp  1.022732  0.151990  1.419926   85.265647\n",
       "3  iJLyR -0.032172  0.139033  2.978566  168.620776\n",
       "4  Xdl7t  1.988431  0.155413  4.751769  154.036647"
      ]
     },
     "metadata": {},
     "output_type": "display_data"
    },
    {
     "name": "stdout",
     "output_type": "stream",
     "text": [
      "\n",
      "🔹 Случайные 5 строк:\n"
     ]
    },
    {
     "data": {
      "text/html": [
       "<div>\n",
       "<style scoped>\n",
       "    .dataframe tbody tr th:only-of-type {\n",
       "        vertical-align: middle;\n",
       "    }\n",
       "\n",
       "    .dataframe tbody tr th {\n",
       "        vertical-align: top;\n",
       "    }\n",
       "\n",
       "    .dataframe thead th {\n",
       "        text-align: right;\n",
       "    }\n",
       "</style>\n",
       "<table border=\"1\" class=\"dataframe\">\n",
       "  <thead>\n",
       "    <tr style=\"text-align: right;\">\n",
       "      <th></th>\n",
       "      <th>id</th>\n",
       "      <th>f0</th>\n",
       "      <th>f1</th>\n",
       "      <th>f2</th>\n",
       "      <th>product</th>\n",
       "    </tr>\n",
       "  </thead>\n",
       "  <tbody>\n",
       "    <tr>\n",
       "      <th>75721</th>\n",
       "      <td>7C6bA</td>\n",
       "      <td>0.599283</td>\n",
       "      <td>-0.557623</td>\n",
       "      <td>2.121187</td>\n",
       "      <td>122.073350</td>\n",
       "    </tr>\n",
       "    <tr>\n",
       "      <th>80184</th>\n",
       "      <td>dVxsn</td>\n",
       "      <td>0.739017</td>\n",
       "      <td>-0.463156</td>\n",
       "      <td>-1.347584</td>\n",
       "      <td>48.738540</td>\n",
       "    </tr>\n",
       "    <tr>\n",
       "      <th>19864</th>\n",
       "      <td>1Gm3l</td>\n",
       "      <td>1.422743</td>\n",
       "      <td>-0.534917</td>\n",
       "      <td>3.718798</td>\n",
       "      <td>131.338088</td>\n",
       "    </tr>\n",
       "    <tr>\n",
       "      <th>76699</th>\n",
       "      <td>Nzg1t</td>\n",
       "      <td>1.580244</td>\n",
       "      <td>-0.238458</td>\n",
       "      <td>2.805149</td>\n",
       "      <td>88.327757</td>\n",
       "    </tr>\n",
       "    <tr>\n",
       "      <th>92991</th>\n",
       "      <td>Z7b4F</td>\n",
       "      <td>0.918974</td>\n",
       "      <td>0.023961</td>\n",
       "      <td>2.598575</td>\n",
       "      <td>36.959266</td>\n",
       "    </tr>\n",
       "  </tbody>\n",
       "</table>\n",
       "</div>"
      ],
      "text/plain": [
       "          id        f0        f1        f2     product\n",
       "75721  7C6bA  0.599283 -0.557623  2.121187  122.073350\n",
       "80184  dVxsn  0.739017 -0.463156 -1.347584   48.738540\n",
       "19864  1Gm3l  1.422743 -0.534917  3.718798  131.338088\n",
       "76699  Nzg1t  1.580244 -0.238458  2.805149   88.327757\n",
       "92991  Z7b4F  0.918974  0.023961  2.598575   36.959266"
      ]
     },
     "metadata": {},
     "output_type": "display_data"
    },
    {
     "name": "stdout",
     "output_type": "stream",
     "text": [
      "\n",
      "🔹 Кол-во дубликатов: 0\n",
      "\n",
      "🔹 Пропуски по столбцам:\n"
     ]
    },
    {
     "data": {
      "text/plain": [
       "Series([], dtype: int64)"
      ]
     },
     "metadata": {},
     "output_type": "display_data"
    },
    {
     "name": "stdout",
     "output_type": "stream",
     "text": [
      "\n",
      "--------------------------------------------------\n"
     ]
    }
   ],
   "source": [
    "quick_eda_report(df0)"
   ]
  },
  {
   "cell_type": "code",
   "execution_count": 6,
   "metadata": {},
   "outputs": [
    {
     "name": "stdout",
     "output_type": "stream",
     "text": [
      "\n",
      "==================================================\n",
      "📊 Анализ датасета: \n",
      "==================================================\n",
      "\n",
      "🔹 Размерность: (100000, 5)\n",
      "\n",
      "🔹 Типы данных и информация:\n",
      "<class 'pandas.core.frame.DataFrame'>\n",
      "RangeIndex: 100000 entries, 0 to 99999\n",
      "Columns: 5 entries, id to product\n",
      "dtypes: float64(4), object(1)\n",
      "memory usage: 9.0 MB\n"
     ]
    },
    {
     "data": {
      "text/plain": [
       "None"
      ]
     },
     "metadata": {},
     "output_type": "display_data"
    },
    {
     "name": "stdout",
     "output_type": "stream",
     "text": [
      "\n",
      "🔹 Первые 5 строк:\n"
     ]
    },
    {
     "data": {
      "text/html": [
       "<div>\n",
       "<style scoped>\n",
       "    .dataframe tbody tr th:only-of-type {\n",
       "        vertical-align: middle;\n",
       "    }\n",
       "\n",
       "    .dataframe tbody tr th {\n",
       "        vertical-align: top;\n",
       "    }\n",
       "\n",
       "    .dataframe thead th {\n",
       "        text-align: right;\n",
       "    }\n",
       "</style>\n",
       "<table border=\"1\" class=\"dataframe\">\n",
       "  <thead>\n",
       "    <tr style=\"text-align: right;\">\n",
       "      <th></th>\n",
       "      <th>id</th>\n",
       "      <th>f0</th>\n",
       "      <th>f1</th>\n",
       "      <th>f2</th>\n",
       "      <th>product</th>\n",
       "    </tr>\n",
       "  </thead>\n",
       "  <tbody>\n",
       "    <tr>\n",
       "      <th>0</th>\n",
       "      <td>kBEdx</td>\n",
       "      <td>-15.001348</td>\n",
       "      <td>-8.276000</td>\n",
       "      <td>-0.005876</td>\n",
       "      <td>3.179103</td>\n",
       "    </tr>\n",
       "    <tr>\n",
       "      <th>1</th>\n",
       "      <td>62mP7</td>\n",
       "      <td>14.272088</td>\n",
       "      <td>-3.475083</td>\n",
       "      <td>0.999183</td>\n",
       "      <td>26.953261</td>\n",
       "    </tr>\n",
       "    <tr>\n",
       "      <th>2</th>\n",
       "      <td>vyE1P</td>\n",
       "      <td>6.263187</td>\n",
       "      <td>-5.948386</td>\n",
       "      <td>5.001160</td>\n",
       "      <td>134.766305</td>\n",
       "    </tr>\n",
       "    <tr>\n",
       "      <th>3</th>\n",
       "      <td>KcrkZ</td>\n",
       "      <td>-13.081196</td>\n",
       "      <td>-11.506057</td>\n",
       "      <td>4.999415</td>\n",
       "      <td>137.945408</td>\n",
       "    </tr>\n",
       "    <tr>\n",
       "      <th>4</th>\n",
       "      <td>AHL4O</td>\n",
       "      <td>12.702195</td>\n",
       "      <td>-8.147433</td>\n",
       "      <td>5.004363</td>\n",
       "      <td>134.766305</td>\n",
       "    </tr>\n",
       "  </tbody>\n",
       "</table>\n",
       "</div>"
      ],
      "text/plain": [
       "      id         f0         f1        f2     product\n",
       "0  kBEdx -15.001348  -8.276000 -0.005876    3.179103\n",
       "1  62mP7  14.272088  -3.475083  0.999183   26.953261\n",
       "2  vyE1P   6.263187  -5.948386  5.001160  134.766305\n",
       "3  KcrkZ -13.081196 -11.506057  4.999415  137.945408\n",
       "4  AHL4O  12.702195  -8.147433  5.004363  134.766305"
      ]
     },
     "metadata": {},
     "output_type": "display_data"
    },
    {
     "name": "stdout",
     "output_type": "stream",
     "text": [
      "\n",
      "🔹 Случайные 5 строк:\n"
     ]
    },
    {
     "data": {
      "text/html": [
       "<div>\n",
       "<style scoped>\n",
       "    .dataframe tbody tr th:only-of-type {\n",
       "        vertical-align: middle;\n",
       "    }\n",
       "\n",
       "    .dataframe tbody tr th {\n",
       "        vertical-align: top;\n",
       "    }\n",
       "\n",
       "    .dataframe thead th {\n",
       "        text-align: right;\n",
       "    }\n",
       "</style>\n",
       "<table border=\"1\" class=\"dataframe\">\n",
       "  <thead>\n",
       "    <tr style=\"text-align: right;\">\n",
       "      <th></th>\n",
       "      <th>id</th>\n",
       "      <th>f0</th>\n",
       "      <th>f1</th>\n",
       "      <th>f2</th>\n",
       "      <th>product</th>\n",
       "    </tr>\n",
       "  </thead>\n",
       "  <tbody>\n",
       "    <tr>\n",
       "      <th>75721</th>\n",
       "      <td>fYVDK</td>\n",
       "      <td>6.078076</td>\n",
       "      <td>0.084568</td>\n",
       "      <td>0.002957</td>\n",
       "      <td>0.000000</td>\n",
       "    </tr>\n",
       "    <tr>\n",
       "      <th>80184</th>\n",
       "      <td>3SQcq</td>\n",
       "      <td>16.462386</td>\n",
       "      <td>2.712946</td>\n",
       "      <td>1.993030</td>\n",
       "      <td>53.906522</td>\n",
       "    </tr>\n",
       "    <tr>\n",
       "      <th>19864</th>\n",
       "      <td>hQ1gJ</td>\n",
       "      <td>7.051898</td>\n",
       "      <td>0.766983</td>\n",
       "      <td>4.990194</td>\n",
       "      <td>134.766305</td>\n",
       "    </tr>\n",
       "    <tr>\n",
       "      <th>76699</th>\n",
       "      <td>Y4vux</td>\n",
       "      <td>-0.240045</td>\n",
       "      <td>-0.380804</td>\n",
       "      <td>3.999693</td>\n",
       "      <td>107.813044</td>\n",
       "    </tr>\n",
       "    <tr>\n",
       "      <th>92991</th>\n",
       "      <td>H1NUw</td>\n",
       "      <td>13.350111</td>\n",
       "      <td>-8.558281</td>\n",
       "      <td>0.002010</td>\n",
       "      <td>0.000000</td>\n",
       "    </tr>\n",
       "  </tbody>\n",
       "</table>\n",
       "</div>"
      ],
      "text/plain": [
       "          id         f0        f1        f2     product\n",
       "75721  fYVDK   6.078076  0.084568  0.002957    0.000000\n",
       "80184  3SQcq  16.462386  2.712946  1.993030   53.906522\n",
       "19864  hQ1gJ   7.051898  0.766983  4.990194  134.766305\n",
       "76699  Y4vux  -0.240045 -0.380804  3.999693  107.813044\n",
       "92991  H1NUw  13.350111 -8.558281  0.002010    0.000000"
      ]
     },
     "metadata": {},
     "output_type": "display_data"
    },
    {
     "name": "stdout",
     "output_type": "stream",
     "text": [
      "\n",
      "🔹 Кол-во дубликатов: 0\n",
      "\n",
      "🔹 Пропуски по столбцам:\n"
     ]
    },
    {
     "data": {
      "text/plain": [
       "Series([], dtype: int64)"
      ]
     },
     "metadata": {},
     "output_type": "display_data"
    },
    {
     "name": "stdout",
     "output_type": "stream",
     "text": [
      "\n",
      "--------------------------------------------------\n"
     ]
    }
   ],
   "source": [
    "quick_eda_report(df1)"
   ]
  },
  {
   "cell_type": "code",
   "execution_count": 7,
   "metadata": {},
   "outputs": [
    {
     "name": "stdout",
     "output_type": "stream",
     "text": [
      "\n",
      "==================================================\n",
      "📊 Анализ датасета: \n",
      "==================================================\n",
      "\n",
      "🔹 Размерность: (100000, 5)\n",
      "\n",
      "🔹 Типы данных и информация:\n",
      "<class 'pandas.core.frame.DataFrame'>\n",
      "RangeIndex: 100000 entries, 0 to 99999\n",
      "Columns: 5 entries, id to product\n",
      "dtypes: float64(4), object(1)\n",
      "memory usage: 9.0 MB\n"
     ]
    },
    {
     "data": {
      "text/plain": [
       "None"
      ]
     },
     "metadata": {},
     "output_type": "display_data"
    },
    {
     "name": "stdout",
     "output_type": "stream",
     "text": [
      "\n",
      "🔹 Первые 5 строк:\n"
     ]
    },
    {
     "data": {
      "text/html": [
       "<div>\n",
       "<style scoped>\n",
       "    .dataframe tbody tr th:only-of-type {\n",
       "        vertical-align: middle;\n",
       "    }\n",
       "\n",
       "    .dataframe tbody tr th {\n",
       "        vertical-align: top;\n",
       "    }\n",
       "\n",
       "    .dataframe thead th {\n",
       "        text-align: right;\n",
       "    }\n",
       "</style>\n",
       "<table border=\"1\" class=\"dataframe\">\n",
       "  <thead>\n",
       "    <tr style=\"text-align: right;\">\n",
       "      <th></th>\n",
       "      <th>id</th>\n",
       "      <th>f0</th>\n",
       "      <th>f1</th>\n",
       "      <th>f2</th>\n",
       "      <th>product</th>\n",
       "    </tr>\n",
       "  </thead>\n",
       "  <tbody>\n",
       "    <tr>\n",
       "      <th>0</th>\n",
       "      <td>fwXo0</td>\n",
       "      <td>-1.146987</td>\n",
       "      <td>0.963328</td>\n",
       "      <td>-0.828965</td>\n",
       "      <td>27.758673</td>\n",
       "    </tr>\n",
       "    <tr>\n",
       "      <th>1</th>\n",
       "      <td>WJtFt</td>\n",
       "      <td>0.262778</td>\n",
       "      <td>0.269839</td>\n",
       "      <td>-2.530187</td>\n",
       "      <td>56.069697</td>\n",
       "    </tr>\n",
       "    <tr>\n",
       "      <th>2</th>\n",
       "      <td>ovLUW</td>\n",
       "      <td>0.194587</td>\n",
       "      <td>0.289035</td>\n",
       "      <td>-5.586433</td>\n",
       "      <td>62.871910</td>\n",
       "    </tr>\n",
       "    <tr>\n",
       "      <th>3</th>\n",
       "      <td>q6cA6</td>\n",
       "      <td>2.236060</td>\n",
       "      <td>-0.553760</td>\n",
       "      <td>0.930038</td>\n",
       "      <td>114.572842</td>\n",
       "    </tr>\n",
       "    <tr>\n",
       "      <th>4</th>\n",
       "      <td>WPMUX</td>\n",
       "      <td>-0.515993</td>\n",
       "      <td>1.716266</td>\n",
       "      <td>5.899011</td>\n",
       "      <td>149.600746</td>\n",
       "    </tr>\n",
       "  </tbody>\n",
       "</table>\n",
       "</div>"
      ],
      "text/plain": [
       "      id        f0        f1        f2     product\n",
       "0  fwXo0 -1.146987  0.963328 -0.828965   27.758673\n",
       "1  WJtFt  0.262778  0.269839 -2.530187   56.069697\n",
       "2  ovLUW  0.194587  0.289035 -5.586433   62.871910\n",
       "3  q6cA6  2.236060 -0.553760  0.930038  114.572842\n",
       "4  WPMUX -0.515993  1.716266  5.899011  149.600746"
      ]
     },
     "metadata": {},
     "output_type": "display_data"
    },
    {
     "name": "stdout",
     "output_type": "stream",
     "text": [
      "\n",
      "🔹 Случайные 5 строк:\n"
     ]
    },
    {
     "data": {
      "text/html": [
       "<div>\n",
       "<style scoped>\n",
       "    .dataframe tbody tr th:only-of-type {\n",
       "        vertical-align: middle;\n",
       "    }\n",
       "\n",
       "    .dataframe tbody tr th {\n",
       "        vertical-align: top;\n",
       "    }\n",
       "\n",
       "    .dataframe thead th {\n",
       "        text-align: right;\n",
       "    }\n",
       "</style>\n",
       "<table border=\"1\" class=\"dataframe\">\n",
       "  <thead>\n",
       "    <tr style=\"text-align: right;\">\n",
       "      <th></th>\n",
       "      <th>id</th>\n",
       "      <th>f0</th>\n",
       "      <th>f1</th>\n",
       "      <th>f2</th>\n",
       "      <th>product</th>\n",
       "    </tr>\n",
       "  </thead>\n",
       "  <tbody>\n",
       "    <tr>\n",
       "      <th>75721</th>\n",
       "      <td>sPjbT</td>\n",
       "      <td>2.111118</td>\n",
       "      <td>-1.679773</td>\n",
       "      <td>3.112240</td>\n",
       "      <td>117.441301</td>\n",
       "    </tr>\n",
       "    <tr>\n",
       "      <th>80184</th>\n",
       "      <td>1u4uo</td>\n",
       "      <td>0.734759</td>\n",
       "      <td>0.747788</td>\n",
       "      <td>3.670879</td>\n",
       "      <td>47.841249</td>\n",
       "    </tr>\n",
       "    <tr>\n",
       "      <th>19864</th>\n",
       "      <td>kZ6HO</td>\n",
       "      <td>-2.513109</td>\n",
       "      <td>0.844631</td>\n",
       "      <td>-4.922889</td>\n",
       "      <td>45.883483</td>\n",
       "    </tr>\n",
       "    <tr>\n",
       "      <th>76699</th>\n",
       "      <td>gCZGK</td>\n",
       "      <td>-2.035301</td>\n",
       "      <td>-1.522988</td>\n",
       "      <td>5.072839</td>\n",
       "      <td>139.014608</td>\n",
       "    </tr>\n",
       "    <tr>\n",
       "      <th>92991</th>\n",
       "      <td>rqJHx</td>\n",
       "      <td>2.744145</td>\n",
       "      <td>1.429952</td>\n",
       "      <td>-1.372661</td>\n",
       "      <td>84.004276</td>\n",
       "    </tr>\n",
       "  </tbody>\n",
       "</table>\n",
       "</div>"
      ],
      "text/plain": [
       "          id        f0        f1        f2     product\n",
       "75721  sPjbT  2.111118 -1.679773  3.112240  117.441301\n",
       "80184  1u4uo  0.734759  0.747788  3.670879   47.841249\n",
       "19864  kZ6HO -2.513109  0.844631 -4.922889   45.883483\n",
       "76699  gCZGK -2.035301 -1.522988  5.072839  139.014608\n",
       "92991  rqJHx  2.744145  1.429952 -1.372661   84.004276"
      ]
     },
     "metadata": {},
     "output_type": "display_data"
    },
    {
     "name": "stdout",
     "output_type": "stream",
     "text": [
      "\n",
      "🔹 Кол-во дубликатов: 0\n",
      "\n",
      "🔹 Пропуски по столбцам:\n"
     ]
    },
    {
     "data": {
      "text/plain": [
       "Series([], dtype: int64)"
      ]
     },
     "metadata": {},
     "output_type": "display_data"
    },
    {
     "name": "stdout",
     "output_type": "stream",
     "text": [
      "\n",
      "--------------------------------------------------\n"
     ]
    }
   ],
   "source": [
    "quick_eda_report(df2)"
   ]
  },
  {
   "cell_type": "code",
   "execution_count": 8,
   "metadata": {},
   "outputs": [],
   "source": [
    "# функция из предидущих работ для анализа количественных данных\n",
    "def analyze_numerical_features(df, features, target=None):\n",
    "    for feature in features:\n",
    "        print(f\"📊 Статистика для признака: {feature}\")\n",
    "        display(df[feature].describe())\n",
    "        \n",
    "        fig, axes = plt.subplots(1, 2, figsize=(15, 5))\n",
    "\n",
    "        # Гистограмма\n",
    "        axes[0].set_title(f'Распределение {feature}', fontsize=14)\n",
    "        axes[0].set_xlabel(feature)\n",
    "        axes[0].set_ylabel('Количество')\n",
    "\n",
    "        if target:\n",
    "            sns.histplot(data=df, x=feature, hue=target, kde=True, bins=20, ax=axes[0])\n",
    "        else:\n",
    "            sns.histplot(data=df, x=feature, kde=True, bins=20, ax=axes[0])\n",
    "        \n",
    "        # Boxplot\n",
    "        axes[1].set_title(f'Boxplot для {feature}', fontsize=14)\n",
    "        if target:\n",
    "            sns.boxplot(data=df, x=target, y=feature, ax=axes[1])\n",
    "        else:\n",
    "            sns.boxplot(data=df, x=feature, ax=axes[1])\n",
    "        \n",
    "        plt.tight_layout()\n",
    "        plt.show()\n",
    "        print(\"-\" * 60)"
   ]
  },
  {
   "cell_type": "code",
   "execution_count": 9,
   "metadata": {},
   "outputs": [],
   "source": [
    "quant_features = [\n",
    "    'f0', 'f1', 'f2','product'\n",
    "]"
   ]
  },
  {
   "cell_type": "code",
   "execution_count": 10,
   "metadata": {},
   "outputs": [
    {
     "name": "stdout",
     "output_type": "stream",
     "text": [
      "📊 Статистика для признака: f0\n"
     ]
    },
    {
     "data": {
      "text/plain": [
       "count    100000.000000\n",
       "mean          0.500419\n",
       "std           0.871832\n",
       "min          -1.408605\n",
       "25%          -0.072580\n",
       "50%           0.502360\n",
       "75%           1.073581\n",
       "max           2.362331\n",
       "Name: f0, dtype: float64"
      ]
     },
     "metadata": {},
     "output_type": "display_data"
    },
    {
     "data": {
      "image/png": "[encoded data removed]",
      "text/plain": [
       "<Figure size 1080x360 with 2 Axes>"
      ]
     },
     "metadata": {
      "needs_background": "light"
     },
     "output_type": "display_data"
    },
    {
     "name": "stdout",
     "output_type": "stream",
     "text": [
      "------------------------------------------------------------\n",
      "📊 Статистика для признака: f1\n"
     ]
    },
    {
     "data": {
      "text/plain": [
       "count    100000.000000\n",
       "mean          0.250143\n",
       "std           0.504433\n",
       "min          -0.848218\n",
       "25%          -0.200881\n",
       "50%           0.250252\n",
       "75%           0.700646\n",
       "max           1.343769\n",
       "Name: f1, dtype: float64"
      ]
     },
     "metadata": {},
     "output_type": "display_data"
    },
    {
     "data": {
      "image/png": "[encoded data removed]",
      "text/plain": [
       "<Figure size 1080x360 with 2 Axes>"
      ]
     },
     "metadata": {
      "needs_background": "light"
     },
     "output_type": "display_data"
    },
    {
     "name": "stdout",
     "output_type": "stream",
     "text": [
      "------------------------------------------------------------\n",
      "📊 Статистика для признака: f2\n"
     ]
    },
    {
     "data": {
      "text/plain": [
       "count    100000.000000\n",
       "mean          2.502647\n",
       "std           3.248248\n",
       "min         -12.088328\n",
       "25%           0.287748\n",
       "50%           2.515969\n",
       "75%           4.715088\n",
       "max          16.003790\n",
       "Name: f2, dtype: float64"
      ]
     },
     "metadata": {},
     "output_type": "display_data"
    },
    {
     "data": {
      "image/png": "[encoded data removed]",
      "text/plain": [
       "<Figure size 1080x360 with 2 Axes>"
      ]
     },
     "metadata": {
      "needs_background": "light"
     },
     "output_type": "display_data"
    },
    {
     "name": "stdout",
     "output_type": "stream",
     "text": [
      "------------------------------------------------------------\n",
      "📊 Статистика для признака: product\n"
     ]
    },
    {
     "data": {
      "text/plain": [
       "count    100000.000000\n",
       "mean         92.500000\n",
       "std          44.288691\n",
       "min           0.000000\n",
       "25%          56.497507\n",
       "50%          91.849972\n",
       "75%         128.564089\n",
       "max         185.364347\n",
       "Name: product, dtype: float64"
      ]
     },
     "metadata": {},
     "output_type": "display_data"
    },
    {
     "data": {
      "image/png": "[encoded data removed]",
      "text/plain": [
       "<Figure size 1080x360 with 2 Axes>"
      ]
     },
     "metadata": {
      "needs_background": "light"
     },
     "output_type": "display_data"
    },
    {
     "name": "stdout",
     "output_type": "stream",
     "text": [
      "------------------------------------------------------------\n"
     ]
    }
   ],
   "source": [
    "analyze_numerical_features(df0,quant_features)"
   ]
  },
  {
   "cell_type": "code",
   "execution_count": 11,
   "metadata": {},
   "outputs": [
    {
     "name": "stdout",
     "output_type": "stream",
     "text": [
      "📊 Статистика для признака: f0\n"
     ]
    },
    {
     "data": {
      "text/plain": [
       "count    100000.000000\n",
       "mean          1.141296\n",
       "std           8.965932\n",
       "min         -31.609576\n",
       "25%          -6.298551\n",
       "50%           1.153055\n",
       "75%           8.621015\n",
       "max          29.421755\n",
       "Name: f0, dtype: float64"
      ]
     },
     "metadata": {},
     "output_type": "display_data"
    },
    {
     "data": {
      "image/png": "[encoded data removed]",
      "text/plain": [
       "<Figure size 1080x360 with 2 Axes>"
      ]
     },
     "metadata": {
      "needs_background": "light"
     },
     "output_type": "display_data"
    },
    {
     "name": "stdout",
     "output_type": "stream",
     "text": [
      "------------------------------------------------------------\n",
      "📊 Статистика для признака: f1\n"
     ]
    },
    {
     "data": {
      "text/plain": [
       "count    100000.000000\n",
       "mean         -4.796579\n",
       "std           5.119872\n",
       "min         -26.358598\n",
       "25%          -8.267985\n",
       "50%          -4.813172\n",
       "75%          -1.332816\n",
       "max          18.734063\n",
       "Name: f1, dtype: float64"
      ]
     },
     "metadata": {},
     "output_type": "display_data"
    },
    {
     "data": {
      "image/png": "[encoded data removed]",
      "text/plain": [
       "<Figure size 1080x360 with 2 Axes>"
      ]
     },
     "metadata": {
      "needs_background": "light"
     },
     "output_type": "display_data"
    },
    {
     "name": "stdout",
     "output_type": "stream",
     "text": [
      "------------------------------------------------------------\n",
      "📊 Статистика для признака: f2\n"
     ]
    },
    {
     "data": {
      "text/plain": [
       "count    100000.000000\n",
       "mean          2.494541\n",
       "std           1.703572\n",
       "min          -0.018144\n",
       "25%           1.000021\n",
       "50%           2.011479\n",
       "75%           3.999904\n",
       "max           5.019721\n",
       "Name: f2, dtype: float64"
      ]
     },
     "metadata": {},
     "output_type": "display_data"
    },
    {
     "data": {
      "image/png": "[encoded data removed]",
      "text/plain": [
       "<Figure size 1080x360 with 2 Axes>"
      ]
     },
     "metadata": {
      "needs_background": "light"
     },
     "output_type": "display_data"
    },
    {
     "name": "stdout",
     "output_type": "stream",
     "text": [
      "------------------------------------------------------------\n",
      "📊 Статистика для признака: product\n"
     ]
    },
    {
     "data": {
      "text/plain": [
       "count    100000.000000\n",
       "mean         68.825000\n",
       "std          45.944423\n",
       "min           0.000000\n",
       "25%          26.953261\n",
       "50%          57.085625\n",
       "75%         107.813044\n",
       "max         137.945408\n",
       "Name: product, dtype: float64"
      ]
     },
     "metadata": {},
     "output_type": "display_data"
    },
    {
     "data": {
      "image/png": "[encoded data removed]",
      "text/plain": [
       "<Figure size 1080x360 with 2 Axes>"
      ]
     },
     "metadata": {
      "needs_background": "light"
     },
     "output_type": "display_data"
    },
    {
     "name": "stdout",
     "output_type": "stream",
     "text": [
      "------------------------------------------------------------\n"
     ]
    }
   ],
   "source": [
    "analyze_numerical_features(df1,quant_features)"
   ]
  },
  {
   "cell_type": "code",
   "execution_count": 12,
   "metadata": {},
   "outputs": [
    {
     "name": "stdout",
     "output_type": "stream",
     "text": [
      "📊 Статистика для признака: f0\n"
     ]
    },
    {
     "data": {
      "text/plain": [
       "count    100000.000000\n",
       "mean          0.002023\n",
       "std           1.732045\n",
       "min          -8.760004\n",
       "25%          -1.162288\n",
       "50%           0.009424\n",
       "75%           1.158535\n",
       "max           7.238262\n",
       "Name: f0, dtype: float64"
      ]
     },
     "metadata": {},
     "output_type": "display_data"
    },
    {
     "data": {
      "image/png": "[encoded data removed]",
      "text/plain": [
       "<Figure size 1080x360 with 2 Axes>"
      ]
     },
     "metadata": {
      "needs_background": "light"
     },
     "output_type": "display_data"
    },
    {
     "name": "stdout",
     "output_type": "stream",
     "text": [
      "------------------------------------------------------------\n",
      "📊 Статистика для признака: f1\n"
     ]
    },
    {
     "data": {
      "text/plain": [
       "count    100000.000000\n",
       "mean         -0.002081\n",
       "std           1.730417\n",
       "min          -7.084020\n",
       "25%          -1.174820\n",
       "50%          -0.009482\n",
       "75%           1.163678\n",
       "max           7.844801\n",
       "Name: f1, dtype: float64"
      ]
     },
     "metadata": {},
     "output_type": "display_data"
    },
    {
     "data": {
      "image/png": "[encoded data removed]",
      "text/plain": [
       "<Figure size 1080x360 with 2 Axes>"
      ]
     },
     "metadata": {
      "needs_background": "light"
     },
     "output_type": "display_data"
    },
    {
     "name": "stdout",
     "output_type": "stream",
     "text": [
      "------------------------------------------------------------\n",
      "📊 Статистика для признака: f2\n"
     ]
    },
    {
     "data": {
      "text/plain": [
       "count    100000.000000\n",
       "mean          2.495128\n",
       "std           3.473445\n",
       "min         -11.970335\n",
       "25%           0.130359\n",
       "50%           2.484236\n",
       "75%           4.858794\n",
       "max          16.739402\n",
       "Name: f2, dtype: float64"
      ]
     },
     "metadata": {},
     "output_type": "display_data"
    },
    {
     "data": {
      "image/png": "[encoded data removed]",
      "text/plain": [
       "<Figure size 1080x360 with 2 Axes>"
      ]
     },
     "metadata": {
      "needs_background": "light"
     },
     "output_type": "display_data"
    },
    {
     "name": "stdout",
     "output_type": "stream",
     "text": [
      "------------------------------------------------------------\n",
      "📊 Статистика для признака: product\n"
     ]
    },
    {
     "data": {
      "text/plain": [
       "count    100000.000000\n",
       "mean         95.000000\n",
       "std          44.749921\n",
       "min           0.000000\n",
       "25%          59.450441\n",
       "50%          94.925613\n",
       "75%         130.595027\n",
       "max         190.029838\n",
       "Name: product, dtype: float64"
      ]
     },
     "metadata": {},
     "output_type": "display_data"
    },
    {
     "data": {
      "image/png": "[encoded data removed]",
      "text/plain": [
       "<Figure size 1080x360 with 2 Axes>"
      ]
     },
     "metadata": {
      "needs_background": "light"
     },
     "output_type": "display_data"
    },
    {
     "name": "stdout",
     "output_type": "stream",
     "text": [
      "------------------------------------------------------------\n"
     ]
    }
   ],
   "source": [
    "analyze_numerical_features(df2,quant_features)"
   ]
  },
  {
   "cell_type": "markdown",
   "metadata": {},
   "source": [
    "### Вывод:\n",
    "- Пропусков нет\n",
    "- Дубликатов нет \n",
    "- Данные визуально примерно одинаковые.\n"
   ]
  },
  {
   "cell_type": "markdown",
   "metadata": {},
   "source": [
    "## Обучение и проверка модели"
   ]
  },
  {
   "cell_type": "code",
   "execution_count": 13,
   "metadata": {},
   "outputs": [],
   "source": [
    "# Выделим целевой признак и разобьем на тестовую и тренировочные выборки.\n",
    "# Так как операцию повторять будем 3 раза(по количеству датасетов), используем функцию:\n",
    "# Функция подготовки данных перед подбором моделей и их параметров\n",
    "def data_preprocessing(geo_data):\n",
    "    \n",
    "    # Разделение датафреймов на целевую и нецелевую выборку\n",
    "    features = geo_data.drop(['id', 'product'], axis=1)\n",
    "    target = geo_data['product']\n",
    "\n",
    "    # Значение \"random_state\"\n",
    "    state = 42\n",
    "\n",
    "    # Разделение целевой и нецелевой выборки \n",
    "    # на обучающие и тестовые выборки\n",
    "    features_train,  features_test, target_train, target_test = train_test_split(\n",
    "        features, \n",
    "        target, \n",
    "        test_size=.25, \n",
    "        random_state=state\n",
    "    )\n",
    "    \n",
    "    return features_train,  features_test, target_train, target_test"
   ]
  },
  {
   "cell_type": "code",
   "execution_count": 14,
   "metadata": {},
   "outputs": [],
   "source": [
    "# Функция создания структуры пайплайна\n",
    "def params_and_model_selection(features_train, features_test, target_train, target_test):\n",
    "    # Явная стандартизация признаков\n",
    "    scaler = StandardScaler()\n",
    "    \n",
    "    # Обучаем scaler на тренировочных данных и преобразуем train/test выборки\n",
    "    features_train_scaled = scaler.fit_transform(features_train)\n",
    "    features_test_scaled = scaler.transform(features_test)\n",
    "\n",
    "    # Объявляем модель\n",
    "    model = LinearRegression()\n",
    "\n",
    "    # Обучаем модель на масштабированных данных\n",
    "    model.fit(features_train_scaled, target_train)\n",
    "\n",
    "    # Предсказания\n",
    "    predictions = model.predict(features_test_scaled)\n",
    "\n",
    "    # Метрики\n",
    "    actual_mean = target_test.mean()\n",
    "    predicted_mean = predictions.mean()\n",
    "    rmse = np.sqrt(mean_squared_error(target_test, predictions))\n",
    "\n",
    "    # Вывод результатов\n",
    "    print(f'Средняя фактическая выработка: {actual_mean:.2f}')\n",
    "    print(f'Средняя предсказанная выработка: {predicted_mean:.2f}')\n",
    "    print(f'RMSE: {rmse:.2f}')\n",
    "\n",
    "    return predictions, target_test, model    \n",
    "   \n"
   ]
  },
  {
   "cell_type": "code",
   "execution_count": 15,
   "metadata": {},
   "outputs": [],
   "source": [
    "# первый датасет - для первого региона\n",
    "features_0_train,  features_0_test, target_0_train, target_0_test = data_preprocessing(df0)\n"
   ]
  },
  {
   "cell_type": "code",
   "execution_count": 16,
   "metadata": {},
   "outputs": [
    {
     "name": "stdout",
     "output_type": "stream",
     "text": [
      "Средняя фактическая выработка: 92.33\n",
      "Средняя предсказанная выработка: 92.40\n",
      "RMSE: 37.76\n"
     ]
    }
   ],
   "source": [
    "predictions0, target_test0, pipe0 = params_and_model_selection(features_0_train,  features_0_test, target_0_train, target_0_test)\n"
   ]
  },
  {
   "cell_type": "code",
   "execution_count": 17,
   "metadata": {},
   "outputs": [],
   "source": [
    "# второй датасет - для второго региона\n",
    "\n",
    "features_1_train,  features_1_test, target_1_train, target_1_test = data_preprocessing(df1)\n"
   ]
  },
  {
   "cell_type": "code",
   "execution_count": 18,
   "metadata": {},
   "outputs": [
    {
     "name": "stdout",
     "output_type": "stream",
     "text": [
      "Средняя фактическая выработка: 68.73\n",
      "Средняя предсказанная выработка: 68.71\n",
      "RMSE: 0.89\n"
     ]
    }
   ],
   "source": [
    "# предсказания для второго\n",
    "predictions1, target_test1, pipe1 = params_and_model_selection(features_1_train,  features_1_test, target_1_train, target_1_test)"
   ]
  },
  {
   "cell_type": "code",
   "execution_count": 19,
   "metadata": {},
   "outputs": [],
   "source": [
    "# третий датасет - для третьего региона\n",
    "features_2_train,  features_2_test, target_2_train, target_2_test = data_preprocessing(df2)\n"
   ]
  },
  {
   "cell_type": "code",
   "execution_count": 20,
   "metadata": {},
   "outputs": [
    {
     "name": "stdout",
     "output_type": "stream",
     "text": [
      "Средняя фактическая выработка: 95.15\n",
      "Средняя предсказанная выработка: 94.77\n",
      "RMSE: 40.15\n"
     ]
    }
   ],
   "source": [
    "# предсказания для третьего\n",
    "predictions2, target_test2, pipe2 = params_and_model_selection(features_2_train,  features_2_test, target_2_train, target_2_test)"
   ]
  },
  {
   "cell_type": "markdown",
   "metadata": {},
   "source": [
    "### Вывод: \n",
    "- Самая точная модель по метрике RMSE(квадратный корень из суммы квадратов ошибок, деленный на количество объектов). Эту модель и будем использовать."
   ]
  },
  {
   "cell_type": "markdown",
   "metadata": {},
   "source": [
    "## Подготовка к расчёту прибыли"
   ]
  },
  {
   "cell_type": "markdown",
   "metadata": {},
   "source": [
    "### Ключевые значения - в переменные:\n",
    "\n"
   ]
  },
  {
   "cell_type": "code",
   "execution_count": 21,
   "metadata": {},
   "outputs": [],
   "source": [
    "# 10 млрд - наш бюджет\n",
    "BUDGET = 10000000000  \n",
    "# доход с 1 тыс. баррелей\n",
    "REVENUE_PER_UNIT = 450000  \n",
    "# количество точек\n",
    "TOTAL_WELLS = 500 \n",
    "# используемые\n",
    "SELECTED_WELLS = 200\n",
    "# Количество выборок Bootstrap  \n",
    "BOOTSTRAP_SAMPLES = 1000\n",
    "# Довертельный интервал в 95%\n",
    "INTERVAL = .95\n"
   ]
  },
  {
   "cell_type": "markdown",
   "metadata": {},
   "source": [
    "### Расчеты"
   ]
  },
  {
   "cell_type": "markdown",
   "metadata": {},
   "source": [
    "#### Логика расчетов:\n",
    "- Нам нужно посчтиать минимальный объем на скважину\n",
    "- Бюджет необходимо поделить на произведение дохода с 1 тыс. барралей с количеством скважин. "
   ]
  },
  {
   "cell_type": "code",
   "execution_count": 22,
   "metadata": {},
   "outputs": [
    {
     "name": "stdout",
     "output_type": "stream",
     "text": [
      "Минимальный объём сырья для безубыточности: 111.11 тыс. баррелей\n"
     ]
    }
   ],
   "source": [
    "min_volume = BUDGET / (REVENUE_PER_UNIT * SELECTED_WELLS)\n",
    "print(f\"Минимальный объём сырья для безубыточности: {min_volume:.2f} тыс. баррелей\")"
   ]
  },
  {
   "cell_type": "code",
   "execution_count": 26,
   "metadata": {},
   "outputs": [],
   "source": [
    "#### У меня есть данные по целевому признаку по каждому региону. Можно взять среднее:\n",
    "target_0_full = pd.concat([target_0_train, target_0_test])\n",
    "target_1_full = pd.concat([target_1_train, target_1_test])\n",
    "target_2_full = pd.concat([target_2_train, target_2_test])\n"
   ]
  },
  {
   "cell_type": "code",
   "execution_count": 27,
   "metadata": {},
   "outputs": [
    {
     "name": "stdout",
     "output_type": "stream",
     "text": [
      "Средний запас в регионе 0: 92.50 тыс. баррелей\n",
      "Средний запас в регионе 1: 68.82 тыс. баррелей\n",
      "Средний запас в регионе 2: 95.00 тыс. баррелей\n"
     ]
    }
   ],
   "source": [
    "mean_0 = target_0_full.mean()\n",
    "mean_1 = target_1_full.mean()\n",
    "mean_2 = target_2_full.mean()\n",
    "print(f\"Средний запас в регионе 0: {mean_0:.2f} тыс. баррелей\")\n",
    "print(f\"Средний запас в регионе 1: {mean_1:.2f} тыс. баррелей\")\n",
    "print(f\"Средний запас в регионе 2: {mean_2:.2f} тыс. баррелей\")\n"
   ]
  },
  {
   "cell_type": "markdown",
   "metadata": {},
   "source": [
    "### Вывод по разделу: \n",
    "- Если брать скважины наугад, то ни один регион не окупится. \n",
    "- Нам необходимо отобрать 200 лучших скважин, для максимальной прибыли. \n"
   ]
  },
  {
   "cell_type": "markdown",
   "metadata": {},
   "source": [
    "## Расчёт прибыли и рисков "
   ]
  },
  {
   "cell_type": "markdown",
   "metadata": {},
   "source": [
    "### Далее мы возьмем скважины с максимальными значениями предсказаний. "
   ]
  },
  {
   "cell_type": "code",
   "execution_count": 28,
   "metadata": {},
   "outputs": [],
   "source": [
    "# напишем функцию для 200 лучших значений\n",
    "def calculate_profit(predictions, target, count=SELECTED_WELLS, profit_per_unit=REVENUE_PER_UNIT):\n",
    "    # Получаем индексы 200 лучших предсказаний\n",
    "    selected_indices = predictions.sort_values(ascending=False).index[:count]\n",
    "    \n",
    "    # Извлекаем реальные значения для этих индексов\n",
    "    selected_targets = target[selected_indices]\n",
    "    \n",
    "    # Считаем прибыль\n",
    "    total_profit = selected_targets.sum() * profit_per_unit\n",
    "    return total_profit"
   ]
  },
  {
   "cell_type": "code",
   "execution_count": 34,
   "metadata": {},
   "outputs": [],
   "source": [
    "# Переведем массив в датафрейм с сохранением индексов:\n",
    "predictions0 = pd.Series(predictions0, index=target_0_test.index)\n",
    "predictions1 = pd.Series(predictions1, index=target_1_test.index)\n",
    "predictions2 = pd.Series(predictions2, index=target_2_test.index)"
   ]
  },
  {
   "cell_type": "code",
   "execution_count": 33,
   "metadata": {},
   "outputs": [
    {
     "name": "stdout",
     "output_type": "stream",
     "text": [
      "Прибыль в регионе 1: 13,359,141,114 руб.\n"
     ]
    }
   ],
   "source": [
    "profit_0 = calculate_profit(predictions0, target_0_test)\n",
    "print(f\"Прибыль в регионе 1: {profit_0:,.0f} руб.\")"
   ]
  },
  {
   "cell_type": "code",
   "execution_count": 35,
   "metadata": {},
   "outputs": [
    {
     "name": "stdout",
     "output_type": "stream",
     "text": [
      "Прибыль в регионе 2: 12,415,086,697 руб.\n"
     ]
    }
   ],
   "source": [
    "profit_1 = calculate_profit(predictions1, target_1_test)\n",
    "print(f\"Прибыль в регионе 2: {profit_1:,.0f} руб.\")"
   ]
  },
  {
   "cell_type": "code",
   "execution_count": 36,
   "metadata": {},
   "outputs": [
    {
     "name": "stdout",
     "output_type": "stream",
     "text": [
      "Прибыль в регионе 1: 12,598,571,759 руб.\n"
     ]
    }
   ],
   "source": [
    "profit_2 = calculate_profit(predictions2, target_2_test)\n",
    "print(f\"Прибыль в регионе 1: {profit_2:,.0f} руб.\")"
   ]
  },
  {
   "cell_type": "markdown",
   "metadata": {},
   "source": [
    "### Вывод:\n",
    "- При полученном объеме сырья,если выбрать 200 лучших скважин, то самая большая прибыль в первом регионе. "
   ]
  },
  {
   "cell_type": "markdown",
   "metadata": {},
   "source": [
    "# Расчеты с Bootstrap"
   ]
  },
  {
   "cell_type": "code",
   "execution_count": 56,
   "metadata": {},
   "outputs": [],
   "source": [
    "#  Напишем функцию\n",
    "def bootstrap_profit(predictions, # предсказанные значения\n",
    "                     target, # реальные значения\n",
    "                     n_iterations=BOOTSTRAP_SAMPLES, # сколько раз повторяем Bootstrap\n",
    "                     sample_size=TOTAL_WELLS, # сколько скважин выбираем\n",
    "                     top_count=SELECTED_WELLS, # сколько из них лучших отбирается\n",
    "                     profit_per_unit=REVENUE_PER_UNIT, # доход с 1000 бараллей\n",
    "                     total_cost=BUDGET, # фикса расходов на разработку региона\n",
    "                     RANDOM_STATE=12345 #\n",
    "                    ):\n",
    "    state = np.random.RandomState(RANDOM_STATE)\n",
    "    profits = []\n",
    "    \n",
    "    for i in range(n_iterations):\n",
    "        # Шаг 1: Bootstrap — выбор 500 скважин\n",
    "        sample_indices = state.choice(predictions.index, size=sample_size, replace=True)\n",
    "        \n",
    "        # Шаг 2: Из них выбираем 200 лучших по предсказаниям\n",
    "        top_indices = predictions.loc[sample_indices].sort_values(ascending=False).index[:top_count]\n",
    "        \n",
    "        # Шаг 3: Прибыль по фактическим значениям\n",
    "        revenue = target.loc[top_indices].sum() * profit_per_unit\n",
    "        profit = revenue - total_cost\n",
    "        \n",
    "        profits.append(profit)\n",
    "        \n",
    "    return pd.Series(profits)\n"
   ]
  },
  {
   "cell_type": "code",
   "execution_count": 54,
   "metadata": {},
   "outputs": [],
   "source": [
    "profits_0 = bootstrap_profit(predictions0, target_0_test)\n",
    "profits_1 = bootstrap_profit(predictions1, target_1_test)\n",
    "profits_2 = bootstrap_profit(predictions2, target_2_test)"
   ]
  },
  {
   "cell_type": "code",
   "execution_count": 43,
   "metadata": {},
   "outputs": [],
   "source": [
    "# Сделаем функцию для анализа резултатоов:\n",
    "def show_profit_stats(profits, region_name):\n",
    "    print(f\"\\nРегион {region_name}\")\n",
    "    print(f\"Средняя прибыль: {profits.mean():,.0f} руб.\")\n",
    "    print(f\"95% интервал: [{profits.quantile(0.025):,.0f}, {profits.quantile(0.975):,.0f}] руб.\")\n",
    "    print(f\"Риск убытков: {(profits < 0).mean() * 100:.2f}%\")"
   ]
  },
  {
   "cell_type": "code",
   "execution_count": 55,
   "metadata": {},
   "outputs": [
    {
     "name": "stdout",
     "output_type": "stream",
     "text": [
      "\n",
      "Регион 1\n",
      "Средняя прибыль: 406,278,783 руб.\n",
      "95% интервал: [-117,742,136, 911,737,051] руб.\n",
      "Риск убытков: 6.70%\n",
      "\n",
      "Регион 2\n",
      "Средняя прибыль: 432,624,132 руб.\n",
      "95% интервал: [16,846,175, 815,972,526] руб.\n",
      "Риск убытков: 1.90%\n",
      "\n",
      "Регион 3\n",
      "Средняя прибыль: 377,362,192 руб.\n",
      "95% интервал: [-170,780,418, 901,772,131] руб.\n",
      "Риск убытков: 7.40%\n"
     ]
    }
   ],
   "source": [
    "show_profit_stats(profits_0, '1')\n",
    "show_profit_stats(profits_1, '2')\n",
    "show_profit_stats(profits_2, '3')"
   ]
  },
  {
   "cell_type": "markdown",
   "metadata": {},
   "source": [
    "## Вывод / Рекомендация бизнесу:\n",
    "- Для разработки рекомендован регион №2:\n",
    "- Данный регион подходит по условию задания 1,9% риск убытков (Должно быть меньше 2,5%, что является 0.025 квантилью от от общего профита)\n",
    "- Как следствие, отсутствие убытков и самая большая возможная средняя прибыль. \n",
    "- Регион сочетаем в себе высокий потенциал дохода и минимальные риски. \n"
   ]
  },
  {
   "cell_type": "markdown",
   "metadata": {},
   "source": [
    "## Чек-лист готовности проекта"
   ]
  },
  {
   "cell_type": "markdown",
   "metadata": {},
   "source": [
    "Поставьте 'x' в выполненных пунктах. Далее нажмите Shift+Enter."
   ]
  },
  {
   "cell_type": "markdown",
   "metadata": {},
   "source": [
    "- [x]  Jupyter Notebook открыт\n",
    "- [ ]  Весь код выполняется без ошибок\n",
    "- [ ]  Ячейки с кодом расположены в порядке исполнения\n",
    "- [ ]  Выполнен шаг 1: данные подготовлены\n",
    "- [ ]  Выполнен шаг 2: модели обучены и проверены\n",
    "    - [ ]  Данные корректно разбиты на обучающую и валидационную выборки\n",
    "    - [ ]  Модели обучены, предсказания сделаны\n",
    "    - [ ]  Предсказания и правильные ответы на валидационной выборке сохранены\n",
    "    - [ ]  На экране напечатаны результаты\n",
    "    - [ ]  Сделаны выводы\n",
    "- [ ]  Выполнен шаг 3: проведена подготовка к расчёту прибыли\n",
    "    - [ ]  Для всех ключевых значений созданы константы Python\n",
    "    - [ ]  Посчитано минимальное среднее количество продукта в месторождениях региона, достаточное для разработки\n",
    "    - [ ]  По предыдущему пункту сделаны выводы\n",
    "    - [ ]  Написана функция расчёта прибыли\n",
    "- [ ]  Выполнен шаг 4: посчитаны риски и прибыль\n",
    "    - [ ]  Проведена процедура *Bootstrap*\n",
    "    - [ ]  Все параметры бутстрепа соответствуют условию\n",
    "    - [ ]  Найдены все нужные величины\n",
    "    - [ ]  Предложен регион для разработки месторождения\n",
    "    - [ ]  Выбор региона обоснован"
   ]
  },
  {
   "cell_type": "code",
   "execution_count": null,
   "metadata": {},
   "outputs": [],
   "source": []
  }
 ],
 "metadata": {
  "ExecuteTimeLog": [
   {
    "duration": 12,
    "start_time": "2025-03-28T16:34:30.916Z"
   },
   {
    "duration": 26966,
    "start_time": "2025-07-03T06:23:48.516Z"
   },
   {
    "duration": 2343,
    "start_time": "2025-07-03T06:24:15.485Z"
   },
   {
    "duration": 3,
    "start_time": "2025-07-03T06:24:28.611Z"
   },
   {
    "duration": 3,
    "start_time": "2025-07-03T06:24:29.915Z"
   },
   {
    "duration": 453,
    "start_time": "2025-07-03T06:25:55.652Z"
   },
   {
    "duration": 3,
    "start_time": "2025-07-03T06:26:44.181Z"
   },
   {
    "duration": 5,
    "start_time": "2025-07-03T06:26:49.464Z"
   },
   {
    "duration": 170,
    "start_time": "2025-07-03T06:27:01.508Z"
   },
   {
    "duration": 129,
    "start_time": "2025-07-03T06:27:06.532Z"
   },
   {
    "duration": 98,
    "start_time": "2025-07-03T06:27:26.318Z"
   },
   {
    "duration": 91,
    "start_time": "2025-07-03T06:27:36.999Z"
   },
   {
    "duration": 6,
    "start_time": "2025-07-03T06:51:56.145Z"
   },
   {
    "duration": 5,
    "start_time": "2025-07-03T06:52:29.610Z"
   },
   {
    "duration": 2,
    "start_time": "2025-07-03T06:52:40.067Z"
   },
   {
    "duration": 3636,
    "start_time": "2025-07-03T06:53:03.727Z"
   },
   {
    "duration": 3,
    "start_time": "2025-07-03T06:53:27.139Z"
   },
   {
    "duration": 3,
    "start_time": "2025-07-03T06:53:29.264Z"
   },
   {
    "duration": 16119,
    "start_time": "2025-07-03T06:54:45.187Z"
   },
   {
    "duration": 2033,
    "start_time": "2025-07-03T06:55:01.309Z"
   },
   {
    "duration": 2,
    "start_time": "2025-07-03T06:55:03.344Z"
   },
   {
    "duration": 454,
    "start_time": "2025-07-03T06:55:03.348Z"
   },
   {
    "duration": 6,
    "start_time": "2025-07-03T06:55:03.804Z"
   },
   {
    "duration": 148,
    "start_time": "2025-07-03T06:55:03.811Z"
   },
   {
    "duration": 115,
    "start_time": "2025-07-03T06:55:03.961Z"
   },
   {
    "duration": 115,
    "start_time": "2025-07-03T06:55:04.077Z"
   },
   {
    "duration": 6,
    "start_time": "2025-07-03T06:55:04.194Z"
   },
   {
    "duration": 31,
    "start_time": "2025-07-03T06:55:04.202Z"
   },
   {
    "duration": 3715,
    "start_time": "2025-07-03T06:55:04.235Z"
   },
   {
    "duration": 3416,
    "start_time": "2025-07-03T06:56:11.601Z"
   },
   {
    "duration": 3873,
    "start_time": "2025-07-03T06:56:19.807Z"
   },
   {
    "duration": 4,
    "start_time": "2025-07-03T07:52:04.211Z"
   },
   {
    "duration": 4,
    "start_time": "2025-07-03T07:52:04.823Z"
   },
   {
    "duration": 6,
    "start_time": "2025-07-03T07:54:55.385Z"
   },
   {
    "duration": 7,
    "start_time": "2025-07-03T10:22:58.559Z"
   },
   {
    "duration": 14,
    "start_time": "2025-07-03T10:23:40.001Z"
   },
   {
    "duration": 12,
    "start_time": "2025-07-03T10:23:51.374Z"
   },
   {
    "duration": 109,
    "start_time": "2025-07-03T10:24:45.945Z"
   },
   {
    "duration": 132,
    "start_time": "2025-07-03T10:25:05.965Z"
   },
   {
    "duration": 153,
    "start_time": "2025-07-03T10:25:30.267Z"
   },
   {
    "duration": 18,
    "start_time": "2025-07-03T10:28:17.084Z"
   },
   {
    "duration": 6,
    "start_time": "2025-07-03T10:28:19.989Z"
   },
   {
    "duration": 6,
    "start_time": "2025-07-03T10:28:20.925Z"
   },
   {
    "duration": 13,
    "start_time": "2025-07-03T10:28:26.042Z"
   },
   {
    "duration": 20,
    "start_time": "2025-07-03T10:28:26.985Z"
   },
   {
    "duration": 4,
    "start_time": "2025-07-03T10:29:35.357Z"
   },
   {
    "duration": 174,
    "start_time": "2025-07-03T10:29:38.972Z"
   },
   {
    "duration": 4,
    "start_time": "2025-07-03T10:29:56.658Z"
   },
   {
    "duration": 22,
    "start_time": "2025-07-03T10:30:00.301Z"
   },
   {
    "duration": 5,
    "start_time": "2025-07-03T10:30:49.262Z"
   },
   {
    "duration": 194,
    "start_time": "2025-07-03T10:30:53.054Z"
   },
   {
    "duration": 4,
    "start_time": "2025-07-03T10:32:12.586Z"
   },
   {
    "duration": 22,
    "start_time": "2025-07-03T10:32:16.113Z"
   },
   {
    "duration": 17,
    "start_time": "2025-07-03T10:33:37.769Z"
   },
   {
    "duration": 23,
    "start_time": "2025-07-03T10:34:30.020Z"
   },
   {
    "duration": 20,
    "start_time": "2025-07-03T10:35:12.231Z"
   },
   {
    "duration": 23,
    "start_time": "2025-07-03T10:35:41.270Z"
   },
   {
    "duration": 17724,
    "start_time": "2025-07-03T11:19:52.524Z"
   },
   {
    "duration": 2144,
    "start_time": "2025-07-03T11:20:10.252Z"
   },
   {
    "duration": 456,
    "start_time": "2025-07-03T11:20:12.398Z"
   },
   {
    "duration": 5,
    "start_time": "2025-07-03T11:20:12.855Z"
   },
   {
    "duration": 209,
    "start_time": "2025-07-03T11:20:12.862Z"
   },
   {
    "duration": 113,
    "start_time": "2025-07-03T11:20:13.072Z"
   },
   {
    "duration": 120,
    "start_time": "2025-07-03T11:20:13.186Z"
   },
   {
    "duration": 6,
    "start_time": "2025-07-03T11:20:13.308Z"
   },
   {
    "duration": 31,
    "start_time": "2025-07-03T11:20:13.315Z"
   },
   {
    "duration": 3968,
    "start_time": "2025-07-03T11:20:13.349Z"
   },
   {
    "duration": 3833,
    "start_time": "2025-07-03T11:20:17.319Z"
   },
   {
    "duration": 4059,
    "start_time": "2025-07-03T11:20:21.154Z"
   },
   {
    "duration": 4,
    "start_time": "2025-07-03T11:20:25.214Z"
   },
   {
    "duration": 24,
    "start_time": "2025-07-03T11:20:25.221Z"
   },
   {
    "duration": 19,
    "start_time": "2025-07-03T11:20:25.247Z"
   },
   {
    "duration": 21,
    "start_time": "2025-07-03T11:20:25.268Z"
   },
   {
    "duration": 100,
    "start_time": "2025-07-03T11:20:25.340Z"
   },
   {
    "duration": 28,
    "start_time": "2025-07-03T11:20:25.444Z"
   },
   {
    "duration": 95,
    "start_time": "2025-07-03T11:20:25.545Z"
   },
   {
    "duration": 33,
    "start_time": "2025-07-03T11:20:25.643Z"
   },
   {
    "duration": 4,
    "start_time": "2025-07-03T11:24:52.139Z"
   },
   {
    "duration": 3,
    "start_time": "2025-07-03T11:43:54.697Z"
   },
   {
    "duration": 3,
    "start_time": "2025-07-03T11:44:35.080Z"
   },
   {
    "duration": 4,
    "start_time": "2025-07-03T11:44:40.340Z"
   },
   {
    "duration": 175,
    "start_time": "2025-07-03T11:44:43.322Z"
   },
   {
    "duration": 6,
    "start_time": "2025-07-03T12:19:45.523Z"
   },
   {
    "duration": 6,
    "start_time": "2025-07-03T12:20:06.986Z"
   },
   {
    "duration": 4,
    "start_time": "2025-07-04T09:27:11.834Z"
   },
   {
    "duration": 5,
    "start_time": "2025-07-04T09:28:04.035Z"
   },
   {
    "duration": 3,
    "start_time": "2025-07-04T09:29:20.463Z"
   },
   {
    "duration": 6,
    "start_time": "2025-07-04T09:29:25.993Z"
   },
   {
    "duration": 20,
    "start_time": "2025-07-04T09:30:52.128Z"
   },
   {
    "duration": 7,
    "start_time": "2025-07-04T09:31:07.362Z"
   },
   {
    "duration": 4,
    "start_time": "2025-07-04T09:32:59.084Z"
   },
   {
    "duration": 7,
    "start_time": "2025-07-04T09:33:20.070Z"
   },
   {
    "duration": 8,
    "start_time": "2025-07-04T09:33:28.996Z"
   },
   {
    "duration": 4,
    "start_time": "2025-07-04T09:39:19.709Z"
   },
   {
    "duration": 7,
    "start_time": "2025-07-04T09:40:40.334Z"
   },
   {
    "duration": 4,
    "start_time": "2025-07-04T10:06:19.704Z"
   },
   {
    "duration": 17,
    "start_time": "2025-07-04T10:06:58.640Z"
   },
   {
    "duration": 5,
    "start_time": "2025-07-04T10:07:22.084Z"
   },
   {
    "duration": 2350,
    "start_time": "2025-07-04T10:07:26.267Z"
   },
   {
    "duration": 3,
    "start_time": "2025-07-04T10:07:48.713Z"
   },
   {
    "duration": 13,
    "start_time": "2025-07-04T10:07:53.766Z"
   },
   {
    "duration": 11,
    "start_time": "2025-07-04T10:10:38.275Z"
   },
   {
    "duration": 4,
    "start_time": "2025-07-04T10:20:46.360Z"
   },
   {
    "duration": 2341,
    "start_time": "2025-07-04T10:20:54.894Z"
   },
   {
    "duration": 11,
    "start_time": "2025-07-04T10:20:57.239Z"
   },
   {
    "duration": 5,
    "start_time": "2025-07-04T10:21:19.107Z"
   },
   {
    "duration": 2369,
    "start_time": "2025-07-04T10:21:21.308Z"
   },
   {
    "duration": 12,
    "start_time": "2025-07-04T10:21:24.173Z"
   },
   {
    "duration": 5,
    "start_time": "2025-07-04T10:21:52.598Z"
   },
   {
    "duration": 4,
    "start_time": "2025-07-04T10:23:55.639Z"
   },
   {
    "duration": 2384,
    "start_time": "2025-07-04T10:23:57.555Z"
   },
   {
    "duration": 9,
    "start_time": "2025-07-04T10:23:59.941Z"
   },
   {
    "duration": 6,
    "start_time": "2025-07-04T10:36:59.159Z"
   }
  ],
  "kernelspec": {
   "display_name": "Python 3 (ipykernel)",
   "language": "python",
   "name": "python3"
  },
  "language_info": {
   "codemirror_mode": {
    "name": "ipython",
    "version": 3
   },
   "file_extension": ".py",
   "mimetype": "text/x-python",
   "name": "python",
   "nbconvert_exporter": "python",
   "pygments_lexer": "ipython3",
   "version": "3.9.5"
  },
  "toc": {
   "base_numbering": 1,
   "nav_menu": {},
   "number_sections": true,
   "sideBar": true,
   "skip_h1_title": true,
   "title_cell": "Table of Contents",
   "title_sidebar": "Contents",
   "toc_cell": false,
   "toc_position": {},
   "toc_section_display": true,
   "toc_window_display": false
  }
 },
 "nbformat": 4,
 "nbformat_minor": 2
}
